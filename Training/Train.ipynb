{
 "cells": [
  {
   "cell_type": "markdown",
   "id": "c1a53e69-6664-4443-8c14-8cc7fe83488b",
   "metadata": {},
   "source": [
    "## To Train the model \n",
    "1. From Scratch\n",
    "2. A Pre-Trained model\n",
    "3. Resume and Interrupted model\n",
    "4. Train for new epochs\n",
    "5. CLI codes when using multi GPU "
   ]
  },
  {
   "cell_type": "code",
   "execution_count": 1,
   "id": "89ba986b-fcd0-4a3c-8afe-4a7ddd23a5c3",
   "metadata": {},
   "outputs": [],
   "source": [
    "import os\n",
    "os.chdir('/home/Documents/Analytics/Computer Vision/CB_Analytics_WS/GIS_WS/GIS_Roads_WS/YOLOV8 Dataset')"
   ]
  },
  {
   "cell_type": "code",
   "execution_count": 2,
   "id": "2408a538-0b2b-418a-8e6a-7434407cd5e7",
   "metadata": {},
   "outputs": [
    {
     "name": "stdout",
     "output_type": "stream",
     "text": [
      "/home/Documents/Analytics/Computer Vision/CB_Analytics_WS/GIS_WS/GIS_Roads_WS/YOLOV8 Dataset\n"
     ]
    }
   ],
   "source": [
    "home_direc = os.getcwd()\n",
    "print(home_direc)"
   ]
  },
  {
   "cell_type": "code",
   "execution_count": 3,
   "id": "1c2dc483-d527-4ef0-99eb-56d01dd9c77a",
   "metadata": {},
   "outputs": [],
   "source": [
    "import torch, gc\n",
    "#gc.collect()\n",
    "torch.cuda.empty_cache()"
   ]
  },
  {
   "cell_type": "markdown",
   "id": "db1febb1-c8e5-4392-b942-8e3607ec258d",
   "metadata": {},
   "source": [
    "### Run the below code to train the model on single-gpu"
   ]
  },
  {
   "cell_type": "code",
   "execution_count": 4,
   "id": "21cee9ac-a8f0-4dee-8b35-8091677e67dd",
   "metadata": {},
   "outputs": [
    {
     "name": "stderr",
     "output_type": "stream",
     "text": [
      "/opt/conda/envs/yoloenv/lib/python3.11/site-packages/requests/__init__.py:86: RequestsDependencyWarning: Unable to find acceptable character detection dependency (chardet or charset_normalizer).\n",
      "  warnings.warn(\n"
     ]
    },
    {
     "name": "stdout",
     "output_type": "stream",
     "text": [
      "Ultralytics YOLOv8.2.51 🚀 Python-3.11.9 torch-2.3.1 CPU (AMD Ryzen 7 5800U with Radeon Graphics)\n",
      "\u001b[34m\u001b[1mengine/trainer: \u001b[0mtask=segment, mode=train, model=yolov8x-seg.yaml, data=/home/Documents/Analytics/Computer Vision/CB_Analytics_WS/GIS_WS/GIS_Roads_WS/YOLOV8 Dataset/data.yaml, epochs=10, time=None, patience=50, batch=16, imgsz=640, save=True, save_period=-1, cache=False, device=cpu, workers=8, project=None, name=train4, exist_ok=False, pretrained=True, optimizer=auto, verbose=True, seed=0, deterministic=True, single_cls=False, rect=False, cos_lr=False, close_mosaic=10, resume=False, amp=True, fraction=1.0, profile=False, freeze=None, multi_scale=False, overlap_mask=True, mask_ratio=4, dropout=0.0, val=True, split=val, save_json=False, save_hybrid=False, conf=None, iou=0.7, max_det=300, half=False, dnn=False, plots=True, source=None, vid_stride=1, stream_buffer=False, visualize=False, augment=False, agnostic_nms=False, classes=None, retina_masks=False, embed=None, show=False, save_frames=False, save_txt=False, save_conf=False, save_crop=False, show_labels=True, show_conf=True, show_boxes=True, line_width=None, format=torchscript, keras=False, optimize=False, int8=False, dynamic=False, simplify=False, opset=None, workspace=4, nms=False, lr0=0.01, lrf=0.01, momentum=0.937, weight_decay=0.0005, warmup_epochs=3.0, warmup_momentum=0.8, warmup_bias_lr=0.1, box=7.5, cls=0.5, dfl=1.5, pose=12.0, kobj=1.0, label_smoothing=0.0, nbs=64, hsv_h=0.015, hsv_s=0.7, hsv_v=0.4, degrees=0.0, translate=0.1, scale=0.5, shear=0.0, perspective=0.0, flipud=0.0, fliplr=0.5, bgr=0.0, mosaic=1.0, mixup=0.0, copy_paste=0.0, auto_augment=randaugment, erasing=0.4, crop_fraction=1.0, cfg=None, tracker=botsort.yaml, save_dir=runs/segment/train4\n",
      "Overriding model.yaml nc=80 with nc=1\n",
      "\n",
      "                   from  n    params  module                                       arguments                     \n",
      "  0                  -1  1      2320  ultralytics.nn.modules.conv.Conv             [3, 80, 3, 2]                 \n",
      "  1                  -1  1    115520  ultralytics.nn.modules.conv.Conv             [80, 160, 3, 2]               \n",
      "  2                  -1  3    436800  ultralytics.nn.modules.block.C2f             [160, 160, 3, True]           \n",
      "  3                  -1  1    461440  ultralytics.nn.modules.conv.Conv             [160, 320, 3, 2]              \n",
      "  4                  -1  6   3281920  ultralytics.nn.modules.block.C2f             [320, 320, 6, True]           \n",
      "  5                  -1  1   1844480  ultralytics.nn.modules.conv.Conv             [320, 640, 3, 2]              \n",
      "  6                  -1  6  13117440  ultralytics.nn.modules.block.C2f             [640, 640, 6, True]           \n",
      "  7                  -1  1   3687680  ultralytics.nn.modules.conv.Conv             [640, 640, 3, 2]              \n",
      "  8                  -1  3   6969600  ultralytics.nn.modules.block.C2f             [640, 640, 3, True]           \n",
      "  9                  -1  1   1025920  ultralytics.nn.modules.block.SPPF            [640, 640, 5]                 \n",
      " 10                  -1  1         0  torch.nn.modules.upsampling.Upsample         [None, 2, 'nearest']          \n",
      " 11             [-1, 6]  1         0  ultralytics.nn.modules.conv.Concat           [1]                           \n",
      " 12                  -1  3   7379200  ultralytics.nn.modules.block.C2f             [1280, 640, 3]                \n",
      " 13                  -1  1         0  torch.nn.modules.upsampling.Upsample         [None, 2, 'nearest']          \n",
      " 14             [-1, 4]  1         0  ultralytics.nn.modules.conv.Concat           [1]                           \n",
      " 15                  -1  3   1948800  ultralytics.nn.modules.block.C2f             [960, 320, 3]                 \n",
      " 16                  -1  1    922240  ultralytics.nn.modules.conv.Conv             [320, 320, 3, 2]              \n",
      " 17            [-1, 12]  1         0  ultralytics.nn.modules.conv.Concat           [1]                           \n",
      " 18                  -1  3   7174400  ultralytics.nn.modules.block.C2f             [960, 640, 3]                 \n",
      " 19                  -1  1   3687680  ultralytics.nn.modules.conv.Conv             [640, 640, 3, 2]              \n",
      " 20             [-1, 9]  1         0  ultralytics.nn.modules.conv.Concat           [1]                           \n",
      " 21                  -1  3   7379200  ultralytics.nn.modules.block.C2f             [1280, 640, 3]                \n",
      " 22        [15, 18, 21]  1  12317171  ultralytics.nn.modules.head.Segment          [1, 32, 320, [320, 640, 640]] \n",
      "YOLOv8x-seg summary: 401 layers, 71751811 parameters, 71751795 gradients, 344.5 GFLOPs\n",
      "\n",
      "Freezing layer 'model.22.dfl.conv.weight'\n"
     ]
    },
    {
     "name": "stderr",
     "output_type": "stream",
     "text": [
      "\u001b[34m\u001b[1mtrain: \u001b[0mScanning /home/Documents/Analytics/Computer Vision/CB_Analytics_WS/GIS_WS/GIS_Roads_WS/YOLOV8 Dataset/train/labels.cache... 77 images, 0 backgrounds, 0 corrupt: 100%|██████████| 77/77 [00:00<?, ?it/s]\n",
      "\u001b[34m\u001b[1mval: \u001b[0mScanning /home/Documents/Analytics/Computer Vision/CB_Analytics_WS/GIS_WS/GIS_Roads_WS/YOLOV8 Dataset/valid/labels.cache... 22 images, 0 backgrounds, 0 corrupt: 100%|██████████| 22/22 [00:00<?, ?it/s]\n"
     ]
    },
    {
     "name": "stdout",
     "output_type": "stream",
     "text": [
      "Plotting labels to runs/segment/train4/labels.jpg... \n",
      "\u001b[34m\u001b[1moptimizer:\u001b[0m 'optimizer=auto' found, ignoring 'lr0=0.01' and 'momentum=0.937' and determining best 'optimizer', 'lr0' and 'momentum' automatically... \n",
      "\u001b[34m\u001b[1moptimizer:\u001b[0m AdamW(lr=0.002, momentum=0.9) with parameter groups 106 weight(decay=0.0), 117 weight(decay=0.0005), 116 bias(decay=0.0)\n",
      "Image sizes 640 train, 640 val\n",
      "Using 0 dataloader workers\n",
      "Logging results to \u001b[1mruns/segment/train4\u001b[0m\n",
      "Starting training for 10 epochs...\n",
      "Closing dataloader mosaic\n",
      "\n",
      "      Epoch    GPU_mem   box_loss   seg_loss   cls_loss   dfl_loss  Instances       Size\n"
     ]
    },
    {
     "name": "stderr",
     "output_type": "stream",
     "text": [
      "  0%|          | 0/5 [00:00<?, ?it/s]"
     ]
    },
    {
     "ename": "",
     "evalue": "",
     "output_type": "error",
     "traceback": [
      "\u001b[1;31mThe Kernel crashed while executing code in the current cell or a previous cell. \n",
      "\u001b[1;31mPlease review the code in the cell(s) to identify a possible cause of the failure. \n",
      "\u001b[1;31mClick <a href='https://aka.ms/vscodeJupyterKernelCrash'>here</a> for more info. \n",
      "\u001b[1;31mView Jupyter <a href='command:jupyter.viewOutput'>log</a> for further details."
     ]
    }
   ],
   "source": [
    "from ultralytics import YOLO\n",
    "#model.train(data=yolo_dataset_direc, epochs=300, imgsz=640, batch=16, device=0, optimizer='Adam', cos_lr=True, iou=0.5, lr0=0.001)\n",
    "\n",
    "yolo_dataset_direc = os.path.join(home_direc, 'data.yaml')\n",
    "\n",
    "#yolo_model_yaml_direc = os.path.join(home_direc, 'HD_Residential_YOLOv8.yaml')\n",
    "\n",
    "# Load and train a model\n",
    "model = YOLO('yolov8x-seg.yaml')  # build a new model from YAML\n",
    "model.train(data=yolo_dataset_direc, epochs=10, imgsz=640, batch=16, device='cpu', patience=50)"
   ]
  },
  {
   "cell_type": "markdown",
   "id": "9af4b4cb-7380-4880-b46d-6750f3941ee5",
   "metadata": {},
   "source": [
    "### Run the below code to train the model on multi-gpu in CLI"
   ]
  },
  {
   "cell_type": "markdown",
   "id": "ccc694df-fc9b-41e9-a804-7959fb4b1ade",
   "metadata": {},
   "source": [
    "yolo train cfg=/home/ubuntu/Desktop/DL_WorkSpace/WorkSpace/Input_Data_Container/Bangkok_Province/All_Land_Use_Zones_WS/yolo8_segmentation_ws/args.yaml"
   ]
  },
  {
   "cell_type": "markdown",
   "id": "f9347ed6-de58-4edb-9c86-ece9a4d1fccc",
   "metadata": {},
   "source": [
    "### Run the below code to train the model using ARGS file"
   ]
  },
  {
   "cell_type": "code",
   "execution_count": null,
   "id": "3091e74c-8364-4bb4-80e7-a129447e44d4",
   "metadata": {},
   "outputs": [],
   "source": [
    "from ultralytics import YOLO\n",
    "\n",
    "yolo_dataset_direc = os.path.join(home_direc, 'data.yaml')\n",
    "\n",
    "# Train the custom model\n",
    "custom_model_args = os.path.join(home_direc, 'args.yaml')\n",
    "model = YOLO(custom_model_args)\n",
    "model.train(data=yolo_dataset_direc)"
   ]
  },
  {
   "cell_type": "markdown",
   "id": "09173a8b-9341-4d0c-a0ec-b916cc036d04",
   "metadata": {},
   "source": [
    "### Run the below code for Training thge model with new epochs"
   ]
  },
  {
   "cell_type": "code",
   "execution_count": null,
   "id": "66fb9cec-77e4-490a-8976-288727945bb0",
   "metadata": {},
   "outputs": [],
   "source": [
    "from ultralytics import YOLO\n",
    "\n",
    "yolo_dataset_direc = os.path.join(home_direc, 'data.yaml')\n",
    "resume_model_direc = os.path.join(home_direc, 'runs/segment/train/weights/last.pt')\n",
    "\n",
    "#Train the model with new 100 epochs\n",
    "model = YOLO(resume_model_direc)\n",
    "train_results = model.train(data=yolo_dataset_direc, epochs=400, imgsz=640, batch=8, device=0, patience=300) "
   ]
  },
  {
   "cell_type": "markdown",
   "id": "c0db6f53-6d30-4fb6-bc2c-1b773ed5abaa",
   "metadata": {},
   "source": [
    "### Run the below code when the training is interrupted"
   ]
  },
  {
   "cell_type": "code",
   "execution_count": null,
   "id": "c2ad507e-1f87-4835-b89d-1506504813ff",
   "metadata": {},
   "outputs": [],
   "source": [
    "from ultralytics import YOLO\n",
    "\n",
    "yolo_dataset_direc = os.path.join(home_direc, 'data.yaml')\n",
    "\n",
    "resume_model_direc = os.path.join(home_direc, 'runs/segment/train/weights/last.pt')\n",
    "\n",
    "# Load the last.pt model\n",
    "model = YOLO(resume_model_direc)  # build a new model from YAML\n",
    "\n",
    "# Train the model\n",
    "model.train(resume=True)"
   ]
  },
  {
   "cell_type": "markdown",
   "id": "2911a32c-3a79-443b-b5c3-e905efd42912",
   "metadata": {},
   "source": [
    "##### Resuming the model in CLI\n",
    "yolo train resume=True model=/home/ubuntu/Desktop/DL_WorkSpace/WorkSpace/Input_Data_Container/Bangkok_Province/All_Land_Use_Zones_WS/yolo8_segmentation_ws/runs/segment/train/weights/last.pt patience=300"
   ]
  }
 ],
 "metadata": {
  "kernelspec": {
   "display_name": "yoloenv",
   "language": "python",
   "name": "python3"
  },
  "language_info": {
   "codemirror_mode": {
    "name": "ipython",
    "version": 3
   },
   "file_extension": ".py",
   "mimetype": "text/x-python",
   "name": "python",
   "nbconvert_exporter": "python",
   "pygments_lexer": "ipython3",
   "version": "3.1.undefined"
  }
 },
 "nbformat": 4,
 "nbformat_minor": 5
}
