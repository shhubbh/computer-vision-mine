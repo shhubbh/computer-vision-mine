{
 "cells": [
  {
   "cell_type": "markdown",
   "id": "d7f758bc-0d8f-4665-a6fb-03e5276e93ef",
   "metadata": {},
   "source": [
    "## To only predict and save the masks of a single image or for the whole dataset* (*can be any dataset)"
   ]
  },
  {
   "cell_type": "code",
   "execution_count": 45,
   "id": "94b2e370-248e-42a3-a8c0-e7196e0e51bb",
   "metadata": {},
   "outputs": [],
   "source": [
    "import os\n",
    "os.chdir('/home/ubuntu/Desktop/DL_WorkSpace/WorkSpace/Input_Data_Container/CB_WS/GIS_WS/')"
   ]
  },
  {
   "cell_type": "code",
   "execution_count": 46,
   "id": "8dfe4fb7-0a5c-4281-94fb-ae69adf0c76b",
   "metadata": {},
   "outputs": [
    {
     "name": "stdout",
     "output_type": "stream",
     "text": [
      "/home/ubuntu/Desktop/DL_WorkSpace/WorkSpace/Input_Data_Container/CB_WS/GIS_WS\n"
     ]
    }
   ],
   "source": [
    "home_direc = os.getcwd()\n",
    "print(home_direc)"
   ]
  },
  {
   "cell_type": "code",
   "execution_count": 47,
   "id": "426c349e-a79d-4f94-9862-b52effb53bd5",
   "metadata": {},
   "outputs": [
    {
     "name": "stderr",
     "output_type": "stream",
     "text": [
      "  0%|                                                   | 0/648 [00:00<?, ?it/s]"
     ]
    },
    {
     "name": "stdout",
     "output_type": "stream",
     "text": [
      "\n",
      "image 1/1 /home/ubuntu/Desktop/DL_WorkSpace/WorkSpace/Input_Data_Container/CB_WS/GIS_WS/cropped_jpg/ortho_16_12.jpg: 640x640 1 person, 12.6ms\n",
      "Speed: 4.2ms preprocess, 12.6ms inference, 2.6ms postprocess per image at shape (1, 3, 640, 640)\n",
      "Results saved to \u001b[1mruns/detect/predict\u001b[0m\n"
     ]
    },
    {
     "name": "stderr",
     "output_type": "stream",
     "text": [
      "  0%|                                           | 1/648 [00:00<01:36,  6.71it/s]"
     ]
    },
    {
     "name": "stdout",
     "output_type": "stream",
     "text": [
      "\n",
      "image 1/1 /home/ubuntu/Desktop/DL_WorkSpace/WorkSpace/Input_Data_Container/CB_WS/GIS_WS/cropped_jpg/ortho_10_9.jpg: 640x640 1 bowl, 4 broccolis, 7.4ms\n",
      "Speed: 1.9ms preprocess, 7.4ms inference, 1.4ms postprocess per image at shape (1, 3, 640, 640)\n",
      "Results saved to \u001b[1mruns/detect/predict\u001b[0m\n",
      "\n",
      "image 1/1 /home/ubuntu/Desktop/DL_WorkSpace/WorkSpace/Input_Data_Container/CB_WS/GIS_WS/cropped_jpg/ortho_12_21.jpg: 640x640 1 cake, 8.3ms\n",
      "Speed: 1.8ms preprocess, 8.3ms inference, 1.5ms postprocess per image at shape (1, 3, 640, 640)\n",
      "Results saved to \u001b[1mruns/detect/predict\u001b[0m\n",
      "\n",
      "image 1/1 /home/ubuntu/Desktop/DL_WorkSpace/WorkSpace/Input_Data_Container/CB_WS/GIS_WS/cropped_jpg/ortho_10_7.jpg: 640x640 1 person, 1 bowl, 6.7ms\n",
      "Speed: 1.9ms preprocess, 6.7ms inference, 1.2ms postprocess per image at shape (1, 3, 640, 640)\n",
      "Results saved to \u001b[1mruns/detect/predict\u001b[0m\n",
      "\n",
      "image 1/1 /home/ubuntu/Desktop/DL_WorkSpace/WorkSpace/Input_Data_Container/CB_WS/GIS_WS/cropped_jpg/ortho_22_17.jpg: 640x640 (no detections), 7.7ms\n",
      "Speed: 1.8ms preprocess, 7.7ms inference, 0.7ms postprocess per image at shape (1, 3, 640, 640)\n",
      "Results saved to \u001b[1mruns/detect/predict\u001b[0m\n"
     ]
    },
    {
     "name": "stderr",
     "output_type": "stream",
     "text": [
      "  1%|▎                                          | 5/648 [00:00<00:31, 20.11it/s]"
     ]
    },
    {
     "name": "stdout",
     "output_type": "stream",
     "text": [
      "\n",
      "image 1/1 /home/ubuntu/Desktop/DL_WorkSpace/WorkSpace/Input_Data_Container/CB_WS/GIS_WS/cropped_jpg/ortho_14_13.jpg: 640x640 1 bowl, 1 broccoli, 1 cake, 5.6ms\n",
      "Speed: 1.5ms preprocess, 5.6ms inference, 1.3ms postprocess per image at shape (1, 3, 640, 640)\n",
      "Results saved to \u001b[1mruns/detect/predict\u001b[0m\n",
      "\n",
      "image 1/1 /home/ubuntu/Desktop/DL_WorkSpace/WorkSpace/Input_Data_Container/CB_WS/GIS_WS/cropped_jpg/ortho_22_0.jpg: 640x640 (no detections), 6.4ms\n",
      "Speed: 1.6ms preprocess, 6.4ms inference, 0.8ms postprocess per image at shape (1, 3, 640, 640)\n",
      "Results saved to \u001b[1mruns/detect/predict\u001b[0m\n",
      "\n",
      "image 1/1 /home/ubuntu/Desktop/DL_WorkSpace/WorkSpace/Input_Data_Container/CB_WS/GIS_WS/cropped_jpg/ortho_22_6.jpg: 640x640 1 bowl, 1 dining table, 7.2ms\n",
      "Speed: 1.9ms preprocess, 7.2ms inference, 1.4ms postprocess per image at shape (1, 3, 640, 640)\n",
      "Results saved to \u001b[1mruns/detect/predict\u001b[0m\n",
      "\n",
      "image 1/1 /home/ubuntu/Desktop/DL_WorkSpace/WorkSpace/Input_Data_Container/CB_WS/GIS_WS/cropped_jpg/ortho_0_12.jpg: 640x640 (no detections), 7.3ms\n",
      "Speed: 1.7ms preprocess, 7.3ms inference, 0.8ms postprocess per image at shape (1, 3, 640, 640)\n",
      "Results saved to \u001b[1mruns/detect/predict\u001b[0m\n"
     ]
    },
    {
     "name": "stderr",
     "output_type": "stream",
     "text": [
      "  1%|▌                                          | 9/648 [00:00<00:25, 24.68it/s]"
     ]
    },
    {
     "name": "stdout",
     "output_type": "stream",
     "text": [
      "\n",
      "image 1/1 /home/ubuntu/Desktop/DL_WorkSpace/WorkSpace/Input_Data_Container/CB_WS/GIS_WS/cropped_jpg/ortho_14_9.jpg: 640x640 1 person, 1 cake, 1 dining table, 7.2ms\n",
      "Speed: 1.8ms preprocess, 7.2ms inference, 1.4ms postprocess per image at shape (1, 3, 640, 640)\n",
      "Results saved to \u001b[1mruns/detect/predict\u001b[0m\n",
      "\n",
      "image 1/1 /home/ubuntu/Desktop/DL_WorkSpace/WorkSpace/Input_Data_Container/CB_WS/GIS_WS/cropped_jpg/ortho_3_5.jpg: 640x640 1 person, 2 broccolis, 1 cake, 5.6ms\n",
      "Speed: 1.9ms preprocess, 5.6ms inference, 1.1ms postprocess per image at shape (1, 3, 640, 640)\n",
      "Results saved to \u001b[1mruns/detect/predict\u001b[0m\n",
      "\n",
      "image 1/1 /home/ubuntu/Desktop/DL_WorkSpace/WorkSpace/Input_Data_Container/CB_WS/GIS_WS/cropped_jpg/ortho_8_11.jpg: 640x640 1 bowl, 1 broccoli, 7.5ms\n",
      "Speed: 1.8ms preprocess, 7.5ms inference, 1.5ms postprocess per image at shape (1, 3, 640, 640)\n",
      "Results saved to \u001b[1mruns/detect/predict\u001b[0m\n"
     ]
    },
    {
     "name": "stderr",
     "output_type": "stream",
     "text": [
      "  2%|▊                                         | 12/648 [00:00<00:24, 25.95it/s]"
     ]
    },
    {
     "name": "stdout",
     "output_type": "stream",
     "text": [
      "\n",
      "image 1/1 /home/ubuntu/Desktop/DL_WorkSpace/WorkSpace/Input_Data_Container/CB_WS/GIS_WS/cropped_jpg/ortho_26_2.jpg: 640x640 1 broccoli, 1 potted plant, 7.7ms\n",
      "Speed: 1.9ms preprocess, 7.7ms inference, 1.5ms postprocess per image at shape (1, 3, 640, 640)\n",
      "Results saved to \u001b[1mruns/detect/predict\u001b[0m\n",
      "\n",
      "image 1/1 /home/ubuntu/Desktop/DL_WorkSpace/WorkSpace/Input_Data_Container/CB_WS/GIS_WS/cropped_jpg/ortho_14_12.jpg: 640x640 1 bowl, 1 broccoli, 1 cake, 5.9ms\n",
      "Speed: 1.5ms preprocess, 5.9ms inference, 1.1ms postprocess per image at shape (1, 3, 640, 640)\n",
      "Results saved to \u001b[1mruns/detect/predict\u001b[0m\n",
      "\n",
      "image 1/1 /home/ubuntu/Desktop/DL_WorkSpace/WorkSpace/Input_Data_Container/CB_WS/GIS_WS/cropped_jpg/ortho_10_5.jpg: 640x640 1 person, 3 broccolis, 1 cake, 6.9ms\n",
      "Speed: 1.7ms preprocess, 6.9ms inference, 1.1ms postprocess per image at shape (1, 3, 640, 640)\n",
      "Results saved to \u001b[1mruns/detect/predict\u001b[0m\n",
      "\n",
      "image 1/1 /home/ubuntu/Desktop/DL_WorkSpace/WorkSpace/Input_Data_Container/CB_WS/GIS_WS/cropped_jpg/ortho_16_13.jpg: 640x640 (no detections), 6.5ms\n",
      "Speed: 1.4ms preprocess, 6.5ms inference, 0.5ms postprocess per image at shape (1, 3, 640, 640)\n",
      "Results saved to \u001b[1mruns/detect/predict\u001b[0m\n"
     ]
    },
    {
     "name": "stderr",
     "output_type": "stream",
     "text": [
      "  2%|█                                         | 16/648 [00:00<00:21, 28.99it/s]"
     ]
    },
    {
     "name": "stdout",
     "output_type": "stream",
     "text": [
      "\n",
      "image 1/1 /home/ubuntu/Desktop/DL_WorkSpace/WorkSpace/Input_Data_Container/CB_WS/GIS_WS/cropped_jpg/ortho_25_15.jpg: 640x640 1 stop sign, 7.6ms\n",
      "Speed: 1.7ms preprocess, 7.6ms inference, 1.0ms postprocess per image at shape (1, 3, 640, 640)\n",
      "Results saved to \u001b[1mruns/detect/predict\u001b[0m\n",
      "\n",
      "image 1/1 /home/ubuntu/Desktop/DL_WorkSpace/WorkSpace/Input_Data_Container/CB_WS/GIS_WS/cropped_jpg/ortho_11_20.jpg: 640x640 1 cake, 5.6ms\n",
      "Speed: 1.5ms preprocess, 5.6ms inference, 1.1ms postprocess per image at shape (1, 3, 640, 640)\n",
      "Results saved to \u001b[1mruns/detect/predict\u001b[0m\n",
      "\n",
      "image 1/1 /home/ubuntu/Desktop/DL_WorkSpace/WorkSpace/Input_Data_Container/CB_WS/GIS_WS/cropped_jpg/ortho_25_19.jpg: 640x640 (no detections), 5.1ms\n",
      "Speed: 1.5ms preprocess, 5.1ms inference, 0.5ms postprocess per image at shape (1, 3, 640, 640)\n",
      "Results saved to \u001b[1mruns/detect/predict\u001b[0m\n",
      "\n",
      "image 1/1 /home/ubuntu/Desktop/DL_WorkSpace/WorkSpace/Input_Data_Container/CB_WS/GIS_WS/cropped_jpg/ortho_14_4.jpg: 640x640 1 cake, 5.7ms\n",
      "Speed: 1.4ms preprocess, 5.7ms inference, 1.1ms postprocess per image at shape (1, 3, 640, 640)\n",
      "Results saved to \u001b[1mruns/detect/predict\u001b[0m\n",
      "\n",
      "image 1/1 /home/ubuntu/Desktop/DL_WorkSpace/WorkSpace/Input_Data_Container/CB_WS/GIS_WS/cropped_jpg/ortho_5_9.jpg: 640x640 1 person, 5.3ms\n",
      "Speed: 1.6ms preprocess, 5.3ms inference, 1.1ms postprocess per image at shape (1, 3, 640, 640)\n",
      "Results saved to \u001b[1mruns/detect/predict\u001b[0m\n"
     ]
    },
    {
     "name": "stderr",
     "output_type": "stream",
     "text": [
      "  3%|█▎                                        | 21/648 [00:00<00:18, 33.10it/s]"
     ]
    },
    {
     "name": "stdout",
     "output_type": "stream",
     "text": [
      "\n",
      "image 1/1 /home/ubuntu/Desktop/DL_WorkSpace/WorkSpace/Input_Data_Container/CB_WS/GIS_WS/cropped_jpg/ortho_0_21.jpg: 640x640 1 person, 1 suitcase, 5.7ms\n",
      "Speed: 1.5ms preprocess, 5.7ms inference, 1.0ms postprocess per image at shape (1, 3, 640, 640)\n",
      "Results saved to \u001b[1mruns/detect/predict\u001b[0m\n",
      "\n",
      "image 1/1 /home/ubuntu/Desktop/DL_WorkSpace/WorkSpace/Input_Data_Container/CB_WS/GIS_WS/cropped_jpg/ortho_16_8.jpg: 640x640 1 person, 6.6ms\n",
      "Speed: 1.7ms preprocess, 6.6ms inference, 1.0ms postprocess per image at shape (1, 3, 640, 640)\n",
      "Results saved to \u001b[1mruns/detect/predict\u001b[0m\n",
      "\n",
      "image 1/1 /home/ubuntu/Desktop/DL_WorkSpace/WorkSpace/Input_Data_Container/CB_WS/GIS_WS/cropped_jpg/ortho_12_4.jpg: 640x640 1 donut, 1 cake, 5.6ms\n",
      "Speed: 1.6ms preprocess, 5.6ms inference, 1.1ms postprocess per image at shape (1, 3, 640, 640)\n",
      "Results saved to \u001b[1mruns/detect/predict\u001b[0m\n",
      "\n",
      "image 1/1 /home/ubuntu/Desktop/DL_WorkSpace/WorkSpace/Input_Data_Container/CB_WS/GIS_WS/cropped_jpg/ortho_22_19.jpg: 640x640 (no detections), 5.6ms\n",
      "Speed: 2.7ms preprocess, 5.6ms inference, 0.5ms postprocess per image at shape (1, 3, 640, 640)\n",
      "Results saved to \u001b[1mruns/detect/predict\u001b[0m\n"
     ]
    },
    {
     "name": "stderr",
     "output_type": "stream",
     "text": [
      "  4%|█▌                                        | 25/648 [00:00<00:18, 33.83it/s]"
     ]
    },
    {
     "name": "stdout",
     "output_type": "stream",
     "text": [
      "\n",
      "image 1/1 /home/ubuntu/Desktop/DL_WorkSpace/WorkSpace/Input_Data_Container/CB_WS/GIS_WS/cropped_jpg/ortho_17_14.jpg: 640x640 1 cake, 10.4ms\n",
      "Speed: 1.8ms preprocess, 10.4ms inference, 1.2ms postprocess per image at shape (1, 3, 640, 640)\n",
      "Results saved to \u001b[1mruns/detect/predict\u001b[0m\n",
      "\n",
      "image 1/1 /home/ubuntu/Desktop/DL_WorkSpace/WorkSpace/Input_Data_Container/CB_WS/GIS_WS/cropped_jpg/ortho_6_23.jpg: 640x640 2 broccolis, 1 potted plant, 7.6ms\n",
      "Speed: 1.8ms preprocess, 7.6ms inference, 1.5ms postprocess per image at shape (1, 3, 640, 640)\n",
      "Results saved to \u001b[1mruns/detect/predict\u001b[0m\n",
      "\n",
      "image 1/1 /home/ubuntu/Desktop/DL_WorkSpace/WorkSpace/Input_Data_Container/CB_WS/GIS_WS/cropped_jpg/ortho_17_18.jpg: 640x640 1 donut, 1 cake, 5.9ms\n",
      "Speed: 1.5ms preprocess, 5.9ms inference, 1.2ms postprocess per image at shape (1, 3, 640, 640)\n",
      "Results saved to \u001b[1mruns/detect/predict\u001b[0m\n",
      "\n",
      "image 1/1 /home/ubuntu/Desktop/DL_WorkSpace/WorkSpace/Input_Data_Container/CB_WS/GIS_WS/cropped_jpg/ortho_21_0.jpg: 640x640 (no detections), 7.2ms\n",
      "Speed: 1.9ms preprocess, 7.2ms inference, 0.5ms postprocess per image at shape (1, 3, 640, 640)\n",
      "Results saved to \u001b[1mruns/detect/predict\u001b[0m\n"
     ]
    },
    {
     "name": "stderr",
     "output_type": "stream",
     "text": [
      "  4%|█▉                                        | 29/648 [00:00<00:18, 33.52it/s]"
     ]
    },
    {
     "name": "stdout",
     "output_type": "stream",
     "text": [
      "\n",
      "image 1/1 /home/ubuntu/Desktop/DL_WorkSpace/WorkSpace/Input_Data_Container/CB_WS/GIS_WS/cropped_jpg/ortho_9_17.jpg: 640x640 1 cake, 7.1ms\n",
      "Speed: 1.9ms preprocess, 7.1ms inference, 1.5ms postprocess per image at shape (1, 3, 640, 640)\n",
      "Results saved to \u001b[1mruns/detect/predict\u001b[0m\n",
      "\n",
      "image 1/1 /home/ubuntu/Desktop/DL_WorkSpace/WorkSpace/Input_Data_Container/CB_WS/GIS_WS/cropped_jpg/ortho_3_10.jpg: 640x640 1 pizza, 5.5ms\n",
      "Speed: 1.7ms preprocess, 5.5ms inference, 1.1ms postprocess per image at shape (1, 3, 640, 640)\n",
      "Results saved to \u001b[1mruns/detect/predict\u001b[0m\n",
      "\n",
      "image 1/1 /home/ubuntu/Desktop/DL_WorkSpace/WorkSpace/Input_Data_Container/CB_WS/GIS_WS/cropped_jpg/ortho_25_16.jpg: 640x640 (no detections), 5.3ms\n",
      "Speed: 1.7ms preprocess, 5.3ms inference, 0.5ms postprocess per image at shape (1, 3, 640, 640)\n",
      "Results saved to \u001b[1mruns/detect/predict\u001b[0m\n",
      "\n",
      "image 1/1 /home/ubuntu/Desktop/DL_WorkSpace/WorkSpace/Input_Data_Container/CB_WS/GIS_WS/cropped_jpg/ortho_7_18.jpg: 640x640 1 person, 8.2ms\n",
      "Speed: 1.7ms preprocess, 8.2ms inference, 1.4ms postprocess per image at shape (1, 3, 640, 640)\n",
      "Results saved to \u001b[1mruns/detect/predict\u001b[0m\n"
     ]
    },
    {
     "name": "stderr",
     "output_type": "stream",
     "text": [
      "  5%|██▏                                       | 33/648 [00:01<00:18, 33.96it/s]"
     ]
    },
    {
     "name": "stdout",
     "output_type": "stream",
     "text": [
      "\n",
      "image 1/1 /home/ubuntu/Desktop/DL_WorkSpace/WorkSpace/Input_Data_Container/CB_WS/GIS_WS/cropped_jpg/ortho_4_11.jpg: 640x640 1 person, 7.1ms\n",
      "Speed: 1.8ms preprocess, 7.1ms inference, 1.4ms postprocess per image at shape (1, 3, 640, 640)\n",
      "Results saved to \u001b[1mruns/detect/predict\u001b[0m\n",
      "\n",
      "image 1/1 /home/ubuntu/Desktop/DL_WorkSpace/WorkSpace/Input_Data_Container/CB_WS/GIS_WS/cropped_jpg/ortho_24_20.jpg: 640x640 (no detections), 7.1ms\n",
      "Speed: 1.8ms preprocess, 7.1ms inference, 0.6ms postprocess per image at shape (1, 3, 640, 640)\n",
      "Results saved to \u001b[1mruns/detect/predict\u001b[0m\n",
      "\n",
      "image 1/1 /home/ubuntu/Desktop/DL_WorkSpace/WorkSpace/Input_Data_Container/CB_WS/GIS_WS/cropped_jpg/ortho_3_16.jpg: 640x640 1 person, 8.0ms\n",
      "Speed: 1.8ms preprocess, 8.0ms inference, 1.5ms postprocess per image at shape (1, 3, 640, 640)\n",
      "Results saved to \u001b[1mruns/detect/predict\u001b[0m\n",
      "\n",
      "image 1/1 /home/ubuntu/Desktop/DL_WorkSpace/WorkSpace/Input_Data_Container/CB_WS/GIS_WS/cropped_jpg/ortho_20_0.jpg: 640x640 (no detections), 5.4ms\n",
      "Speed: 1.5ms preprocess, 5.4ms inference, 0.5ms postprocess per image at shape (1, 3, 640, 640)\n",
      "Results saved to \u001b[1mruns/detect/predict\u001b[0m\n"
     ]
    },
    {
     "name": "stderr",
     "output_type": "stream",
     "text": [
      "  6%|██▍                                       | 37/648 [00:01<00:17, 34.65it/s]"
     ]
    },
    {
     "name": "stdout",
     "output_type": "stream",
     "text": [
      "\n",
      "image 1/1 /home/ubuntu/Desktop/DL_WorkSpace/WorkSpace/Input_Data_Container/CB_WS/GIS_WS/cropped_jpg/ortho_21_10.jpg: 640x640 1 person, 5.8ms\n",
      "Speed: 1.5ms preprocess, 5.8ms inference, 1.1ms postprocess per image at shape (1, 3, 640, 640)\n",
      "Results saved to \u001b[1mruns/detect/predict\u001b[0m\n",
      "\n",
      "image 1/1 /home/ubuntu/Desktop/DL_WorkSpace/WorkSpace/Input_Data_Container/CB_WS/GIS_WS/cropped_jpg/ortho_4_21.jpg: 640x640 1 truck, 1 bench, 1 suitcase, 5.6ms\n",
      "Speed: 1.5ms preprocess, 5.6ms inference, 1.1ms postprocess per image at shape (1, 3, 640, 640)\n",
      "Results saved to \u001b[1mruns/detect/predict\u001b[0m\n",
      "\n",
      "image 1/1 /home/ubuntu/Desktop/DL_WorkSpace/WorkSpace/Input_Data_Container/CB_WS/GIS_WS/cropped_jpg/ortho_26_0.jpg: 640x640 (no detections), 6.1ms\n",
      "Speed: 1.4ms preprocess, 6.1ms inference, 0.5ms postprocess per image at shape (1, 3, 640, 640)\n",
      "Results saved to \u001b[1mruns/detect/predict\u001b[0m\n",
      "\n",
      "image 1/1 /home/ubuntu/Desktop/DL_WorkSpace/WorkSpace/Input_Data_Container/CB_WS/GIS_WS/cropped_jpg/ortho_14_8.jpg: 640x640 4 broccolis, 1 potted plant, 5.2ms\n",
      "Speed: 1.5ms preprocess, 5.2ms inference, 1.1ms postprocess per image at shape (1, 3, 640, 640)\n",
      "Results saved to \u001b[1mruns/detect/predict\u001b[0m\n",
      "\n",
      "image 1/1 /home/ubuntu/Desktop/DL_WorkSpace/WorkSpace/Input_Data_Container/CB_WS/GIS_WS/cropped_jpg/ortho_6_0.jpg: 640x640 1 tie, 7.4ms\n",
      "Speed: 1.7ms preprocess, 7.4ms inference, 1.2ms postprocess per image at shape (1, 3, 640, 640)\n",
      "Results saved to \u001b[1mruns/detect/predict\u001b[0m\n"
     ]
    },
    {
     "name": "stderr",
     "output_type": "stream",
     "text": [
      "  6%|██▋                                       | 42/648 [00:01<00:16, 36.40it/s]"
     ]
    },
    {
     "name": "stdout",
     "output_type": "stream",
     "text": [
      "\n",
      "image 1/1 /home/ubuntu/Desktop/DL_WorkSpace/WorkSpace/Input_Data_Container/CB_WS/GIS_WS/cropped_jpg/ortho_5_7.jpg: 640x640 1 person, 1 umbrella, 6.0ms\n",
      "Speed: 1.5ms preprocess, 6.0ms inference, 1.0ms postprocess per image at shape (1, 3, 640, 640)\n",
      "Results saved to \u001b[1mruns/detect/predict\u001b[0m\n",
      "\n",
      "image 1/1 /home/ubuntu/Desktop/DL_WorkSpace/WorkSpace/Input_Data_Container/CB_WS/GIS_WS/cropped_jpg/ortho_3_23.jpg: 640x640 3 broccolis, 5.1ms\n",
      "Speed: 1.4ms preprocess, 5.1ms inference, 1.0ms postprocess per image at shape (1, 3, 640, 640)\n",
      "Results saved to \u001b[1mruns/detect/predict\u001b[0m\n",
      "\n",
      "image 1/1 /home/ubuntu/Desktop/DL_WorkSpace/WorkSpace/Input_Data_Container/CB_WS/GIS_WS/cropped_jpg/ortho_22_13.jpg: 640x640 (no detections), 6.7ms\n",
      "Speed: 1.7ms preprocess, 6.7ms inference, 0.5ms postprocess per image at shape (1, 3, 640, 640)\n",
      "Results saved to \u001b[1mruns/detect/predict\u001b[0m\n",
      "\n",
      "image 1/1 /home/ubuntu/Desktop/DL_WorkSpace/WorkSpace/Input_Data_Container/CB_WS/GIS_WS/cropped_jpg/ortho_14_0.jpg: 640x640 (no detections), 6.7ms\n",
      "Speed: 1.7ms preprocess, 6.7ms inference, 0.5ms postprocess per image at shape (1, 3, 640, 640)\n",
      "Results saved to \u001b[1mruns/detect/predict\u001b[0m\n",
      "\n",
      "image 1/1 /home/ubuntu/Desktop/DL_WorkSpace/WorkSpace/Input_Data_Container/CB_WS/GIS_WS/cropped_jpg/ortho_4_3.jpg: 640x640 1 person, 1 umbrella, 8.5ms\n",
      "Speed: 1.8ms preprocess, 8.5ms inference, 1.6ms postprocess per image at shape (1, 3, 640, 640)\n",
      "Results saved to \u001b[1mruns/detect/predict\u001b[0m\n"
     ]
    },
    {
     "name": "stderr",
     "output_type": "stream",
     "text": [
      "  7%|███                                       | 47/648 [00:01<00:16, 36.73it/s]"
     ]
    },
    {
     "name": "stdout",
     "output_type": "stream",
     "text": [
      "\n",
      "image 1/1 /home/ubuntu/Desktop/DL_WorkSpace/WorkSpace/Input_Data_Container/CB_WS/GIS_WS/cropped_jpg/ortho_12_17.jpg: 640x640 (no detections), 5.9ms\n",
      "Speed: 1.6ms preprocess, 5.9ms inference, 0.5ms postprocess per image at shape (1, 3, 640, 640)\n",
      "Results saved to \u001b[1mruns/detect/predict\u001b[0m\n",
      "\n",
      "image 1/1 /home/ubuntu/Desktop/DL_WorkSpace/WorkSpace/Input_Data_Container/CB_WS/GIS_WS/cropped_jpg/ortho_3_22.jpg: 640x640 1 potted plant, 1 tv, 1 clock, 7.4ms\n",
      "Speed: 1.7ms preprocess, 7.4ms inference, 1.0ms postprocess per image at shape (1, 3, 640, 640)\n",
      "Results saved to \u001b[1mruns/detect/predict\u001b[0m\n",
      "\n",
      "image 1/1 /home/ubuntu/Desktop/DL_WorkSpace/WorkSpace/Input_Data_Container/CB_WS/GIS_WS/cropped_jpg/ortho_9_12.jpg: 640x640 (no detections), 7.4ms\n",
      "Speed: 1.8ms preprocess, 7.4ms inference, 0.5ms postprocess per image at shape (1, 3, 640, 640)\n",
      "Results saved to \u001b[1mruns/detect/predict\u001b[0m\n",
      "\n",
      "image 1/1 /home/ubuntu/Desktop/DL_WorkSpace/WorkSpace/Input_Data_Container/CB_WS/GIS_WS/cropped_jpg/ortho_17_5.jpg: 640x640 1 person, 5.3ms\n",
      "Speed: 1.5ms preprocess, 5.3ms inference, 1.1ms postprocess per image at shape (1, 3, 640, 640)\n",
      "Results saved to \u001b[1mruns/detect/predict\u001b[0m\n"
     ]
    },
    {
     "name": "stderr",
     "output_type": "stream",
     "text": [
      "  8%|███▎                                      | 51/648 [00:01<00:16, 36.81it/s]"
     ]
    },
    {
     "name": "stdout",
     "output_type": "stream",
     "text": [
      "\n",
      "image 1/1 /home/ubuntu/Desktop/DL_WorkSpace/WorkSpace/Input_Data_Container/CB_WS/GIS_WS/cropped_jpg/ortho_22_15.jpg: 640x640 (no detections), 6.4ms\n",
      "Speed: 1.7ms preprocess, 6.4ms inference, 0.7ms postprocess per image at shape (1, 3, 640, 640)\n",
      "Results saved to \u001b[1mruns/detect/predict\u001b[0m\n",
      "\n",
      "image 1/1 /home/ubuntu/Desktop/DL_WorkSpace/WorkSpace/Input_Data_Container/CB_WS/GIS_WS/cropped_jpg/ortho_10_3.jpg: 640x640 1 person, 1 cake, 7.6ms\n",
      "Speed: 1.6ms preprocess, 7.6ms inference, 1.4ms postprocess per image at shape (1, 3, 640, 640)\n",
      "Results saved to \u001b[1mruns/detect/predict\u001b[0m\n",
      "\n",
      "image 1/1 /home/ubuntu/Desktop/DL_WorkSpace/WorkSpace/Input_Data_Container/CB_WS/GIS_WS/cropped_jpg/ortho_20_16.jpg: 640x640 1 bowl, 1 pizza, 1 cake, 5.3ms\n",
      "Speed: 1.6ms preprocess, 5.3ms inference, 1.5ms postprocess per image at shape (1, 3, 640, 640)\n",
      "Results saved to \u001b[1mruns/detect/predict\u001b[0m\n",
      "\n",
      "image 1/1 /home/ubuntu/Desktop/DL_WorkSpace/WorkSpace/Input_Data_Container/CB_WS/GIS_WS/cropped_jpg/ortho_23_8.jpg: 640x640 (no detections), 6.1ms\n",
      "Speed: 1.5ms preprocess, 6.1ms inference, 0.6ms postprocess per image at shape (1, 3, 640, 640)\n",
      "Results saved to \u001b[1mruns/detect/predict\u001b[0m\n"
     ]
    },
    {
     "name": "stderr",
     "output_type": "stream",
     "text": [
      "  8%|███▌                                      | 55/648 [00:01<00:16, 36.60it/s]"
     ]
    },
    {
     "name": "stdout",
     "output_type": "stream",
     "text": [
      "\n",
      "image 1/1 /home/ubuntu/Desktop/DL_WorkSpace/WorkSpace/Input_Data_Container/CB_WS/GIS_WS/cropped_jpg/ortho_13_20.jpg: 640x640 1 person, 1 cell phone, 7.3ms\n",
      "Speed: 1.8ms preprocess, 7.3ms inference, 1.4ms postprocess per image at shape (1, 3, 640, 640)\n",
      "Results saved to \u001b[1mruns/detect/predict\u001b[0m\n",
      "\n",
      "image 1/1 /home/ubuntu/Desktop/DL_WorkSpace/WorkSpace/Input_Data_Container/CB_WS/GIS_WS/cropped_jpg/ortho_24_19.jpg: 640x640 (no detections), 5.3ms\n",
      "Speed: 1.5ms preprocess, 5.3ms inference, 0.5ms postprocess per image at shape (1, 3, 640, 640)\n",
      "Results saved to \u001b[1mruns/detect/predict\u001b[0m\n",
      "\n",
      "image 1/1 /home/ubuntu/Desktop/DL_WorkSpace/WorkSpace/Input_Data_Container/CB_WS/GIS_WS/cropped_jpg/ortho_8_21.jpg: 640x640 1 truck, 1 bowl, 7.4ms\n",
      "Speed: 1.8ms preprocess, 7.4ms inference, 1.3ms postprocess per image at shape (1, 3, 640, 640)\n",
      "Results saved to \u001b[1mruns/detect/predict\u001b[0m\n",
      "\n",
      "image 1/1 /home/ubuntu/Desktop/DL_WorkSpace/WorkSpace/Input_Data_Container/CB_WS/GIS_WS/cropped_jpg/ortho_13_5.jpg: 640x640 1 person, 1 cake, 5.3ms\n",
      "Speed: 1.5ms preprocess, 5.3ms inference, 1.1ms postprocess per image at shape (1, 3, 640, 640)\n",
      "Results saved to \u001b[1mruns/detect/predict\u001b[0m\n"
     ]
    },
    {
     "name": "stderr",
     "output_type": "stream",
     "text": [
      "  9%|███▊                                      | 59/648 [00:01<00:16, 36.59it/s]"
     ]
    },
    {
     "name": "stdout",
     "output_type": "stream",
     "text": [
      "\n",
      "image 1/1 /home/ubuntu/Desktop/DL_WorkSpace/WorkSpace/Input_Data_Container/CB_WS/GIS_WS/cropped_jpg/ortho_6_21.jpg: 640x640 2 broccolis, 1 cake, 5.2ms\n",
      "Speed: 1.5ms preprocess, 5.2ms inference, 1.1ms postprocess per image at shape (1, 3, 640, 640)\n",
      "Results saved to \u001b[1mruns/detect/predict\u001b[0m\n",
      "\n",
      "image 1/1 /home/ubuntu/Desktop/DL_WorkSpace/WorkSpace/Input_Data_Container/CB_WS/GIS_WS/cropped_jpg/ortho_21_19.jpg: 640x640 (no detections), 6.2ms\n",
      "Speed: 1.5ms preprocess, 6.2ms inference, 0.5ms postprocess per image at shape (1, 3, 640, 640)\n",
      "Results saved to \u001b[1mruns/detect/predict\u001b[0m\n",
      "\n",
      "image 1/1 /home/ubuntu/Desktop/DL_WorkSpace/WorkSpace/Input_Data_Container/CB_WS/GIS_WS/cropped_jpg/ortho_10_19.jpg: 640x640 (no detections), 5.3ms\n",
      "Speed: 1.5ms preprocess, 5.3ms inference, 0.6ms postprocess per image at shape (1, 3, 640, 640)\n",
      "Results saved to \u001b[1mruns/detect/predict\u001b[0m\n",
      "\n",
      "image 1/1 /home/ubuntu/Desktop/DL_WorkSpace/WorkSpace/Input_Data_Container/CB_WS/GIS_WS/cropped_jpg/ortho_0_23.jpg: 640x640 (no detections), 5.3ms\n",
      "Speed: 1.5ms preprocess, 5.3ms inference, 0.5ms postprocess per image at shape (1, 3, 640, 640)\n",
      "Results saved to \u001b[1mruns/detect/predict\u001b[0m\n",
      "\n",
      "image 1/1 /home/ubuntu/Desktop/DL_WorkSpace/WorkSpace/Input_Data_Container/CB_WS/GIS_WS/cropped_jpg/ortho_21_1.jpg: 640x640 (no detections), 6.7ms\n",
      "Speed: 1.8ms preprocess, 6.7ms inference, 0.5ms postprocess per image at shape (1, 3, 640, 640)\n",
      "Results saved to \u001b[1mruns/detect/predict\u001b[0m\n"
     ]
    },
    {
     "name": "stderr",
     "output_type": "stream",
     "text": [
      " 10%|████▏                                     | 64/648 [00:01<00:15, 38.44it/s]"
     ]
    },
    {
     "name": "stdout",
     "output_type": "stream",
     "text": [
      "\n",
      "image 1/1 /home/ubuntu/Desktop/DL_WorkSpace/WorkSpace/Input_Data_Container/CB_WS/GIS_WS/cropped_jpg/ortho_24_11.jpg: 640x640 1 carrot, 7.6ms\n",
      "Speed: 1.7ms preprocess, 7.6ms inference, 1.5ms postprocess per image at shape (1, 3, 640, 640)\n",
      "Results saved to \u001b[1mruns/detect/predict\u001b[0m\n",
      "\n",
      "image 1/1 /home/ubuntu/Desktop/DL_WorkSpace/WorkSpace/Input_Data_Container/CB_WS/GIS_WS/cropped_jpg/ortho_26_13.jpg: 640x640 (no detections), 6.9ms\n",
      "Speed: 1.7ms preprocess, 6.9ms inference, 0.5ms postprocess per image at shape (1, 3, 640, 640)\n",
      "Results saved to \u001b[1mruns/detect/predict\u001b[0m\n",
      "\n",
      "image 1/1 /home/ubuntu/Desktop/DL_WorkSpace/WorkSpace/Input_Data_Container/CB_WS/GIS_WS/cropped_jpg/ortho_6_5.jpg: 640x640 1 bowl, 1 cake, 5.9ms\n",
      "Speed: 1.7ms preprocess, 5.9ms inference, 1.1ms postprocess per image at shape (1, 3, 640, 640)\n",
      "Results saved to \u001b[1mruns/detect/predict\u001b[0m\n",
      "\n",
      "image 1/1 /home/ubuntu/Desktop/DL_WorkSpace/WorkSpace/Input_Data_Container/CB_WS/GIS_WS/cropped_jpg/ortho_14_15.jpg: 640x640 (no detections), 5.2ms\n",
      "Speed: 1.5ms preprocess, 5.2ms inference, 0.5ms postprocess per image at shape (1, 3, 640, 640)\n",
      "Results saved to \u001b[1mruns/detect/predict\u001b[0m\n"
     ]
    },
    {
     "name": "stderr",
     "output_type": "stream",
     "text": [
      " 10%|████▍                                     | 68/648 [00:02<00:15, 38.53it/s]"
     ]
    },
    {
     "name": "stdout",
     "output_type": "stream",
     "text": [
      "\n",
      "image 1/1 /home/ubuntu/Desktop/DL_WorkSpace/WorkSpace/Input_Data_Container/CB_WS/GIS_WS/cropped_jpg/ortho_4_15.jpg: 640x640 1 broccoli, 6.4ms\n",
      "Speed: 1.5ms preprocess, 6.4ms inference, 1.6ms postprocess per image at shape (1, 3, 640, 640)\n",
      "Results saved to \u001b[1mruns/detect/predict\u001b[0m\n",
      "\n",
      "image 1/1 /home/ubuntu/Desktop/DL_WorkSpace/WorkSpace/Input_Data_Container/CB_WS/GIS_WS/cropped_jpg/ortho_13_23.jpg: 640x640 1 cake, 5.2ms\n",
      "Speed: 1.5ms preprocess, 5.2ms inference, 1.0ms postprocess per image at shape (1, 3, 640, 640)\n",
      "Results saved to \u001b[1mruns/detect/predict\u001b[0m\n",
      "\n",
      "image 1/1 /home/ubuntu/Desktop/DL_WorkSpace/WorkSpace/Input_Data_Container/CB_WS/GIS_WS/cropped_jpg/ortho_21_21.jpg: 640x640 (no detections), 5.0ms\n",
      "Speed: 1.5ms preprocess, 5.0ms inference, 0.5ms postprocess per image at shape (1, 3, 640, 640)\n",
      "Results saved to \u001b[1mruns/detect/predict\u001b[0m\n",
      "\n",
      "image 1/1 /home/ubuntu/Desktop/DL_WorkSpace/WorkSpace/Input_Data_Container/CB_WS/GIS_WS/cropped_jpg/ortho_20_13.jpg: 640x640 1 donut, 1 cake, 1 dining table, 5.1ms\n",
      "Speed: 1.4ms preprocess, 5.1ms inference, 1.0ms postprocess per image at shape (1, 3, 640, 640)\n",
      "Results saved to \u001b[1mruns/detect/predict\u001b[0m\n",
      "\n",
      "image 1/1 /home/ubuntu/Desktop/DL_WorkSpace/WorkSpace/Input_Data_Container/CB_WS/GIS_WS/cropped_jpg/ortho_18_1.jpg: 640x640 1 broccoli, 5.2ms\n",
      "Speed: 1.5ms preprocess, 5.2ms inference, 1.4ms postprocess per image at shape (1, 3, 640, 640)\n",
      "Results saved to \u001b[1mruns/detect/predict\u001b[0m\n"
     ]
    },
    {
     "name": "stderr",
     "output_type": "stream",
     "text": [
      " 11%|████▋                                     | 73/648 [00:02<00:14, 39.29it/s]"
     ]
    },
    {
     "name": "stdout",
     "output_type": "stream",
     "text": [
      "\n",
      "image 1/1 /home/ubuntu/Desktop/DL_WorkSpace/WorkSpace/Input_Data_Container/CB_WS/GIS_WS/cropped_jpg/ortho_13_9.jpg: 640x640 7 broccolis, 1 pizza, 5.5ms\n",
      "Speed: 1.5ms preprocess, 5.5ms inference, 1.0ms postprocess per image at shape (1, 3, 640, 640)\n",
      "Results saved to \u001b[1mruns/detect/predict\u001b[0m\n",
      "\n",
      "image 1/1 /home/ubuntu/Desktop/DL_WorkSpace/WorkSpace/Input_Data_Container/CB_WS/GIS_WS/cropped_jpg/ortho_9_0.jpg: 640x640 1 person, 1 broccoli, 8.8ms\n",
      "Speed: 1.9ms preprocess, 8.8ms inference, 1.6ms postprocess per image at shape (1, 3, 640, 640)\n",
      "Results saved to \u001b[1mruns/detect/predict\u001b[0m\n",
      "\n",
      "image 1/1 /home/ubuntu/Desktop/DL_WorkSpace/WorkSpace/Input_Data_Container/CB_WS/GIS_WS/cropped_jpg/ortho_16_2.jpg: 640x640 (no detections), 8.9ms\n",
      "Speed: 1.9ms preprocess, 8.9ms inference, 0.8ms postprocess per image at shape (1, 3, 640, 640)\n",
      "Results saved to \u001b[1mruns/detect/predict\u001b[0m\n",
      "\n",
      "image 1/1 /home/ubuntu/Desktop/DL_WorkSpace/WorkSpace/Input_Data_Container/CB_WS/GIS_WS/cropped_jpg/ortho_21_18.jpg: 640x640 1 broccoli, 1 cake, 7.2ms\n",
      "Speed: 1.8ms preprocess, 7.2ms inference, 1.5ms postprocess per image at shape (1, 3, 640, 640)\n",
      "Results saved to \u001b[1mruns/detect/predict\u001b[0m\n"
     ]
    },
    {
     "name": "stderr",
     "output_type": "stream",
     "text": [
      " 12%|████▉                                     | 77/648 [00:02<00:15, 35.95it/s]"
     ]
    },
    {
     "name": "stdout",
     "output_type": "stream",
     "text": [
      "\n",
      "image 1/1 /home/ubuntu/Desktop/DL_WorkSpace/WorkSpace/Input_Data_Container/CB_WS/GIS_WS/cropped_jpg/ortho_13_12.jpg: 640x640 1 cake, 7.7ms\n",
      "Speed: 1.7ms preprocess, 7.7ms inference, 1.4ms postprocess per image at shape (1, 3, 640, 640)\n",
      "Results saved to \u001b[1mruns/detect/predict\u001b[0m\n",
      "\n",
      "image 1/1 /home/ubuntu/Desktop/DL_WorkSpace/WorkSpace/Input_Data_Container/CB_WS/GIS_WS/cropped_jpg/ortho_6_2.jpg: 640x640 1 bowl, 1 carrot, 7.1ms\n",
      "Speed: 1.8ms preprocess, 7.1ms inference, 1.4ms postprocess per image at shape (1, 3, 640, 640)\n",
      "Results saved to \u001b[1mruns/detect/predict\u001b[0m\n",
      "\n",
      "image 1/1 /home/ubuntu/Desktop/DL_WorkSpace/WorkSpace/Input_Data_Container/CB_WS/GIS_WS/cropped_jpg/ortho_16_18.jpg: 640x640 1 person, 1 donut, 7.3ms\n",
      "Speed: 2.0ms preprocess, 7.3ms inference, 1.3ms postprocess per image at shape (1, 3, 640, 640)\n",
      "Results saved to \u001b[1mruns/detect/predict\u001b[0m\n",
      "\n",
      "image 1/1 /home/ubuntu/Desktop/DL_WorkSpace/WorkSpace/Input_Data_Container/CB_WS/GIS_WS/cropped_jpg/ortho_18_3.jpg: 640x640 3 broccolis, 16.1ms\n",
      "Speed: 1.7ms preprocess, 16.1ms inference, 15.6ms postprocess per image at shape (1, 3, 640, 640)\n",
      "Results saved to \u001b[1mruns/detect/predict\u001b[0m\n"
     ]
    },
    {
     "name": "stderr",
     "output_type": "stream",
     "text": [
      " 12%|█████▎                                    | 81/648 [00:02<00:19, 29.78it/s]"
     ]
    },
    {
     "name": "stdout",
     "output_type": "stream",
     "text": [
      "\n",
      "image 1/1 /home/ubuntu/Desktop/DL_WorkSpace/WorkSpace/Input_Data_Container/CB_WS/GIS_WS/cropped_jpg/ortho_7_7.jpg: 640x640 1 cake, 1 dining table, 8.3ms\n",
      "Speed: 1.8ms preprocess, 8.3ms inference, 1.5ms postprocess per image at shape (1, 3, 640, 640)\n",
      "Results saved to \u001b[1mruns/detect/predict\u001b[0m\n",
      "\n",
      "image 1/1 /home/ubuntu/Desktop/DL_WorkSpace/WorkSpace/Input_Data_Container/CB_WS/GIS_WS/cropped_jpg/ortho_23_10.jpg: 640x640 1 broccoli, 9.5ms\n",
      "Speed: 1.9ms preprocess, 9.5ms inference, 1.6ms postprocess per image at shape (1, 3, 640, 640)\n",
      "Results saved to \u001b[1mruns/detect/predict\u001b[0m\n",
      "\n",
      "image 1/1 /home/ubuntu/Desktop/DL_WorkSpace/WorkSpace/Input_Data_Container/CB_WS/GIS_WS/cropped_jpg/ortho_24_2.jpg: 640x640 2 broccolis, 9.1ms\n",
      "Speed: 1.8ms preprocess, 9.1ms inference, 1.6ms postprocess per image at shape (1, 3, 640, 640)\n",
      "Results saved to \u001b[1mruns/detect/predict\u001b[0m\n",
      "\n",
      "image 1/1 /home/ubuntu/Desktop/DL_WorkSpace/WorkSpace/Input_Data_Container/CB_WS/GIS_WS/cropped_jpg/ortho_12_5.jpg: 640x640 1 person, 1 bowl, 1 carrot, 1 hot dog, 1 pizza, 7.0ms\n",
      "Speed: 1.8ms preprocess, 7.0ms inference, 1.3ms postprocess per image at shape (1, 3, 640, 640)\n",
      "Results saved to \u001b[1mruns/detect/predict\u001b[0m\n"
     ]
    },
    {
     "name": "stderr",
     "output_type": "stream",
     "text": [
      " 13%|█████▌                                    | 85/648 [00:02<00:19, 28.95it/s]"
     ]
    },
    {
     "name": "stdout",
     "output_type": "stream",
     "text": [
      "\n",
      "image 1/1 /home/ubuntu/Desktop/DL_WorkSpace/WorkSpace/Input_Data_Container/CB_WS/GIS_WS/cropped_jpg/ortho_23_9.jpg: 640x640 (no detections), 5.7ms\n",
      "Speed: 1.6ms preprocess, 5.7ms inference, 0.7ms postprocess per image at shape (1, 3, 640, 640)\n",
      "Results saved to \u001b[1mruns/detect/predict\u001b[0m\n",
      "\n",
      "image 1/1 /home/ubuntu/Desktop/DL_WorkSpace/WorkSpace/Input_Data_Container/CB_WS/GIS_WS/cropped_jpg/ortho_21_7.jpg: 640x640 1 donut, 1 cake, 5.1ms\n",
      "Speed: 1.5ms preprocess, 5.1ms inference, 1.1ms postprocess per image at shape (1, 3, 640, 640)\n",
      "Results saved to \u001b[1mruns/detect/predict\u001b[0m\n",
      "\n",
      "image 1/1 /home/ubuntu/Desktop/DL_WorkSpace/WorkSpace/Input_Data_Container/CB_WS/GIS_WS/cropped_jpg/ortho_16_23.jpg: 640x640 1 broccoli, 1 cake, 5.2ms\n",
      "Speed: 1.5ms preprocess, 5.2ms inference, 1.3ms postprocess per image at shape (1, 3, 640, 640)\n",
      "Results saved to \u001b[1mruns/detect/predict\u001b[0m\n",
      "\n",
      "image 1/1 /home/ubuntu/Desktop/DL_WorkSpace/WorkSpace/Input_Data_Container/CB_WS/GIS_WS/cropped_jpg/ortho_11_11.jpg: 640x640 2 broccolis, 5.1ms\n",
      "Speed: 1.5ms preprocess, 5.1ms inference, 1.1ms postprocess per image at shape (1, 3, 640, 640)\n",
      "Results saved to \u001b[1mruns/detect/predict\u001b[0m\n",
      "\n",
      "image 1/1 /home/ubuntu/Desktop/DL_WorkSpace/WorkSpace/Input_Data_Container/CB_WS/GIS_WS/cropped_jpg/ortho_21_11.jpg: 640x640 1 pizza, 1 cake, 5.2ms\n",
      "Speed: 1.5ms preprocess, 5.2ms inference, 1.1ms postprocess per image at shape (1, 3, 640, 640)\n",
      "Results saved to \u001b[1mruns/detect/predict\u001b[0m\n"
     ]
    },
    {
     "name": "stderr",
     "output_type": "stream",
     "text": [
      " 14%|█████▊                                    | 90/648 [00:02<00:17, 31.97it/s]"
     ]
    },
    {
     "name": "stdout",
     "output_type": "stream",
     "text": [
      "\n",
      "image 1/1 /home/ubuntu/Desktop/DL_WorkSpace/WorkSpace/Input_Data_Container/CB_WS/GIS_WS/cropped_jpg/ortho_25_21.jpg: 640x640 (no detections), 5.5ms\n",
      "Speed: 1.6ms preprocess, 5.5ms inference, 0.5ms postprocess per image at shape (1, 3, 640, 640)\n",
      "Results saved to \u001b[1mruns/detect/predict\u001b[0m\n",
      "\n",
      "image 1/1 /home/ubuntu/Desktop/DL_WorkSpace/WorkSpace/Input_Data_Container/CB_WS/GIS_WS/cropped_jpg/ortho_25_18.jpg: 640x640 (no detections), 7.5ms\n",
      "Speed: 1.7ms preprocess, 7.5ms inference, 0.5ms postprocess per image at shape (1, 3, 640, 640)\n",
      "Results saved to \u001b[1mruns/detect/predict\u001b[0m\n",
      "\n",
      "image 1/1 /home/ubuntu/Desktop/DL_WorkSpace/WorkSpace/Input_Data_Container/CB_WS/GIS_WS/cropped_jpg/ortho_2_1.jpg: 640x640 1 cake, 5.1ms\n",
      "Speed: 1.5ms preprocess, 5.1ms inference, 1.1ms postprocess per image at shape (1, 3, 640, 640)\n",
      "Results saved to \u001b[1mruns/detect/predict\u001b[0m\n",
      "\n",
      "image 1/1 /home/ubuntu/Desktop/DL_WorkSpace/WorkSpace/Input_Data_Container/CB_WS/GIS_WS/cropped_jpg/ortho_17_1.jpg: 640x640 (no detections), 5.4ms\n",
      "Speed: 1.5ms preprocess, 5.4ms inference, 0.7ms postprocess per image at shape (1, 3, 640, 640)\n",
      "Results saved to \u001b[1mruns/detect/predict\u001b[0m\n",
      "\n",
      "image 1/1 /home/ubuntu/Desktop/DL_WorkSpace/WorkSpace/Input_Data_Container/CB_WS/GIS_WS/cropped_jpg/ortho_1_19.jpg: 640x640 1 broccoli, 1 dining table, 3 cell phones, 2 books, 6.8ms\n",
      "Speed: 1.5ms preprocess, 6.8ms inference, 1.4ms postprocess per image at shape (1, 3, 640, 640)\n",
      "Results saved to \u001b[1mruns/detect/predict\u001b[0m\n"
     ]
    },
    {
     "name": "stderr",
     "output_type": "stream",
     "text": [
      " 15%|██████▏                                   | 95/648 [00:02<00:16, 34.54it/s]"
     ]
    },
    {
     "name": "stdout",
     "output_type": "stream",
     "text": [
      "\n",
      "image 1/1 /home/ubuntu/Desktop/DL_WorkSpace/WorkSpace/Input_Data_Container/CB_WS/GIS_WS/cropped_jpg/ortho_1_13.jpg: 640x640 1 broccoli, 7.7ms\n",
      "Speed: 1.7ms preprocess, 7.7ms inference, 1.4ms postprocess per image at shape (1, 3, 640, 640)\n",
      "Results saved to \u001b[1mruns/detect/predict\u001b[0m\n",
      "\n",
      "image 1/1 /home/ubuntu/Desktop/DL_WorkSpace/WorkSpace/Input_Data_Container/CB_WS/GIS_WS/cropped_jpg/ortho_7_11.jpg: 640x640 1 carrot, 6.4ms\n",
      "Speed: 1.8ms preprocess, 6.4ms inference, 1.5ms postprocess per image at shape (1, 3, 640, 640)\n",
      "Results saved to \u001b[1mruns/detect/predict\u001b[0m\n",
      "\n",
      "image 1/1 /home/ubuntu/Desktop/DL_WorkSpace/WorkSpace/Input_Data_Container/CB_WS/GIS_WS/cropped_jpg/ortho_2_14.jpg: 640x640 1 broccoli, 7.0ms\n",
      "Speed: 1.9ms preprocess, 7.0ms inference, 1.2ms postprocess per image at shape (1, 3, 640, 640)\n",
      "Results saved to \u001b[1mruns/detect/predict\u001b[0m\n",
      "\n",
      "image 1/1 /home/ubuntu/Desktop/DL_WorkSpace/WorkSpace/Input_Data_Container/CB_WS/GIS_WS/cropped_jpg/ortho_15_16.jpg: 640x640 (no detections), 5.9ms\n",
      "Speed: 1.8ms preprocess, 5.9ms inference, 0.5ms postprocess per image at shape (1, 3, 640, 640)\n",
      "Results saved to \u001b[1mruns/detect/predict\u001b[0m\n"
     ]
    },
    {
     "name": "stderr",
     "output_type": "stream",
     "text": [
      " 15%|██████▍                                   | 99/648 [00:03<00:16, 32.63it/s]"
     ]
    },
    {
     "name": "stdout",
     "output_type": "stream",
     "text": [
      "\n",
      "image 1/1 /home/ubuntu/Desktop/DL_WorkSpace/WorkSpace/Input_Data_Container/CB_WS/GIS_WS/cropped_jpg/ortho_12_19.jpg: 640x640 1 cake, 5.5ms\n",
      "Speed: 1.6ms preprocess, 5.5ms inference, 1.1ms postprocess per image at shape (1, 3, 640, 640)\n",
      "Results saved to \u001b[1mruns/detect/predict\u001b[0m\n",
      "\n",
      "image 1/1 /home/ubuntu/Desktop/DL_WorkSpace/WorkSpace/Input_Data_Container/CB_WS/GIS_WS/cropped_jpg/ortho_25_17.jpg: 640x640 (no detections), 8.3ms\n",
      "Speed: 1.9ms preprocess, 8.3ms inference, 0.8ms postprocess per image at shape (1, 3, 640, 640)\n",
      "Results saved to \u001b[1mruns/detect/predict\u001b[0m\n",
      "\n",
      "image 1/1 /home/ubuntu/Desktop/DL_WorkSpace/WorkSpace/Input_Data_Container/CB_WS/GIS_WS/cropped_jpg/ortho_15_23.jpg: 640x640 1 broccoli, 1 cake, 6.8ms\n",
      "Speed: 1.5ms preprocess, 6.8ms inference, 1.3ms postprocess per image at shape (1, 3, 640, 640)\n",
      "Results saved to \u001b[1mruns/detect/predict\u001b[0m\n",
      "\n",
      "image 1/1 /home/ubuntu/Desktop/DL_WorkSpace/WorkSpace/Input_Data_Container/CB_WS/GIS_WS/cropped_jpg/ortho_0_3.jpg: 640x640 (no detections), 7.2ms\n",
      "Speed: 1.7ms preprocess, 7.2ms inference, 0.7ms postprocess per image at shape (1, 3, 640, 640)\n",
      "Results saved to \u001b[1mruns/detect/predict\u001b[0m\n"
     ]
    },
    {
     "name": "stderr",
     "output_type": "stream",
     "text": [
      " 16%|██████▌                                  | 103/648 [00:03<00:16, 33.54it/s]"
     ]
    },
    {
     "name": "stdout",
     "output_type": "stream",
     "text": [
      "\n",
      "image 1/1 /home/ubuntu/Desktop/DL_WorkSpace/WorkSpace/Input_Data_Container/CB_WS/GIS_WS/cropped_jpg/ortho_14_23.jpg: 640x640 1 person, 1 orange, 3 broccolis, 1 dining table, 7.4ms\n",
      "Speed: 1.8ms preprocess, 7.4ms inference, 1.5ms postprocess per image at shape (1, 3, 640, 640)\n",
      "Results saved to \u001b[1mruns/detect/predict\u001b[0m\n",
      "\n",
      "image 1/1 /home/ubuntu/Desktop/DL_WorkSpace/WorkSpace/Input_Data_Container/CB_WS/GIS_WS/cropped_jpg/ortho_0_4.jpg: 640x640 (no detections), 5.7ms\n",
      "Speed: 1.6ms preprocess, 5.7ms inference, 0.6ms postprocess per image at shape (1, 3, 640, 640)\n",
      "Results saved to \u001b[1mruns/detect/predict\u001b[0m\n",
      "\n",
      "image 1/1 /home/ubuntu/Desktop/DL_WorkSpace/WorkSpace/Input_Data_Container/CB_WS/GIS_WS/cropped_jpg/ortho_10_12.jpg: 640x640 1 bowl, 4 broccolis, 1 pizza, 5.2ms\n",
      "Speed: 1.5ms preprocess, 5.2ms inference, 1.1ms postprocess per image at shape (1, 3, 640, 640)\n",
      "Results saved to \u001b[1mruns/detect/predict\u001b[0m\n",
      "\n",
      "image 1/1 /home/ubuntu/Desktop/DL_WorkSpace/WorkSpace/Input_Data_Container/CB_WS/GIS_WS/cropped_jpg/ortho_23_22.jpg: 640x640 (no detections), 5.5ms\n",
      "Speed: 1.5ms preprocess, 5.5ms inference, 0.5ms postprocess per image at shape (1, 3, 640, 640)\n",
      "Results saved to \u001b[1mruns/detect/predict\u001b[0m\n"
     ]
    },
    {
     "name": "stderr",
     "output_type": "stream",
     "text": [
      " 17%|██████▊                                  | 107/648 [00:03<00:15, 34.68it/s]"
     ]
    },
    {
     "name": "stdout",
     "output_type": "stream",
     "text": [
      "\n",
      "image 1/1 /home/ubuntu/Desktop/DL_WorkSpace/WorkSpace/Input_Data_Container/CB_WS/GIS_WS/cropped_jpg/ortho_7_16.jpg: 640x640 1 sandwich, 1 cake, 7.0ms\n",
      "Speed: 1.8ms preprocess, 7.0ms inference, 1.4ms postprocess per image at shape (1, 3, 640, 640)\n",
      "Results saved to \u001b[1mruns/detect/predict\u001b[0m\n",
      "\n",
      "image 1/1 /home/ubuntu/Desktop/DL_WorkSpace/WorkSpace/Input_Data_Container/CB_WS/GIS_WS/cropped_jpg/ortho_16_0.jpg: 640x640 (no detections), 5.9ms\n",
      "Speed: 1.5ms preprocess, 5.9ms inference, 0.6ms postprocess per image at shape (1, 3, 640, 640)\n",
      "Results saved to \u001b[1mruns/detect/predict\u001b[0m\n",
      "\n",
      "image 1/1 /home/ubuntu/Desktop/DL_WorkSpace/WorkSpace/Input_Data_Container/CB_WS/GIS_WS/cropped_jpg/ortho_20_4.jpg: 640x640 1 broccoli, 1 cake, 6.7ms\n",
      "Speed: 1.7ms preprocess, 6.7ms inference, 1.1ms postprocess per image at shape (1, 3, 640, 640)\n",
      "Results saved to \u001b[1mruns/detect/predict\u001b[0m\n",
      "\n",
      "image 1/1 /home/ubuntu/Desktop/DL_WorkSpace/WorkSpace/Input_Data_Container/CB_WS/GIS_WS/cropped_jpg/ortho_2_5.jpg: 640x640 3 broccolis, 1 cake, 7.0ms\n",
      "Speed: 1.7ms preprocess, 7.0ms inference, 1.0ms postprocess per image at shape (1, 3, 640, 640)\n",
      "Results saved to \u001b[1mruns/detect/predict\u001b[0m\n"
     ]
    },
    {
     "name": "stderr",
     "output_type": "stream",
     "text": [
      " 17%|███████                                  | 111/648 [00:03<00:15, 35.23it/s]"
     ]
    },
    {
     "name": "stdout",
     "output_type": "stream",
     "text": [
      "\n",
      "image 1/1 /home/ubuntu/Desktop/DL_WorkSpace/WorkSpace/Input_Data_Container/CB_WS/GIS_WS/cropped_jpg/ortho_2_20.jpg: 640x640 (no detections), 5.3ms\n",
      "Speed: 1.5ms preprocess, 5.3ms inference, 0.5ms postprocess per image at shape (1, 3, 640, 640)\n",
      "Results saved to \u001b[1mruns/detect/predict\u001b[0m\n",
      "\n",
      "image 1/1 /home/ubuntu/Desktop/DL_WorkSpace/WorkSpace/Input_Data_Container/CB_WS/GIS_WS/cropped_jpg/ortho_18_0.jpg: 640x640 (no detections), 7.2ms\n",
      "Speed: 1.7ms preprocess, 7.2ms inference, 0.7ms postprocess per image at shape (1, 3, 640, 640)\n",
      "Results saved to \u001b[1mruns/detect/predict\u001b[0m\n",
      "\n",
      "image 1/1 /home/ubuntu/Desktop/DL_WorkSpace/WorkSpace/Input_Data_Container/CB_WS/GIS_WS/cropped_jpg/ortho_22_22.jpg: 640x640 (no detections), 5.2ms\n",
      "Speed: 1.5ms preprocess, 5.2ms inference, 0.5ms postprocess per image at shape (1, 3, 640, 640)\n",
      "Results saved to \u001b[1mruns/detect/predict\u001b[0m\n",
      "\n",
      "image 1/1 /home/ubuntu/Desktop/DL_WorkSpace/WorkSpace/Input_Data_Container/CB_WS/GIS_WS/cropped_jpg/ortho_20_12.jpg: 640x640 1 cake, 6.0ms\n",
      "Speed: 1.5ms preprocess, 6.0ms inference, 1.4ms postprocess per image at shape (1, 3, 640, 640)\n",
      "Results saved to \u001b[1mruns/detect/predict\u001b[0m\n",
      "\n",
      "image 1/1 /home/ubuntu/Desktop/DL_WorkSpace/WorkSpace/Input_Data_Container/CB_WS/GIS_WS/cropped_jpg/ortho_5_18.jpg: 640x640 2 broccolis, 6.9ms\n",
      "Speed: 1.8ms preprocess, 6.9ms inference, 1.4ms postprocess per image at shape (1, 3, 640, 640)\n",
      "Results saved to \u001b[1mruns/detect/predict\u001b[0m\n"
     ]
    },
    {
     "name": "stderr",
     "output_type": "stream",
     "text": [
      " 18%|███████▎                                 | 116/648 [00:03<00:15, 35.37it/s]"
     ]
    },
    {
     "name": "stdout",
     "output_type": "stream",
     "text": [
      "\n",
      "image 1/1 /home/ubuntu/Desktop/DL_WorkSpace/WorkSpace/Input_Data_Container/CB_WS/GIS_WS/cropped_jpg/ortho_5_17.jpg: 640x640 1 broccoli, 1 potted plant, 13.1ms\n",
      "Speed: 1.8ms preprocess, 13.1ms inference, 1.4ms postprocess per image at shape (1, 3, 640, 640)\n",
      "Results saved to \u001b[1mruns/detect/predict\u001b[0m\n",
      "\n",
      "image 1/1 /home/ubuntu/Desktop/DL_WorkSpace/WorkSpace/Input_Data_Container/CB_WS/GIS_WS/cropped_jpg/ortho_9_23.jpg: 640x640 2 broccolis, 7.8ms\n",
      "Speed: 1.8ms preprocess, 7.8ms inference, 1.5ms postprocess per image at shape (1, 3, 640, 640)\n",
      "Results saved to \u001b[1mruns/detect/predict\u001b[0m\n",
      "\n",
      "image 1/1 /home/ubuntu/Desktop/DL_WorkSpace/WorkSpace/Input_Data_Container/CB_WS/GIS_WS/cropped_jpg/ortho_15_10.jpg: 640x640 5 broccolis, 1 cake, 5.2ms\n",
      "Speed: 1.5ms preprocess, 5.2ms inference, 1.1ms postprocess per image at shape (1, 3, 640, 640)\n",
      "Results saved to \u001b[1mruns/detect/predict\u001b[0m\n",
      "\n",
      "image 1/1 /home/ubuntu/Desktop/DL_WorkSpace/WorkSpace/Input_Data_Container/CB_WS/GIS_WS/cropped_jpg/ortho_13_13.jpg: 640x640 1 person, 5.8ms\n",
      "Speed: 1.5ms preprocess, 5.8ms inference, 1.0ms postprocess per image at shape (1, 3, 640, 640)\n",
      "Results saved to \u001b[1mruns/detect/predict\u001b[0m\n"
     ]
    },
    {
     "name": "stderr",
     "output_type": "stream",
     "text": [
      " 19%|███████▌                                 | 120/648 [00:03<00:15, 34.54it/s]"
     ]
    },
    {
     "name": "stdout",
     "output_type": "stream",
     "text": [
      "\n",
      "image 1/1 /home/ubuntu/Desktop/DL_WorkSpace/WorkSpace/Input_Data_Container/CB_WS/GIS_WS/cropped_jpg/ortho_13_19.jpg: 640x640 1 cake, 7.6ms\n",
      "Speed: 1.7ms preprocess, 7.6ms inference, 1.1ms postprocess per image at shape (1, 3, 640, 640)\n",
      "Results saved to \u001b[1mruns/detect/predict\u001b[0m\n",
      "\n",
      "image 1/1 /home/ubuntu/Desktop/DL_WorkSpace/WorkSpace/Input_Data_Container/CB_WS/GIS_WS/cropped_jpg/ortho_22_4.jpg: 640x640 1 person, 1 cake, 7.0ms\n",
      "Speed: 1.8ms preprocess, 7.0ms inference, 1.3ms postprocess per image at shape (1, 3, 640, 640)\n",
      "Results saved to \u001b[1mruns/detect/predict\u001b[0m\n",
      "\n",
      "image 1/1 /home/ubuntu/Desktop/DL_WorkSpace/WorkSpace/Input_Data_Container/CB_WS/GIS_WS/cropped_jpg/ortho_24_14.jpg: 640x640 3 broccolis, 5.8ms\n",
      "Speed: 1.5ms preprocess, 5.8ms inference, 1.1ms postprocess per image at shape (1, 3, 640, 640)\n",
      "Results saved to \u001b[1mruns/detect/predict\u001b[0m\n",
      "\n",
      "image 1/1 /home/ubuntu/Desktop/DL_WorkSpace/WorkSpace/Input_Data_Container/CB_WS/GIS_WS/cropped_jpg/ortho_20_21.jpg: 640x640 1 cake, 5.2ms\n",
      "Speed: 1.6ms preprocess, 5.2ms inference, 1.2ms postprocess per image at shape (1, 3, 640, 640)\n",
      "Results saved to \u001b[1mruns/detect/predict\u001b[0m\n"
     ]
    },
    {
     "name": "stderr",
     "output_type": "stream",
     "text": [
      " 19%|███████▊                                 | 124/648 [00:03<00:14, 34.96it/s]"
     ]
    },
    {
     "name": "stdout",
     "output_type": "stream",
     "text": [
      "\n",
      "image 1/1 /home/ubuntu/Desktop/DL_WorkSpace/WorkSpace/Input_Data_Container/CB_WS/GIS_WS/cropped_jpg/ortho_3_6.jpg: 640x640 3 broccolis, 1 cake, 6.9ms\n",
      "Speed: 1.8ms preprocess, 6.9ms inference, 1.3ms postprocess per image at shape (1, 3, 640, 640)\n",
      "Results saved to \u001b[1mruns/detect/predict\u001b[0m\n",
      "\n",
      "image 1/1 /home/ubuntu/Desktop/DL_WorkSpace/WorkSpace/Input_Data_Container/CB_WS/GIS_WS/cropped_jpg/ortho_12_23.jpg: 640x640 1 orange, 1 cake, 5.4ms\n",
      "Speed: 1.6ms preprocess, 5.4ms inference, 1.1ms postprocess per image at shape (1, 3, 640, 640)\n",
      "Results saved to \u001b[1mruns/detect/predict\u001b[0m\n",
      "\n",
      "image 1/1 /home/ubuntu/Desktop/DL_WorkSpace/WorkSpace/Input_Data_Container/CB_WS/GIS_WS/cropped_jpg/ortho_15_21.jpg: 640x640 1 person, 1 donut, 1 cake, 7.5ms\n",
      "Speed: 1.8ms preprocess, 7.5ms inference, 1.4ms postprocess per image at shape (1, 3, 640, 640)\n",
      "Results saved to \u001b[1mruns/detect/predict\u001b[0m\n",
      "\n",
      "image 1/1 /home/ubuntu/Desktop/DL_WorkSpace/WorkSpace/Input_Data_Container/CB_WS/GIS_WS/cropped_jpg/ortho_11_2.jpg: 640x640 1 broccoli, 1 potted plant, 7.2ms\n",
      "Speed: 1.7ms preprocess, 7.2ms inference, 1.1ms postprocess per image at shape (1, 3, 640, 640)\n",
      "Results saved to \u001b[1mruns/detect/predict\u001b[0m\n"
     ]
    },
    {
     "name": "stderr",
     "output_type": "stream",
     "text": [
      " 20%|████████                                 | 128/648 [00:03<00:15, 34.34it/s]"
     ]
    },
    {
     "name": "stdout",
     "output_type": "stream",
     "text": [
      "\n",
      "image 1/1 /home/ubuntu/Desktop/DL_WorkSpace/WorkSpace/Input_Data_Container/CB_WS/GIS_WS/cropped_jpg/ortho_20_19.jpg: 640x640 1 cake, 7.3ms\n",
      "Speed: 1.8ms preprocess, 7.3ms inference, 1.5ms postprocess per image at shape (1, 3, 640, 640)\n",
      "Results saved to \u001b[1mruns/detect/predict\u001b[0m\n",
      "\n",
      "image 1/1 /home/ubuntu/Desktop/DL_WorkSpace/WorkSpace/Input_Data_Container/CB_WS/GIS_WS/cropped_jpg/ortho_16_3.jpg: 640x640 1 person, 1 vase, 7.1ms\n",
      "Speed: 1.7ms preprocess, 7.1ms inference, 1.3ms postprocess per image at shape (1, 3, 640, 640)\n",
      "Results saved to \u001b[1mruns/detect/predict\u001b[0m\n",
      "\n",
      "image 1/1 /home/ubuntu/Desktop/DL_WorkSpace/WorkSpace/Input_Data_Container/CB_WS/GIS_WS/cropped_jpg/ortho_19_17.jpg: 640x640 (no detections), 5.4ms\n",
      "Speed: 1.5ms preprocess, 5.4ms inference, 0.6ms postprocess per image at shape (1, 3, 640, 640)\n",
      "Results saved to \u001b[1mruns/detect/predict\u001b[0m\n",
      "\n",
      "image 1/1 /home/ubuntu/Desktop/DL_WorkSpace/WorkSpace/Input_Data_Container/CB_WS/GIS_WS/cropped_jpg/ortho_5_3.jpg: 640x640 (no detections), 5.1ms\n",
      "Speed: 1.5ms preprocess, 5.1ms inference, 0.5ms postprocess per image at shape (1, 3, 640, 640)\n",
      "Results saved to \u001b[1mruns/detect/predict\u001b[0m\n"
     ]
    },
    {
     "name": "stderr",
     "output_type": "stream",
     "text": [
      " 20%|████████▎                                | 132/648 [00:03<00:14, 35.02it/s]"
     ]
    },
    {
     "name": "stdout",
     "output_type": "stream",
     "text": [
      "\n",
      "image 1/1 /home/ubuntu/Desktop/DL_WorkSpace/WorkSpace/Input_Data_Container/CB_WS/GIS_WS/cropped_jpg/ortho_5_1.jpg: 640x640 1 bed, 7.1ms\n",
      "Speed: 1.5ms preprocess, 7.1ms inference, 1.1ms postprocess per image at shape (1, 3, 640, 640)\n",
      "Results saved to \u001b[1mruns/detect/predict\u001b[0m\n",
      "\n",
      "image 1/1 /home/ubuntu/Desktop/DL_WorkSpace/WorkSpace/Input_Data_Container/CB_WS/GIS_WS/cropped_jpg/ortho_1_17.jpg: 640x640 1 person, 5.3ms\n",
      "Speed: 1.5ms preprocess, 5.3ms inference, 1.1ms postprocess per image at shape (1, 3, 640, 640)\n",
      "Results saved to \u001b[1mruns/detect/predict\u001b[0m\n",
      "\n",
      "image 1/1 /home/ubuntu/Desktop/DL_WorkSpace/WorkSpace/Input_Data_Container/CB_WS/GIS_WS/cropped_jpg/ortho_26_10.jpg: 640x640 (no detections), 7.1ms\n",
      "Speed: 1.5ms preprocess, 7.1ms inference, 0.7ms postprocess per image at shape (1, 3, 640, 640)\n",
      "Results saved to \u001b[1mruns/detect/predict\u001b[0m\n",
      "\n",
      "image 1/1 /home/ubuntu/Desktop/DL_WorkSpace/WorkSpace/Input_Data_Container/CB_WS/GIS_WS/cropped_jpg/ortho_5_13.jpg: 640x640 (no detections), 7.5ms\n",
      "Speed: 1.8ms preprocess, 7.5ms inference, 0.7ms postprocess per image at shape (1, 3, 640, 640)\n",
      "Results saved to \u001b[1mruns/detect/predict\u001b[0m\n"
     ]
    },
    {
     "name": "stderr",
     "output_type": "stream",
     "text": [
      " 21%|████████▌                                | 136/648 [00:04<00:14, 35.11it/s]"
     ]
    },
    {
     "name": "stdout",
     "output_type": "stream",
     "text": [
      "\n",
      "image 1/1 /home/ubuntu/Desktop/DL_WorkSpace/WorkSpace/Input_Data_Container/CB_WS/GIS_WS/cropped_jpg/ortho_23_11.jpg: 640x640 1 bowl, 1 broccoli, 1 carrot, 8.2ms\n",
      "Speed: 2.0ms preprocess, 8.2ms inference, 1.4ms postprocess per image at shape (1, 3, 640, 640)\n",
      "Results saved to \u001b[1mruns/detect/predict\u001b[0m\n",
      "\n",
      "image 1/1 /home/ubuntu/Desktop/DL_WorkSpace/WorkSpace/Input_Data_Container/CB_WS/GIS_WS/cropped_jpg/ortho_10_6.jpg: 640x640 2 broccolis, 1 carrot, 6.7ms\n",
      "Speed: 1.8ms preprocess, 6.7ms inference, 1.3ms postprocess per image at shape (1, 3, 640, 640)\n",
      "Results saved to \u001b[1mruns/detect/predict\u001b[0m\n",
      "\n",
      "image 1/1 /home/ubuntu/Desktop/DL_WorkSpace/WorkSpace/Input_Data_Container/CB_WS/GIS_WS/cropped_jpg/ortho_12_8.jpg: 640x640 3 broccolis, 1 cake, 8.4ms\n",
      "Speed: 1.7ms preprocess, 8.4ms inference, 1.4ms postprocess per image at shape (1, 3, 640, 640)\n",
      "Results saved to \u001b[1mruns/detect/predict\u001b[0m\n",
      "\n",
      "image 1/1 /home/ubuntu/Desktop/DL_WorkSpace/WorkSpace/Input_Data_Container/CB_WS/GIS_WS/cropped_jpg/ortho_18_21.jpg: 640x640 1 bowl, 7.4ms\n",
      "Speed: 1.8ms preprocess, 7.4ms inference, 1.3ms postprocess per image at shape (1, 3, 640, 640)\n",
      "Results saved to \u001b[1mruns/detect/predict\u001b[0m\n"
     ]
    },
    {
     "name": "stderr",
     "output_type": "stream",
     "text": [
      " 22%|████████▊                                | 140/648 [00:04<00:15, 32.96it/s]"
     ]
    },
    {
     "name": "stdout",
     "output_type": "stream",
     "text": [
      "\n",
      "image 1/1 /home/ubuntu/Desktop/DL_WorkSpace/WorkSpace/Input_Data_Container/CB_WS/GIS_WS/cropped_jpg/ortho_26_19.jpg: 640x640 (no detections), 7.9ms\n",
      "Speed: 1.8ms preprocess, 7.9ms inference, 0.7ms postprocess per image at shape (1, 3, 640, 640)\n",
      "Results saved to \u001b[1mruns/detect/predict\u001b[0m\n",
      "\n",
      "image 1/1 /home/ubuntu/Desktop/DL_WorkSpace/WorkSpace/Input_Data_Container/CB_WS/GIS_WS/cropped_jpg/ortho_15_20.jpg: 640x640 (no detections), 5.3ms\n",
      "Speed: 1.6ms preprocess, 5.3ms inference, 0.5ms postprocess per image at shape (1, 3, 640, 640)\n",
      "Results saved to \u001b[1mruns/detect/predict\u001b[0m\n",
      "\n",
      "image 1/1 /home/ubuntu/Desktop/DL_WorkSpace/WorkSpace/Input_Data_Container/CB_WS/GIS_WS/cropped_jpg/ortho_9_19.jpg: 640x640 1 cake, 10.0ms\n",
      "Speed: 2.1ms preprocess, 10.0ms inference, 1.6ms postprocess per image at shape (1, 3, 640, 640)\n",
      "Results saved to \u001b[1mruns/detect/predict\u001b[0m\n",
      "\n",
      "image 1/1 /home/ubuntu/Desktop/DL_WorkSpace/WorkSpace/Input_Data_Container/CB_WS/GIS_WS/cropped_jpg/ortho_11_9.jpg: 640x640 5 broccolis, 1 cake, 1 dining table, 7.0ms\n",
      "Speed: 1.8ms preprocess, 7.0ms inference, 1.4ms postprocess per image at shape (1, 3, 640, 640)\n",
      "Results saved to \u001b[1mruns/detect/predict\u001b[0m\n"
     ]
    },
    {
     "name": "stderr",
     "output_type": "stream",
     "text": [
      " 22%|█████████                                | 144/648 [00:04<00:15, 32.45it/s]"
     ]
    },
    {
     "name": "stdout",
     "output_type": "stream",
     "text": [
      "\n",
      "image 1/1 /home/ubuntu/Desktop/DL_WorkSpace/WorkSpace/Input_Data_Container/CB_WS/GIS_WS/cropped_jpg/ortho_2_21.jpg: 640x640 1 person, 1 bench, 1 bottle, 1 broccoli, 1 potted plant, 1 clock, 6.8ms\n",
      "Speed: 1.8ms preprocess, 6.8ms inference, 1.5ms postprocess per image at shape (1, 3, 640, 640)\n",
      "Results saved to \u001b[1mruns/detect/predict\u001b[0m\n",
      "\n",
      "image 1/1 /home/ubuntu/Desktop/DL_WorkSpace/WorkSpace/Input_Data_Container/CB_WS/GIS_WS/cropped_jpg/ortho_8_13.jpg: 640x640 1 person, 1 pizza, 1 donut, 1 cake, 5.6ms\n",
      "Speed: 1.6ms preprocess, 5.6ms inference, 1.1ms postprocess per image at shape (1, 3, 640, 640)\n",
      "Results saved to \u001b[1mruns/detect/predict\u001b[0m\n",
      "\n",
      "image 1/1 /home/ubuntu/Desktop/DL_WorkSpace/WorkSpace/Input_Data_Container/CB_WS/GIS_WS/cropped_jpg/ortho_24_1.jpg: 640x640 1 broccoli, 5.4ms\n",
      "Speed: 1.6ms preprocess, 5.4ms inference, 1.1ms postprocess per image at shape (1, 3, 640, 640)\n",
      "Results saved to \u001b[1mruns/detect/predict\u001b[0m\n",
      "\n",
      "image 1/1 /home/ubuntu/Desktop/DL_WorkSpace/WorkSpace/Input_Data_Container/CB_WS/GIS_WS/cropped_jpg/ortho_1_15.jpg: 640x640 (no detections), 5.3ms\n",
      "Speed: 1.6ms preprocess, 5.3ms inference, 0.5ms postprocess per image at shape (1, 3, 640, 640)\n",
      "Results saved to \u001b[1mruns/detect/predict\u001b[0m\n"
     ]
    },
    {
     "name": "stderr",
     "output_type": "stream",
     "text": [
      " 23%|█████████▎                               | 148/648 [00:04<00:15, 32.60it/s]"
     ]
    },
    {
     "name": "stdout",
     "output_type": "stream",
     "text": [
      "\n",
      "image 1/1 /home/ubuntu/Desktop/DL_WorkSpace/WorkSpace/Input_Data_Container/CB_WS/GIS_WS/cropped_jpg/ortho_10_16.jpg: 640x640 1 person, 1 cat, 5.5ms\n",
      "Speed: 1.6ms preprocess, 5.5ms inference, 1.1ms postprocess per image at shape (1, 3, 640, 640)\n",
      "Results saved to \u001b[1mruns/detect/predict\u001b[0m\n",
      "\n",
      "image 1/1 /home/ubuntu/Desktop/DL_WorkSpace/WorkSpace/Input_Data_Container/CB_WS/GIS_WS/cropped_jpg/ortho_22_3.jpg: 640x640 1 person, 5.6ms\n",
      "Speed: 1.6ms preprocess, 5.6ms inference, 1.2ms postprocess per image at shape (1, 3, 640, 640)\n",
      "Results saved to \u001b[1mruns/detect/predict\u001b[0m\n",
      "\n",
      "image 1/1 /home/ubuntu/Desktop/DL_WorkSpace/WorkSpace/Input_Data_Container/CB_WS/GIS_WS/cropped_jpg/ortho_21_17.jpg: 640x640 (no detections), 8.6ms\n",
      "Speed: 2.2ms preprocess, 8.6ms inference, 0.8ms postprocess per image at shape (1, 3, 640, 640)\n",
      "Results saved to \u001b[1mruns/detect/predict\u001b[0m\n",
      "\n",
      "image 1/1 /home/ubuntu/Desktop/DL_WorkSpace/WorkSpace/Input_Data_Container/CB_WS/GIS_WS/cropped_jpg/ortho_8_22.jpg: 640x640 2 broccolis, 1 pizza, 6.9ms\n",
      "Speed: 1.8ms preprocess, 6.9ms inference, 1.6ms postprocess per image at shape (1, 3, 640, 640)\n",
      "Results saved to \u001b[1mruns/detect/predict\u001b[0m\n"
     ]
    },
    {
     "name": "stderr",
     "output_type": "stream",
     "text": [
      " 23%|█████████▌                               | 152/648 [00:04<00:15, 31.78it/s]"
     ]
    },
    {
     "name": "stdout",
     "output_type": "stream",
     "text": [
      "\n",
      "image 1/1 /home/ubuntu/Desktop/DL_WorkSpace/WorkSpace/Input_Data_Container/CB_WS/GIS_WS/cropped_jpg/ortho_2_0.jpg: 640x640 1 pizza, 5.5ms\n",
      "Speed: 1.6ms preprocess, 5.5ms inference, 1.1ms postprocess per image at shape (1, 3, 640, 640)\n",
      "Results saved to \u001b[1mruns/detect/predict\u001b[0m\n",
      "\n",
      "image 1/1 /home/ubuntu/Desktop/DL_WorkSpace/WorkSpace/Input_Data_Container/CB_WS/GIS_WS/cropped_jpg/ortho_14_18.jpg: 640x640 1 cake, 5.9ms\n",
      "Speed: 1.5ms preprocess, 5.9ms inference, 1.4ms postprocess per image at shape (1, 3, 640, 640)\n",
      "Results saved to \u001b[1mruns/detect/predict\u001b[0m\n",
      "\n",
      "image 1/1 /home/ubuntu/Desktop/DL_WorkSpace/WorkSpace/Input_Data_Container/CB_WS/GIS_WS/cropped_jpg/ortho_7_13.jpg: 640x640 1 bowl, 1 broccoli, 1 cake, 9.1ms\n",
      "Speed: 2.3ms preprocess, 9.1ms inference, 1.6ms postprocess per image at shape (1, 3, 640, 640)\n",
      "Results saved to \u001b[1mruns/detect/predict\u001b[0m\n",
      "\n",
      "image 1/1 /home/ubuntu/Desktop/DL_WorkSpace/WorkSpace/Input_Data_Container/CB_WS/GIS_WS/cropped_jpg/ortho_5_22.jpg: 640x640 6 broccolis, 1 cell phone, 9.1ms\n",
      "Speed: 1.9ms preprocess, 9.1ms inference, 1.7ms postprocess per image at shape (1, 3, 640, 640)\n",
      "Results saved to \u001b[1mruns/detect/predict\u001b[0m\n"
     ]
    },
    {
     "name": "stderr",
     "output_type": "stream",
     "text": [
      " 24%|█████████▊                               | 156/648 [00:04<00:16, 30.48it/s]"
     ]
    },
    {
     "name": "stdout",
     "output_type": "stream",
     "text": [
      "\n",
      "image 1/1 /home/ubuntu/Desktop/DL_WorkSpace/WorkSpace/Input_Data_Container/CB_WS/GIS_WS/cropped_jpg/ortho_17_6.jpg: 640x640 4 broccolis, 1 pizza, 9.1ms\n",
      "Speed: 2.0ms preprocess, 9.1ms inference, 1.8ms postprocess per image at shape (1, 3, 640, 640)\n",
      "Results saved to \u001b[1mruns/detect/predict\u001b[0m\n",
      "\n",
      "image 1/1 /home/ubuntu/Desktop/DL_WorkSpace/WorkSpace/Input_Data_Container/CB_WS/GIS_WS/cropped_jpg/ortho_12_20.jpg: 640x640 1 cake, 9.0ms\n",
      "Speed: 1.9ms preprocess, 9.0ms inference, 1.5ms postprocess per image at shape (1, 3, 640, 640)\n",
      "Results saved to \u001b[1mruns/detect/predict\u001b[0m\n",
      "\n",
      "image 1/1 /home/ubuntu/Desktop/DL_WorkSpace/WorkSpace/Input_Data_Container/CB_WS/GIS_WS/cropped_jpg/ortho_26_17.jpg: 640x640 (no detections), 8.9ms\n",
      "Speed: 1.9ms preprocess, 8.9ms inference, 0.8ms postprocess per image at shape (1, 3, 640, 640)\n",
      "Results saved to \u001b[1mruns/detect/predict\u001b[0m\n",
      "\n",
      "image 1/1 /home/ubuntu/Desktop/DL_WorkSpace/WorkSpace/Input_Data_Container/CB_WS/GIS_WS/cropped_jpg/ortho_3_19.jpg: 640x640 1 person, 1 cell phone, 8.9ms\n",
      "Speed: 1.9ms preprocess, 8.9ms inference, 1.6ms postprocess per image at shape (1, 3, 640, 640)\n",
      "Results saved to \u001b[1mruns/detect/predict\u001b[0m\n"
     ]
    },
    {
     "name": "stderr",
     "output_type": "stream",
     "text": [
      " 25%|██████████                               | 160/648 [00:04<00:16, 29.45it/s]"
     ]
    },
    {
     "name": "stdout",
     "output_type": "stream",
     "text": [
      "\n",
      "image 1/1 /home/ubuntu/Desktop/DL_WorkSpace/WorkSpace/Input_Data_Container/CB_WS/GIS_WS/cropped_jpg/ortho_3_18.jpg: 640x640 1 broccoli, 8.7ms\n",
      "Speed: 1.9ms preprocess, 8.7ms inference, 1.6ms postprocess per image at shape (1, 3, 640, 640)\n",
      "Results saved to \u001b[1mruns/detect/predict\u001b[0m\n",
      "\n",
      "image 1/1 /home/ubuntu/Desktop/DL_WorkSpace/WorkSpace/Input_Data_Container/CB_WS/GIS_WS/cropped_jpg/ortho_7_23.jpg: 640x640 2 broccolis, 1 carrot, 9.3ms\n",
      "Speed: 2.1ms preprocess, 9.3ms inference, 1.6ms postprocess per image at shape (1, 3, 640, 640)\n",
      "Results saved to \u001b[1mruns/detect/predict\u001b[0m\n",
      "\n",
      "image 1/1 /home/ubuntu/Desktop/DL_WorkSpace/WorkSpace/Input_Data_Container/CB_WS/GIS_WS/cropped_jpg/ortho_10_21.jpg: 640x640 1 cake, 7.6ms\n",
      "Speed: 2.0ms preprocess, 7.6ms inference, 1.5ms postprocess per image at shape (1, 3, 640, 640)\n",
      "Results saved to \u001b[1mruns/detect/predict\u001b[0m\n"
     ]
    },
    {
     "name": "stderr",
     "output_type": "stream",
     "text": [
      " 25%|██████████▎                              | 163/648 [00:04<00:17, 27.99it/s]"
     ]
    },
    {
     "name": "stdout",
     "output_type": "stream",
     "text": [
      "\n",
      "image 1/1 /home/ubuntu/Desktop/DL_WorkSpace/WorkSpace/Input_Data_Container/CB_WS/GIS_WS/cropped_jpg/ortho_21_9.jpg: 640x640 (no detections), 8.3ms\n",
      "Speed: 2.1ms preprocess, 8.3ms inference, 0.7ms postprocess per image at shape (1, 3, 640, 640)\n",
      "Results saved to \u001b[1mruns/detect/predict\u001b[0m\n",
      "\n",
      "image 1/1 /home/ubuntu/Desktop/DL_WorkSpace/WorkSpace/Input_Data_Container/CB_WS/GIS_WS/cropped_jpg/ortho_22_10.jpg: 640x640 (no detections), 5.6ms\n",
      "Speed: 1.9ms preprocess, 5.6ms inference, 0.5ms postprocess per image at shape (1, 3, 640, 640)\n",
      "Results saved to \u001b[1mruns/detect/predict\u001b[0m\n",
      "\n",
      "image 1/1 /home/ubuntu/Desktop/DL_WorkSpace/WorkSpace/Input_Data_Container/CB_WS/GIS_WS/cropped_jpg/ortho_2_4.jpg: 640x640 1 pizza, 1 cake, 5.3ms\n",
      "Speed: 1.6ms preprocess, 5.3ms inference, 1.1ms postprocess per image at shape (1, 3, 640, 640)\n",
      "Results saved to \u001b[1mruns/detect/predict\u001b[0m\n"
     ]
    },
    {
     "name": "stderr",
     "output_type": "stream",
     "text": [
      " 26%|██████████▌                              | 166/648 [00:05<00:17, 28.13it/s]"
     ]
    },
    {
     "name": "stdout",
     "output_type": "stream",
     "text": [
      "\n",
      "image 1/1 /home/ubuntu/Desktop/DL_WorkSpace/WorkSpace/Input_Data_Container/CB_WS/GIS_WS/cropped_jpg/ortho_17_7.jpg: 640x640 1 person, 1 broccoli, 1 vase, 5.5ms\n",
      "Speed: 1.6ms preprocess, 5.5ms inference, 1.0ms postprocess per image at shape (1, 3, 640, 640)\n",
      "Results saved to \u001b[1mruns/detect/predict\u001b[0m\n",
      "\n",
      "image 1/1 /home/ubuntu/Desktop/DL_WorkSpace/WorkSpace/Input_Data_Container/CB_WS/GIS_WS/cropped_jpg/ortho_0_1.jpg: 640x640 (no detections), 5.8ms\n",
      "Speed: 1.5ms preprocess, 5.8ms inference, 0.6ms postprocess per image at shape (1, 3, 640, 640)\n",
      "Results saved to \u001b[1mruns/detect/predict\u001b[0m\n",
      "\n",
      "image 1/1 /home/ubuntu/Desktop/DL_WorkSpace/WorkSpace/Input_Data_Container/CB_WS/GIS_WS/cropped_jpg/ortho_17_10.jpg: 640x640 1 bowl, 2 broccolis, 1 dining table, 5.4ms\n",
      "Speed: 1.5ms preprocess, 5.4ms inference, 1.1ms postprocess per image at shape (1, 3, 640, 640)\n",
      "Results saved to \u001b[1mruns/detect/predict\u001b[0m\n",
      "\n",
      "image 1/1 /home/ubuntu/Desktop/DL_WorkSpace/WorkSpace/Input_Data_Container/CB_WS/GIS_WS/cropped_jpg/ortho_10_15.jpg: 640x640 1 carrot, 5.6ms\n",
      "Speed: 1.5ms preprocess, 5.6ms inference, 1.0ms postprocess per image at shape (1, 3, 640, 640)\n",
      "Results saved to \u001b[1mruns/detect/predict\u001b[0m\n"
     ]
    },
    {
     "name": "stderr",
     "output_type": "stream",
     "text": [
      " 26%|██████████▊                              | 170/648 [00:05<00:15, 30.47it/s]"
     ]
    },
    {
     "name": "stdout",
     "output_type": "stream",
     "text": [
      "\n",
      "image 1/1 /home/ubuntu/Desktop/DL_WorkSpace/WorkSpace/Input_Data_Container/CB_WS/GIS_WS/cropped_jpg/ortho_8_19.jpg: 640x640 (no detections), 8.2ms\n",
      "Speed: 1.9ms preprocess, 8.2ms inference, 0.8ms postprocess per image at shape (1, 3, 640, 640)\n",
      "Results saved to \u001b[1mruns/detect/predict\u001b[0m\n",
      "\n",
      "image 1/1 /home/ubuntu/Desktop/DL_WorkSpace/WorkSpace/Input_Data_Container/CB_WS/GIS_WS/cropped_jpg/ortho_9_4.jpg: 640x640 3 broccolis, 1 cake, 8.3ms\n",
      "Speed: 2.0ms preprocess, 8.3ms inference, 1.6ms postprocess per image at shape (1, 3, 640, 640)\n",
      "Results saved to \u001b[1mruns/detect/predict\u001b[0m\n",
      "\n",
      "image 1/1 /home/ubuntu/Desktop/DL_WorkSpace/WorkSpace/Input_Data_Container/CB_WS/GIS_WS/cropped_jpg/ortho_17_23.jpg: 640x640 2 broccolis, 1 cake, 1 dining table, 7.3ms\n",
      "Speed: 1.8ms preprocess, 7.3ms inference, 1.4ms postprocess per image at shape (1, 3, 640, 640)\n",
      "Results saved to \u001b[1mruns/detect/predict\u001b[0m\n",
      "\n",
      "image 1/1 /home/ubuntu/Desktop/DL_WorkSpace/WorkSpace/Input_Data_Container/CB_WS/GIS_WS/cropped_jpg/ortho_10_13.jpg: 640x640 1 cake, 6.9ms\n",
      "Speed: 1.8ms preprocess, 6.9ms inference, 1.3ms postprocess per image at shape (1, 3, 640, 640)\n",
      "Results saved to \u001b[1mruns/detect/predict\u001b[0m\n"
     ]
    },
    {
     "name": "stderr",
     "output_type": "stream",
     "text": [
      " 27%|███████████                              | 174/648 [00:05<00:15, 30.14it/s]"
     ]
    },
    {
     "name": "stdout",
     "output_type": "stream",
     "text": [
      "\n",
      "image 1/1 /home/ubuntu/Desktop/DL_WorkSpace/WorkSpace/Input_Data_Container/CB_WS/GIS_WS/cropped_jpg/ortho_0_16.jpg: 640x640 1 potted plant, 7.8ms\n",
      "Speed: 1.8ms preprocess, 7.8ms inference, 1.4ms postprocess per image at shape (1, 3, 640, 640)\n",
      "Results saved to \u001b[1mruns/detect/predict\u001b[0m\n",
      "\n",
      "image 1/1 /home/ubuntu/Desktop/DL_WorkSpace/WorkSpace/Input_Data_Container/CB_WS/GIS_WS/cropped_jpg/ortho_19_5.jpg: 640x640 (no detections), 7.0ms\n",
      "Speed: 1.9ms preprocess, 7.0ms inference, 0.5ms postprocess per image at shape (1, 3, 640, 640)\n",
      "Results saved to \u001b[1mruns/detect/predict\u001b[0m\n",
      "\n",
      "image 1/1 /home/ubuntu/Desktop/DL_WorkSpace/WorkSpace/Input_Data_Container/CB_WS/GIS_WS/cropped_jpg/ortho_0_0.jpg: 640x640 (no detections), 6.9ms\n",
      "Speed: 1.8ms preprocess, 6.9ms inference, 0.7ms postprocess per image at shape (1, 3, 640, 640)\n",
      "Results saved to \u001b[1mruns/detect/predict\u001b[0m\n",
      "\n",
      "image 1/1 /home/ubuntu/Desktop/DL_WorkSpace/WorkSpace/Input_Data_Container/CB_WS/GIS_WS/cropped_jpg/ortho_11_3.jpg: 640x640 1 sandwich, 1 orange, 1 hot dog, 1 cake, 5.3ms\n",
      "Speed: 1.6ms preprocess, 5.3ms inference, 1.1ms postprocess per image at shape (1, 3, 640, 640)\n",
      "Results saved to \u001b[1mruns/detect/predict\u001b[0m\n"
     ]
    },
    {
     "name": "stderr",
     "output_type": "stream",
     "text": [
      " 27%|███████████▎                             | 178/648 [00:05<00:14, 31.86it/s]"
     ]
    },
    {
     "name": "stdout",
     "output_type": "stream",
     "text": [
      "\n",
      "image 1/1 /home/ubuntu/Desktop/DL_WorkSpace/WorkSpace/Input_Data_Container/CB_WS/GIS_WS/cropped_jpg/ortho_10_4.jpg: 640x640 1 person, 1 cake, 7.4ms\n",
      "Speed: 1.8ms preprocess, 7.4ms inference, 1.4ms postprocess per image at shape (1, 3, 640, 640)\n",
      "Results saved to \u001b[1mruns/detect/predict\u001b[0m\n",
      "\n",
      "image 1/1 /home/ubuntu/Desktop/DL_WorkSpace/WorkSpace/Input_Data_Container/CB_WS/GIS_WS/cropped_jpg/ortho_2_17.jpg: 640x640 1 person, 1 broccoli, 7.1ms\n",
      "Speed: 1.7ms preprocess, 7.1ms inference, 1.4ms postprocess per image at shape (1, 3, 640, 640)\n",
      "Results saved to \u001b[1mruns/detect/predict\u001b[0m\n",
      "\n",
      "image 1/1 /home/ubuntu/Desktop/DL_WorkSpace/WorkSpace/Input_Data_Container/CB_WS/GIS_WS/cropped_jpg/ortho_3_4.jpg: 640x640 1 pizza, 1 cake, 7.4ms\n",
      "Speed: 1.8ms preprocess, 7.4ms inference, 1.4ms postprocess per image at shape (1, 3, 640, 640)\n",
      "Results saved to \u001b[1mruns/detect/predict\u001b[0m\n",
      "\n",
      "image 1/1 /home/ubuntu/Desktop/DL_WorkSpace/WorkSpace/Input_Data_Container/CB_WS/GIS_WS/cropped_jpg/ortho_21_13.jpg: 640x640 1 cake, 7.2ms\n",
      "Speed: 1.7ms preprocess, 7.2ms inference, 1.3ms postprocess per image at shape (1, 3, 640, 640)\n",
      "Results saved to \u001b[1mruns/detect/predict\u001b[0m\n"
     ]
    },
    {
     "name": "stderr",
     "output_type": "stream",
     "text": [
      " 28%|███████████▌                             | 182/648 [00:05<00:15, 30.61it/s]"
     ]
    },
    {
     "name": "stdout",
     "output_type": "stream",
     "text": [
      "\n",
      "image 1/1 /home/ubuntu/Desktop/DL_WorkSpace/WorkSpace/Input_Data_Container/CB_WS/GIS_WS/cropped_jpg/ortho_20_6.jpg: 640x640 5 broccolis, 1 pizza, 1 cake, 7.4ms\n",
      "Speed: 1.9ms preprocess, 7.4ms inference, 1.4ms postprocess per image at shape (1, 3, 640, 640)\n",
      "Results saved to \u001b[1mruns/detect/predict\u001b[0m\n",
      "\n",
      "image 1/1 /home/ubuntu/Desktop/DL_WorkSpace/WorkSpace/Input_Data_Container/CB_WS/GIS_WS/cropped_jpg/ortho_12_14.jpg: 640x640 (no detections), 7.7ms\n",
      "Speed: 1.8ms preprocess, 7.7ms inference, 0.7ms postprocess per image at shape (1, 3, 640, 640)\n",
      "Results saved to \u001b[1mruns/detect/predict\u001b[0m\n",
      "\n",
      "image 1/1 /home/ubuntu/Desktop/DL_WorkSpace/WorkSpace/Input_Data_Container/CB_WS/GIS_WS/cropped_jpg/ortho_14_3.jpg: 640x640 1 cake, 7.4ms\n",
      "Speed: 1.8ms preprocess, 7.4ms inference, 1.5ms postprocess per image at shape (1, 3, 640, 640)\n",
      "Results saved to \u001b[1mruns/detect/predict\u001b[0m\n",
      "\n",
      "image 1/1 /home/ubuntu/Desktop/DL_WorkSpace/WorkSpace/Input_Data_Container/CB_WS/GIS_WS/cropped_jpg/ortho_23_19.jpg: 640x640 (no detections), 7.3ms\n",
      "Speed: 1.8ms preprocess, 7.3ms inference, 1.0ms postprocess per image at shape (1, 3, 640, 640)\n",
      "Results saved to \u001b[1mruns/detect/predict\u001b[0m\n"
     ]
    },
    {
     "name": "stderr",
     "output_type": "stream",
     "text": [
      " 29%|███████████▊                             | 186/648 [00:05<00:15, 30.06it/s]"
     ]
    },
    {
     "name": "stdout",
     "output_type": "stream",
     "text": [
      "\n",
      "image 1/1 /home/ubuntu/Desktop/DL_WorkSpace/WorkSpace/Input_Data_Container/CB_WS/GIS_WS/cropped_jpg/ortho_26_21.jpg: 640x640 (no detections), 5.4ms\n",
      "Speed: 1.5ms preprocess, 5.4ms inference, 0.5ms postprocess per image at shape (1, 3, 640, 640)\n",
      "Results saved to \u001b[1mruns/detect/predict\u001b[0m\n",
      "\n",
      "image 1/1 /home/ubuntu/Desktop/DL_WorkSpace/WorkSpace/Input_Data_Container/CB_WS/GIS_WS/cropped_jpg/ortho_17_0.jpg: 640x640 (no detections), 5.2ms\n",
      "Speed: 1.5ms preprocess, 5.2ms inference, 0.5ms postprocess per image at shape (1, 3, 640, 640)\n",
      "Results saved to \u001b[1mruns/detect/predict\u001b[0m\n",
      "\n",
      "image 1/1 /home/ubuntu/Desktop/DL_WorkSpace/WorkSpace/Input_Data_Container/CB_WS/GIS_WS/cropped_jpg/ortho_13_16.jpg: 640x640 (no detections), 5.3ms\n",
      "Speed: 1.5ms preprocess, 5.3ms inference, 0.6ms postprocess per image at shape (1, 3, 640, 640)\n",
      "Results saved to \u001b[1mruns/detect/predict\u001b[0m\n",
      "\n",
      "image 1/1 /home/ubuntu/Desktop/DL_WorkSpace/WorkSpace/Input_Data_Container/CB_WS/GIS_WS/cropped_jpg/ortho_17_16.jpg: 640x640 1 cake, 6.1ms\n",
      "Speed: 1.5ms preprocess, 6.1ms inference, 1.3ms postprocess per image at shape (1, 3, 640, 640)\n",
      "Results saved to \u001b[1mruns/detect/predict\u001b[0m\n",
      "\n",
      "image 1/1 /home/ubuntu/Desktop/DL_WorkSpace/WorkSpace/Input_Data_Container/CB_WS/GIS_WS/cropped_jpg/ortho_24_23.jpg: 640x640 (no detections), 5.3ms\n",
      "Speed: 1.5ms preprocess, 5.3ms inference, 0.5ms postprocess per image at shape (1, 3, 640, 640)\n",
      "Results saved to \u001b[1mruns/detect/predict\u001b[0m\n"
     ]
    },
    {
     "name": "stderr",
     "output_type": "stream",
     "text": [
      " 29%|████████████                             | 191/648 [00:05<00:13, 33.70it/s]"
     ]
    },
    {
     "name": "stdout",
     "output_type": "stream",
     "text": [
      "\n",
      "image 1/1 /home/ubuntu/Desktop/DL_WorkSpace/WorkSpace/Input_Data_Container/CB_WS/GIS_WS/cropped_jpg/ortho_6_6.jpg: 640x640 1 cake, 5.1ms\n",
      "Speed: 1.5ms preprocess, 5.1ms inference, 1.1ms postprocess per image at shape (1, 3, 640, 640)\n",
      "Results saved to \u001b[1mruns/detect/predict\u001b[0m\n",
      "\n",
      "image 1/1 /home/ubuntu/Desktop/DL_WorkSpace/WorkSpace/Input_Data_Container/CB_WS/GIS_WS/cropped_jpg/ortho_0_20.jpg: 640x640 1 person, 8.6ms\n",
      "Speed: 1.6ms preprocess, 8.6ms inference, 1.4ms postprocess per image at shape (1, 3, 640, 640)\n",
      "Results saved to \u001b[1mruns/detect/predict\u001b[0m\n",
      "\n",
      "image 1/1 /home/ubuntu/Desktop/DL_WorkSpace/WorkSpace/Input_Data_Container/CB_WS/GIS_WS/cropped_jpg/ortho_22_7.jpg: 640x640 1 bowl, 2 broccolis, 7.0ms\n",
      "Speed: 1.8ms preprocess, 7.0ms inference, 1.4ms postprocess per image at shape (1, 3, 640, 640)\n",
      "Results saved to \u001b[1mruns/detect/predict\u001b[0m\n",
      "\n",
      "image 1/1 /home/ubuntu/Desktop/DL_WorkSpace/WorkSpace/Input_Data_Container/CB_WS/GIS_WS/cropped_jpg/ortho_5_10.jpg: 640x640 (no detections), 5.1ms\n",
      "Speed: 1.6ms preprocess, 5.1ms inference, 0.5ms postprocess per image at shape (1, 3, 640, 640)\n",
      "Results saved to \u001b[1mruns/detect/predict\u001b[0m\n"
     ]
    },
    {
     "name": "stderr",
     "output_type": "stream",
     "text": [
      " 30%|████████████▎                            | 195/648 [00:05<00:13, 34.06it/s]"
     ]
    },
    {
     "name": "stdout",
     "output_type": "stream",
     "text": [
      "\n",
      "image 1/1 /home/ubuntu/Desktop/DL_WorkSpace/WorkSpace/Input_Data_Container/CB_WS/GIS_WS/cropped_jpg/ortho_1_20.jpg: 640x640 1 person, 5.5ms\n",
      "Speed: 1.5ms preprocess, 5.5ms inference, 1.2ms postprocess per image at shape (1, 3, 640, 640)\n",
      "Results saved to \u001b[1mruns/detect/predict\u001b[0m\n",
      "\n",
      "image 1/1 /home/ubuntu/Desktop/DL_WorkSpace/WorkSpace/Input_Data_Container/CB_WS/GIS_WS/cropped_jpg/ortho_2_6.jpg: 640x640 1 donut, 5.4ms\n",
      "Speed: 1.4ms preprocess, 5.4ms inference, 1.1ms postprocess per image at shape (1, 3, 640, 640)\n",
      "Results saved to \u001b[1mruns/detect/predict\u001b[0m\n",
      "\n",
      "image 1/1 /home/ubuntu/Desktop/DL_WorkSpace/WorkSpace/Input_Data_Container/CB_WS/GIS_WS/cropped_jpg/ortho_1_21.jpg: 640x640 1 broccoli, 1 cell phone, 5.4ms\n",
      "Speed: 1.4ms preprocess, 5.4ms inference, 1.0ms postprocess per image at shape (1, 3, 640, 640)\n",
      "Results saved to \u001b[1mruns/detect/predict\u001b[0m\n",
      "\n",
      "image 1/1 /home/ubuntu/Desktop/DL_WorkSpace/WorkSpace/Input_Data_Container/CB_WS/GIS_WS/cropped_jpg/ortho_15_18.jpg: 640x640 (no detections), 5.6ms\n",
      "Speed: 1.5ms preprocess, 5.6ms inference, 0.5ms postprocess per image at shape (1, 3, 640, 640)\n",
      "Results saved to \u001b[1mruns/detect/predict\u001b[0m\n",
      "\n",
      "image 1/1 /home/ubuntu/Desktop/DL_WorkSpace/WorkSpace/Input_Data_Container/CB_WS/GIS_WS/cropped_jpg/ortho_14_17.jpg: 640x640 (no detections), 6.9ms\n",
      "Speed: 1.6ms preprocess, 6.9ms inference, 0.5ms postprocess per image at shape (1, 3, 640, 640)\n",
      "Results saved to \u001b[1mruns/detect/predict\u001b[0m\n"
     ]
    },
    {
     "name": "stderr",
     "output_type": "stream",
     "text": [
      " 31%|████████████▋                            | 200/648 [00:06<00:12, 36.20it/s]"
     ]
    },
    {
     "name": "stdout",
     "output_type": "stream",
     "text": [
      "\n",
      "image 1/1 /home/ubuntu/Desktop/DL_WorkSpace/WorkSpace/Input_Data_Container/CB_WS/GIS_WS/cropped_jpg/ortho_5_19.jpg: 640x640 2 broccolis, 2 potted plants, 7.4ms\n",
      "Speed: 1.7ms preprocess, 7.4ms inference, 1.3ms postprocess per image at shape (1, 3, 640, 640)\n",
      "Results saved to \u001b[1mruns/detect/predict\u001b[0m\n",
      "\n",
      "image 1/1 /home/ubuntu/Desktop/DL_WorkSpace/WorkSpace/Input_Data_Container/CB_WS/GIS_WS/cropped_jpg/ortho_21_16.jpg: 640x640 1 person, 1 elephant, 5.1ms\n",
      "Speed: 1.5ms preprocess, 5.1ms inference, 1.0ms postprocess per image at shape (1, 3, 640, 640)\n",
      "Results saved to \u001b[1mruns/detect/predict\u001b[0m\n",
      "\n",
      "image 1/1 /home/ubuntu/Desktop/DL_WorkSpace/WorkSpace/Input_Data_Container/CB_WS/GIS_WS/cropped_jpg/ortho_3_20.jpg: 640x640 1 person, 6.9ms\n",
      "Speed: 1.7ms preprocess, 6.9ms inference, 1.3ms postprocess per image at shape (1, 3, 640, 640)\n",
      "Results saved to \u001b[1mruns/detect/predict\u001b[0m\n",
      "\n",
      "image 1/1 /home/ubuntu/Desktop/DL_WorkSpace/WorkSpace/Input_Data_Container/CB_WS/GIS_WS/cropped_jpg/ortho_0_5.jpg: 640x640 (no detections), 7.2ms\n",
      "Speed: 1.7ms preprocess, 7.2ms inference, 0.7ms postprocess per image at shape (1, 3, 640, 640)\n",
      "Results saved to \u001b[1mruns/detect/predict\u001b[0m\n"
     ]
    },
    {
     "name": "stderr",
     "output_type": "stream",
     "text": [
      " 31%|████████████▉                            | 204/648 [00:06<00:12, 35.63it/s]"
     ]
    },
    {
     "name": "stdout",
     "output_type": "stream",
     "text": [
      "\n",
      "image 1/1 /home/ubuntu/Desktop/DL_WorkSpace/WorkSpace/Input_Data_Container/CB_WS/GIS_WS/cropped_jpg/ortho_26_7.jpg: 640x640 1 broccoli, 7.0ms\n",
      "Speed: 1.9ms preprocess, 7.0ms inference, 1.4ms postprocess per image at shape (1, 3, 640, 640)\n",
      "Results saved to \u001b[1mruns/detect/predict\u001b[0m\n",
      "\n",
      "image 1/1 /home/ubuntu/Desktop/DL_WorkSpace/WorkSpace/Input_Data_Container/CB_WS/GIS_WS/cropped_jpg/ortho_18_16.jpg: 640x640 1 carrot, 5.5ms\n",
      "Speed: 1.7ms preprocess, 5.5ms inference, 1.2ms postprocess per image at shape (1, 3, 640, 640)\n",
      "Results saved to \u001b[1mruns/detect/predict\u001b[0m\n",
      "\n",
      "image 1/1 /home/ubuntu/Desktop/DL_WorkSpace/WorkSpace/Input_Data_Container/CB_WS/GIS_WS/cropped_jpg/ortho_4_19.jpg: 640x640 1 person, 5.3ms\n",
      "Speed: 1.8ms preprocess, 5.3ms inference, 1.0ms postprocess per image at shape (1, 3, 640, 640)\n",
      "Results saved to \u001b[1mruns/detect/predict\u001b[0m\n",
      "\n",
      "image 1/1 /home/ubuntu/Desktop/DL_WorkSpace/WorkSpace/Input_Data_Container/CB_WS/GIS_WS/cropped_jpg/ortho_25_23.jpg: 640x640 (no detections), 5.4ms\n",
      "Speed: 1.5ms preprocess, 5.4ms inference, 0.5ms postprocess per image at shape (1, 3, 640, 640)\n",
      "Results saved to \u001b[1mruns/detect/predict\u001b[0m\n"
     ]
    },
    {
     "name": "stderr",
     "output_type": "stream",
     "text": [
      " 32%|█████████████▏                           | 208/648 [00:06<00:12, 35.58it/s]"
     ]
    },
    {
     "name": "stdout",
     "output_type": "stream",
     "text": [
      "\n",
      "image 1/1 /home/ubuntu/Desktop/DL_WorkSpace/WorkSpace/Input_Data_Container/CB_WS/GIS_WS/cropped_jpg/ortho_12_16.jpg: 640x640 (no detections), 5.3ms\n",
      "Speed: 1.5ms preprocess, 5.3ms inference, 0.5ms postprocess per image at shape (1, 3, 640, 640)\n",
      "Results saved to \u001b[1mruns/detect/predict\u001b[0m\n",
      "\n",
      "image 1/1 /home/ubuntu/Desktop/DL_WorkSpace/WorkSpace/Input_Data_Container/CB_WS/GIS_WS/cropped_jpg/ortho_25_11.jpg: 640x640 (no detections), 5.5ms\n",
      "Speed: 1.5ms preprocess, 5.5ms inference, 0.5ms postprocess per image at shape (1, 3, 640, 640)\n",
      "Results saved to \u001b[1mruns/detect/predict\u001b[0m\n",
      "\n",
      "image 1/1 /home/ubuntu/Desktop/DL_WorkSpace/WorkSpace/Input_Data_Container/CB_WS/GIS_WS/cropped_jpg/ortho_4_22.jpg: 640x640 1 suitcase, 5 broccolis, 1 dining table, 1 book, 5.7ms\n",
      "Speed: 1.7ms preprocess, 5.7ms inference, 1.3ms postprocess per image at shape (1, 3, 640, 640)\n",
      "Results saved to \u001b[1mruns/detect/predict\u001b[0m\n",
      "\n",
      "image 1/1 /home/ubuntu/Desktop/DL_WorkSpace/WorkSpace/Input_Data_Container/CB_WS/GIS_WS/cropped_jpg/ortho_2_3.jpg: 640x640 (no detections), 5.6ms\n",
      "Speed: 1.4ms preprocess, 5.6ms inference, 0.5ms postprocess per image at shape (1, 3, 640, 640)\n",
      "Results saved to \u001b[1mruns/detect/predict\u001b[0m\n",
      "\n",
      "image 1/1 /home/ubuntu/Desktop/DL_WorkSpace/WorkSpace/Input_Data_Container/CB_WS/GIS_WS/cropped_jpg/ortho_19_19.jpg: 640x640 (no detections), 5.3ms\n",
      "Speed: 1.5ms preprocess, 5.3ms inference, 0.5ms postprocess per image at shape (1, 3, 640, 640)\n",
      "Results saved to \u001b[1mruns/detect/predict\u001b[0m\n"
     ]
    },
    {
     "name": "stderr",
     "output_type": "stream",
     "text": [
      " 33%|█████████████▍                           | 213/648 [00:06<00:11, 37.38it/s]"
     ]
    },
    {
     "name": "stdout",
     "output_type": "stream",
     "text": [
      "\n",
      "image 1/1 /home/ubuntu/Desktop/DL_WorkSpace/WorkSpace/Input_Data_Container/CB_WS/GIS_WS/cropped_jpg/ortho_5_20.jpg: 640x640 8 broccolis, 5.0ms\n",
      "Speed: 1.4ms preprocess, 5.0ms inference, 1.0ms postprocess per image at shape (1, 3, 640, 640)\n",
      "Results saved to \u001b[1mruns/detect/predict\u001b[0m\n",
      "\n",
      "image 1/1 /home/ubuntu/Desktop/DL_WorkSpace/WorkSpace/Input_Data_Container/CB_WS/GIS_WS/cropped_jpg/ortho_9_22.jpg: 640x640 1 broccoli, 1 carrot, 1 cake, 5.5ms\n",
      "Speed: 1.5ms preprocess, 5.5ms inference, 1.1ms postprocess per image at shape (1, 3, 640, 640)\n",
      "Results saved to \u001b[1mruns/detect/predict\u001b[0m\n",
      "\n",
      "image 1/1 /home/ubuntu/Desktop/DL_WorkSpace/WorkSpace/Input_Data_Container/CB_WS/GIS_WS/cropped_jpg/ortho_9_13.jpg: 640x640 (no detections), 5.3ms\n",
      "Speed: 1.5ms preprocess, 5.3ms inference, 0.5ms postprocess per image at shape (1, 3, 640, 640)\n",
      "Results saved to \u001b[1mruns/detect/predict\u001b[0m\n",
      "\n",
      "image 1/1 /home/ubuntu/Desktop/DL_WorkSpace/WorkSpace/Input_Data_Container/CB_WS/GIS_WS/cropped_jpg/ortho_24_13.jpg: 640x640 5 broccolis, 5.3ms\n",
      "Speed: 1.5ms preprocess, 5.3ms inference, 1.3ms postprocess per image at shape (1, 3, 640, 640)\n",
      "Results saved to \u001b[1mruns/detect/predict\u001b[0m\n",
      "\n",
      "image 1/1 /home/ubuntu/Desktop/DL_WorkSpace/WorkSpace/Input_Data_Container/CB_WS/GIS_WS/cropped_jpg/ortho_6_19.jpg: 640x640 3 broccolis, 7.3ms\n",
      "Speed: 1.7ms preprocess, 7.3ms inference, 1.1ms postprocess per image at shape (1, 3, 640, 640)\n",
      "Results saved to \u001b[1mruns/detect/predict\u001b[0m\n"
     ]
    },
    {
     "name": "stderr",
     "output_type": "stream",
     "text": [
      " 34%|█████████████▊                           | 218/648 [00:06<00:11, 38.03it/s]"
     ]
    },
    {
     "name": "stdout",
     "output_type": "stream",
     "text": [
      "\n",
      "image 1/1 /home/ubuntu/Desktop/DL_WorkSpace/WorkSpace/Input_Data_Container/CB_WS/GIS_WS/cropped_jpg/ortho_17_11.jpg: 640x640 1 bowl, 1 pizza, 1 donut, 7.5ms\n",
      "Speed: 1.7ms preprocess, 7.5ms inference, 1.1ms postprocess per image at shape (1, 3, 640, 640)\n",
      "Results saved to \u001b[1mruns/detect/predict\u001b[0m\n",
      "\n",
      "image 1/1 /home/ubuntu/Desktop/DL_WorkSpace/WorkSpace/Input_Data_Container/CB_WS/GIS_WS/cropped_jpg/ortho_18_5.jpg: 640x640 1 carrot, 1 cake, 7.1ms\n",
      "Speed: 1.7ms preprocess, 7.1ms inference, 1.0ms postprocess per image at shape (1, 3, 640, 640)\n",
      "Results saved to \u001b[1mruns/detect/predict\u001b[0m\n",
      "\n",
      "image 1/1 /home/ubuntu/Desktop/DL_WorkSpace/WorkSpace/Input_Data_Container/CB_WS/GIS_WS/cropped_jpg/ortho_16_6.jpg: 640x640 1 cake, 1 dining table, 7.2ms\n",
      "Speed: 1.7ms preprocess, 7.2ms inference, 1.1ms postprocess per image at shape (1, 3, 640, 640)\n",
      "Results saved to \u001b[1mruns/detect/predict\u001b[0m\n",
      "\n",
      "image 1/1 /home/ubuntu/Desktop/DL_WorkSpace/WorkSpace/Input_Data_Container/CB_WS/GIS_WS/cropped_jpg/ortho_0_14.jpg: 640x640 1 bench, 1 broccoli, 7.3ms\n",
      "Speed: 1.6ms preprocess, 7.3ms inference, 1.0ms postprocess per image at shape (1, 3, 640, 640)\n",
      "Results saved to \u001b[1mruns/detect/predict\u001b[0m\n"
     ]
    },
    {
     "name": "stderr",
     "output_type": "stream",
     "text": [
      " 34%|██████████████                           | 222/648 [00:06<00:11, 37.35it/s]"
     ]
    },
    {
     "name": "stdout",
     "output_type": "stream",
     "text": [
      "\n",
      "image 1/1 /home/ubuntu/Desktop/DL_WorkSpace/WorkSpace/Input_Data_Container/CB_WS/GIS_WS/cropped_jpg/ortho_9_14.jpg: 640x640 (no detections), 7.0ms\n",
      "Speed: 1.7ms preprocess, 7.0ms inference, 0.5ms postprocess per image at shape (1, 3, 640, 640)\n",
      "Results saved to \u001b[1mruns/detect/predict\u001b[0m\n",
      "\n",
      "image 1/1 /home/ubuntu/Desktop/DL_WorkSpace/WorkSpace/Input_Data_Container/CB_WS/GIS_WS/cropped_jpg/ortho_6_20.jpg: 640x640 1 bowl, 3 broccolis, 1 cake, 5.2ms\n",
      "Speed: 1.5ms preprocess, 5.2ms inference, 1.0ms postprocess per image at shape (1, 3, 640, 640)\n",
      "Results saved to \u001b[1mruns/detect/predict\u001b[0m\n",
      "\n",
      "image 1/1 /home/ubuntu/Desktop/DL_WorkSpace/WorkSpace/Input_Data_Container/CB_WS/GIS_WS/cropped_jpg/ortho_0_13.jpg: 640x640 (no detections), 5.3ms\n",
      "Speed: 1.5ms preprocess, 5.3ms inference, 0.6ms postprocess per image at shape (1, 3, 640, 640)\n",
      "Results saved to \u001b[1mruns/detect/predict\u001b[0m\n",
      "\n",
      "image 1/1 /home/ubuntu/Desktop/DL_WorkSpace/WorkSpace/Input_Data_Container/CB_WS/GIS_WS/cropped_jpg/ortho_3_9.jpg: 640x640 1 cake, 7.7ms\n",
      "Speed: 1.7ms preprocess, 7.7ms inference, 1.3ms postprocess per image at shape (1, 3, 640, 640)\n",
      "Results saved to \u001b[1mruns/detect/predict\u001b[0m\n"
     ]
    },
    {
     "name": "stderr",
     "output_type": "stream",
     "text": [
      " 35%|██████████████▎                          | 226/648 [00:06<00:11, 36.54it/s]"
     ]
    },
    {
     "name": "stdout",
     "output_type": "stream",
     "text": [
      "\n",
      "image 1/1 /home/ubuntu/Desktop/DL_WorkSpace/WorkSpace/Input_Data_Container/CB_WS/GIS_WS/cropped_jpg/ortho_4_16.jpg: 640x640 1 person, 1 bowl, 1 apple, 1 dining table, 6.9ms\n",
      "Speed: 1.8ms preprocess, 6.9ms inference, 1.3ms postprocess per image at shape (1, 3, 640, 640)\n",
      "Results saved to \u001b[1mruns/detect/predict\u001b[0m\n",
      "\n",
      "image 1/1 /home/ubuntu/Desktop/DL_WorkSpace/WorkSpace/Input_Data_Container/CB_WS/GIS_WS/cropped_jpg/ortho_2_13.jpg: 640x640 2 broccolis, 7.2ms\n",
      "Speed: 1.7ms preprocess, 7.2ms inference, 1.4ms postprocess per image at shape (1, 3, 640, 640)\n",
      "Results saved to \u001b[1mruns/detect/predict\u001b[0m\n",
      "\n",
      "image 1/1 /home/ubuntu/Desktop/DL_WorkSpace/WorkSpace/Input_Data_Container/CB_WS/GIS_WS/cropped_jpg/ortho_5_11.jpg: 640x640 1 fire hydrant, 1 cake, 5.3ms\n",
      "Speed: 1.5ms preprocess, 5.3ms inference, 1.1ms postprocess per image at shape (1, 3, 640, 640)\n",
      "Results saved to \u001b[1mruns/detect/predict\u001b[0m\n",
      "\n",
      "image 1/1 /home/ubuntu/Desktop/DL_WorkSpace/WorkSpace/Input_Data_Container/CB_WS/GIS_WS/cropped_jpg/ortho_6_9.jpg: 640x640 (no detections), 6.7ms\n",
      "Speed: 1.8ms preprocess, 6.7ms inference, 0.5ms postprocess per image at shape (1, 3, 640, 640)\n",
      "Results saved to \u001b[1mruns/detect/predict\u001b[0m\n"
     ]
    },
    {
     "name": "stderr",
     "output_type": "stream",
     "text": [
      " 35%|██████████████▌                          | 230/648 [00:06<00:11, 35.17it/s]"
     ]
    },
    {
     "name": "stdout",
     "output_type": "stream",
     "text": [
      "\n",
      "image 1/1 /home/ubuntu/Desktop/DL_WorkSpace/WorkSpace/Input_Data_Container/CB_WS/GIS_WS/cropped_jpg/ortho_19_3.jpg: 640x640 1 carrot, 1 cake, 7.2ms\n",
      "Speed: 1.8ms preprocess, 7.2ms inference, 1.1ms postprocess per image at shape (1, 3, 640, 640)\n",
      "Results saved to \u001b[1mruns/detect/predict\u001b[0m\n",
      "\n",
      "image 1/1 /home/ubuntu/Desktop/DL_WorkSpace/WorkSpace/Input_Data_Container/CB_WS/GIS_WS/cropped_jpg/ortho_15_7.jpg: 640x640 1 person, 2 broccolis, 5.7ms\n",
      "Speed: 1.5ms preprocess, 5.7ms inference, 1.1ms postprocess per image at shape (1, 3, 640, 640)\n",
      "Results saved to \u001b[1mruns/detect/predict\u001b[0m\n",
      "\n",
      "image 1/1 /home/ubuntu/Desktop/DL_WorkSpace/WorkSpace/Input_Data_Container/CB_WS/GIS_WS/cropped_jpg/ortho_9_7.jpg: 640x640 (no detections), 7.0ms\n",
      "Speed: 1.8ms preprocess, 7.0ms inference, 0.5ms postprocess per image at shape (1, 3, 640, 640)\n",
      "Results saved to \u001b[1mruns/detect/predict\u001b[0m\n",
      "\n",
      "image 1/1 /home/ubuntu/Desktop/DL_WorkSpace/WorkSpace/Input_Data_Container/CB_WS/GIS_WS/cropped_jpg/ortho_12_1.jpg: 640x640 1 broccoli, 5.3ms\n",
      "Speed: 1.5ms preprocess, 5.3ms inference, 1.1ms postprocess per image at shape (1, 3, 640, 640)\n",
      "Results saved to \u001b[1mruns/detect/predict\u001b[0m\n"
     ]
    },
    {
     "name": "stderr",
     "output_type": "stream",
     "text": [
      " 36%|██████████████▊                          | 234/648 [00:07<00:11, 35.84it/s]"
     ]
    },
    {
     "name": "stdout",
     "output_type": "stream",
     "text": [
      "\n",
      "image 1/1 /home/ubuntu/Desktop/DL_WorkSpace/WorkSpace/Input_Data_Container/CB_WS/GIS_WS/cropped_jpg/ortho_7_10.jpg: 640x640 1 person, 5.1ms\n",
      "Speed: 1.5ms preprocess, 5.1ms inference, 1.1ms postprocess per image at shape (1, 3, 640, 640)\n",
      "Results saved to \u001b[1mruns/detect/predict\u001b[0m\n",
      "\n",
      "image 1/1 /home/ubuntu/Desktop/DL_WorkSpace/WorkSpace/Input_Data_Container/CB_WS/GIS_WS/cropped_jpg/ortho_22_1.jpg: 640x640 1 potted plant, 7.4ms\n",
      "Speed: 1.4ms preprocess, 7.4ms inference, 1.6ms postprocess per image at shape (1, 3, 640, 640)\n",
      "Results saved to \u001b[1mruns/detect/predict\u001b[0m\n",
      "\n",
      "image 1/1 /home/ubuntu/Desktop/DL_WorkSpace/WorkSpace/Input_Data_Container/CB_WS/GIS_WS/cropped_jpg/ortho_17_2.jpg: 640x640 3 broccolis, 7.3ms\n",
      "Speed: 1.7ms preprocess, 7.3ms inference, 1.4ms postprocess per image at shape (1, 3, 640, 640)\n",
      "Results saved to \u001b[1mruns/detect/predict\u001b[0m\n",
      "\n",
      "image 1/1 /home/ubuntu/Desktop/DL_WorkSpace/WorkSpace/Input_Data_Container/CB_WS/GIS_WS/cropped_jpg/ortho_20_15.jpg: 640x640 (no detections), 7.4ms\n",
      "Speed: 1.7ms preprocess, 7.4ms inference, 0.7ms postprocess per image at shape (1, 3, 640, 640)\n",
      "Results saved to \u001b[1mruns/detect/predict\u001b[0m\n"
     ]
    },
    {
     "name": "stderr",
     "output_type": "stream",
     "text": [
      " 37%|███████████████                          | 238/648 [00:07<00:11, 35.76it/s]"
     ]
    },
    {
     "name": "stdout",
     "output_type": "stream",
     "text": [
      "\n",
      "image 1/1 /home/ubuntu/Desktop/DL_WorkSpace/WorkSpace/Input_Data_Container/CB_WS/GIS_WS/cropped_jpg/ortho_6_11.jpg: 640x640 1 fire hydrant, 9.2ms\n",
      "Speed: 2.0ms preprocess, 9.2ms inference, 1.6ms postprocess per image at shape (1, 3, 640, 640)\n",
      "Results saved to \u001b[1mruns/detect/predict\u001b[0m\n",
      "\n",
      "image 1/1 /home/ubuntu/Desktop/DL_WorkSpace/WorkSpace/Input_Data_Container/CB_WS/GIS_WS/cropped_jpg/ortho_5_4.jpg: 640x640 (no detections), 5.2ms\n",
      "Speed: 1.5ms preprocess, 5.2ms inference, 0.5ms postprocess per image at shape (1, 3, 640, 640)\n",
      "Results saved to \u001b[1mruns/detect/predict\u001b[0m\n",
      "\n",
      "image 1/1 /home/ubuntu/Desktop/DL_WorkSpace/WorkSpace/Input_Data_Container/CB_WS/GIS_WS/cropped_jpg/ortho_17_19.jpg: 640x640 (no detections), 5.8ms\n",
      "Speed: 1.5ms preprocess, 5.8ms inference, 0.6ms postprocess per image at shape (1, 3, 640, 640)\n",
      "Results saved to \u001b[1mruns/detect/predict\u001b[0m\n",
      "\n",
      "image 1/1 /home/ubuntu/Desktop/DL_WorkSpace/WorkSpace/Input_Data_Container/CB_WS/GIS_WS/cropped_jpg/ortho_7_5.jpg: 640x640 1 dining table, 6.0ms\n",
      "Speed: 1.5ms preprocess, 6.0ms inference, 1.0ms postprocess per image at shape (1, 3, 640, 640)\n",
      "Results saved to \u001b[1mruns/detect/predict\u001b[0m\n"
     ]
    },
    {
     "name": "stderr",
     "output_type": "stream",
     "text": [
      " 37%|███████████████▎                         | 242/648 [00:07<00:11, 34.70it/s]"
     ]
    },
    {
     "name": "stdout",
     "output_type": "stream",
     "text": [
      "\n",
      "image 1/1 /home/ubuntu/Desktop/DL_WorkSpace/WorkSpace/Input_Data_Container/CB_WS/GIS_WS/cropped_jpg/ortho_1_1.jpg: 640x640 (no detections), 9.1ms\n",
      "Speed: 1.9ms preprocess, 9.1ms inference, 0.8ms postprocess per image at shape (1, 3, 640, 640)\n",
      "Results saved to \u001b[1mruns/detect/predict\u001b[0m\n",
      "\n",
      "image 1/1 /home/ubuntu/Desktop/DL_WorkSpace/WorkSpace/Input_Data_Container/CB_WS/GIS_WS/cropped_jpg/ortho_24_15.jpg: 640x640 1 broccoli, 7.0ms\n",
      "Speed: 1.9ms preprocess, 7.0ms inference, 1.4ms postprocess per image at shape (1, 3, 640, 640)\n",
      "Results saved to \u001b[1mruns/detect/predict\u001b[0m\n",
      "\n",
      "image 1/1 /home/ubuntu/Desktop/DL_WorkSpace/WorkSpace/Input_Data_Container/CB_WS/GIS_WS/cropped_jpg/ortho_8_7.jpg: 640x640 1 person, 8.9ms\n",
      "Speed: 1.9ms preprocess, 8.9ms inference, 1.7ms postprocess per image at shape (1, 3, 640, 640)\n",
      "Results saved to \u001b[1mruns/detect/predict\u001b[0m\n",
      "\n",
      "image 1/1 /home/ubuntu/Desktop/DL_WorkSpace/WorkSpace/Input_Data_Container/CB_WS/GIS_WS/cropped_jpg/ortho_15_0.jpg: 640x640 (no detections), 9.1ms\n",
      "Speed: 1.9ms preprocess, 9.1ms inference, 0.8ms postprocess per image at shape (1, 3, 640, 640)\n",
      "Results saved to \u001b[1mruns/detect/predict\u001b[0m\n"
     ]
    },
    {
     "name": "stderr",
     "output_type": "stream",
     "text": [
      " 38%|███████████████▌                         | 246/648 [00:07<00:11, 33.59it/s]"
     ]
    },
    {
     "name": "stdout",
     "output_type": "stream",
     "text": [
      "\n",
      "image 1/1 /home/ubuntu/Desktop/DL_WorkSpace/WorkSpace/Input_Data_Container/CB_WS/GIS_WS/cropped_jpg/ortho_7_2.jpg: 640x640 1 person, 1 carrot, 1 donut, 9.0ms\n",
      "Speed: 1.9ms preprocess, 9.0ms inference, 1.6ms postprocess per image at shape (1, 3, 640, 640)\n",
      "Results saved to \u001b[1mruns/detect/predict\u001b[0m\n",
      "\n",
      "image 1/1 /home/ubuntu/Desktop/DL_WorkSpace/WorkSpace/Input_Data_Container/CB_WS/GIS_WS/cropped_jpg/ortho_18_22.jpg: 640x640 1 person, 6.6ms\n",
      "Speed: 1.5ms preprocess, 6.6ms inference, 1.4ms postprocess per image at shape (1, 3, 640, 640)\n",
      "Results saved to \u001b[1mruns/detect/predict\u001b[0m\n",
      "\n",
      "image 1/1 /home/ubuntu/Desktop/DL_WorkSpace/WorkSpace/Input_Data_Container/CB_WS/GIS_WS/cropped_jpg/ortho_0_8.jpg: 640x640 (no detections), 12.9ms\n",
      "Speed: 1.8ms preprocess, 12.9ms inference, 0.7ms postprocess per image at shape (1, 3, 640, 640)\n",
      "Results saved to \u001b[1mruns/detect/predict\u001b[0m\n",
      "\n",
      "image 1/1 /home/ubuntu/Desktop/DL_WorkSpace/WorkSpace/Input_Data_Container/CB_WS/GIS_WS/cropped_jpg/ortho_23_0.jpg: 640x640 (no detections), 5.2ms\n",
      "Speed: 1.7ms preprocess, 5.2ms inference, 0.6ms postprocess per image at shape (1, 3, 640, 640)\n",
      "Results saved to \u001b[1mruns/detect/predict\u001b[0m\n"
     ]
    },
    {
     "name": "stderr",
     "output_type": "stream",
     "text": [
      " 39%|███████████████▊                         | 250/648 [00:07<00:13, 30.40it/s]"
     ]
    },
    {
     "name": "stdout",
     "output_type": "stream",
     "text": [
      "\n",
      "image 1/1 /home/ubuntu/Desktop/DL_WorkSpace/WorkSpace/Input_Data_Container/CB_WS/GIS_WS/cropped_jpg/ortho_26_20.jpg: 640x640 (no detections), 5.4ms\n",
      "Speed: 1.9ms preprocess, 5.4ms inference, 0.5ms postprocess per image at shape (1, 3, 640, 640)\n",
      "Results saved to \u001b[1mruns/detect/predict\u001b[0m\n",
      "\n",
      "image 1/1 /home/ubuntu/Desktop/DL_WorkSpace/WorkSpace/Input_Data_Container/CB_WS/GIS_WS/cropped_jpg/ortho_2_9.jpg: 640x640 2 broccolis, 1 potted plant, 5.1ms\n",
      "Speed: 1.8ms preprocess, 5.1ms inference, 1.1ms postprocess per image at shape (1, 3, 640, 640)\n",
      "Results saved to \u001b[1mruns/detect/predict\u001b[0m\n",
      "\n",
      "image 1/1 /home/ubuntu/Desktop/DL_WorkSpace/WorkSpace/Input_Data_Container/CB_WS/GIS_WS/cropped_jpg/ortho_4_10.jpg: 640x640 (no detections), 5.2ms\n",
      "Speed: 1.5ms preprocess, 5.2ms inference, 0.5ms postprocess per image at shape (1, 3, 640, 640)\n",
      "Results saved to \u001b[1mruns/detect/predict\u001b[0m\n",
      "\n",
      "image 1/1 /home/ubuntu/Desktop/DL_WorkSpace/WorkSpace/Input_Data_Container/CB_WS/GIS_WS/cropped_jpg/ortho_15_9.jpg: 640x640 1 person, 1 broccoli, 5.4ms\n",
      "Speed: 1.6ms preprocess, 5.4ms inference, 1.2ms postprocess per image at shape (1, 3, 640, 640)\n",
      "Results saved to \u001b[1mruns/detect/predict\u001b[0m\n",
      "\n",
      "image 1/1 /home/ubuntu/Desktop/DL_WorkSpace/WorkSpace/Input_Data_Container/CB_WS/GIS_WS/cropped_jpg/ortho_23_2.jpg: 640x640 1 person, 3 broccolis, 5.3ms\n",
      "Speed: 1.5ms preprocess, 5.3ms inference, 1.0ms postprocess per image at shape (1, 3, 640, 640)\n",
      "Results saved to \u001b[1mruns/detect/predict\u001b[0m\n"
     ]
    },
    {
     "name": "stderr",
     "output_type": "stream",
     "text": [
      " 39%|████████████████▏                        | 255/648 [00:07<00:11, 33.46it/s]"
     ]
    },
    {
     "name": "stdout",
     "output_type": "stream",
     "text": [
      "\n",
      "image 1/1 /home/ubuntu/Desktop/DL_WorkSpace/WorkSpace/Input_Data_Container/CB_WS/GIS_WS/cropped_jpg/ortho_23_1.jpg: 640x640 3 broccolis, 5.5ms\n",
      "Speed: 1.5ms preprocess, 5.5ms inference, 1.0ms postprocess per image at shape (1, 3, 640, 640)\n",
      "Results saved to \u001b[1mruns/detect/predict\u001b[0m\n",
      "\n",
      "image 1/1 /home/ubuntu/Desktop/DL_WorkSpace/WorkSpace/Input_Data_Container/CB_WS/GIS_WS/cropped_jpg/ortho_9_11.jpg: 640x640 1 pizza, 1 cake, 5.4ms\n",
      "Speed: 1.5ms preprocess, 5.4ms inference, 1.1ms postprocess per image at shape (1, 3, 640, 640)\n",
      "Results saved to \u001b[1mruns/detect/predict\u001b[0m\n",
      "\n",
      "image 1/1 /home/ubuntu/Desktop/DL_WorkSpace/WorkSpace/Input_Data_Container/CB_WS/GIS_WS/cropped_jpg/ortho_22_21.jpg: 640x640 (no detections), 5.8ms\n",
      "Speed: 1.4ms preprocess, 5.8ms inference, 0.5ms postprocess per image at shape (1, 3, 640, 640)\n",
      "Results saved to \u001b[1mruns/detect/predict\u001b[0m\n",
      "\n",
      "image 1/1 /home/ubuntu/Desktop/DL_WorkSpace/WorkSpace/Input_Data_Container/CB_WS/GIS_WS/cropped_jpg/ortho_12_12.jpg: 640x640 (no detections), 5.4ms\n",
      "Speed: 1.4ms preprocess, 5.4ms inference, 0.5ms postprocess per image at shape (1, 3, 640, 640)\n",
      "Results saved to \u001b[1mruns/detect/predict\u001b[0m\n",
      "\n",
      "image 1/1 /home/ubuntu/Desktop/DL_WorkSpace/WorkSpace/Input_Data_Container/CB_WS/GIS_WS/cropped_jpg/ortho_16_19.jpg: 640x640 1 person, 1 donut, 7.5ms\n",
      "Speed: 1.7ms preprocess, 7.5ms inference, 1.4ms postprocess per image at shape (1, 3, 640, 640)\n",
      "Results saved to \u001b[1mruns/detect/predict\u001b[0m\n"
     ]
    },
    {
     "name": "stderr",
     "output_type": "stream",
     "text": [
      " 40%|████████████████▍                        | 260/648 [00:07<00:10, 35.91it/s]"
     ]
    },
    {
     "name": "stdout",
     "output_type": "stream",
     "text": [
      "\n",
      "image 1/1 /home/ubuntu/Desktop/DL_WorkSpace/WorkSpace/Input_Data_Container/CB_WS/GIS_WS/cropped_jpg/ortho_15_19.jpg: 640x640 1 cake, 6.8ms\n",
      "Speed: 1.8ms preprocess, 6.8ms inference, 1.0ms postprocess per image at shape (1, 3, 640, 640)\n",
      "Results saved to \u001b[1mruns/detect/predict\u001b[0m\n",
      "\n",
      "image 1/1 /home/ubuntu/Desktop/DL_WorkSpace/WorkSpace/Input_Data_Container/CB_WS/GIS_WS/cropped_jpg/ortho_25_9.jpg: 640x640 3 broccolis, 1 pizza, 5.5ms\n",
      "Speed: 1.4ms preprocess, 5.5ms inference, 1.2ms postprocess per image at shape (1, 3, 640, 640)\n",
      "Results saved to \u001b[1mruns/detect/predict\u001b[0m\n",
      "\n",
      "image 1/1 /home/ubuntu/Desktop/DL_WorkSpace/WorkSpace/Input_Data_Container/CB_WS/GIS_WS/cropped_jpg/ortho_20_2.jpg: 640x640 4 broccolis, 1 carrot, 5.0ms\n",
      "Speed: 1.4ms preprocess, 5.0ms inference, 1.0ms postprocess per image at shape (1, 3, 640, 640)\n",
      "Results saved to \u001b[1mruns/detect/predict\u001b[0m\n",
      "\n",
      "image 1/1 /home/ubuntu/Desktop/DL_WorkSpace/WorkSpace/Input_Data_Container/CB_WS/GIS_WS/cropped_jpg/ortho_3_7.jpg: 640x640 1 potted plant, 5.5ms\n",
      "Speed: 1.5ms preprocess, 5.5ms inference, 1.2ms postprocess per image at shape (1, 3, 640, 640)\n",
      "Results saved to \u001b[1mruns/detect/predict\u001b[0m\n"
     ]
    },
    {
     "name": "stderr",
     "output_type": "stream",
     "text": [
      " 41%|████████████████▋                        | 264/648 [00:07<00:10, 36.36it/s]"
     ]
    },
    {
     "name": "stdout",
     "output_type": "stream",
     "text": [
      "\n",
      "image 1/1 /home/ubuntu/Desktop/DL_WorkSpace/WorkSpace/Input_Data_Container/CB_WS/GIS_WS/cropped_jpg/ortho_14_10.jpg: 640x640 1 broccoli, 5.1ms\n",
      "Speed: 1.5ms preprocess, 5.1ms inference, 1.0ms postprocess per image at shape (1, 3, 640, 640)\n",
      "Results saved to \u001b[1mruns/detect/predict\u001b[0m\n",
      "\n",
      "image 1/1 /home/ubuntu/Desktop/DL_WorkSpace/WorkSpace/Input_Data_Container/CB_WS/GIS_WS/cropped_jpg/ortho_1_14.jpg: 640x640 1 broccoli, 5.7ms\n",
      "Speed: 1.4ms preprocess, 5.7ms inference, 1.1ms postprocess per image at shape (1, 3, 640, 640)\n",
      "Results saved to \u001b[1mruns/detect/predict\u001b[0m\n",
      "\n",
      "image 1/1 /home/ubuntu/Desktop/DL_WorkSpace/WorkSpace/Input_Data_Container/CB_WS/GIS_WS/cropped_jpg/ortho_16_11.jpg: 640x640 1 person, 1 tie, 5.1ms\n",
      "Speed: 1.4ms preprocess, 5.1ms inference, 1.0ms postprocess per image at shape (1, 3, 640, 640)\n",
      "Results saved to \u001b[1mruns/detect/predict\u001b[0m\n",
      "\n",
      "image 1/1 /home/ubuntu/Desktop/DL_WorkSpace/WorkSpace/Input_Data_Container/CB_WS/GIS_WS/cropped_jpg/ortho_9_3.jpg: 640x640 1 broccoli, 1 dining table, 7.3ms\n",
      "Speed: 1.8ms preprocess, 7.3ms inference, 1.4ms postprocess per image at shape (1, 3, 640, 640)\n",
      "Results saved to \u001b[1mruns/detect/predict\u001b[0m\n"
     ]
    },
    {
     "name": "stderr",
     "output_type": "stream",
     "text": [
      " 41%|████████████████▉                        | 268/648 [00:07<00:10, 36.46it/s]"
     ]
    },
    {
     "name": "stdout",
     "output_type": "stream",
     "text": [
      "\n",
      "image 1/1 /home/ubuntu/Desktop/DL_WorkSpace/WorkSpace/Input_Data_Container/CB_WS/GIS_WS/cropped_jpg/ortho_15_5.jpg: 640x640 1 person, 7.7ms\n",
      "Speed: 1.7ms preprocess, 7.7ms inference, 1.4ms postprocess per image at shape (1, 3, 640, 640)\n",
      "Results saved to \u001b[1mruns/detect/predict\u001b[0m\n",
      "\n",
      "image 1/1 /home/ubuntu/Desktop/DL_WorkSpace/WorkSpace/Input_Data_Container/CB_WS/GIS_WS/cropped_jpg/ortho_6_22.jpg: 640x640 7 broccolis, 7.3ms\n",
      "Speed: 1.8ms preprocess, 7.3ms inference, 1.4ms postprocess per image at shape (1, 3, 640, 640)\n",
      "Results saved to \u001b[1mruns/detect/predict\u001b[0m\n",
      "\n",
      "image 1/1 /home/ubuntu/Desktop/DL_WorkSpace/WorkSpace/Input_Data_Container/CB_WS/GIS_WS/cropped_jpg/ortho_23_3.jpg: 640x640 3 broccolis, 1 cake, 6.8ms\n",
      "Speed: 1.8ms preprocess, 6.8ms inference, 1.3ms postprocess per image at shape (1, 3, 640, 640)\n",
      "Results saved to \u001b[1mruns/detect/predict\u001b[0m\n",
      "\n",
      "image 1/1 /home/ubuntu/Desktop/DL_WorkSpace/WorkSpace/Input_Data_Container/CB_WS/GIS_WS/cropped_jpg/ortho_11_16.jpg: 640x640 1 cake, 5.4ms\n",
      "Speed: 1.5ms preprocess, 5.4ms inference, 1.0ms postprocess per image at shape (1, 3, 640, 640)\n",
      "Results saved to \u001b[1mruns/detect/predict\u001b[0m\n"
     ]
    },
    {
     "name": "stderr",
     "output_type": "stream",
     "text": [
      " 42%|█████████████████▏                       | 272/648 [00:08<00:10, 34.36it/s]"
     ]
    },
    {
     "name": "stdout",
     "output_type": "stream",
     "text": [
      "\n",
      "image 1/1 /home/ubuntu/Desktop/DL_WorkSpace/WorkSpace/Input_Data_Container/CB_WS/GIS_WS/cropped_jpg/ortho_11_6.jpg: 640x640 1 bowl, 2 broccolis, 1 pizza, 1 cake, 5.6ms\n",
      "Speed: 1.5ms preprocess, 5.6ms inference, 1.0ms postprocess per image at shape (1, 3, 640, 640)\n",
      "Results saved to \u001b[1mruns/detect/predict\u001b[0m\n",
      "\n",
      "image 1/1 /home/ubuntu/Desktop/DL_WorkSpace/WorkSpace/Input_Data_Container/CB_WS/GIS_WS/cropped_jpg/ortho_26_9.jpg: 640x640 (no detections), 5.5ms\n",
      "Speed: 1.5ms preprocess, 5.5ms inference, 0.5ms postprocess per image at shape (1, 3, 640, 640)\n",
      "Results saved to \u001b[1mruns/detect/predict\u001b[0m\n",
      "\n",
      "image 1/1 /home/ubuntu/Desktop/DL_WorkSpace/WorkSpace/Input_Data_Container/CB_WS/GIS_WS/cropped_jpg/ortho_23_16.jpg: 640x640 1 broccoli, 5.4ms\n",
      "Speed: 1.5ms preprocess, 5.4ms inference, 1.0ms postprocess per image at shape (1, 3, 640, 640)\n",
      "Results saved to \u001b[1mruns/detect/predict\u001b[0m\n",
      "\n",
      "image 1/1 /home/ubuntu/Desktop/DL_WorkSpace/WorkSpace/Input_Data_Container/CB_WS/GIS_WS/cropped_jpg/ortho_13_18.jpg: 640x640 (no detections), 5.0ms\n",
      "Speed: 1.4ms preprocess, 5.0ms inference, 0.5ms postprocess per image at shape (1, 3, 640, 640)\n",
      "Results saved to \u001b[1mruns/detect/predict\u001b[0m\n",
      "\n",
      "image 1/1 /home/ubuntu/Desktop/DL_WorkSpace/WorkSpace/Input_Data_Container/CB_WS/GIS_WS/cropped_jpg/ortho_8_16.jpg: 640x640 (no detections), 5.5ms\n",
      "Speed: 1.6ms preprocess, 5.5ms inference, 0.5ms postprocess per image at shape (1, 3, 640, 640)\n",
      "Results saved to \u001b[1mruns/detect/predict\u001b[0m\n"
     ]
    },
    {
     "name": "stderr",
     "output_type": "stream",
     "text": [
      " 43%|█████████████████▌                       | 277/648 [00:08<00:10, 36.82it/s]"
     ]
    },
    {
     "name": "stdout",
     "output_type": "stream",
     "text": [
      "\n",
      "image 1/1 /home/ubuntu/Desktop/DL_WorkSpace/WorkSpace/Input_Data_Container/CB_WS/GIS_WS/cropped_jpg/ortho_4_23.jpg: 640x640 2 broccolis, 6.9ms\n",
      "Speed: 2.1ms preprocess, 6.9ms inference, 1.2ms postprocess per image at shape (1, 3, 640, 640)\n",
      "Results saved to \u001b[1mruns/detect/predict\u001b[0m\n",
      "\n",
      "image 1/1 /home/ubuntu/Desktop/DL_WorkSpace/WorkSpace/Input_Data_Container/CB_WS/GIS_WS/cropped_jpg/ortho_24_5.jpg: 640x640 1 bowl, 1 cake, 7.0ms\n",
      "Speed: 1.7ms preprocess, 7.0ms inference, 1.4ms postprocess per image at shape (1, 3, 640, 640)\n",
      "Results saved to \u001b[1mruns/detect/predict\u001b[0m\n",
      "\n",
      "image 1/1 /home/ubuntu/Desktop/DL_WorkSpace/WorkSpace/Input_Data_Container/CB_WS/GIS_WS/cropped_jpg/ortho_19_11.jpg: 640x640 1 person, 1 cake, 7.4ms\n",
      "Speed: 1.7ms preprocess, 7.4ms inference, 1.5ms postprocess per image at shape (1, 3, 640, 640)\n",
      "Results saved to \u001b[1mruns/detect/predict\u001b[0m\n",
      "\n",
      "image 1/1 /home/ubuntu/Desktop/DL_WorkSpace/WorkSpace/Input_Data_Container/CB_WS/GIS_WS/cropped_jpg/ortho_19_23.jpg: 640x640 1 bowl, 1 cake, 5.4ms\n",
      "Speed: 1.6ms preprocess, 5.4ms inference, 1.1ms postprocess per image at shape (1, 3, 640, 640)\n",
      "Results saved to \u001b[1mruns/detect/predict\u001b[0m\n"
     ]
    },
    {
     "name": "stderr",
     "output_type": "stream",
     "text": [
      " 43%|█████████████████▊                       | 281/648 [00:08<00:10, 35.71it/s]"
     ]
    },
    {
     "name": "stdout",
     "output_type": "stream",
     "text": [
      "\n",
      "image 1/1 /home/ubuntu/Desktop/DL_WorkSpace/WorkSpace/Input_Data_Container/CB_WS/GIS_WS/cropped_jpg/ortho_26_6.jpg: 640x640 1 person, 3 broccolis, 1 cake, 7.8ms\n",
      "Speed: 1.7ms preprocess, 7.8ms inference, 3.7ms postprocess per image at shape (1, 3, 640, 640)\n",
      "Results saved to \u001b[1mruns/detect/predict\u001b[0m\n",
      "\n",
      "image 1/1 /home/ubuntu/Desktop/DL_WorkSpace/WorkSpace/Input_Data_Container/CB_WS/GIS_WS/cropped_jpg/ortho_1_23.jpg: 640x640 1 chair, 5.5ms\n",
      "Speed: 1.5ms preprocess, 5.5ms inference, 1.1ms postprocess per image at shape (1, 3, 640, 640)\n",
      "Results saved to \u001b[1mruns/detect/predict\u001b[0m\n",
      "\n",
      "image 1/1 /home/ubuntu/Desktop/DL_WorkSpace/WorkSpace/Input_Data_Container/CB_WS/GIS_WS/cropped_jpg/ortho_5_0.jpg: 640x640 (no detections), 5.2ms\n",
      "Speed: 1.4ms preprocess, 5.2ms inference, 0.7ms postprocess per image at shape (1, 3, 640, 640)\n",
      "Results saved to \u001b[1mruns/detect/predict\u001b[0m\n",
      "\n",
      "image 1/1 /home/ubuntu/Desktop/DL_WorkSpace/WorkSpace/Input_Data_Container/CB_WS/GIS_WS/cropped_jpg/ortho_2_15.jpg: 640x640 1 person, 5.4ms\n",
      "Speed: 1.5ms preprocess, 5.4ms inference, 1.1ms postprocess per image at shape (1, 3, 640, 640)\n",
      "Results saved to \u001b[1mruns/detect/predict\u001b[0m\n"
     ]
    },
    {
     "name": "stderr",
     "output_type": "stream",
     "text": [
      " 44%|██████████████████                       | 285/648 [00:08<00:09, 36.63it/s]"
     ]
    },
    {
     "name": "stdout",
     "output_type": "stream",
     "text": [
      "\n",
      "image 1/1 /home/ubuntu/Desktop/DL_WorkSpace/WorkSpace/Input_Data_Container/CB_WS/GIS_WS/cropped_jpg/ortho_18_7.jpg: 640x640 1 person, 1 broccoli, 5.4ms\n",
      "Speed: 1.5ms preprocess, 5.4ms inference, 1.1ms postprocess per image at shape (1, 3, 640, 640)\n",
      "Results saved to \u001b[1mruns/detect/predict\u001b[0m\n",
      "\n",
      "image 1/1 /home/ubuntu/Desktop/DL_WorkSpace/WorkSpace/Input_Data_Container/CB_WS/GIS_WS/cropped_jpg/ortho_0_17.jpg: 640x640 (no detections), 5.4ms\n",
      "Speed: 1.7ms preprocess, 5.4ms inference, 0.5ms postprocess per image at shape (1, 3, 640, 640)\n",
      "Results saved to \u001b[1mruns/detect/predict\u001b[0m\n",
      "\n",
      "image 1/1 /home/ubuntu/Desktop/DL_WorkSpace/WorkSpace/Input_Data_Container/CB_WS/GIS_WS/cropped_jpg/ortho_21_4.jpg: 640x640 1 cake, 8.4ms\n",
      "Speed: 1.8ms preprocess, 8.4ms inference, 1.4ms postprocess per image at shape (1, 3, 640, 640)\n",
      "Results saved to \u001b[1mruns/detect/predict\u001b[0m\n",
      "\n",
      "image 1/1 /home/ubuntu/Desktop/DL_WorkSpace/WorkSpace/Input_Data_Container/CB_WS/GIS_WS/cropped_jpg/ortho_8_12.jpg: 640x640 1 pizza, 1 cake, 5.6ms\n",
      "Speed: 2.0ms preprocess, 5.6ms inference, 1.2ms postprocess per image at shape (1, 3, 640, 640)\n",
      "Results saved to \u001b[1mruns/detect/predict\u001b[0m\n"
     ]
    },
    {
     "name": "stderr",
     "output_type": "stream",
     "text": [
      " 45%|██████████████████▎                      | 289/648 [00:08<00:10, 35.68it/s]"
     ]
    },
    {
     "name": "stdout",
     "output_type": "stream",
     "text": [
      "\n",
      "image 1/1 /home/ubuntu/Desktop/DL_WorkSpace/WorkSpace/Input_Data_Container/CB_WS/GIS_WS/cropped_jpg/ortho_25_1.jpg: 640x640 (no detections), 7.4ms\n",
      "Speed: 1.7ms preprocess, 7.4ms inference, 0.7ms postprocess per image at shape (1, 3, 640, 640)\n",
      "Results saved to \u001b[1mruns/detect/predict\u001b[0m\n",
      "\n",
      "image 1/1 /home/ubuntu/Desktop/DL_WorkSpace/WorkSpace/Input_Data_Container/CB_WS/GIS_WS/cropped_jpg/ortho_20_18.jpg: 640x640 1 cake, 6.9ms\n",
      "Speed: 1.8ms preprocess, 6.9ms inference, 1.3ms postprocess per image at shape (1, 3, 640, 640)\n",
      "Results saved to \u001b[1mruns/detect/predict\u001b[0m\n",
      "\n",
      "image 1/1 /home/ubuntu/Desktop/DL_WorkSpace/WorkSpace/Input_Data_Container/CB_WS/GIS_WS/cropped_jpg/ortho_21_2.jpg: 640x640 1 person, 6.7ms\n",
      "Speed: 1.8ms preprocess, 6.7ms inference, 1.4ms postprocess per image at shape (1, 3, 640, 640)\n",
      "Results saved to \u001b[1mruns/detect/predict\u001b[0m\n",
      "\n",
      "image 1/1 /home/ubuntu/Desktop/DL_WorkSpace/WorkSpace/Input_Data_Container/CB_WS/GIS_WS/cropped_jpg/ortho_13_7.jpg: 640x640 6 broccolis, 7.1ms\n",
      "Speed: 1.7ms preprocess, 7.1ms inference, 1.4ms postprocess per image at shape (1, 3, 640, 640)\n",
      "Results saved to \u001b[1mruns/detect/predict\u001b[0m\n"
     ]
    },
    {
     "name": "stderr",
     "output_type": "stream",
     "text": [
      " 45%|██████████████████▌                      | 293/648 [00:08<00:10, 34.87it/s]"
     ]
    },
    {
     "name": "stdout",
     "output_type": "stream",
     "text": [
      "\n",
      "image 1/1 /home/ubuntu/Desktop/DL_WorkSpace/WorkSpace/Input_Data_Container/CB_WS/GIS_WS/cropped_jpg/ortho_2_12.jpg: 640x640 1 bowl, 1 broccoli, 7.0ms\n",
      "Speed: 1.5ms preprocess, 7.0ms inference, 1.4ms postprocess per image at shape (1, 3, 640, 640)\n",
      "Results saved to \u001b[1mruns/detect/predict\u001b[0m\n",
      "\n",
      "image 1/1 /home/ubuntu/Desktop/DL_WorkSpace/WorkSpace/Input_Data_Container/CB_WS/GIS_WS/cropped_jpg/ortho_14_1.jpg: 640x640 1 broccoli, 9.0ms\n",
      "Speed: 2.4ms preprocess, 9.0ms inference, 1.6ms postprocess per image at shape (1, 3, 640, 640)\n",
      "Results saved to \u001b[1mruns/detect/predict\u001b[0m\n",
      "\n",
      "image 1/1 /home/ubuntu/Desktop/DL_WorkSpace/WorkSpace/Input_Data_Container/CB_WS/GIS_WS/cropped_jpg/ortho_11_22.jpg: 640x640 1 cake, 7.4ms\n",
      "Speed: 1.5ms preprocess, 7.4ms inference, 1.4ms postprocess per image at shape (1, 3, 640, 640)\n",
      "Results saved to \u001b[1mruns/detect/predict\u001b[0m\n",
      "\n",
      "image 1/1 /home/ubuntu/Desktop/DL_WorkSpace/WorkSpace/Input_Data_Container/CB_WS/GIS_WS/cropped_jpg/ortho_5_21.jpg: 640x640 8 broccolis, 7.1ms\n",
      "Speed: 1.6ms preprocess, 7.1ms inference, 1.4ms postprocess per image at shape (1, 3, 640, 640)\n",
      "Results saved to \u001b[1mruns/detect/predict\u001b[0m\n"
     ]
    },
    {
     "name": "stderr",
     "output_type": "stream",
     "text": [
      " 46%|██████████████████▊                      | 297/648 [00:08<00:10, 33.15it/s]"
     ]
    },
    {
     "name": "stdout",
     "output_type": "stream",
     "text": [
      "\n",
      "image 1/1 /home/ubuntu/Desktop/DL_WorkSpace/WorkSpace/Input_Data_Container/CB_WS/GIS_WS/cropped_jpg/ortho_1_18.jpg: 640x640 1 person, 1 broccoli, 1 cake, 7.1ms\n",
      "Speed: 1.8ms preprocess, 7.1ms inference, 1.3ms postprocess per image at shape (1, 3, 640, 640)\n",
      "Results saved to \u001b[1mruns/detect/predict\u001b[0m\n",
      "\n",
      "image 1/1 /home/ubuntu/Desktop/DL_WorkSpace/WorkSpace/Input_Data_Container/CB_WS/GIS_WS/cropped_jpg/ortho_17_9.jpg: 640x640 1 broccoli, 7.1ms\n",
      "Speed: 1.8ms preprocess, 7.1ms inference, 1.4ms postprocess per image at shape (1, 3, 640, 640)\n",
      "Results saved to \u001b[1mruns/detect/predict\u001b[0m\n",
      "\n",
      "image 1/1 /home/ubuntu/Desktop/DL_WorkSpace/WorkSpace/Input_Data_Container/CB_WS/GIS_WS/cropped_jpg/ortho_19_18.jpg: 640x640 (no detections), 5.3ms\n",
      "Speed: 1.5ms preprocess, 5.3ms inference, 0.5ms postprocess per image at shape (1, 3, 640, 640)\n",
      "Results saved to \u001b[1mruns/detect/predict\u001b[0m\n",
      "\n",
      "image 1/1 /home/ubuntu/Desktop/DL_WorkSpace/WorkSpace/Input_Data_Container/CB_WS/GIS_WS/cropped_jpg/ortho_4_17.jpg: 640x640 1 person, 1 donut, 5.4ms\n",
      "Speed: 1.5ms preprocess, 5.4ms inference, 1.1ms postprocess per image at shape (1, 3, 640, 640)\n",
      "Results saved to \u001b[1mruns/detect/predict\u001b[0m\n"
     ]
    },
    {
     "name": "stderr",
     "output_type": "stream",
     "text": [
      " 46%|███████████████████                      | 301/648 [00:08<00:10, 33.52it/s]"
     ]
    },
    {
     "name": "stdout",
     "output_type": "stream",
     "text": [
      "\n",
      "image 1/1 /home/ubuntu/Desktop/DL_WorkSpace/WorkSpace/Input_Data_Container/CB_WS/GIS_WS/cropped_jpg/ortho_8_23.jpg: 640x640 1 bowl, 2 broccolis, 1 pizza, 1 dining table, 5.2ms\n",
      "Speed: 1.5ms preprocess, 5.2ms inference, 1.0ms postprocess per image at shape (1, 3, 640, 640)\n",
      "Results saved to \u001b[1mruns/detect/predict\u001b[0m\n",
      "\n",
      "image 1/1 /home/ubuntu/Desktop/DL_WorkSpace/WorkSpace/Input_Data_Container/CB_WS/GIS_WS/cropped_jpg/ortho_24_16.jpg: 640x640 (no detections), 5.4ms\n",
      "Speed: 1.5ms preprocess, 5.4ms inference, 0.5ms postprocess per image at shape (1, 3, 640, 640)\n",
      "Results saved to \u001b[1mruns/detect/predict\u001b[0m\n",
      "\n",
      "image 1/1 /home/ubuntu/Desktop/DL_WorkSpace/WorkSpace/Input_Data_Container/CB_WS/GIS_WS/cropped_jpg/ortho_3_2.jpg: 640x640 (no detections), 5.1ms\n",
      "Speed: 1.5ms preprocess, 5.1ms inference, 0.5ms postprocess per image at shape (1, 3, 640, 640)\n",
      "Results saved to \u001b[1mruns/detect/predict\u001b[0m\n",
      "\n",
      "image 1/1 /home/ubuntu/Desktop/DL_WorkSpace/WorkSpace/Input_Data_Container/CB_WS/GIS_WS/cropped_jpg/ortho_25_6.jpg: 640x640 4 broccolis, 1 dining table, 5.5ms\n",
      "Speed: 1.5ms preprocess, 5.5ms inference, 1.2ms postprocess per image at shape (1, 3, 640, 640)\n",
      "Results saved to \u001b[1mruns/detect/predict\u001b[0m\n",
      "\n",
      "image 1/1 /home/ubuntu/Desktop/DL_WorkSpace/WorkSpace/Input_Data_Container/CB_WS/GIS_WS/cropped_jpg/ortho_3_1.jpg: 640x640 1 bear, 7.1ms\n",
      "Speed: 1.7ms preprocess, 7.1ms inference, 1.4ms postprocess per image at shape (1, 3, 640, 640)\n",
      "Results saved to \u001b[1mruns/detect/predict\u001b[0m\n"
     ]
    },
    {
     "name": "stderr",
     "output_type": "stream",
     "text": [
      " 47%|███████████████████▎                     | 306/648 [00:09<00:09, 35.29it/s]"
     ]
    },
    {
     "name": "stdout",
     "output_type": "stream",
     "text": [
      "\n",
      "image 1/1 /home/ubuntu/Desktop/DL_WorkSpace/WorkSpace/Input_Data_Container/CB_WS/GIS_WS/cropped_jpg/ortho_5_6.jpg: 640x640 1 bowl, 1 cake, 6.9ms\n",
      "Speed: 1.8ms preprocess, 6.9ms inference, 1.3ms postprocess per image at shape (1, 3, 640, 640)\n",
      "Results saved to \u001b[1mruns/detect/predict\u001b[0m\n",
      "\n",
      "image 1/1 /home/ubuntu/Desktop/DL_WorkSpace/WorkSpace/Input_Data_Container/CB_WS/GIS_WS/cropped_jpg/ortho_17_4.jpg: 640x640 1 cake, 7.3ms\n",
      "Speed: 2.0ms preprocess, 7.3ms inference, 1.2ms postprocess per image at shape (1, 3, 640, 640)\n",
      "Results saved to \u001b[1mruns/detect/predict\u001b[0m\n",
      "\n",
      "image 1/1 /home/ubuntu/Desktop/DL_WorkSpace/WorkSpace/Input_Data_Container/CB_WS/GIS_WS/cropped_jpg/ortho_7_15.jpg: 640x640 1 cake, 6.4ms\n",
      "Speed: 1.8ms preprocess, 6.4ms inference, 1.3ms postprocess per image at shape (1, 3, 640, 640)\n",
      "Results saved to \u001b[1mruns/detect/predict\u001b[0m\n",
      "\n",
      "image 1/1 /home/ubuntu/Desktop/DL_WorkSpace/WorkSpace/Input_Data_Container/CB_WS/GIS_WS/cropped_jpg/ortho_2_7.jpg: 640x640 (no detections), 5.3ms\n",
      "Speed: 1.6ms preprocess, 5.3ms inference, 0.5ms postprocess per image at shape (1, 3, 640, 640)\n",
      "Results saved to \u001b[1mruns/detect/predict\u001b[0m\n"
     ]
    },
    {
     "name": "stderr",
     "output_type": "stream",
     "text": [
      " 48%|███████████████████▌                     | 310/648 [00:09<00:10, 33.32it/s]"
     ]
    },
    {
     "name": "stdout",
     "output_type": "stream",
     "text": [
      "\n",
      "image 1/1 /home/ubuntu/Desktop/DL_WorkSpace/WorkSpace/Input_Data_Container/CB_WS/GIS_WS/cropped_jpg/ortho_21_22.jpg: 640x640 (no detections), 5.4ms\n",
      "Speed: 1.5ms preprocess, 5.4ms inference, 0.6ms postprocess per image at shape (1, 3, 640, 640)\n",
      "Results saved to \u001b[1mruns/detect/predict\u001b[0m\n",
      "\n",
      "image 1/1 /home/ubuntu/Desktop/DL_WorkSpace/WorkSpace/Input_Data_Container/CB_WS/GIS_WS/cropped_jpg/ortho_4_5.jpg: 640x640 1 broccoli, 1 cake, 7.3ms\n",
      "Speed: 1.5ms preprocess, 7.3ms inference, 1.3ms postprocess per image at shape (1, 3, 640, 640)\n",
      "Results saved to \u001b[1mruns/detect/predict\u001b[0m\n",
      "\n",
      "image 1/1 /home/ubuntu/Desktop/DL_WorkSpace/WorkSpace/Input_Data_Container/CB_WS/GIS_WS/cropped_jpg/ortho_4_13.jpg: 640x640 1 broccoli, 6.9ms\n",
      "Speed: 1.8ms preprocess, 6.9ms inference, 1.3ms postprocess per image at shape (1, 3, 640, 640)\n",
      "Results saved to \u001b[1mruns/detect/predict\u001b[0m\n",
      "\n",
      "image 1/1 /home/ubuntu/Desktop/DL_WorkSpace/WorkSpace/Input_Data_Container/CB_WS/GIS_WS/cropped_jpg/ortho_20_20.jpg: 640x640 1 cake, 7.0ms\n",
      "Speed: 1.6ms preprocess, 7.0ms inference, 1.5ms postprocess per image at shape (1, 3, 640, 640)\n",
      "Results saved to \u001b[1mruns/detect/predict\u001b[0m\n"
     ]
    },
    {
     "name": "stderr",
     "output_type": "stream",
     "text": [
      " 48%|███████████████████▊                     | 314/648 [00:09<00:10, 33.34it/s]"
     ]
    },
    {
     "name": "stdout",
     "output_type": "stream",
     "text": [
      "\n",
      "image 1/1 /home/ubuntu/Desktop/DL_WorkSpace/WorkSpace/Input_Data_Container/CB_WS/GIS_WS/cropped_jpg/ortho_23_5.jpg: 640x640 1 person, 1 broccoli, 6.5ms\n",
      "Speed: 1.7ms preprocess, 6.5ms inference, 1.2ms postprocess per image at shape (1, 3, 640, 640)\n",
      "Results saved to \u001b[1mruns/detect/predict\u001b[0m\n",
      "\n",
      "image 1/1 /home/ubuntu/Desktop/DL_WorkSpace/WorkSpace/Input_Data_Container/CB_WS/GIS_WS/cropped_jpg/ortho_14_20.jpg: 640x640 1 donut, 7.5ms\n",
      "Speed: 2.0ms preprocess, 7.5ms inference, 1.5ms postprocess per image at shape (1, 3, 640, 640)\n",
      "Results saved to \u001b[1mruns/detect/predict\u001b[0m\n",
      "\n",
      "image 1/1 /home/ubuntu/Desktop/DL_WorkSpace/WorkSpace/Input_Data_Container/CB_WS/GIS_WS/cropped_jpg/ortho_24_9.jpg: 640x640 1 bowl, 2 broccolis, 1 pizza, 11.9ms\n",
      "Speed: 5.7ms preprocess, 11.9ms inference, 1.5ms postprocess per image at shape (1, 3, 640, 640)\n",
      "Results saved to \u001b[1mruns/detect/predict\u001b[0m\n",
      "\n",
      "image 1/1 /home/ubuntu/Desktop/DL_WorkSpace/WorkSpace/Input_Data_Container/CB_WS/GIS_WS/cropped_jpg/ortho_4_4.jpg: 640x640 (no detections), 7.8ms\n",
      "Speed: 5.3ms preprocess, 7.8ms inference, 0.5ms postprocess per image at shape (1, 3, 640, 640)\n",
      "Results saved to \u001b[1mruns/detect/predict\u001b[0m\n"
     ]
    },
    {
     "name": "stderr",
     "output_type": "stream",
     "text": [
      " 49%|████████████████████                     | 318/648 [00:09<00:11, 29.52it/s]"
     ]
    },
    {
     "name": "stdout",
     "output_type": "stream",
     "text": [
      "\n",
      "image 1/1 /home/ubuntu/Desktop/DL_WorkSpace/WorkSpace/Input_Data_Container/CB_WS/GIS_WS/cropped_jpg/ortho_21_14.jpg: 640x640 1 bowl, 1 cake, 1 potted plant, 7.1ms\n",
      "Speed: 1.9ms preprocess, 7.1ms inference, 1.3ms postprocess per image at shape (1, 3, 640, 640)\n",
      "Results saved to \u001b[1mruns/detect/predict\u001b[0m\n",
      "\n",
      "image 1/1 /home/ubuntu/Desktop/DL_WorkSpace/WorkSpace/Input_Data_Container/CB_WS/GIS_WS/cropped_jpg/ortho_7_8.jpg: 640x640 1 person, 7.6ms\n",
      "Speed: 1.7ms preprocess, 7.6ms inference, 2.8ms postprocess per image at shape (1, 3, 640, 640)\n",
      "Results saved to \u001b[1mruns/detect/predict\u001b[0m\n",
      "\n",
      "image 1/1 /home/ubuntu/Desktop/DL_WorkSpace/WorkSpace/Input_Data_Container/CB_WS/GIS_WS/cropped_jpg/ortho_15_12.jpg: 640x640 1 person, 1 apple, 7.1ms\n",
      "Speed: 1.7ms preprocess, 7.1ms inference, 1.5ms postprocess per image at shape (1, 3, 640, 640)\n",
      "Results saved to \u001b[1mruns/detect/predict\u001b[0m\n",
      "\n",
      "image 1/1 /home/ubuntu/Desktop/DL_WorkSpace/WorkSpace/Input_Data_Container/CB_WS/GIS_WS/cropped_jpg/ortho_10_17.jpg: 640x640 (no detections), 5.2ms\n",
      "Speed: 1.5ms preprocess, 5.2ms inference, 0.5ms postprocess per image at shape (1, 3, 640, 640)\n",
      "Results saved to \u001b[1mruns/detect/predict\u001b[0m\n"
     ]
    },
    {
     "name": "stderr",
     "output_type": "stream",
     "text": [
      " 50%|████████████████████▎                    | 322/648 [00:09<00:10, 30.51it/s]"
     ]
    },
    {
     "name": "stdout",
     "output_type": "stream",
     "text": [
      "\n",
      "image 1/1 /home/ubuntu/Desktop/DL_WorkSpace/WorkSpace/Input_Data_Container/CB_WS/GIS_WS/cropped_jpg/ortho_19_9.jpg: 640x640 1 fire hydrant, 1 cake, 1 vase, 5.2ms\n",
      "Speed: 1.5ms preprocess, 5.2ms inference, 1.0ms postprocess per image at shape (1, 3, 640, 640)\n",
      "Results saved to \u001b[1mruns/detect/predict\u001b[0m\n",
      "\n",
      "image 1/1 /home/ubuntu/Desktop/DL_WorkSpace/WorkSpace/Input_Data_Container/CB_WS/GIS_WS/cropped_jpg/ortho_4_6.jpg: 640x640 1 cake, 5.3ms\n",
      "Speed: 1.5ms preprocess, 5.3ms inference, 1.1ms postprocess per image at shape (1, 3, 640, 640)\n",
      "Results saved to \u001b[1mruns/detect/predict\u001b[0m\n",
      "\n",
      "image 1/1 /home/ubuntu/Desktop/DL_WorkSpace/WorkSpace/Input_Data_Container/CB_WS/GIS_WS/cropped_jpg/ortho_1_9.jpg: 640x640 2 broccolis, 5.1ms\n",
      "Speed: 1.4ms preprocess, 5.1ms inference, 1.0ms postprocess per image at shape (1, 3, 640, 640)\n",
      "Results saved to \u001b[1mruns/detect/predict\u001b[0m\n",
      "\n",
      "image 1/1 /home/ubuntu/Desktop/DL_WorkSpace/WorkSpace/Input_Data_Container/CB_WS/GIS_WS/cropped_jpg/ortho_20_3.jpg: 640x640 1 vase, 8.6ms\n",
      "Speed: 1.8ms preprocess, 8.6ms inference, 1.6ms postprocess per image at shape (1, 3, 640, 640)\n",
      "Results saved to \u001b[1mruns/detect/predict\u001b[0m\n"
     ]
    },
    {
     "name": "stderr",
     "output_type": "stream",
     "text": [
      " 50%|████████████████████▋                    | 326/648 [00:09<00:10, 31.66it/s]"
     ]
    },
    {
     "name": "stdout",
     "output_type": "stream",
     "text": [
      "\n",
      "image 1/1 /home/ubuntu/Desktop/DL_WorkSpace/WorkSpace/Input_Data_Container/CB_WS/GIS_WS/cropped_jpg/ortho_1_3.jpg: 640x640 1 cake, 6.9ms\n",
      "Speed: 1.8ms preprocess, 6.9ms inference, 1.3ms postprocess per image at shape (1, 3, 640, 640)\n",
      "Results saved to \u001b[1mruns/detect/predict\u001b[0m\n",
      "\n",
      "image 1/1 /home/ubuntu/Desktop/DL_WorkSpace/WorkSpace/Input_Data_Container/CB_WS/GIS_WS/cropped_jpg/ortho_10_8.jpg: 640x640 1 person, 7.0ms\n",
      "Speed: 1.8ms preprocess, 7.0ms inference, 1.4ms postprocess per image at shape (1, 3, 640, 640)\n",
      "Results saved to \u001b[1mruns/detect/predict\u001b[0m\n",
      "\n",
      "image 1/1 /home/ubuntu/Desktop/DL_WorkSpace/WorkSpace/Input_Data_Container/CB_WS/GIS_WS/cropped_jpg/ortho_0_11.jpg: 640x640 (no detections), 7.4ms\n",
      "Speed: 2.0ms preprocess, 7.4ms inference, 0.7ms postprocess per image at shape (1, 3, 640, 640)\n",
      "Results saved to \u001b[1mruns/detect/predict\u001b[0m\n",
      "\n",
      "image 1/1 /home/ubuntu/Desktop/DL_WorkSpace/WorkSpace/Input_Data_Container/CB_WS/GIS_WS/cropped_jpg/ortho_14_11.jpg: 640x640 1 person, 6.1ms\n",
      "Speed: 1.7ms preprocess, 6.1ms inference, 1.0ms postprocess per image at shape (1, 3, 640, 640)\n",
      "Results saved to \u001b[1mruns/detect/predict\u001b[0m\n"
     ]
    },
    {
     "name": "stderr",
     "output_type": "stream",
     "text": [
      " 51%|████████████████████▉                    | 330/648 [00:09<00:10, 30.65it/s]"
     ]
    },
    {
     "name": "stdout",
     "output_type": "stream",
     "text": [
      "\n",
      "image 1/1 /home/ubuntu/Desktop/DL_WorkSpace/WorkSpace/Input_Data_Container/CB_WS/GIS_WS/cropped_jpg/ortho_5_8.jpg: 640x640 (no detections), 5.6ms\n",
      "Speed: 1.5ms preprocess, 5.6ms inference, 0.5ms postprocess per image at shape (1, 3, 640, 640)\n",
      "Results saved to \u001b[1mruns/detect/predict\u001b[0m\n",
      "\n",
      "image 1/1 /home/ubuntu/Desktop/DL_WorkSpace/WorkSpace/Input_Data_Container/CB_WS/GIS_WS/cropped_jpg/ortho_9_9.jpg: 640x640 (no detections), 5.1ms\n",
      "Speed: 1.4ms preprocess, 5.1ms inference, 0.6ms postprocess per image at shape (1, 3, 640, 640)\n",
      "Results saved to \u001b[1mruns/detect/predict\u001b[0m\n",
      "\n",
      "image 1/1 /home/ubuntu/Desktop/DL_WorkSpace/WorkSpace/Input_Data_Container/CB_WS/GIS_WS/cropped_jpg/ortho_25_4.jpg: 640x640 2 broccolis, 1 dining table, 9.4ms\n",
      "Speed: 1.8ms preprocess, 9.4ms inference, 1.5ms postprocess per image at shape (1, 3, 640, 640)\n",
      "Results saved to \u001b[1mruns/detect/predict\u001b[0m\n",
      "\n",
      "image 1/1 /home/ubuntu/Desktop/DL_WorkSpace/WorkSpace/Input_Data_Container/CB_WS/GIS_WS/cropped_jpg/ortho_1_16.jpg: 640x640 1 person, 6.9ms\n",
      "Speed: 1.7ms preprocess, 6.9ms inference, 1.1ms postprocess per image at shape (1, 3, 640, 640)\n",
      "Results saved to \u001b[1mruns/detect/predict\u001b[0m\n"
     ]
    },
    {
     "name": "stderr",
     "output_type": "stream",
     "text": [
      " 52%|█████████████████████▏                   | 334/648 [00:10<00:09, 31.69it/s]"
     ]
    },
    {
     "name": "stdout",
     "output_type": "stream",
     "text": [
      "\n",
      "image 1/1 /home/ubuntu/Desktop/DL_WorkSpace/WorkSpace/Input_Data_Container/CB_WS/GIS_WS/cropped_jpg/ortho_26_11.jpg: 640x640 (no detections), 7.3ms\n",
      "Speed: 1.7ms preprocess, 7.3ms inference, 0.7ms postprocess per image at shape (1, 3, 640, 640)\n",
      "Results saved to \u001b[1mruns/detect/predict\u001b[0m\n",
      "\n",
      "image 1/1 /home/ubuntu/Desktop/DL_WorkSpace/WorkSpace/Input_Data_Container/CB_WS/GIS_WS/cropped_jpg/ortho_19_8.jpg: 640x640 1 person, 1 bowl, 1 orange, 1 cake, 7.5ms\n",
      "Speed: 5.2ms preprocess, 7.5ms inference, 1.4ms postprocess per image at shape (1, 3, 640, 640)\n",
      "Results saved to \u001b[1mruns/detect/predict\u001b[0m\n",
      "\n",
      "image 1/1 /home/ubuntu/Desktop/DL_WorkSpace/WorkSpace/Input_Data_Container/CB_WS/GIS_WS/cropped_jpg/ortho_26_15.jpg: 640x640 (no detections), 7.2ms\n",
      "Speed: 1.7ms preprocess, 7.2ms inference, 0.6ms postprocess per image at shape (1, 3, 640, 640)\n",
      "Results saved to \u001b[1mruns/detect/predict\u001b[0m\n",
      "\n",
      "image 1/1 /home/ubuntu/Desktop/DL_WorkSpace/WorkSpace/Input_Data_Container/CB_WS/GIS_WS/cropped_jpg/ortho_7_12.jpg: 640x640 1 broccoli, 1 oven, 6.4ms\n",
      "Speed: 1.7ms preprocess, 6.4ms inference, 1.3ms postprocess per image at shape (1, 3, 640, 640)\n",
      "Results saved to \u001b[1mruns/detect/predict\u001b[0m\n"
     ]
    },
    {
     "name": "stderr",
     "output_type": "stream",
     "text": [
      " 52%|█████████████████████▍                   | 338/648 [00:10<00:10, 30.94it/s]"
     ]
    },
    {
     "name": "stdout",
     "output_type": "stream",
     "text": [
      "\n",
      "image 1/1 /home/ubuntu/Desktop/DL_WorkSpace/WorkSpace/Input_Data_Container/CB_WS/GIS_WS/cropped_jpg/ortho_10_18.jpg: 640x640 1 bowl, 1 cake, 7.3ms\n",
      "Speed: 1.7ms preprocess, 7.3ms inference, 1.5ms postprocess per image at shape (1, 3, 640, 640)\n",
      "Results saved to \u001b[1mruns/detect/predict\u001b[0m\n",
      "\n",
      "image 1/1 /home/ubuntu/Desktop/DL_WorkSpace/WorkSpace/Input_Data_Container/CB_WS/GIS_WS/cropped_jpg/ortho_11_13.jpg: 640x640 1 cake, 5.1ms\n",
      "Speed: 1.5ms preprocess, 5.1ms inference, 1.1ms postprocess per image at shape (1, 3, 640, 640)\n",
      "Results saved to \u001b[1mruns/detect/predict\u001b[0m\n",
      "\n",
      "image 1/1 /home/ubuntu/Desktop/DL_WorkSpace/WorkSpace/Input_Data_Container/CB_WS/GIS_WS/cropped_jpg/ortho_26_5.jpg: 640x640 1 cake, 5.6ms\n",
      "Speed: 1.5ms preprocess, 5.6ms inference, 1.4ms postprocess per image at shape (1, 3, 640, 640)\n",
      "Results saved to \u001b[1mruns/detect/predict\u001b[0m\n",
      "\n",
      "image 1/1 /home/ubuntu/Desktop/DL_WorkSpace/WorkSpace/Input_Data_Container/CB_WS/GIS_WS/cropped_jpg/ortho_6_17.jpg: 640x640 1 broccoli, 8.6ms\n",
      "Speed: 1.8ms preprocess, 8.6ms inference, 1.3ms postprocess per image at shape (1, 3, 640, 640)\n",
      "Results saved to \u001b[1mruns/detect/predict\u001b[0m\n"
     ]
    },
    {
     "name": "stderr",
     "output_type": "stream",
     "text": [
      " 53%|█████████████████████▋                   | 342/648 [00:10<00:09, 31.09it/s]"
     ]
    },
    {
     "name": "stdout",
     "output_type": "stream",
     "text": [
      "\n",
      "image 1/1 /home/ubuntu/Desktop/DL_WorkSpace/WorkSpace/Input_Data_Container/CB_WS/GIS_WS/cropped_jpg/ortho_11_12.jpg: 640x640 1 bowl, 1 cake, 7.6ms\n",
      "Speed: 1.7ms preprocess, 7.6ms inference, 1.5ms postprocess per image at shape (1, 3, 640, 640)\n",
      "Results saved to \u001b[1mruns/detect/predict\u001b[0m\n",
      "\n",
      "image 1/1 /home/ubuntu/Desktop/DL_WorkSpace/WorkSpace/Input_Data_Container/CB_WS/GIS_WS/cropped_jpg/ortho_3_8.jpg: 640x640 (no detections), 5.8ms\n",
      "Speed: 1.7ms preprocess, 5.8ms inference, 0.5ms postprocess per image at shape (1, 3, 640, 640)\n",
      "Results saved to \u001b[1mruns/detect/predict\u001b[0m\n",
      "\n",
      "image 1/1 /home/ubuntu/Desktop/DL_WorkSpace/WorkSpace/Input_Data_Container/CB_WS/GIS_WS/cropped_jpg/ortho_18_15.jpg: 640x640 1 bowl, 1 cake, 7.4ms\n",
      "Speed: 1.7ms preprocess, 7.4ms inference, 1.5ms postprocess per image at shape (1, 3, 640, 640)\n",
      "Results saved to \u001b[1mruns/detect/predict\u001b[0m\n",
      "\n",
      "image 1/1 /home/ubuntu/Desktop/DL_WorkSpace/WorkSpace/Input_Data_Container/CB_WS/GIS_WS/cropped_jpg/ortho_17_13.jpg: 640x640 (no detections), 5.5ms\n",
      "Speed: 1.5ms preprocess, 5.5ms inference, 0.5ms postprocess per image at shape (1, 3, 640, 640)\n",
      "Results saved to \u001b[1mruns/detect/predict\u001b[0m\n"
     ]
    },
    {
     "name": "stderr",
     "output_type": "stream",
     "text": [
      " 53%|█████████████████████▉                   | 346/648 [00:10<00:09, 31.53it/s]"
     ]
    },
    {
     "name": "stdout",
     "output_type": "stream",
     "text": [
      "\n",
      "image 1/1 /home/ubuntu/Desktop/DL_WorkSpace/WorkSpace/Input_Data_Container/CB_WS/GIS_WS/cropped_jpg/ortho_11_8.jpg: 640x640 1 bowl, 5 broccolis, 1 cake, 5.3ms\n",
      "Speed: 1.5ms preprocess, 5.3ms inference, 1.2ms postprocess per image at shape (1, 3, 640, 640)\n",
      "Results saved to \u001b[1mruns/detect/predict\u001b[0m\n",
      "\n",
      "image 1/1 /home/ubuntu/Desktop/DL_WorkSpace/WorkSpace/Input_Data_Container/CB_WS/GIS_WS/cropped_jpg/ortho_19_14.jpg: 640x640 1 cake, 5.3ms\n",
      "Speed: 1.5ms preprocess, 5.3ms inference, 1.1ms postprocess per image at shape (1, 3, 640, 640)\n",
      "Results saved to \u001b[1mruns/detect/predict\u001b[0m\n",
      "\n",
      "image 1/1 /home/ubuntu/Desktop/DL_WorkSpace/WorkSpace/Input_Data_Container/CB_WS/GIS_WS/cropped_jpg/ortho_7_14.jpg: 640x640 1 cake, 5.7ms\n",
      "Speed: 1.4ms preprocess, 5.7ms inference, 1.0ms postprocess per image at shape (1, 3, 640, 640)\n",
      "Results saved to \u001b[1mruns/detect/predict\u001b[0m\n",
      "\n",
      "image 1/1 /home/ubuntu/Desktop/DL_WorkSpace/WorkSpace/Input_Data_Container/CB_WS/GIS_WS/cropped_jpg/ortho_7_20.jpg: 640x640 1 cake, 5.2ms\n",
      "Speed: 1.4ms preprocess, 5.2ms inference, 1.0ms postprocess per image at shape (1, 3, 640, 640)\n",
      "Results saved to \u001b[1mruns/detect/predict\u001b[0m\n",
      "\n",
      "image 1/1 /home/ubuntu/Desktop/DL_WorkSpace/WorkSpace/Input_Data_Container/CB_WS/GIS_WS/cropped_jpg/ortho_1_8.jpg: 640x640 1 cake, 5.4ms\n",
      "Speed: 1.4ms preprocess, 5.4ms inference, 1.1ms postprocess per image at shape (1, 3, 640, 640)\n",
      "Results saved to \u001b[1mruns/detect/predict\u001b[0m\n"
     ]
    },
    {
     "name": "stderr",
     "output_type": "stream",
     "text": [
      " 54%|██████████████████████▏                  | 351/648 [00:10<00:08, 34.42it/s]"
     ]
    },
    {
     "name": "stdout",
     "output_type": "stream",
     "text": [
      "\n",
      "image 1/1 /home/ubuntu/Desktop/DL_WorkSpace/WorkSpace/Input_Data_Container/CB_WS/GIS_WS/cropped_jpg/ortho_6_12.jpg: 640x640 2 broccolis, 1 cake, 5.2ms\n",
      "Speed: 1.4ms preprocess, 5.2ms inference, 1.1ms postprocess per image at shape (1, 3, 640, 640)\n",
      "Results saved to \u001b[1mruns/detect/predict\u001b[0m\n",
      "\n",
      "image 1/1 /home/ubuntu/Desktop/DL_WorkSpace/WorkSpace/Input_Data_Container/CB_WS/GIS_WS/cropped_jpg/ortho_24_17.jpg: 640x640 (no detections), 5.6ms\n",
      "Speed: 1.5ms preprocess, 5.6ms inference, 0.5ms postprocess per image at shape (1, 3, 640, 640)\n",
      "Results saved to \u001b[1mruns/detect/predict\u001b[0m\n",
      "\n",
      "image 1/1 /home/ubuntu/Desktop/DL_WorkSpace/WorkSpace/Input_Data_Container/CB_WS/GIS_WS/cropped_jpg/ortho_16_14.jpg: 640x640 (no detections), 5.9ms\n",
      "Speed: 1.6ms preprocess, 5.9ms inference, 0.5ms postprocess per image at shape (1, 3, 640, 640)\n",
      "Results saved to \u001b[1mruns/detect/predict\u001b[0m\n",
      "\n",
      "image 1/1 /home/ubuntu/Desktop/DL_WorkSpace/WorkSpace/Input_Data_Container/CB_WS/GIS_WS/cropped_jpg/ortho_24_8.jpg: 640x640 1 broccoli, 8.4ms\n",
      "Speed: 1.9ms preprocess, 8.4ms inference, 1.5ms postprocess per image at shape (1, 3, 640, 640)\n",
      "Results saved to \u001b[1mruns/detect/predict\u001b[0m\n"
     ]
    },
    {
     "name": "stderr",
     "output_type": "stream",
     "text": [
      " 55%|██████████████████████▍                  | 355/648 [00:10<00:08, 33.74it/s]"
     ]
    },
    {
     "name": "stdout",
     "output_type": "stream",
     "text": [
      "\n",
      "image 1/1 /home/ubuntu/Desktop/DL_WorkSpace/WorkSpace/Input_Data_Container/CB_WS/GIS_WS/cropped_jpg/ortho_15_2.jpg: 640x640 1 broccoli, 8.1ms\n",
      "Speed: 1.8ms preprocess, 8.1ms inference, 1.6ms postprocess per image at shape (1, 3, 640, 640)\n",
      "Results saved to \u001b[1mruns/detect/predict\u001b[0m\n",
      "\n",
      "image 1/1 /home/ubuntu/Desktop/DL_WorkSpace/WorkSpace/Input_Data_Container/CB_WS/GIS_WS/cropped_jpg/ortho_0_10.jpg: 640x640 (no detections), 7.1ms\n",
      "Speed: 2.3ms preprocess, 7.1ms inference, 0.6ms postprocess per image at shape (1, 3, 640, 640)\n",
      "Results saved to \u001b[1mruns/detect/predict\u001b[0m\n",
      "\n",
      "image 1/1 /home/ubuntu/Desktop/DL_WorkSpace/WorkSpace/Input_Data_Container/CB_WS/GIS_WS/cropped_jpg/ortho_23_18.jpg: 640x640 (no detections), 7.1ms\n",
      "Speed: 1.8ms preprocess, 7.1ms inference, 0.7ms postprocess per image at shape (1, 3, 640, 640)\n",
      "Results saved to \u001b[1mruns/detect/predict\u001b[0m\n",
      "\n",
      "image 1/1 /home/ubuntu/Desktop/DL_WorkSpace/WorkSpace/Input_Data_Container/CB_WS/GIS_WS/cropped_jpg/ortho_19_15.jpg: 640x640 (no detections), 7.5ms\n",
      "Speed: 2.0ms preprocess, 7.5ms inference, 0.9ms postprocess per image at shape (1, 3, 640, 640)\n",
      "Results saved to \u001b[1mruns/detect/predict\u001b[0m\n"
     ]
    },
    {
     "name": "stderr",
     "output_type": "stream",
     "text": [
      " 55%|██████████████████████▋                  | 359/648 [00:10<00:09, 31.26it/s]"
     ]
    },
    {
     "name": "stdout",
     "output_type": "stream",
     "text": [
      "\n",
      "image 1/1 /home/ubuntu/Desktop/DL_WorkSpace/WorkSpace/Input_Data_Container/CB_WS/GIS_WS/cropped_jpg/ortho_26_4.jpg: 640x640 2 broccolis, 1 pizza, 1 cake, 1 dining table, 6.2ms\n",
      "Speed: 1.7ms preprocess, 6.2ms inference, 1.4ms postprocess per image at shape (1, 3, 640, 640)\n",
      "Results saved to \u001b[1mruns/detect/predict\u001b[0m\n",
      "\n",
      "image 1/1 /home/ubuntu/Desktop/DL_WorkSpace/WorkSpace/Input_Data_Container/CB_WS/GIS_WS/cropped_jpg/ortho_25_22.jpg: 640x640 (no detections), 5.4ms\n",
      "Speed: 1.8ms preprocess, 5.4ms inference, 0.6ms postprocess per image at shape (1, 3, 640, 640)\n",
      "Results saved to \u001b[1mruns/detect/predict\u001b[0m\n",
      "\n",
      "image 1/1 /home/ubuntu/Desktop/DL_WorkSpace/WorkSpace/Input_Data_Container/CB_WS/GIS_WS/cropped_jpg/ortho_7_0.jpg: 640x640 1 broccoli, 1 pizza, 5.4ms\n",
      "Speed: 1.9ms preprocess, 5.4ms inference, 1.1ms postprocess per image at shape (1, 3, 640, 640)\n",
      "Results saved to \u001b[1mruns/detect/predict\u001b[0m\n",
      "\n",
      "image 1/1 /home/ubuntu/Desktop/DL_WorkSpace/WorkSpace/Input_Data_Container/CB_WS/GIS_WS/cropped_jpg/ortho_4_20.jpg: 640x640 1 person, 8.5ms\n",
      "Speed: 1.8ms preprocess, 8.5ms inference, 1.4ms postprocess per image at shape (1, 3, 640, 640)\n",
      "Results saved to \u001b[1mruns/detect/predict\u001b[0m\n"
     ]
    },
    {
     "name": "stderr",
     "output_type": "stream",
     "text": [
      " 56%|██████████████████████▉                  | 363/648 [00:10<00:08, 31.72it/s]"
     ]
    },
    {
     "name": "stdout",
     "output_type": "stream",
     "text": [
      "\n",
      "image 1/1 /home/ubuntu/Desktop/DL_WorkSpace/WorkSpace/Input_Data_Container/CB_WS/GIS_WS/cropped_jpg/ortho_3_12.jpg: 640x640 1 broccoli, 1 cake, 8.5ms\n",
      "Speed: 1.6ms preprocess, 8.5ms inference, 1.6ms postprocess per image at shape (1, 3, 640, 640)\n",
      "Results saved to \u001b[1mruns/detect/predict\u001b[0m\n",
      "\n",
      "image 1/1 /home/ubuntu/Desktop/DL_WorkSpace/WorkSpace/Input_Data_Container/CB_WS/GIS_WS/cropped_jpg/ortho_10_0.jpg: 640x640 1 person, 1 broccoli, 7.6ms\n",
      "Speed: 2.0ms preprocess, 7.6ms inference, 1.0ms postprocess per image at shape (1, 3, 640, 640)\n",
      "Results saved to \u001b[1mruns/detect/predict\u001b[0m\n",
      "\n",
      "image 1/1 /home/ubuntu/Desktop/DL_WorkSpace/WorkSpace/Input_Data_Container/CB_WS/GIS_WS/cropped_jpg/ortho_12_7.jpg: 640x640 3 broccolis, 1 cake, 5.4ms\n",
      "Speed: 1.6ms preprocess, 5.4ms inference, 1.0ms postprocess per image at shape (1, 3, 640, 640)\n",
      "Results saved to \u001b[1mruns/detect/predict\u001b[0m\n",
      "\n",
      "image 1/1 /home/ubuntu/Desktop/DL_WorkSpace/WorkSpace/Input_Data_Container/CB_WS/GIS_WS/cropped_jpg/ortho_9_8.jpg: 640x640 1 pizza, 1 dining table, 7.2ms\n",
      "Speed: 1.7ms preprocess, 7.2ms inference, 1.1ms postprocess per image at shape (1, 3, 640, 640)\n",
      "Results saved to \u001b[1mruns/detect/predict\u001b[0m\n"
     ]
    },
    {
     "name": "stderr",
     "output_type": "stream",
     "text": [
      " 57%|███████████████████████▏                 | 367/648 [00:11<00:08, 31.88it/s]"
     ]
    },
    {
     "name": "stdout",
     "output_type": "stream",
     "text": [
      "\n",
      "image 1/1 /home/ubuntu/Desktop/DL_WorkSpace/WorkSpace/Input_Data_Container/CB_WS/GIS_WS/cropped_jpg/ortho_11_17.jpg: 640x640 (no detections), 6.0ms\n",
      "Speed: 1.8ms preprocess, 6.0ms inference, 0.5ms postprocess per image at shape (1, 3, 640, 640)\n",
      "Results saved to \u001b[1mruns/detect/predict\u001b[0m\n",
      "\n",
      "image 1/1 /home/ubuntu/Desktop/DL_WorkSpace/WorkSpace/Input_Data_Container/CB_WS/GIS_WS/cropped_jpg/ortho_14_14.jpg: 640x640 1 pizza, 1 cake, 5.3ms\n",
      "Speed: 1.5ms preprocess, 5.3ms inference, 1.3ms postprocess per image at shape (1, 3, 640, 640)\n",
      "Results saved to \u001b[1mruns/detect/predict\u001b[0m\n",
      "\n",
      "image 1/1 /home/ubuntu/Desktop/DL_WorkSpace/WorkSpace/Input_Data_Container/CB_WS/GIS_WS/cropped_jpg/ortho_9_20.jpg: 640x640 (no detections), 5.0ms\n",
      "Speed: 1.4ms preprocess, 5.0ms inference, 0.5ms postprocess per image at shape (1, 3, 640, 640)\n",
      "Results saved to \u001b[1mruns/detect/predict\u001b[0m\n",
      "\n",
      "image 1/1 /home/ubuntu/Desktop/DL_WorkSpace/WorkSpace/Input_Data_Container/CB_WS/GIS_WS/cropped_jpg/ortho_11_14.jpg: 640x640 1 pizza, 1 cake, 5.3ms\n",
      "Speed: 1.5ms preprocess, 5.3ms inference, 1.2ms postprocess per image at shape (1, 3, 640, 640)\n",
      "Results saved to \u001b[1mruns/detect/predict\u001b[0m\n",
      "\n",
      "image 1/1 /home/ubuntu/Desktop/DL_WorkSpace/WorkSpace/Input_Data_Container/CB_WS/GIS_WS/cropped_jpg/ortho_12_2.jpg: 640x640 1 broccoli, 5.2ms\n",
      "Speed: 1.5ms preprocess, 5.2ms inference, 1.0ms postprocess per image at shape (1, 3, 640, 640)\n",
      "Results saved to \u001b[1mruns/detect/predict\u001b[0m\n"
     ]
    },
    {
     "name": "stderr",
     "output_type": "stream",
     "text": [
      " 57%|███████████████████████▌                 | 372/648 [00:11<00:07, 34.54it/s]"
     ]
    },
    {
     "name": "stdout",
     "output_type": "stream",
     "text": [
      "\n",
      "image 1/1 /home/ubuntu/Desktop/DL_WorkSpace/WorkSpace/Input_Data_Container/CB_WS/GIS_WS/cropped_jpg/ortho_8_5.jpg: 640x640 1 broccoli, 1 cake, 5.3ms\n",
      "Speed: 1.5ms preprocess, 5.3ms inference, 1.4ms postprocess per image at shape (1, 3, 640, 640)\n",
      "Results saved to \u001b[1mruns/detect/predict\u001b[0m\n",
      "\n",
      "image 1/1 /home/ubuntu/Desktop/DL_WorkSpace/WorkSpace/Input_Data_Container/CB_WS/GIS_WS/cropped_jpg/ortho_25_14.jpg: 640x640 (no detections), 7.0ms\n",
      "Speed: 1.6ms preprocess, 7.0ms inference, 0.6ms postprocess per image at shape (1, 3, 640, 640)\n",
      "Results saved to \u001b[1mruns/detect/predict\u001b[0m\n",
      "\n",
      "image 1/1 /home/ubuntu/Desktop/DL_WorkSpace/WorkSpace/Input_Data_Container/CB_WS/GIS_WS/cropped_jpg/ortho_1_12.jpg: 640x640 1 person, 2 broccolis, 1 dining table, 8.5ms\n",
      "Speed: 1.9ms preprocess, 8.5ms inference, 1.7ms postprocess per image at shape (1, 3, 640, 640)\n",
      "Results saved to \u001b[1mruns/detect/predict\u001b[0m\n",
      "\n",
      "image 1/1 /home/ubuntu/Desktop/DL_WorkSpace/WorkSpace/Input_Data_Container/CB_WS/GIS_WS/cropped_jpg/ortho_2_8.jpg: 640x640 1 cake, 7.3ms\n",
      "Speed: 1.8ms preprocess, 7.3ms inference, 1.0ms postprocess per image at shape (1, 3, 640, 640)\n",
      "Results saved to \u001b[1mruns/detect/predict\u001b[0m\n"
     ]
    },
    {
     "name": "stderr",
     "output_type": "stream",
     "text": [
      " 58%|███████████████████████▊                 | 376/648 [00:11<00:08, 33.65it/s]"
     ]
    },
    {
     "name": "stdout",
     "output_type": "stream",
     "text": [
      "\n",
      "image 1/1 /home/ubuntu/Desktop/DL_WorkSpace/WorkSpace/Input_Data_Container/CB_WS/GIS_WS/cropped_jpg/ortho_7_1.jpg: 640x640 1 person, 1 dining table, 7.2ms\n",
      "Speed: 1.8ms preprocess, 7.2ms inference, 1.5ms postprocess per image at shape (1, 3, 640, 640)\n",
      "Results saved to \u001b[1mruns/detect/predict\u001b[0m\n",
      "\n",
      "image 1/1 /home/ubuntu/Desktop/DL_WorkSpace/WorkSpace/Input_Data_Container/CB_WS/GIS_WS/cropped_jpg/ortho_19_10.jpg: 640x640 1 bowl, 1 cake, 6.8ms\n",
      "Speed: 1.7ms preprocess, 6.8ms inference, 1.1ms postprocess per image at shape (1, 3, 640, 640)\n",
      "Results saved to \u001b[1mruns/detect/predict\u001b[0m\n",
      "\n",
      "image 1/1 /home/ubuntu/Desktop/DL_WorkSpace/WorkSpace/Input_Data_Container/CB_WS/GIS_WS/cropped_jpg/ortho_15_4.jpg: 640x640 1 cake, 5.8ms\n",
      "Speed: 1.5ms preprocess, 5.8ms inference, 1.3ms postprocess per image at shape (1, 3, 640, 640)\n",
      "Results saved to \u001b[1mruns/detect/predict\u001b[0m\n",
      "\n",
      "image 1/1 /home/ubuntu/Desktop/DL_WorkSpace/WorkSpace/Input_Data_Container/CB_WS/GIS_WS/cropped_jpg/ortho_18_10.jpg: 640x640 1 bowl, 1 cake, 7.7ms\n",
      "Speed: 1.8ms preprocess, 7.7ms inference, 1.6ms postprocess per image at shape (1, 3, 640, 640)\n",
      "Results saved to \u001b[1mruns/detect/predict\u001b[0m\n"
     ]
    },
    {
     "name": "stderr",
     "output_type": "stream",
     "text": [
      " 59%|████████████████████████                 | 380/648 [00:11<00:08, 32.63it/s]"
     ]
    },
    {
     "name": "stdout",
     "output_type": "stream",
     "text": [
      "\n",
      "image 1/1 /home/ubuntu/Desktop/DL_WorkSpace/WorkSpace/Input_Data_Container/CB_WS/GIS_WS/cropped_jpg/ortho_19_0.jpg: 640x640 (no detections), 7.8ms\n",
      "Speed: 1.7ms preprocess, 7.8ms inference, 0.8ms postprocess per image at shape (1, 3, 640, 640)\n",
      "Results saved to \u001b[1mruns/detect/predict\u001b[0m\n",
      "\n",
      "image 1/1 /home/ubuntu/Desktop/DL_WorkSpace/WorkSpace/Input_Data_Container/CB_WS/GIS_WS/cropped_jpg/ortho_5_2.jpg: 640x640 1 person, 7.3ms\n",
      "Speed: 1.8ms preprocess, 7.3ms inference, 1.4ms postprocess per image at shape (1, 3, 640, 640)\n",
      "Results saved to \u001b[1mruns/detect/predict\u001b[0m\n",
      "\n",
      "image 1/1 /home/ubuntu/Desktop/DL_WorkSpace/WorkSpace/Input_Data_Container/CB_WS/GIS_WS/cropped_jpg/ortho_1_5.jpg: 640x640 (no detections), 8.8ms\n",
      "Speed: 1.8ms preprocess, 8.8ms inference, 1.7ms postprocess per image at shape (1, 3, 640, 640)\n",
      "Results saved to \u001b[1mruns/detect/predict\u001b[0m\n",
      "\n",
      "image 1/1 /home/ubuntu/Desktop/DL_WorkSpace/WorkSpace/Input_Data_Container/CB_WS/GIS_WS/cropped_jpg/ortho_12_10.jpg: 640x640 2 broccolis, 1 pizza, 1 cake, 8.1ms\n",
      "Speed: 1.5ms preprocess, 8.1ms inference, 1.1ms postprocess per image at shape (1, 3, 640, 640)\n",
      "Results saved to \u001b[1mruns/detect/predict\u001b[0m\n"
     ]
    },
    {
     "name": "stderr",
     "output_type": "stream",
     "text": [
      " 59%|████████████████████████▎                | 384/648 [00:11<00:08, 30.80it/s]"
     ]
    },
    {
     "name": "stdout",
     "output_type": "stream",
     "text": [
      "\n",
      "image 1/1 /home/ubuntu/Desktop/DL_WorkSpace/WorkSpace/Input_Data_Container/CB_WS/GIS_WS/cropped_jpg/ortho_9_16.jpg: 640x640 (no detections), 8.9ms\n",
      "Speed: 1.9ms preprocess, 8.9ms inference, 0.8ms postprocess per image at shape (1, 3, 640, 640)\n",
      "Results saved to \u001b[1mruns/detect/predict\u001b[0m\n",
      "\n",
      "image 1/1 /home/ubuntu/Desktop/DL_WorkSpace/WorkSpace/Input_Data_Container/CB_WS/GIS_WS/cropped_jpg/ortho_15_11.jpg: 640x640 1 bowl, 1 apple, 1 sandwich, 1 hot dog, 2 donuts, 5.6ms\n",
      "Speed: 1.8ms preprocess, 5.6ms inference, 1.4ms postprocess per image at shape (1, 3, 640, 640)\n",
      "Results saved to \u001b[1mruns/detect/predict\u001b[0m\n",
      "\n",
      "image 1/1 /home/ubuntu/Desktop/DL_WorkSpace/WorkSpace/Input_Data_Container/CB_WS/GIS_WS/cropped_jpg/ortho_4_0.jpg: 640x640 1 book, 5.3ms\n",
      "Speed: 1.5ms preprocess, 5.3ms inference, 1.6ms postprocess per image at shape (1, 3, 640, 640)\n",
      "Results saved to \u001b[1mruns/detect/predict\u001b[0m\n",
      "\n",
      "image 1/1 /home/ubuntu/Desktop/DL_WorkSpace/WorkSpace/Input_Data_Container/CB_WS/GIS_WS/cropped_jpg/ortho_24_22.jpg: 640x640 (no detections), 7.6ms\n",
      "Speed: 1.5ms preprocess, 7.6ms inference, 0.5ms postprocess per image at shape (1, 3, 640, 640)\n",
      "Results saved to \u001b[1mruns/detect/predict\u001b[0m\n"
     ]
    },
    {
     "name": "stderr",
     "output_type": "stream",
     "text": [
      " 60%|████████████████████████▌                | 388/648 [00:11<00:08, 32.25it/s]"
     ]
    },
    {
     "name": "stdout",
     "output_type": "stream",
     "text": [
      "\n",
      "image 1/1 /home/ubuntu/Desktop/DL_WorkSpace/WorkSpace/Input_Data_Container/CB_WS/GIS_WS/cropped_jpg/ortho_19_7.jpg: 640x640 1 broccoli, 6.6ms\n",
      "Speed: 1.5ms preprocess, 6.6ms inference, 1.2ms postprocess per image at shape (1, 3, 640, 640)\n",
      "Results saved to \u001b[1mruns/detect/predict\u001b[0m\n",
      "\n",
      "image 1/1 /home/ubuntu/Desktop/DL_WorkSpace/WorkSpace/Input_Data_Container/CB_WS/GIS_WS/cropped_jpg/ortho_7_3.jpg: 640x640 1 cake, 5.8ms\n",
      "Speed: 1.6ms preprocess, 5.8ms inference, 1.1ms postprocess per image at shape (1, 3, 640, 640)\n",
      "Results saved to \u001b[1mruns/detect/predict\u001b[0m\n",
      "\n",
      "image 1/1 /home/ubuntu/Desktop/DL_WorkSpace/WorkSpace/Input_Data_Container/CB_WS/GIS_WS/cropped_jpg/ortho_2_18.jpg: 640x640 1 person, 2 broccolis, 5.2ms\n",
      "Speed: 1.6ms preprocess, 5.2ms inference, 1.2ms postprocess per image at shape (1, 3, 640, 640)\n",
      "Results saved to \u001b[1mruns/detect/predict\u001b[0m\n",
      "\n",
      "image 1/1 /home/ubuntu/Desktop/DL_WorkSpace/WorkSpace/Input_Data_Container/CB_WS/GIS_WS/cropped_jpg/ortho_20_23.jpg: 640x640 1 broccoli, 1 cake, 7.2ms\n",
      "Speed: 1.7ms preprocess, 7.2ms inference, 1.4ms postprocess per image at shape (1, 3, 640, 640)\n",
      "Results saved to \u001b[1mruns/detect/predict\u001b[0m\n"
     ]
    },
    {
     "name": "stderr",
     "output_type": "stream",
     "text": [
      " 60%|████████████████████████▊                | 392/648 [00:11<00:07, 32.67it/s]"
     ]
    },
    {
     "name": "stdout",
     "output_type": "stream",
     "text": [
      "\n",
      "image 1/1 /home/ubuntu/Desktop/DL_WorkSpace/WorkSpace/Input_Data_Container/CB_WS/GIS_WS/cropped_jpg/ortho_20_1.jpg: 640x640 (no detections), 8.1ms\n",
      "Speed: 1.9ms preprocess, 8.1ms inference, 0.8ms postprocess per image at shape (1, 3, 640, 640)\n",
      "Results saved to \u001b[1mruns/detect/predict\u001b[0m\n",
      "\n",
      "image 1/1 /home/ubuntu/Desktop/DL_WorkSpace/WorkSpace/Input_Data_Container/CB_WS/GIS_WS/cropped_jpg/ortho_22_9.jpg: 640x640 1 dining table, 9.0ms\n",
      "Speed: 1.9ms preprocess, 9.0ms inference, 1.5ms postprocess per image at shape (1, 3, 640, 640)\n",
      "Results saved to \u001b[1mruns/detect/predict\u001b[0m\n",
      "\n",
      "image 1/1 /home/ubuntu/Desktop/DL_WorkSpace/WorkSpace/Input_Data_Container/CB_WS/GIS_WS/cropped_jpg/ortho_16_7.jpg: 640x640 (no detections), 6.9ms\n",
      "Speed: 1.8ms preprocess, 6.9ms inference, 0.7ms postprocess per image at shape (1, 3, 640, 640)\n",
      "Results saved to \u001b[1mruns/detect/predict\u001b[0m\n",
      "\n",
      "image 1/1 /home/ubuntu/Desktop/DL_WorkSpace/WorkSpace/Input_Data_Container/CB_WS/GIS_WS/cropped_jpg/ortho_15_3.jpg: 640x640 1 broccoli, 1 cake, 7.6ms\n",
      "Speed: 1.9ms preprocess, 7.6ms inference, 1.3ms postprocess per image at shape (1, 3, 640, 640)\n",
      "Results saved to \u001b[1mruns/detect/predict\u001b[0m\n"
     ]
    },
    {
     "name": "stderr",
     "output_type": "stream",
     "text": [
      " 61%|█████████████████████████                | 396/648 [00:11<00:08, 31.15it/s]"
     ]
    },
    {
     "name": "stdout",
     "output_type": "stream",
     "text": [
      "\n",
      "image 1/1 /home/ubuntu/Desktop/DL_WorkSpace/WorkSpace/Input_Data_Container/CB_WS/GIS_WS/cropped_jpg/ortho_15_17.jpg: 640x640 1 cake, 9.2ms\n",
      "Speed: 1.8ms preprocess, 9.2ms inference, 1.1ms postprocess per image at shape (1, 3, 640, 640)\n",
      "Results saved to \u001b[1mruns/detect/predict\u001b[0m\n",
      "\n",
      "image 1/1 /home/ubuntu/Desktop/DL_WorkSpace/WorkSpace/Input_Data_Container/CB_WS/GIS_WS/cropped_jpg/ortho_25_8.jpg: 640x640 (no detections), 6.0ms\n",
      "Speed: 1.8ms preprocess, 6.0ms inference, 0.5ms postprocess per image at shape (1, 3, 640, 640)\n",
      "Results saved to \u001b[1mruns/detect/predict\u001b[0m\n",
      "\n",
      "image 1/1 /home/ubuntu/Desktop/DL_WorkSpace/WorkSpace/Input_Data_Container/CB_WS/GIS_WS/cropped_jpg/ortho_20_7.jpg: 640x640 7 broccolis, 1 pizza, 1 cake, 1 dining table, 8.9ms\n",
      "Speed: 2.0ms preprocess, 8.9ms inference, 1.6ms postprocess per image at shape (1, 3, 640, 640)\n",
      "Results saved to \u001b[1mruns/detect/predict\u001b[0m\n",
      "\n",
      "image 1/1 /home/ubuntu/Desktop/DL_WorkSpace/WorkSpace/Input_Data_Container/CB_WS/GIS_WS/cropped_jpg/ortho_12_13.jpg: 640x640 (no detections), 5.5ms\n",
      "Speed: 1.5ms preprocess, 5.5ms inference, 0.7ms postprocess per image at shape (1, 3, 640, 640)\n",
      "Results saved to \u001b[1mruns/detect/predict\u001b[0m\n"
     ]
    },
    {
     "name": "stderr",
     "output_type": "stream",
     "text": [
      " 62%|█████████████████████████▎               | 400/648 [00:12<00:08, 30.41it/s]"
     ]
    },
    {
     "name": "stdout",
     "output_type": "stream",
     "text": [
      "\n",
      "image 1/1 /home/ubuntu/Desktop/DL_WorkSpace/WorkSpace/Input_Data_Container/CB_WS/GIS_WS/cropped_jpg/ortho_19_21.jpg: 640x640 1 cake, 7.7ms\n",
      "Speed: 1.9ms preprocess, 7.7ms inference, 1.4ms postprocess per image at shape (1, 3, 640, 640)\n",
      "Results saved to \u001b[1mruns/detect/predict\u001b[0m\n",
      "\n",
      "image 1/1 /home/ubuntu/Desktop/DL_WorkSpace/WorkSpace/Input_Data_Container/CB_WS/GIS_WS/cropped_jpg/ortho_0_22.jpg: 640x640 1 refrigerator, 11.3ms\n",
      "Speed: 1.8ms preprocess, 11.3ms inference, 1.7ms postprocess per image at shape (1, 3, 640, 640)\n",
      "Results saved to \u001b[1mruns/detect/predict\u001b[0m\n",
      "\n",
      "image 1/1 /home/ubuntu/Desktop/DL_WorkSpace/WorkSpace/Input_Data_Container/CB_WS/GIS_WS/cropped_jpg/ortho_26_23.jpg: 640x640 (no detections), 9.6ms\n",
      "Speed: 1.9ms preprocess, 9.6ms inference, 1.1ms postprocess per image at shape (1, 3, 640, 640)\n",
      "Results saved to \u001b[1mruns/detect/predict\u001b[0m\n",
      "\n",
      "image 1/1 /home/ubuntu/Desktop/DL_WorkSpace/WorkSpace/Input_Data_Container/CB_WS/GIS_WS/cropped_jpg/ortho_25_13.jpg: 640x640 (no detections), 9.3ms\n",
      "Speed: 2.1ms preprocess, 9.3ms inference, 0.8ms postprocess per image at shape (1, 3, 640, 640)\n",
      "Results saved to \u001b[1mruns/detect/predict\u001b[0m\n"
     ]
    },
    {
     "name": "stderr",
     "output_type": "stream",
     "text": [
      " 62%|█████████████████████████▌               | 404/648 [00:12<00:08, 27.40it/s]"
     ]
    },
    {
     "name": "stdout",
     "output_type": "stream",
     "text": [
      "\n",
      "image 1/1 /home/ubuntu/Desktop/DL_WorkSpace/WorkSpace/Input_Data_Container/CB_WS/GIS_WS/cropped_jpg/ortho_18_20.jpg: 640x640 1 cake, 5.3ms\n",
      "Speed: 1.7ms preprocess, 5.3ms inference, 1.2ms postprocess per image at shape (1, 3, 640, 640)\n",
      "Results saved to \u001b[1mruns/detect/predict\u001b[0m\n",
      "\n",
      "image 1/1 /home/ubuntu/Desktop/DL_WorkSpace/WorkSpace/Input_Data_Container/CB_WS/GIS_WS/cropped_jpg/ortho_5_5.jpg: 640x640 (no detections), 9.4ms\n",
      "Speed: 2.1ms preprocess, 9.4ms inference, 0.8ms postprocess per image at shape (1, 3, 640, 640)\n",
      "Results saved to \u001b[1mruns/detect/predict\u001b[0m\n",
      "\n",
      "image 1/1 /home/ubuntu/Desktop/DL_WorkSpace/WorkSpace/Input_Data_Container/CB_WS/GIS_WS/cropped_jpg/ortho_14_19.jpg: 640x640 1 cake, 8.4ms\n",
      "Speed: 1.6ms preprocess, 8.4ms inference, 1.5ms postprocess per image at shape (1, 3, 640, 640)\n",
      "Results saved to \u001b[1mruns/detect/predict\u001b[0m\n"
     ]
    },
    {
     "name": "stderr",
     "output_type": "stream",
     "text": [
      " 63%|█████████████████████████▊               | 407/648 [00:12<00:08, 26.92it/s]"
     ]
    },
    {
     "name": "stdout",
     "output_type": "stream",
     "text": [
      "\n",
      "image 1/1 /home/ubuntu/Desktop/DL_WorkSpace/WorkSpace/Input_Data_Container/CB_WS/GIS_WS/cropped_jpg/ortho_7_22.jpg: 640x640 3 broccolis, 1 cake, 6.3ms\n",
      "Speed: 1.5ms preprocess, 6.3ms inference, 1.7ms postprocess per image at shape (1, 3, 640, 640)\n",
      "Results saved to \u001b[1mruns/detect/predict\u001b[0m\n",
      "\n",
      "image 1/1 /home/ubuntu/Desktop/DL_WorkSpace/WorkSpace/Input_Data_Container/CB_WS/GIS_WS/cropped_jpg/ortho_2_19.jpg: 640x640 1 suitcase, 1 bottle, 7.2ms\n",
      "Speed: 1.8ms preprocess, 7.2ms inference, 1.3ms postprocess per image at shape (1, 3, 640, 640)\n",
      "Results saved to \u001b[1mruns/detect/predict\u001b[0m\n",
      "\n",
      "image 1/1 /home/ubuntu/Desktop/DL_WorkSpace/WorkSpace/Input_Data_Container/CB_WS/GIS_WS/cropped_jpg/ortho_13_2.jpg: 640x640 1 broccoli, 5.5ms\n",
      "Speed: 1.5ms preprocess, 5.5ms inference, 1.0ms postprocess per image at shape (1, 3, 640, 640)\n",
      "Results saved to \u001b[1mruns/detect/predict\u001b[0m\n",
      "\n",
      "image 1/1 /home/ubuntu/Desktop/DL_WorkSpace/WorkSpace/Input_Data_Container/CB_WS/GIS_WS/cropped_jpg/ortho_13_0.jpg: 640x640 1 broccoli, 5.5ms\n",
      "Speed: 1.5ms preprocess, 5.5ms inference, 1.1ms postprocess per image at shape (1, 3, 640, 640)\n",
      "Results saved to \u001b[1mruns/detect/predict\u001b[0m\n"
     ]
    },
    {
     "name": "stderr",
     "output_type": "stream",
     "text": [
      " 63%|██████████████████████████               | 411/648 [00:12<00:08, 29.48it/s]"
     ]
    },
    {
     "name": "stdout",
     "output_type": "stream",
     "text": [
      "\n",
      "image 1/1 /home/ubuntu/Desktop/DL_WorkSpace/WorkSpace/Input_Data_Container/CB_WS/GIS_WS/cropped_jpg/ortho_5_15.jpg: 640x640 1 traffic light, 1 broccoli, 1 toilet, 7.4ms\n",
      "Speed: 1.7ms preprocess, 7.4ms inference, 1.0ms postprocess per image at shape (1, 3, 640, 640)\n",
      "Results saved to \u001b[1mruns/detect/predict\u001b[0m\n",
      "\n",
      "image 1/1 /home/ubuntu/Desktop/DL_WorkSpace/WorkSpace/Input_Data_Container/CB_WS/GIS_WS/cropped_jpg/ortho_23_7.jpg: 640x640 (no detections), 6.6ms\n",
      "Speed: 1.7ms preprocess, 6.6ms inference, 0.5ms postprocess per image at shape (1, 3, 640, 640)\n",
      "Results saved to \u001b[1mruns/detect/predict\u001b[0m\n",
      "\n",
      "image 1/1 /home/ubuntu/Desktop/DL_WorkSpace/WorkSpace/Input_Data_Container/CB_WS/GIS_WS/cropped_jpg/ortho_8_18.jpg: 640x640 (no detections), 7.4ms\n",
      "Speed: 1.8ms preprocess, 7.4ms inference, 0.5ms postprocess per image at shape (1, 3, 640, 640)\n",
      "Results saved to \u001b[1mruns/detect/predict\u001b[0m\n",
      "\n",
      "image 1/1 /home/ubuntu/Desktop/DL_WorkSpace/WorkSpace/Input_Data_Container/CB_WS/GIS_WS/cropped_jpg/ortho_8_6.jpg: 640x640 1 cake, 8.2ms\n",
      "Speed: 1.6ms preprocess, 8.2ms inference, 1.4ms postprocess per image at shape (1, 3, 640, 640)\n",
      "Results saved to \u001b[1mruns/detect/predict\u001b[0m\n"
     ]
    },
    {
     "name": "stderr",
     "output_type": "stream",
     "text": [
      " 64%|██████████████████████████▎              | 415/648 [00:12<00:07, 30.48it/s]"
     ]
    },
    {
     "name": "stdout",
     "output_type": "stream",
     "text": [
      "\n",
      "image 1/1 /home/ubuntu/Desktop/DL_WorkSpace/WorkSpace/Input_Data_Container/CB_WS/GIS_WS/cropped_jpg/ortho_2_10.jpg: 640x640 1 bowl, 2 broccolis, 1 pizza, 1 cake, 9.2ms\n",
      "Speed: 1.9ms preprocess, 9.2ms inference, 1.4ms postprocess per image at shape (1, 3, 640, 640)\n",
      "Results saved to \u001b[1mruns/detect/predict\u001b[0m\n",
      "\n",
      "image 1/1 /home/ubuntu/Desktop/DL_WorkSpace/WorkSpace/Input_Data_Container/CB_WS/GIS_WS/cropped_jpg/ortho_16_20.jpg: 640x640 2 donuts, 1 cake, 7.0ms\n",
      "Speed: 1.7ms preprocess, 7.0ms inference, 1.4ms postprocess per image at shape (1, 3, 640, 640)\n",
      "Results saved to \u001b[1mruns/detect/predict\u001b[0m\n",
      "\n",
      "image 1/1 /home/ubuntu/Desktop/DL_WorkSpace/WorkSpace/Input_Data_Container/CB_WS/GIS_WS/cropped_jpg/ortho_1_7.jpg: 640x640 1 cake, 5.5ms\n",
      "Speed: 1.5ms preprocess, 5.5ms inference, 1.0ms postprocess per image at shape (1, 3, 640, 640)\n",
      "Results saved to \u001b[1mruns/detect/predict\u001b[0m\n",
      "\n",
      "image 1/1 /home/ubuntu/Desktop/DL_WorkSpace/WorkSpace/Input_Data_Container/CB_WS/GIS_WS/cropped_jpg/ortho_13_17.jpg: 640x640 (no detections), 6.9ms\n",
      "Speed: 1.7ms preprocess, 6.9ms inference, 0.5ms postprocess per image at shape (1, 3, 640, 640)\n",
      "Results saved to \u001b[1mruns/detect/predict\u001b[0m\n"
     ]
    },
    {
     "name": "stderr",
     "output_type": "stream",
     "text": [
      " 65%|██████████████████████████▌              | 419/648 [00:12<00:07, 30.17it/s]"
     ]
    },
    {
     "name": "stdout",
     "output_type": "stream",
     "text": [
      "\n",
      "image 1/1 /home/ubuntu/Desktop/DL_WorkSpace/WorkSpace/Input_Data_Container/CB_WS/GIS_WS/cropped_jpg/ortho_12_9.jpg: 640x640 1 bowl, 3 broccolis, 7.4ms\n",
      "Speed: 1.8ms preprocess, 7.4ms inference, 1.5ms postprocess per image at shape (1, 3, 640, 640)\n",
      "Results saved to \u001b[1mruns/detect/predict\u001b[0m\n",
      "\n",
      "image 1/1 /home/ubuntu/Desktop/DL_WorkSpace/WorkSpace/Input_Data_Container/CB_WS/GIS_WS/cropped_jpg/ortho_18_8.jpg: 640x640 1 cake, 6.2ms\n",
      "Speed: 1.8ms preprocess, 6.2ms inference, 1.0ms postprocess per image at shape (1, 3, 640, 640)\n",
      "Results saved to \u001b[1mruns/detect/predict\u001b[0m\n",
      "\n",
      "image 1/1 /home/ubuntu/Desktop/DL_WorkSpace/WorkSpace/Input_Data_Container/CB_WS/GIS_WS/cropped_jpg/ortho_18_4.jpg: 640x640 1 cake, 7.1ms\n",
      "Speed: 1.8ms preprocess, 7.1ms inference, 1.1ms postprocess per image at shape (1, 3, 640, 640)\n",
      "Results saved to \u001b[1mruns/detect/predict\u001b[0m\n",
      "\n",
      "image 1/1 /home/ubuntu/Desktop/DL_WorkSpace/WorkSpace/Input_Data_Container/CB_WS/GIS_WS/cropped_jpg/ortho_6_15.jpg: 640x640 1 pizza, 23.7ms\n",
      "Speed: 1.8ms preprocess, 23.7ms inference, 1.4ms postprocess per image at shape (1, 3, 640, 640)\n",
      "Results saved to \u001b[1mruns/detect/predict\u001b[0m\n"
     ]
    },
    {
     "name": "stderr",
     "output_type": "stream",
     "text": [
      " 65%|██████████████████████████▊              | 423/648 [00:12<00:07, 29.14it/s]"
     ]
    },
    {
     "name": "stdout",
     "output_type": "stream",
     "text": [
      "\n",
      "image 1/1 /home/ubuntu/Desktop/DL_WorkSpace/WorkSpace/Input_Data_Container/CB_WS/GIS_WS/cropped_jpg/ortho_23_12.jpg: 640x640 1 broccoli, 1 cake, 7.2ms\n",
      "Speed: 1.7ms preprocess, 7.2ms inference, 1.5ms postprocess per image at shape (1, 3, 640, 640)\n",
      "Results saved to \u001b[1mruns/detect/predict\u001b[0m\n",
      "\n",
      "image 1/1 /home/ubuntu/Desktop/DL_WorkSpace/WorkSpace/Input_Data_Container/CB_WS/GIS_WS/cropped_jpg/ortho_5_16.jpg: 640x640 1 person, 7.8ms\n",
      "Speed: 1.9ms preprocess, 7.8ms inference, 1.5ms postprocess per image at shape (1, 3, 640, 640)\n",
      "Results saved to \u001b[1mruns/detect/predict\u001b[0m\n",
      "\n",
      "image 1/1 /home/ubuntu/Desktop/DL_WorkSpace/WorkSpace/Input_Data_Container/CB_WS/GIS_WS/cropped_jpg/ortho_25_12.jpg: 640x640 1 broccoli, 1 carrot, 8.1ms\n",
      "Speed: 1.9ms preprocess, 8.1ms inference, 1.6ms postprocess per image at shape (1, 3, 640, 640)\n",
      "Results saved to \u001b[1mruns/detect/predict\u001b[0m\n"
     ]
    },
    {
     "name": "stderr",
     "output_type": "stream",
     "text": [
      " 66%|██████████████████████████▉              | 426/648 [00:12<00:07, 28.74it/s]"
     ]
    },
    {
     "name": "stdout",
     "output_type": "stream",
     "text": [
      "\n",
      "image 1/1 /home/ubuntu/Desktop/DL_WorkSpace/WorkSpace/Input_Data_Container/CB_WS/GIS_WS/cropped_jpg/ortho_25_0.jpg: 640x640 (no detections), 8.1ms\n",
      "Speed: 2.3ms preprocess, 8.1ms inference, 0.8ms postprocess per image at shape (1, 3, 640, 640)\n",
      "Results saved to \u001b[1mruns/detect/predict\u001b[0m\n",
      "\n",
      "image 1/1 /home/ubuntu/Desktop/DL_WorkSpace/WorkSpace/Input_Data_Container/CB_WS/GIS_WS/cropped_jpg/ortho_24_10.jpg: 640x640 1 broccoli, 6.6ms\n",
      "Speed: 1.5ms preprocess, 6.6ms inference, 1.1ms postprocess per image at shape (1, 3, 640, 640)\n",
      "Results saved to \u001b[1mruns/detect/predict\u001b[0m\n",
      "\n",
      "image 1/1 /home/ubuntu/Desktop/DL_WorkSpace/WorkSpace/Input_Data_Container/CB_WS/GIS_WS/cropped_jpg/ortho_12_6.jpg: 640x640 1 broccoli, 1 cake, 6.7ms\n",
      "Speed: 1.8ms preprocess, 6.7ms inference, 1.2ms postprocess per image at shape (1, 3, 640, 640)\n",
      "Results saved to \u001b[1mruns/detect/predict\u001b[0m\n",
      "\n",
      "image 1/1 /home/ubuntu/Desktop/DL_WorkSpace/WorkSpace/Input_Data_Container/CB_WS/GIS_WS/cropped_jpg/ortho_26_1.jpg: 640x640 1 broccoli, 1 potted plant, 5.5ms\n",
      "Speed: 1.5ms preprocess, 5.5ms inference, 1.2ms postprocess per image at shape (1, 3, 640, 640)\n",
      "Results saved to \u001b[1mruns/detect/predict\u001b[0m\n"
     ]
    },
    {
     "name": "stderr",
     "output_type": "stream",
     "text": [
      " 66%|███████████████████████████▏             | 430/648 [00:13<00:07, 30.21it/s]"
     ]
    },
    {
     "name": "stdout",
     "output_type": "stream",
     "text": [
      "\n",
      "image 1/1 /home/ubuntu/Desktop/DL_WorkSpace/WorkSpace/Input_Data_Container/CB_WS/GIS_WS/cropped_jpg/ortho_4_1.jpg: 640x640 1 person, 8.1ms\n",
      "Speed: 1.9ms preprocess, 8.1ms inference, 1.1ms postprocess per image at shape (1, 3, 640, 640)\n",
      "Results saved to \u001b[1mruns/detect/predict\u001b[0m\n",
      "\n",
      "image 1/1 /home/ubuntu/Desktop/DL_WorkSpace/WorkSpace/Input_Data_Container/CB_WS/GIS_WS/cropped_jpg/ortho_17_21.jpg: 640x640 1 person, 7.3ms\n",
      "Speed: 1.7ms preprocess, 7.3ms inference, 1.4ms postprocess per image at shape (1, 3, 640, 640)\n",
      "Results saved to \u001b[1mruns/detect/predict\u001b[0m\n",
      "\n",
      "image 1/1 /home/ubuntu/Desktop/DL_WorkSpace/WorkSpace/Input_Data_Container/CB_WS/GIS_WS/cropped_jpg/ortho_9_15.jpg: 640x640 1 suitcase, 7.0ms\n",
      "Speed: 1.8ms preprocess, 7.0ms inference, 1.1ms postprocess per image at shape (1, 3, 640, 640)\n",
      "Results saved to \u001b[1mruns/detect/predict\u001b[0m\n",
      "\n",
      "image 1/1 /home/ubuntu/Desktop/DL_WorkSpace/WorkSpace/Input_Data_Container/CB_WS/GIS_WS/cropped_jpg/ortho_26_16.jpg: 640x640 (no detections), 5.2ms\n",
      "Speed: 1.4ms preprocess, 5.2ms inference, 0.5ms postprocess per image at shape (1, 3, 640, 640)\n",
      "Results saved to \u001b[1mruns/detect/predict\u001b[0m\n"
     ]
    },
    {
     "name": "stderr",
     "output_type": "stream",
     "text": [
      " 67%|███████████████████████████▍             | 434/648 [00:13<00:06, 31.67it/s]"
     ]
    },
    {
     "name": "stdout",
     "output_type": "stream",
     "text": [
      "\n",
      "image 1/1 /home/ubuntu/Desktop/DL_WorkSpace/WorkSpace/Input_Data_Container/CB_WS/GIS_WS/cropped_jpg/ortho_8_20.jpg: 640x640 1 cake, 6.1ms\n",
      "Speed: 1.5ms preprocess, 6.1ms inference, 1.1ms postprocess per image at shape (1, 3, 640, 640)\n",
      "Results saved to \u001b[1mruns/detect/predict\u001b[0m\n",
      "\n",
      "image 1/1 /home/ubuntu/Desktop/DL_WorkSpace/WorkSpace/Input_Data_Container/CB_WS/GIS_WS/cropped_jpg/ortho_13_8.jpg: 640x640 1 sandwich, 5 broccolis, 1 cake, 7.2ms\n",
      "Speed: 1.7ms preprocess, 7.2ms inference, 1.2ms postprocess per image at shape (1, 3, 640, 640)\n",
      "Results saved to \u001b[1mruns/detect/predict\u001b[0m\n",
      "\n",
      "image 1/1 /home/ubuntu/Desktop/DL_WorkSpace/WorkSpace/Input_Data_Container/CB_WS/GIS_WS/cropped_jpg/ortho_3_15.jpg: 640x640 (no detections), 7.2ms\n",
      "Speed: 1.7ms preprocess, 7.2ms inference, 0.5ms postprocess per image at shape (1, 3, 640, 640)\n",
      "Results saved to \u001b[1mruns/detect/predict\u001b[0m\n",
      "\n",
      "image 1/1 /home/ubuntu/Desktop/DL_WorkSpace/WorkSpace/Input_Data_Container/CB_WS/GIS_WS/cropped_jpg/ortho_21_15.jpg: 640x640 (no detections), 5.3ms\n",
      "Speed: 1.5ms preprocess, 5.3ms inference, 0.6ms postprocess per image at shape (1, 3, 640, 640)\n",
      "Results saved to \u001b[1mruns/detect/predict\u001b[0m\n"
     ]
    },
    {
     "name": "stderr",
     "output_type": "stream",
     "text": [
      " 68%|███████████████████████████▋             | 438/648 [00:13<00:06, 33.67it/s]"
     ]
    },
    {
     "name": "stdout",
     "output_type": "stream",
     "text": [
      "\n",
      "image 1/1 /home/ubuntu/Desktop/DL_WorkSpace/WorkSpace/Input_Data_Container/CB_WS/GIS_WS/cropped_jpg/ortho_8_9.jpg: 640x640 1 potted plant, 5.2ms\n",
      "Speed: 1.5ms preprocess, 5.2ms inference, 1.3ms postprocess per image at shape (1, 3, 640, 640)\n",
      "Results saved to \u001b[1mruns/detect/predict\u001b[0m\n",
      "\n",
      "image 1/1 /home/ubuntu/Desktop/DL_WorkSpace/WorkSpace/Input_Data_Container/CB_WS/GIS_WS/cropped_jpg/ortho_21_3.jpg: 640x640 1 person, 1 carrot, 5.3ms\n",
      "Speed: 1.5ms preprocess, 5.3ms inference, 1.1ms postprocess per image at shape (1, 3, 640, 640)\n",
      "Results saved to \u001b[1mruns/detect/predict\u001b[0m\n",
      "\n",
      "image 1/1 /home/ubuntu/Desktop/DL_WorkSpace/WorkSpace/Input_Data_Container/CB_WS/GIS_WS/cropped_jpg/ortho_19_20.jpg: 640x640 1 cake, 5.2ms\n",
      "Speed: 1.5ms preprocess, 5.2ms inference, 1.3ms postprocess per image at shape (1, 3, 640, 640)\n",
      "Results saved to \u001b[1mruns/detect/predict\u001b[0m\n",
      "\n",
      "image 1/1 /home/ubuntu/Desktop/DL_WorkSpace/WorkSpace/Input_Data_Container/CB_WS/GIS_WS/cropped_jpg/ortho_7_4.jpg: 640x640 1 pizza, 1 cake, 1 dining table, 5.2ms\n",
      "Speed: 1.5ms preprocess, 5.2ms inference, 1.1ms postprocess per image at shape (1, 3, 640, 640)\n",
      "Results saved to \u001b[1mruns/detect/predict\u001b[0m\n"
     ]
    },
    {
     "name": "stderr",
     "output_type": "stream",
     "text": [
      " 68%|███████████████████████████▉             | 442/648 [00:13<00:05, 35.27it/s]"
     ]
    },
    {
     "name": "stdout",
     "output_type": "stream",
     "text": [
      "\n",
      "image 1/1 /home/ubuntu/Desktop/DL_WorkSpace/WorkSpace/Input_Data_Container/CB_WS/GIS_WS/cropped_jpg/ortho_26_12.jpg: 640x640 1 broccoli, 1 carrot, 5.2ms\n",
      "Speed: 1.5ms preprocess, 5.2ms inference, 1.3ms postprocess per image at shape (1, 3, 640, 640)\n",
      "Results saved to \u001b[1mruns/detect/predict\u001b[0m\n",
      "\n",
      "image 1/1 /home/ubuntu/Desktop/DL_WorkSpace/WorkSpace/Input_Data_Container/CB_WS/GIS_WS/cropped_jpg/ortho_22_14.jpg: 640x640 1 car, 1 fire hydrant, 5.5ms\n",
      "Speed: 1.4ms preprocess, 5.5ms inference, 1.4ms postprocess per image at shape (1, 3, 640, 640)\n",
      "Results saved to \u001b[1mruns/detect/predict\u001b[0m\n",
      "\n",
      "image 1/1 /home/ubuntu/Desktop/DL_WorkSpace/WorkSpace/Input_Data_Container/CB_WS/GIS_WS/cropped_jpg/ortho_3_11.jpg: 640x640 1 broccoli, 1 cake, 6.9ms\n",
      "Speed: 1.8ms preprocess, 6.9ms inference, 1.4ms postprocess per image at shape (1, 3, 640, 640)\n",
      "Results saved to \u001b[1mruns/detect/predict\u001b[0m\n",
      "\n",
      "image 1/1 /home/ubuntu/Desktop/DL_WorkSpace/WorkSpace/Input_Data_Container/CB_WS/GIS_WS/cropped_jpg/ortho_15_13.jpg: 640x640 1 elephant, 1 carrot, 5.5ms\n",
      "Speed: 1.8ms preprocess, 5.5ms inference, 1.3ms postprocess per image at shape (1, 3, 640, 640)\n",
      "Results saved to \u001b[1mruns/detect/predict\u001b[0m\n"
     ]
    },
    {
     "name": "stderr",
     "output_type": "stream",
     "text": [
      " 69%|████████████████████████████▏            | 446/648 [00:13<00:05, 34.33it/s]"
     ]
    },
    {
     "name": "stdout",
     "output_type": "stream",
     "text": [
      "\n",
      "image 1/1 /home/ubuntu/Desktop/DL_WorkSpace/WorkSpace/Input_Data_Container/CB_WS/GIS_WS/cropped_jpg/ortho_22_23.jpg: 640x640 (no detections), 8.8ms\n",
      "Speed: 1.8ms preprocess, 8.8ms inference, 0.7ms postprocess per image at shape (1, 3, 640, 640)\n",
      "Results saved to \u001b[1mruns/detect/predict\u001b[0m\n",
      "\n",
      "image 1/1 /home/ubuntu/Desktop/DL_WorkSpace/WorkSpace/Input_Data_Container/CB_WS/GIS_WS/cropped_jpg/ortho_25_20.jpg: 640x640 (no detections), 7.5ms\n",
      "Speed: 1.8ms preprocess, 7.5ms inference, 0.7ms postprocess per image at shape (1, 3, 640, 640)\n",
      "Results saved to \u001b[1mruns/detect/predict\u001b[0m\n",
      "\n",
      "image 1/1 /home/ubuntu/Desktop/DL_WorkSpace/WorkSpace/Input_Data_Container/CB_WS/GIS_WS/cropped_jpg/ortho_3_13.jpg: 640x640 (no detections), 7.2ms\n",
      "Speed: 11.3ms preprocess, 7.2ms inference, 0.6ms postprocess per image at shape (1, 3, 640, 640)\n",
      "Results saved to \u001b[1mruns/detect/predict\u001b[0m\n",
      "\n",
      "image 1/1 /home/ubuntu/Desktop/DL_WorkSpace/WorkSpace/Input_Data_Container/CB_WS/GIS_WS/cropped_jpg/ortho_25_2.jpg: 640x640 1 broccoli, 5.2ms\n",
      "Speed: 1.8ms preprocess, 5.2ms inference, 1.1ms postprocess per image at shape (1, 3, 640, 640)\n",
      "Results saved to \u001b[1mruns/detect/predict\u001b[0m\n"
     ]
    },
    {
     "name": "stderr",
     "output_type": "stream",
     "text": [
      " 69%|████████████████████████████▍            | 450/648 [00:13<00:06, 30.99it/s]"
     ]
    },
    {
     "name": "stdout",
     "output_type": "stream",
     "text": [
      "\n",
      "image 1/1 /home/ubuntu/Desktop/DL_WorkSpace/WorkSpace/Input_Data_Container/CB_WS/GIS_WS/cropped_jpg/ortho_9_10.jpg: 640x640 1 broccoli, 1 laptop, 1 oven, 5.5ms\n",
      "Speed: 1.6ms preprocess, 5.5ms inference, 1.1ms postprocess per image at shape (1, 3, 640, 640)\n",
      "Results saved to \u001b[1mruns/detect/predict\u001b[0m\n",
      "\n",
      "image 1/1 /home/ubuntu/Desktop/DL_WorkSpace/WorkSpace/Input_Data_Container/CB_WS/GIS_WS/cropped_jpg/ortho_8_15.jpg: 640x640 1 umbrella, 9.9ms\n",
      "Speed: 1.8ms preprocess, 9.9ms inference, 1.7ms postprocess per image at shape (1, 3, 640, 640)\n",
      "Results saved to \u001b[1mruns/detect/predict\u001b[0m\n",
      "\n",
      "image 1/1 /home/ubuntu/Desktop/DL_WorkSpace/WorkSpace/Input_Data_Container/CB_WS/GIS_WS/cropped_jpg/ortho_11_21.jpg: 640x640 1 bowl, 1 cake, 8.2ms\n",
      "Speed: 1.8ms preprocess, 8.2ms inference, 1.4ms postprocess per image at shape (1, 3, 640, 640)\n",
      "Results saved to \u001b[1mruns/detect/predict\u001b[0m\n",
      "\n",
      "image 1/1 /home/ubuntu/Desktop/DL_WorkSpace/WorkSpace/Input_Data_Container/CB_WS/GIS_WS/cropped_jpg/ortho_11_15.jpg: 640x640 1 cake, 8.5ms\n",
      "Speed: 1.5ms preprocess, 8.5ms inference, 1.6ms postprocess per image at shape (1, 3, 640, 640)\n",
      "Results saved to \u001b[1mruns/detect/predict\u001b[0m\n"
     ]
    },
    {
     "name": "stderr",
     "output_type": "stream",
     "text": [
      " 70%|████████████████████████████▋            | 454/648 [00:13<00:06, 30.53it/s]"
     ]
    },
    {
     "name": "stdout",
     "output_type": "stream",
     "text": [
      "\n",
      "image 1/1 /home/ubuntu/Desktop/DL_WorkSpace/WorkSpace/Input_Data_Container/CB_WS/GIS_WS/cropped_jpg/ortho_8_14.jpg: 640x640 (no detections), 7.4ms\n",
      "Speed: 1.8ms preprocess, 7.4ms inference, 0.8ms postprocess per image at shape (1, 3, 640, 640)\n",
      "Results saved to \u001b[1mruns/detect/predict\u001b[0m\n",
      "\n",
      "image 1/1 /home/ubuntu/Desktop/DL_WorkSpace/WorkSpace/Input_Data_Container/CB_WS/GIS_WS/cropped_jpg/ortho_10_23.jpg: 640x640 4 broccolis, 1 pizza, 5.3ms\n",
      "Speed: 1.6ms preprocess, 5.3ms inference, 1.1ms postprocess per image at shape (1, 3, 640, 640)\n",
      "Results saved to \u001b[1mruns/detect/predict\u001b[0m\n",
      "\n",
      "image 1/1 /home/ubuntu/Desktop/DL_WorkSpace/WorkSpace/Input_Data_Container/CB_WS/GIS_WS/cropped_jpg/ortho_0_9.jpg: 640x640 (no detections), 5.5ms\n",
      "Speed: 1.6ms preprocess, 5.5ms inference, 0.5ms postprocess per image at shape (1, 3, 640, 640)\n",
      "Results saved to \u001b[1mruns/detect/predict\u001b[0m\n",
      "\n",
      "image 1/1 /home/ubuntu/Desktop/DL_WorkSpace/WorkSpace/Input_Data_Container/CB_WS/GIS_WS/cropped_jpg/ortho_11_4.jpg: 640x640 1 cake, 5.4ms\n",
      "Speed: 1.5ms preprocess, 5.4ms inference, 1.3ms postprocess per image at shape (1, 3, 640, 640)\n",
      "Results saved to \u001b[1mruns/detect/predict\u001b[0m\n"
     ]
    },
    {
     "name": "stderr",
     "output_type": "stream",
     "text": [
      " 71%|████████████████████████████▉            | 458/648 [00:13<00:05, 32.10it/s]"
     ]
    },
    {
     "name": "stdout",
     "output_type": "stream",
     "text": [
      "\n",
      "image 1/1 /home/ubuntu/Desktop/DL_WorkSpace/WorkSpace/Input_Data_Container/CB_WS/GIS_WS/cropped_jpg/ortho_18_9.jpg: 640x640 1 person, 1 tie, 1 donut, 1 dining table, 5.2ms\n",
      "Speed: 1.5ms preprocess, 5.2ms inference, 1.1ms postprocess per image at shape (1, 3, 640, 640)\n",
      "Results saved to \u001b[1mruns/detect/predict\u001b[0m\n",
      "\n",
      "image 1/1 /home/ubuntu/Desktop/DL_WorkSpace/WorkSpace/Input_Data_Container/CB_WS/GIS_WS/cropped_jpg/ortho_5_14.jpg: 640x640 2 broccolis, 5.2ms\n",
      "Speed: 1.5ms preprocess, 5.2ms inference, 1.0ms postprocess per image at shape (1, 3, 640, 640)\n",
      "Results saved to \u001b[1mruns/detect/predict\u001b[0m\n",
      "\n",
      "image 1/1 /home/ubuntu/Desktop/DL_WorkSpace/WorkSpace/Input_Data_Container/CB_WS/GIS_WS/cropped_jpg/ortho_0_15.jpg: 640x640 1 potted plant, 7.1ms\n",
      "Speed: 1.8ms preprocess, 7.1ms inference, 1.3ms postprocess per image at shape (1, 3, 640, 640)\n",
      "Results saved to \u001b[1mruns/detect/predict\u001b[0m\n",
      "\n",
      "image 1/1 /home/ubuntu/Desktop/DL_WorkSpace/WorkSpace/Input_Data_Container/CB_WS/GIS_WS/cropped_jpg/ortho_10_2.jpg: 640x640 1 person, 1 broccoli, 8.3ms\n",
      "Speed: 1.8ms preprocess, 8.3ms inference, 1.1ms postprocess per image at shape (1, 3, 640, 640)\n",
      "Results saved to \u001b[1mruns/detect/predict\u001b[0m\n"
     ]
    },
    {
     "name": "stderr",
     "output_type": "stream",
     "text": [
      " 71%|█████████████████████████████▏           | 462/648 [00:14<00:05, 32.28it/s]"
     ]
    },
    {
     "name": "stdout",
     "output_type": "stream",
     "text": [
      "\n",
      "image 1/1 /home/ubuntu/Desktop/DL_WorkSpace/WorkSpace/Input_Data_Container/CB_WS/GIS_WS/cropped_jpg/ortho_18_23.jpg: 640x640 1 cake, 7.2ms\n",
      "Speed: 1.8ms preprocess, 7.2ms inference, 1.4ms postprocess per image at shape (1, 3, 640, 640)\n",
      "Results saved to \u001b[1mruns/detect/predict\u001b[0m\n",
      "\n",
      "image 1/1 /home/ubuntu/Desktop/DL_WorkSpace/WorkSpace/Input_Data_Container/CB_WS/GIS_WS/cropped_jpg/ortho_11_7.jpg: 640x640 1 bowl, 1 cake, 1 dining table, 5.6ms\n",
      "Speed: 1.6ms preprocess, 5.6ms inference, 1.1ms postprocess per image at shape (1, 3, 640, 640)\n",
      "Results saved to \u001b[1mruns/detect/predict\u001b[0m\n",
      "\n",
      "image 1/1 /home/ubuntu/Desktop/DL_WorkSpace/WorkSpace/Input_Data_Container/CB_WS/GIS_WS/cropped_jpg/ortho_3_3.jpg: 640x640 (no detections), 5.2ms\n",
      "Speed: 1.5ms preprocess, 5.2ms inference, 0.5ms postprocess per image at shape (1, 3, 640, 640)\n",
      "Results saved to \u001b[1mruns/detect/predict\u001b[0m\n",
      "\n",
      "image 1/1 /home/ubuntu/Desktop/DL_WorkSpace/WorkSpace/Input_Data_Container/CB_WS/GIS_WS/cropped_jpg/ortho_4_9.jpg: 640x640 (no detections), 7.4ms\n",
      "Speed: 1.8ms preprocess, 7.4ms inference, 0.7ms postprocess per image at shape (1, 3, 640, 640)\n",
      "Results saved to \u001b[1mruns/detect/predict\u001b[0m\n"
     ]
    },
    {
     "name": "stderr",
     "output_type": "stream",
     "text": [
      " 72%|█████████████████████████████▍           | 466/648 [00:14<00:05, 32.51it/s]"
     ]
    },
    {
     "name": "stdout",
     "output_type": "stream",
     "text": [
      "\n",
      "image 1/1 /home/ubuntu/Desktop/DL_WorkSpace/WorkSpace/Input_Data_Container/CB_WS/GIS_WS/cropped_jpg/ortho_14_5.jpg: 640x640 1 cake, 5.2ms\n",
      "Speed: 1.7ms preprocess, 5.2ms inference, 1.1ms postprocess per image at shape (1, 3, 640, 640)\n",
      "Results saved to \u001b[1mruns/detect/predict\u001b[0m\n",
      "\n",
      "image 1/1 /home/ubuntu/Desktop/DL_WorkSpace/WorkSpace/Input_Data_Container/CB_WS/GIS_WS/cropped_jpg/ortho_14_16.jpg: 640x640 1 umbrella, 7.4ms\n",
      "Speed: 1.7ms preprocess, 7.4ms inference, 1.4ms postprocess per image at shape (1, 3, 640, 640)\n",
      "Results saved to \u001b[1mruns/detect/predict\u001b[0m\n",
      "\n",
      "image 1/1 /home/ubuntu/Desktop/DL_WorkSpace/WorkSpace/Input_Data_Container/CB_WS/GIS_WS/cropped_jpg/ortho_6_4.jpg: 640x640 1 cake, 7.0ms\n",
      "Speed: 1.9ms preprocess, 7.0ms inference, 1.4ms postprocess per image at shape (1, 3, 640, 640)\n",
      "Results saved to \u001b[1mruns/detect/predict\u001b[0m\n",
      "\n",
      "image 1/1 /home/ubuntu/Desktop/DL_WorkSpace/WorkSpace/Input_Data_Container/CB_WS/GIS_WS/cropped_jpg/ortho_7_21.jpg: 640x640 2 broccolis, 7.1ms\n",
      "Speed: 1.7ms preprocess, 7.1ms inference, 1.4ms postprocess per image at shape (1, 3, 640, 640)\n",
      "Results saved to \u001b[1mruns/detect/predict\u001b[0m\n"
     ]
    },
    {
     "name": "stderr",
     "output_type": "stream",
     "text": [
      " 73%|█████████████████████████████▋           | 470/648 [00:14<00:05, 30.49it/s]"
     ]
    },
    {
     "name": "stdout",
     "output_type": "stream",
     "text": [
      "\n",
      "image 1/1 /home/ubuntu/Desktop/DL_WorkSpace/WorkSpace/Input_Data_Container/CB_WS/GIS_WS/cropped_jpg/ortho_16_16.jpg: 640x640 1 donut, 1 cake, 7.6ms\n",
      "Speed: 1.8ms preprocess, 7.6ms inference, 1.8ms postprocess per image at shape (1, 3, 640, 640)\n",
      "Results saved to \u001b[1mruns/detect/predict\u001b[0m\n",
      "\n",
      "image 1/1 /home/ubuntu/Desktop/DL_WorkSpace/WorkSpace/Input_Data_Container/CB_WS/GIS_WS/cropped_jpg/ortho_11_5.jpg: 640x640 1 broccoli, 1 cake, 6.9ms\n",
      "Speed: 2.0ms preprocess, 6.9ms inference, 1.4ms postprocess per image at shape (1, 3, 640, 640)\n",
      "Results saved to \u001b[1mruns/detect/predict\u001b[0m\n",
      "\n",
      "image 1/1 /home/ubuntu/Desktop/DL_WorkSpace/WorkSpace/Input_Data_Container/CB_WS/GIS_WS/cropped_jpg/ortho_22_20.jpg: 640x640 (no detections), 10.7ms\n",
      "Speed: 1.8ms preprocess, 10.7ms inference, 2.8ms postprocess per image at shape (1, 3, 640, 640)\n",
      "Results saved to \u001b[1mruns/detect/predict\u001b[0m\n",
      "\n",
      "image 1/1 /home/ubuntu/Desktop/DL_WorkSpace/WorkSpace/Input_Data_Container/CB_WS/GIS_WS/cropped_jpg/ortho_12_11.jpg: 640x640 1 pizza, 1 cake, 9.9ms\n",
      "Speed: 1.9ms preprocess, 9.9ms inference, 1.6ms postprocess per image at shape (1, 3, 640, 640)\n",
      "Results saved to \u001b[1mruns/detect/predict\u001b[0m\n"
     ]
    },
    {
     "name": "stderr",
     "output_type": "stream",
     "text": [
      " 73%|█████████████████████████████▉           | 474/648 [00:14<00:06, 28.36it/s]"
     ]
    },
    {
     "name": "stdout",
     "output_type": "stream",
     "text": [
      "\n",
      "image 1/1 /home/ubuntu/Desktop/DL_WorkSpace/WorkSpace/Input_Data_Container/CB_WS/GIS_WS/cropped_jpg/ortho_17_12.jpg: 640x640 1 donut, 9.1ms\n",
      "Speed: 1.9ms preprocess, 9.1ms inference, 1.6ms postprocess per image at shape (1, 3, 640, 640)\n",
      "Results saved to \u001b[1mruns/detect/predict\u001b[0m\n",
      "\n",
      "image 1/1 /home/ubuntu/Desktop/DL_WorkSpace/WorkSpace/Input_Data_Container/CB_WS/GIS_WS/cropped_jpg/ortho_18_19.jpg: 640x640 (no detections), 9.0ms\n",
      "Speed: 1.8ms preprocess, 9.0ms inference, 0.8ms postprocess per image at shape (1, 3, 640, 640)\n",
      "Results saved to \u001b[1mruns/detect/predict\u001b[0m\n",
      "\n",
      "image 1/1 /home/ubuntu/Desktop/DL_WorkSpace/WorkSpace/Input_Data_Container/CB_WS/GIS_WS/cropped_jpg/ortho_20_14.jpg: 640x640 (no detections), 8.8ms\n",
      "Speed: 1.9ms preprocess, 8.8ms inference, 0.8ms postprocess per image at shape (1, 3, 640, 640)\n",
      "Results saved to \u001b[1mruns/detect/predict\u001b[0m\n"
     ]
    },
    {
     "name": "stderr",
     "output_type": "stream",
     "text": [
      " 74%|██████████████████████████████▏          | 477/648 [00:14<00:06, 28.06it/s]"
     ]
    },
    {
     "name": "stdout",
     "output_type": "stream",
     "text": [
      "\n",
      "image 1/1 /home/ubuntu/Desktop/DL_WorkSpace/WorkSpace/Input_Data_Container/CB_WS/GIS_WS/cropped_jpg/ortho_10_14.jpg: 640x640 2 broccolis, 1 pizza, 1 cake, 9.0ms\n",
      "Speed: 1.9ms preprocess, 9.0ms inference, 1.6ms postprocess per image at shape (1, 3, 640, 640)\n",
      "Results saved to \u001b[1mruns/detect/predict\u001b[0m\n",
      "\n",
      "image 1/1 /home/ubuntu/Desktop/DL_WorkSpace/WorkSpace/Input_Data_Container/CB_WS/GIS_WS/cropped_jpg/ortho_16_15.jpg: 640x640 1 pizza, 1 cake, 8.3ms\n",
      "Speed: 2.0ms preprocess, 8.3ms inference, 1.5ms postprocess per image at shape (1, 3, 640, 640)\n",
      "Results saved to \u001b[1mruns/detect/predict\u001b[0m\n",
      "\n",
      "image 1/1 /home/ubuntu/Desktop/DL_WorkSpace/WorkSpace/Input_Data_Container/CB_WS/GIS_WS/cropped_jpg/ortho_4_2.jpg: 640x640 1 person, 6.0ms\n",
      "Speed: 1.5ms preprocess, 6.0ms inference, 1.1ms postprocess per image at shape (1, 3, 640, 640)\n",
      "Results saved to \u001b[1mruns/detect/predict\u001b[0m\n"
     ]
    },
    {
     "name": "stderr",
     "output_type": "stream",
     "text": [
      " 74%|██████████████████████████████▎          | 480/648 [00:14<00:05, 28.46it/s]"
     ]
    },
    {
     "name": "stdout",
     "output_type": "stream",
     "text": [
      "\n",
      "image 1/1 /home/ubuntu/Desktop/DL_WorkSpace/WorkSpace/Input_Data_Container/CB_WS/GIS_WS/cropped_jpg/ortho_19_13.jpg: 640x640 1 cake, 5.2ms\n",
      "Speed: 1.6ms preprocess, 5.2ms inference, 1.1ms postprocess per image at shape (1, 3, 640, 640)\n",
      "Results saved to \u001b[1mruns/detect/predict\u001b[0m\n",
      "\n",
      "image 1/1 /home/ubuntu/Desktop/DL_WorkSpace/WorkSpace/Input_Data_Container/CB_WS/GIS_WS/cropped_jpg/ortho_19_2.jpg: 640x640 2 broccolis, 5.2ms\n",
      "Speed: 1.5ms preprocess, 5.2ms inference, 1.3ms postprocess per image at shape (1, 3, 640, 640)\n",
      "Results saved to \u001b[1mruns/detect/predict\u001b[0m\n",
      "\n",
      "image 1/1 /home/ubuntu/Desktop/DL_WorkSpace/WorkSpace/Input_Data_Container/CB_WS/GIS_WS/cropped_jpg/ortho_0_2.jpg: 640x640 (no detections), 6.9ms\n",
      "Speed: 1.7ms preprocess, 6.9ms inference, 0.7ms postprocess per image at shape (1, 3, 640, 640)\n",
      "Results saved to \u001b[1mruns/detect/predict\u001b[0m\n",
      "\n",
      "image 1/1 /home/ubuntu/Desktop/DL_WorkSpace/WorkSpace/Input_Data_Container/CB_WS/GIS_WS/cropped_jpg/ortho_18_12.jpg: 640x640 1 donut, 1 cake, 7.1ms\n",
      "Speed: 1.8ms preprocess, 7.1ms inference, 1.4ms postprocess per image at shape (1, 3, 640, 640)\n",
      "Results saved to \u001b[1mruns/detect/predict\u001b[0m\n"
     ]
    },
    {
     "name": "stderr",
     "output_type": "stream",
     "text": [
      " 75%|██████████████████████████████▌          | 484/648 [00:14<00:05, 29.76it/s]"
     ]
    },
    {
     "name": "stdout",
     "output_type": "stream",
     "text": [
      "\n",
      "image 1/1 /home/ubuntu/Desktop/DL_WorkSpace/WorkSpace/Input_Data_Container/CB_WS/GIS_WS/cropped_jpg/ortho_8_2.jpg: 640x640 4 broccolis, 1 pizza, 6.3ms\n",
      "Speed: 1.9ms preprocess, 6.3ms inference, 1.2ms postprocess per image at shape (1, 3, 640, 640)\n",
      "Results saved to \u001b[1mruns/detect/predict\u001b[0m\n",
      "\n",
      "image 1/1 /home/ubuntu/Desktop/DL_WorkSpace/WorkSpace/Input_Data_Container/CB_WS/GIS_WS/cropped_jpg/ortho_17_22.jpg: 640x640 1 cake, 6.9ms\n",
      "Speed: 1.7ms preprocess, 6.9ms inference, 1.4ms postprocess per image at shape (1, 3, 640, 640)\n",
      "Results saved to \u001b[1mruns/detect/predict\u001b[0m\n",
      "\n",
      "image 1/1 /home/ubuntu/Desktop/DL_WorkSpace/WorkSpace/Input_Data_Container/CB_WS/GIS_WS/cropped_jpg/ortho_14_6.jpg: 640x640 2 broccolis, 1 cake, 5.4ms\n",
      "Speed: 1.6ms preprocess, 5.4ms inference, 1.1ms postprocess per image at shape (1, 3, 640, 640)\n",
      "Results saved to \u001b[1mruns/detect/predict\u001b[0m\n",
      "\n",
      "image 1/1 /home/ubuntu/Desktop/DL_WorkSpace/WorkSpace/Input_Data_Container/CB_WS/GIS_WS/cropped_jpg/ortho_10_1.jpg: 640x640 2 broccolis, 1 potted plant, 8.0ms\n",
      "Speed: 1.9ms preprocess, 8.0ms inference, 2.9ms postprocess per image at shape (1, 3, 640, 640)\n",
      "Results saved to \u001b[1mruns/detect/predict\u001b[0m\n"
     ]
    },
    {
     "name": "stderr",
     "output_type": "stream",
     "text": [
      " 75%|██████████████████████████████▉          | 488/648 [00:14<00:05, 29.94it/s]"
     ]
    },
    {
     "name": "stdout",
     "output_type": "stream",
     "text": [
      "\n",
      "image 1/1 /home/ubuntu/Desktop/DL_WorkSpace/WorkSpace/Input_Data_Container/CB_WS/GIS_WS/cropped_jpg/ortho_11_10.jpg: 640x640 1 bowl, 4 broccolis, 1 pizza, 7.1ms\n",
      "Speed: 1.8ms preprocess, 7.1ms inference, 10.6ms postprocess per image at shape (1, 3, 640, 640)\n",
      "Results saved to \u001b[1mruns/detect/predict\u001b[0m\n",
      "\n",
      "image 1/1 /home/ubuntu/Desktop/DL_WorkSpace/WorkSpace/Input_Data_Container/CB_WS/GIS_WS/cropped_jpg/ortho_20_17.jpg: 640x640 1 pizza, 1 cake, 7.5ms\n",
      "Speed: 1.7ms preprocess, 7.5ms inference, 1.4ms postprocess per image at shape (1, 3, 640, 640)\n",
      "Results saved to \u001b[1mruns/detect/predict\u001b[0m\n",
      "\n",
      "image 1/1 /home/ubuntu/Desktop/DL_WorkSpace/WorkSpace/Input_Data_Container/CB_WS/GIS_WS/cropped_jpg/ortho_15_8.jpg: 640x640 1 person, 1 bowl, 2 broccolis, 1 donut, 5.9ms\n",
      "Speed: 1.8ms preprocess, 5.9ms inference, 1.1ms postprocess per image at shape (1, 3, 640, 640)\n",
      "Results saved to \u001b[1mruns/detect/predict\u001b[0m\n",
      "\n",
      "image 1/1 /home/ubuntu/Desktop/DL_WorkSpace/WorkSpace/Input_Data_Container/CB_WS/GIS_WS/cropped_jpg/ortho_13_15.jpg: 640x640 (no detections), 5.5ms\n",
      "Speed: 1.7ms preprocess, 5.5ms inference, 0.7ms postprocess per image at shape (1, 3, 640, 640)\n",
      "Results saved to \u001b[1mruns/detect/predict\u001b[0m\n"
     ]
    },
    {
     "name": "stderr",
     "output_type": "stream",
     "text": [
      " 76%|███████████████████████████████▏         | 492/648 [00:15<00:05, 29.20it/s]"
     ]
    },
    {
     "name": "stdout",
     "output_type": "stream",
     "text": [
      "\n",
      "image 1/1 /home/ubuntu/Desktop/DL_WorkSpace/WorkSpace/Input_Data_Container/CB_WS/GIS_WS/cropped_jpg/ortho_20_11.jpg: 640x640 1 pizza, 1 cake, 5.6ms\n",
      "Speed: 1.8ms preprocess, 5.6ms inference, 1.2ms postprocess per image at shape (1, 3, 640, 640)\n",
      "Results saved to \u001b[1mruns/detect/predict\u001b[0m\n",
      "\n",
      "image 1/1 /home/ubuntu/Desktop/DL_WorkSpace/WorkSpace/Input_Data_Container/CB_WS/GIS_WS/cropped_jpg/ortho_17_3.jpg: 640x640 3 broccolis, 1 cake, 7.0ms\n",
      "Speed: 1.8ms preprocess, 7.0ms inference, 1.1ms postprocess per image at shape (1, 3, 640, 640)\n",
      "Results saved to \u001b[1mruns/detect/predict\u001b[0m\n",
      "\n",
      "image 1/1 /home/ubuntu/Desktop/DL_WorkSpace/WorkSpace/Input_Data_Container/CB_WS/GIS_WS/cropped_jpg/ortho_8_17.jpg: 640x640 (no detections), 6.7ms\n",
      "Speed: 1.8ms preprocess, 6.7ms inference, 0.7ms postprocess per image at shape (1, 3, 640, 640)\n",
      "Results saved to \u001b[1mruns/detect/predict\u001b[0m\n",
      "\n",
      "image 1/1 /home/ubuntu/Desktop/DL_WorkSpace/WorkSpace/Input_Data_Container/CB_WS/GIS_WS/cropped_jpg/ortho_15_22.jpg: 640x640 1 bowl, 1 orange, 7.5ms\n",
      "Speed: 1.8ms preprocess, 7.5ms inference, 1.5ms postprocess per image at shape (1, 3, 640, 640)\n",
      "Results saved to \u001b[1mruns/detect/predict\u001b[0m\n"
     ]
    },
    {
     "name": "stderr",
     "output_type": "stream",
     "text": [
      " 77%|███████████████████████████████▍         | 496/648 [00:15<00:05, 30.24it/s]"
     ]
    },
    {
     "name": "stdout",
     "output_type": "stream",
     "text": [
      "\n",
      "image 1/1 /home/ubuntu/Desktop/DL_WorkSpace/WorkSpace/Input_Data_Container/CB_WS/GIS_WS/cropped_jpg/ortho_16_4.jpg: 640x640 1 cake, 7.1ms\n",
      "Speed: 1.8ms preprocess, 7.1ms inference, 1.5ms postprocess per image at shape (1, 3, 640, 640)\n",
      "Results saved to \u001b[1mruns/detect/predict\u001b[0m\n",
      "\n",
      "image 1/1 /home/ubuntu/Desktop/DL_WorkSpace/WorkSpace/Input_Data_Container/CB_WS/GIS_WS/cropped_jpg/ortho_9_2.jpg: 640x640 1 person, 1 broccoli, 6.1ms\n",
      "Speed: 1.6ms preprocess, 6.1ms inference, 1.1ms postprocess per image at shape (1, 3, 640, 640)\n",
      "Results saved to \u001b[1mruns/detect/predict\u001b[0m\n",
      "\n",
      "image 1/1 /home/ubuntu/Desktop/DL_WorkSpace/WorkSpace/Input_Data_Container/CB_WS/GIS_WS/cropped_jpg/ortho_8_4.jpg: 640x640 2 broccolis, 1 pizza, 1 dining table, 6.9ms\n",
      "Speed: 1.8ms preprocess, 6.9ms inference, 1.4ms postprocess per image at shape (1, 3, 640, 640)\n",
      "Results saved to \u001b[1mruns/detect/predict\u001b[0m\n",
      "\n",
      "image 1/1 /home/ubuntu/Desktop/DL_WorkSpace/WorkSpace/Input_Data_Container/CB_WS/GIS_WS/cropped_jpg/ortho_0_6.jpg: 640x640 (no detections), 7.1ms\n",
      "Speed: 1.7ms preprocess, 7.1ms inference, 0.7ms postprocess per image at shape (1, 3, 640, 640)\n",
      "Results saved to \u001b[1mruns/detect/predict\u001b[0m\n"
     ]
    },
    {
     "name": "stderr",
     "output_type": "stream",
     "text": [
      " 77%|███████████████████████████████▋         | 500/648 [00:15<00:04, 31.47it/s]"
     ]
    },
    {
     "name": "stdout",
     "output_type": "stream",
     "text": [
      "\n",
      "image 1/1 /home/ubuntu/Desktop/DL_WorkSpace/WorkSpace/Input_Data_Container/CB_WS/GIS_WS/cropped_jpg/ortho_21_5.jpg: 640x640 1 person, 1 donut, 7.3ms\n",
      "Speed: 1.8ms preprocess, 7.3ms inference, 1.3ms postprocess per image at shape (1, 3, 640, 640)\n",
      "Results saved to \u001b[1mruns/detect/predict\u001b[0m\n",
      "\n",
      "image 1/1 /home/ubuntu/Desktop/DL_WorkSpace/WorkSpace/Input_Data_Container/CB_WS/GIS_WS/cropped_jpg/ortho_12_18.jpg: 640x640 (no detections), 6.8ms\n",
      "Speed: 1.7ms preprocess, 6.8ms inference, 0.9ms postprocess per image at shape (1, 3, 640, 640)\n",
      "Results saved to \u001b[1mruns/detect/predict\u001b[0m\n",
      "\n",
      "image 1/1 /home/ubuntu/Desktop/DL_WorkSpace/WorkSpace/Input_Data_Container/CB_WS/GIS_WS/cropped_jpg/ortho_25_7.jpg: 640x640 1 broccoli, 9.0ms\n",
      "Speed: 1.9ms preprocess, 9.0ms inference, 1.5ms postprocess per image at shape (1, 3, 640, 640)\n",
      "Results saved to \u001b[1mruns/detect/predict\u001b[0m\n",
      "\n",
      "image 1/1 /home/ubuntu/Desktop/DL_WorkSpace/WorkSpace/Input_Data_Container/CB_WS/GIS_WS/cropped_jpg/ortho_1_22.jpg: 640x640 1 person, 1 bench, 1 cell phone, 1 refrigerator, 7.1ms\n",
      "Speed: 1.8ms preprocess, 7.1ms inference, 1.4ms postprocess per image at shape (1, 3, 640, 640)\n",
      "Results saved to \u001b[1mruns/detect/predict\u001b[0m\n"
     ]
    },
    {
     "name": "stderr",
     "output_type": "stream",
     "text": [
      " 78%|███████████████████████████████▉         | 504/648 [00:15<00:04, 30.86it/s]"
     ]
    },
    {
     "name": "stdout",
     "output_type": "stream",
     "text": [
      "\n",
      "image 1/1 /home/ubuntu/Desktop/DL_WorkSpace/WorkSpace/Input_Data_Container/CB_WS/GIS_WS/cropped_jpg/ortho_2_2.jpg: 640x640 (no detections), 7.2ms\n",
      "Speed: 1.8ms preprocess, 7.2ms inference, 0.7ms postprocess per image at shape (1, 3, 640, 640)\n",
      "Results saved to \u001b[1mruns/detect/predict\u001b[0m\n",
      "\n",
      "image 1/1 /home/ubuntu/Desktop/DL_WorkSpace/WorkSpace/Input_Data_Container/CB_WS/GIS_WS/cropped_jpg/ortho_11_18.jpg: 640x640 (no detections), 5.9ms\n",
      "Speed: 1.5ms preprocess, 5.9ms inference, 0.5ms postprocess per image at shape (1, 3, 640, 640)\n",
      "Results saved to \u001b[1mruns/detect/predict\u001b[0m\n",
      "\n",
      "image 1/1 /home/ubuntu/Desktop/DL_WorkSpace/WorkSpace/Input_Data_Container/CB_WS/GIS_WS/cropped_jpg/ortho_7_6.jpg: 640x640 (no detections), 7.2ms\n",
      "Speed: 1.8ms preprocess, 7.2ms inference, 0.7ms postprocess per image at shape (1, 3, 640, 640)\n",
      "Results saved to \u001b[1mruns/detect/predict\u001b[0m\n",
      "\n",
      "image 1/1 /home/ubuntu/Desktop/DL_WorkSpace/WorkSpace/Input_Data_Container/CB_WS/GIS_WS/cropped_jpg/ortho_23_14.jpg: 640x640 4 broccolis, 7.1ms\n",
      "Speed: 1.8ms preprocess, 7.1ms inference, 1.1ms postprocess per image at shape (1, 3, 640, 640)\n",
      "Results saved to \u001b[1mruns/detect/predict\u001b[0m\n"
     ]
    },
    {
     "name": "stderr",
     "output_type": "stream",
     "text": [
      " 78%|████████████████████████████████▏        | 508/648 [00:15<00:04, 32.08it/s]"
     ]
    },
    {
     "name": "stdout",
     "output_type": "stream",
     "text": [
      "\n",
      "image 1/1 /home/ubuntu/Desktop/DL_WorkSpace/WorkSpace/Input_Data_Container/CB_WS/GIS_WS/cropped_jpg/ortho_7_17.jpg: 640x640 (no detections), 7.3ms\n",
      "Speed: 1.7ms preprocess, 7.3ms inference, 0.7ms postprocess per image at shape (1, 3, 640, 640)\n",
      "Results saved to \u001b[1mruns/detect/predict\u001b[0m\n",
      "\n",
      "image 1/1 /home/ubuntu/Desktop/DL_WorkSpace/WorkSpace/Input_Data_Container/CB_WS/GIS_WS/cropped_jpg/ortho_6_13.jpg: 640x640 1 broccoli, 1 cake, 5.1ms\n",
      "Speed: 1.5ms preprocess, 5.1ms inference, 1.0ms postprocess per image at shape (1, 3, 640, 640)\n",
      "Results saved to \u001b[1mruns/detect/predict\u001b[0m\n",
      "\n",
      "image 1/1 /home/ubuntu/Desktop/DL_WorkSpace/WorkSpace/Input_Data_Container/CB_WS/GIS_WS/cropped_jpg/ortho_9_6.jpg: 640x640 1 person, 5.2ms\n",
      "Speed: 1.5ms preprocess, 5.2ms inference, 1.3ms postprocess per image at shape (1, 3, 640, 640)\n",
      "Results saved to \u001b[1mruns/detect/predict\u001b[0m\n",
      "\n",
      "image 1/1 /home/ubuntu/Desktop/DL_WorkSpace/WorkSpace/Input_Data_Container/CB_WS/GIS_WS/cropped_jpg/ortho_15_1.jpg: 640x640 1 broccoli, 14.7ms\n",
      "Speed: 1.8ms preprocess, 14.7ms inference, 1.3ms postprocess per image at shape (1, 3, 640, 640)\n",
      "Results saved to \u001b[1mruns/detect/predict\u001b[0m\n"
     ]
    },
    {
     "name": "stderr",
     "output_type": "stream",
     "text": [
      " 79%|████████████████████████████████▍        | 512/648 [00:15<00:04, 29.43it/s]"
     ]
    },
    {
     "name": "stdout",
     "output_type": "stream",
     "text": [
      "\n",
      "image 1/1 /home/ubuntu/Desktop/DL_WorkSpace/WorkSpace/Input_Data_Container/CB_WS/GIS_WS/cropped_jpg/ortho_22_11.jpg: 640x640 1 cake, 24.8ms\n",
      "Speed: 2.0ms preprocess, 24.8ms inference, 1.7ms postprocess per image at shape (1, 3, 640, 640)\n",
      "Results saved to \u001b[1mruns/detect/predict\u001b[0m\n",
      "\n",
      "image 1/1 /home/ubuntu/Desktop/DL_WorkSpace/WorkSpace/Input_Data_Container/CB_WS/GIS_WS/cropped_jpg/ortho_2_23.jpg: 640x640 1 sports ball, 7.8ms\n",
      "Speed: 1.9ms preprocess, 7.8ms inference, 1.1ms postprocess per image at shape (1, 3, 640, 640)\n",
      "Results saved to \u001b[1mruns/detect/predict\u001b[0m\n",
      "\n",
      "image 1/1 /home/ubuntu/Desktop/DL_WorkSpace/WorkSpace/Input_Data_Container/CB_WS/GIS_WS/cropped_jpg/ortho_8_0.jpg: 640x640 (no detections), 5.5ms\n",
      "Speed: 1.9ms preprocess, 5.5ms inference, 0.5ms postprocess per image at shape (1, 3, 640, 640)\n",
      "Results saved to \u001b[1mruns/detect/predict\u001b[0m\n",
      "\n",
      "image 1/1 /home/ubuntu/Desktop/DL_WorkSpace/WorkSpace/Input_Data_Container/CB_WS/GIS_WS/cropped_jpg/ortho_18_6.jpg: 640x640 8 broccolis, 1 pizza, 7.4ms\n",
      "Speed: 1.7ms preprocess, 7.4ms inference, 1.2ms postprocess per image at shape (1, 3, 640, 640)\n",
      "Results saved to \u001b[1mruns/detect/predict\u001b[0m\n"
     ]
    },
    {
     "name": "stderr",
     "output_type": "stream",
     "text": [
      " 80%|████████████████████████████████▋        | 516/648 [00:15<00:04, 28.49it/s]"
     ]
    },
    {
     "name": "stdout",
     "output_type": "stream",
     "text": [
      "\n",
      "image 1/1 /home/ubuntu/Desktop/DL_WorkSpace/WorkSpace/Input_Data_Container/CB_WS/GIS_WS/cropped_jpg/ortho_3_17.jpg: 640x640 1 broccoli, 7.4ms\n",
      "Speed: 1.7ms preprocess, 7.4ms inference, 1.2ms postprocess per image at shape (1, 3, 640, 640)\n",
      "Results saved to \u001b[1mruns/detect/predict\u001b[0m\n",
      "\n",
      "image 1/1 /home/ubuntu/Desktop/DL_WorkSpace/WorkSpace/Input_Data_Container/CB_WS/GIS_WS/cropped_jpg/ortho_24_7.jpg: 640x640 1 bowl, 4 broccolis, 1 pizza, 7.1ms\n",
      "Speed: 1.7ms preprocess, 7.1ms inference, 1.0ms postprocess per image at shape (1, 3, 640, 640)\n",
      "Results saved to \u001b[1mruns/detect/predict\u001b[0m\n",
      "\n",
      "image 1/1 /home/ubuntu/Desktop/DL_WorkSpace/WorkSpace/Input_Data_Container/CB_WS/GIS_WS/cropped_jpg/ortho_23_20.jpg: 640x640 (no detections), 7.3ms\n",
      "Speed: 1.7ms preprocess, 7.3ms inference, 0.7ms postprocess per image at shape (1, 3, 640, 640)\n",
      "Results saved to \u001b[1mruns/detect/predict\u001b[0m\n",
      "\n",
      "image 1/1 /home/ubuntu/Desktop/DL_WorkSpace/WorkSpace/Input_Data_Container/CB_WS/GIS_WS/cropped_jpg/ortho_22_2.jpg: 640x640 1 broccoli, 6.9ms\n",
      "Speed: 1.7ms preprocess, 6.9ms inference, 1.0ms postprocess per image at shape (1, 3, 640, 640)\n",
      "Results saved to \u001b[1mruns/detect/predict\u001b[0m\n"
     ]
    },
    {
     "name": "stderr",
     "output_type": "stream",
     "text": [
      " 80%|████████████████████████████████▉        | 520/648 [00:16<00:04, 30.57it/s]"
     ]
    },
    {
     "name": "stdout",
     "output_type": "stream",
     "text": [
      "\n",
      "image 1/1 /home/ubuntu/Desktop/DL_WorkSpace/WorkSpace/Input_Data_Container/CB_WS/GIS_WS/cropped_jpg/ortho_20_9.jpg: 640x640 1 bear, 1 teddy bear, 7.3ms\n",
      "Speed: 1.7ms preprocess, 7.3ms inference, 1.4ms postprocess per image at shape (1, 3, 640, 640)\n",
      "Results saved to \u001b[1mruns/detect/predict\u001b[0m\n",
      "\n",
      "image 1/1 /home/ubuntu/Desktop/DL_WorkSpace/WorkSpace/Input_Data_Container/CB_WS/GIS_WS/cropped_jpg/ortho_7_19.jpg: 640x640 (no detections), 9.6ms\n",
      "Speed: 1.8ms preprocess, 9.6ms inference, 0.8ms postprocess per image at shape (1, 3, 640, 640)\n",
      "Results saved to \u001b[1mruns/detect/predict\u001b[0m\n",
      "\n",
      "image 1/1 /home/ubuntu/Desktop/DL_WorkSpace/WorkSpace/Input_Data_Container/CB_WS/GIS_WS/cropped_jpg/ortho_23_17.jpg: 640x640 (no detections), 8.5ms\n",
      "Speed: 1.8ms preprocess, 8.5ms inference, 0.8ms postprocess per image at shape (1, 3, 640, 640)\n",
      "Results saved to \u001b[1mruns/detect/predict\u001b[0m\n",
      "\n",
      "image 1/1 /home/ubuntu/Desktop/DL_WorkSpace/WorkSpace/Input_Data_Container/CB_WS/GIS_WS/cropped_jpg/ortho_6_7.jpg: 640x640 (no detections), 8.1ms\n",
      "Speed: 1.7ms preprocess, 8.1ms inference, 0.7ms postprocess per image at shape (1, 3, 640, 640)\n",
      "Results saved to \u001b[1mruns/detect/predict\u001b[0m\n"
     ]
    },
    {
     "name": "stderr",
     "output_type": "stream",
     "text": [
      " 81%|█████████████████████████████████▏       | 524/648 [00:16<00:04, 30.41it/s]"
     ]
    },
    {
     "name": "stdout",
     "output_type": "stream",
     "text": [
      "\n",
      "image 1/1 /home/ubuntu/Desktop/DL_WorkSpace/WorkSpace/Input_Data_Container/CB_WS/GIS_WS/cropped_jpg/ortho_1_4.jpg: 640x640 1 pizza, 5.2ms\n",
      "Speed: 1.6ms preprocess, 5.2ms inference, 1.1ms postprocess per image at shape (1, 3, 640, 640)\n",
      "Results saved to \u001b[1mruns/detect/predict\u001b[0m\n",
      "\n",
      "image 1/1 /home/ubuntu/Desktop/DL_WorkSpace/WorkSpace/Input_Data_Container/CB_WS/GIS_WS/cropped_jpg/ortho_1_11.jpg: 640x640 1 broccoli, 1 pizza, 1 cake, 7.3ms\n",
      "Speed: 1.7ms preprocess, 7.3ms inference, 1.0ms postprocess per image at shape (1, 3, 640, 640)\n",
      "Results saved to \u001b[1mruns/detect/predict\u001b[0m\n",
      "\n",
      "image 1/1 /home/ubuntu/Desktop/DL_WorkSpace/WorkSpace/Input_Data_Container/CB_WS/GIS_WS/cropped_jpg/ortho_1_10.jpg: 640x640 1 pizza, 1 cake, 7.2ms\n",
      "Speed: 1.7ms preprocess, 7.2ms inference, 1.3ms postprocess per image at shape (1, 3, 640, 640)\n",
      "Results saved to \u001b[1mruns/detect/predict\u001b[0m\n",
      "\n",
      "image 1/1 /home/ubuntu/Desktop/DL_WorkSpace/WorkSpace/Input_Data_Container/CB_WS/GIS_WS/cropped_jpg/ortho_8_10.jpg: 640x640 1 person, 2 broccolis, 1 potted plant, 5.6ms\n",
      "Speed: 1.5ms preprocess, 5.6ms inference, 1.1ms postprocess per image at shape (1, 3, 640, 640)\n",
      "Results saved to \u001b[1mruns/detect/predict\u001b[0m\n"
     ]
    },
    {
     "name": "stderr",
     "output_type": "stream",
     "text": [
      " 81%|█████████████████████████████████▍       | 528/648 [00:16<00:03, 32.05it/s]"
     ]
    },
    {
     "name": "stdout",
     "output_type": "stream",
     "text": [
      "\n",
      "image 1/1 /home/ubuntu/Desktop/DL_WorkSpace/WorkSpace/Input_Data_Container/CB_WS/GIS_WS/cropped_jpg/ortho_26_14.jpg: 640x640 (no detections), 5.2ms\n",
      "Speed: 1.5ms preprocess, 5.2ms inference, 0.5ms postprocess per image at shape (1, 3, 640, 640)\n",
      "Results saved to \u001b[1mruns/detect/predict\u001b[0m\n",
      "\n",
      "image 1/1 /home/ubuntu/Desktop/DL_WorkSpace/WorkSpace/Input_Data_Container/CB_WS/GIS_WS/cropped_jpg/ortho_2_11.jpg: 640x640 (no detections), 6.9ms\n",
      "Speed: 1.7ms preprocess, 6.9ms inference, 0.5ms postprocess per image at shape (1, 3, 640, 640)\n",
      "Results saved to \u001b[1mruns/detect/predict\u001b[0m\n",
      "\n",
      "image 1/1 /home/ubuntu/Desktop/DL_WorkSpace/WorkSpace/Input_Data_Container/CB_WS/GIS_WS/cropped_jpg/ortho_18_13.jpg: 640x640 1 cake, 5.5ms\n",
      "Speed: 1.5ms preprocess, 5.5ms inference, 1.4ms postprocess per image at shape (1, 3, 640, 640)\n",
      "Results saved to \u001b[1mruns/detect/predict\u001b[0m\n",
      "\n",
      "image 1/1 /home/ubuntu/Desktop/DL_WorkSpace/WorkSpace/Input_Data_Container/CB_WS/GIS_WS/cropped_jpg/ortho_0_19.jpg: 640x640 2 broccolis, 7.2ms\n",
      "Speed: 1.7ms preprocess, 7.2ms inference, 1.5ms postprocess per image at shape (1, 3, 640, 640)\n",
      "Results saved to \u001b[1mruns/detect/predict\u001b[0m\n"
     ]
    },
    {
     "name": "stderr",
     "output_type": "stream",
     "text": [
      " 82%|█████████████████████████████████▋       | 532/648 [00:16<00:03, 33.46it/s]"
     ]
    },
    {
     "name": "stdout",
     "output_type": "stream",
     "text": [
      "\n",
      "image 1/1 /home/ubuntu/Desktop/DL_WorkSpace/WorkSpace/Input_Data_Container/CB_WS/GIS_WS/cropped_jpg/ortho_11_23.jpg: 640x640 1 cake, 6.6ms\n",
      "Speed: 1.9ms preprocess, 6.6ms inference, 1.4ms postprocess per image at shape (1, 3, 640, 640)\n",
      "Results saved to \u001b[1mruns/detect/predict\u001b[0m\n",
      "\n",
      "image 1/1 /home/ubuntu/Desktop/DL_WorkSpace/WorkSpace/Input_Data_Container/CB_WS/GIS_WS/cropped_jpg/ortho_12_0.jpg: 640x640 1 broccoli, 16.3ms\n",
      "Speed: 1.9ms preprocess, 16.3ms inference, 1.6ms postprocess per image at shape (1, 3, 640, 640)\n",
      "Results saved to \u001b[1mruns/detect/predict\u001b[0m\n",
      "\n",
      "image 1/1 /home/ubuntu/Desktop/DL_WorkSpace/WorkSpace/Input_Data_Container/CB_WS/GIS_WS/cropped_jpg/ortho_14_22.jpg: 640x640 1 person, 1 cake, 1 vase, 7.9ms\n",
      "Speed: 2.0ms preprocess, 7.9ms inference, 1.1ms postprocess per image at shape (1, 3, 640, 640)\n",
      "Results saved to \u001b[1mruns/detect/predict\u001b[0m\n",
      "\n",
      "image 1/1 /home/ubuntu/Desktop/DL_WorkSpace/WorkSpace/Input_Data_Container/CB_WS/GIS_WS/cropped_jpg/ortho_8_8.jpg: 640x640 1 cake, 8.2ms\n",
      "Speed: 1.9ms preprocess, 8.2ms inference, 1.5ms postprocess per image at shape (1, 3, 640, 640)\n",
      "Results saved to \u001b[1mruns/detect/predict\u001b[0m\n"
     ]
    },
    {
     "name": "stderr",
     "output_type": "stream",
     "text": [
      " 83%|█████████████████████████████████▉       | 536/648 [00:16<00:03, 30.22it/s]"
     ]
    },
    {
     "name": "stdout",
     "output_type": "stream",
     "text": [
      "\n",
      "image 1/1 /home/ubuntu/Desktop/DL_WorkSpace/WorkSpace/Input_Data_Container/CB_WS/GIS_WS/cropped_jpg/ortho_24_12.jpg: 640x640 1 bowl, 1 broccoli, 1 pizza, 1 donut, 7.6ms\n",
      "Speed: 1.8ms preprocess, 7.6ms inference, 1.4ms postprocess per image at shape (1, 3, 640, 640)\n",
      "Results saved to \u001b[1mruns/detect/predict\u001b[0m\n",
      "\n",
      "image 1/1 /home/ubuntu/Desktop/DL_WorkSpace/WorkSpace/Input_Data_Container/CB_WS/GIS_WS/cropped_jpg/ortho_23_6.jpg: 640x640 1 bowl, 1 cake, 5.4ms\n",
      "Speed: 1.5ms preprocess, 5.4ms inference, 1.0ms postprocess per image at shape (1, 3, 640, 640)\n",
      "Results saved to \u001b[1mruns/detect/predict\u001b[0m\n",
      "\n",
      "image 1/1 /home/ubuntu/Desktop/DL_WorkSpace/WorkSpace/Input_Data_Container/CB_WS/GIS_WS/cropped_jpg/ortho_24_0.jpg: 640x640 (no detections), 8.0ms\n",
      "Speed: 1.7ms preprocess, 8.0ms inference, 0.5ms postprocess per image at shape (1, 3, 640, 640)\n",
      "Results saved to \u001b[1mruns/detect/predict\u001b[0m\n",
      "\n",
      "image 1/1 /home/ubuntu/Desktop/DL_WorkSpace/WorkSpace/Input_Data_Container/CB_WS/GIS_WS/cropped_jpg/ortho_22_18.jpg: 640x640 1 apple, 8.2ms\n",
      "Speed: 1.5ms preprocess, 8.2ms inference, 1.5ms postprocess per image at shape (1, 3, 640, 640)\n",
      "Results saved to \u001b[1mruns/detect/predict\u001b[0m\n"
     ]
    },
    {
     "name": "stderr",
     "output_type": "stream",
     "text": [
      " 83%|██████████████████████████████████▏      | 540/648 [00:16<00:03, 32.04it/s]"
     ]
    },
    {
     "name": "stdout",
     "output_type": "stream",
     "text": [
      "\n",
      "image 1/1 /home/ubuntu/Desktop/DL_WorkSpace/WorkSpace/Input_Data_Container/CB_WS/GIS_WS/cropped_jpg/ortho_14_21.jpg: 640x640 1 person, 7.2ms\n",
      "Speed: 1.8ms preprocess, 7.2ms inference, 1.4ms postprocess per image at shape (1, 3, 640, 640)\n",
      "Results saved to \u001b[1mruns/detect/predict\u001b[0m\n",
      "\n",
      "image 1/1 /home/ubuntu/Desktop/DL_WorkSpace/WorkSpace/Input_Data_Container/CB_WS/GIS_WS/cropped_jpg/ortho_19_16.jpg: 640x640 (no detections), 8.3ms\n",
      "Speed: 1.7ms preprocess, 8.3ms inference, 0.7ms postprocess per image at shape (1, 3, 640, 640)\n",
      "Results saved to \u001b[1mruns/detect/predict\u001b[0m\n",
      "\n",
      "image 1/1 /home/ubuntu/Desktop/DL_WorkSpace/WorkSpace/Input_Data_Container/CB_WS/GIS_WS/cropped_jpg/ortho_23_23.jpg: 640x640 (no detections), 6.7ms\n",
      "Speed: 1.8ms preprocess, 6.7ms inference, 0.6ms postprocess per image at shape (1, 3, 640, 640)\n",
      "Results saved to \u001b[1mruns/detect/predict\u001b[0m\n",
      "\n",
      "image 1/1 /home/ubuntu/Desktop/DL_WorkSpace/WorkSpace/Input_Data_Container/CB_WS/GIS_WS/cropped_jpg/ortho_9_5.jpg: 640x640 3 broccolis, 1 dining table, 7.7ms\n",
      "Speed: 1.8ms preprocess, 7.7ms inference, 1.5ms postprocess per image at shape (1, 3, 640, 640)\n",
      "Results saved to \u001b[1mruns/detect/predict\u001b[0m\n"
     ]
    },
    {
     "name": "stderr",
     "output_type": "stream",
     "text": [
      " 84%|██████████████████████████████████▍      | 544/648 [00:16<00:03, 31.36it/s]"
     ]
    },
    {
     "name": "stdout",
     "output_type": "stream",
     "text": [
      "\n",
      "image 1/1 /home/ubuntu/Desktop/DL_WorkSpace/WorkSpace/Input_Data_Container/CB_WS/GIS_WS/cropped_jpg/ortho_3_21.jpg: 640x640 1 truck, 1 refrigerator, 2 books, 9.0ms\n",
      "Speed: 2.0ms preprocess, 9.0ms inference, 1.8ms postprocess per image at shape (1, 3, 640, 640)\n",
      "Results saved to \u001b[1mruns/detect/predict\u001b[0m\n",
      "\n",
      "image 1/1 /home/ubuntu/Desktop/DL_WorkSpace/WorkSpace/Input_Data_Container/CB_WS/GIS_WS/cropped_jpg/ortho_24_21.jpg: 640x640 (no detections), 8.5ms\n",
      "Speed: 1.9ms preprocess, 8.5ms inference, 0.7ms postprocess per image at shape (1, 3, 640, 640)\n",
      "Results saved to \u001b[1mruns/detect/predict\u001b[0m\n",
      "\n",
      "image 1/1 /home/ubuntu/Desktop/DL_WorkSpace/WorkSpace/Input_Data_Container/CB_WS/GIS_WS/cropped_jpg/ortho_25_3.jpg: 640x640 1 person, 4 broccolis, 5.3ms\n",
      "Speed: 1.6ms preprocess, 5.3ms inference, 1.1ms postprocess per image at shape (1, 3, 640, 640)\n",
      "Results saved to \u001b[1mruns/detect/predict\u001b[0m\n",
      "\n",
      "image 1/1 /home/ubuntu/Desktop/DL_WorkSpace/WorkSpace/Input_Data_Container/CB_WS/GIS_WS/cropped_jpg/ortho_23_13.jpg: 640x640 9 broccolis, 1 pizza, 8.5ms\n",
      "Speed: 1.9ms preprocess, 8.5ms inference, 1.7ms postprocess per image at shape (1, 3, 640, 640)\n",
      "Results saved to \u001b[1mruns/detect/predict\u001b[0m\n"
     ]
    },
    {
     "name": "stderr",
     "output_type": "stream",
     "text": [
      " 85%|██████████████████████████████████▋      | 548/648 [00:16<00:03, 30.49it/s]"
     ]
    },
    {
     "name": "stdout",
     "output_type": "stream",
     "text": [
      "\n",
      "image 1/1 /home/ubuntu/Desktop/DL_WorkSpace/WorkSpace/Input_Data_Container/CB_WS/GIS_WS/cropped_jpg/ortho_4_18.jpg: 640x640 1 person, 8.1ms\n",
      "Speed: 2.0ms preprocess, 8.1ms inference, 1.6ms postprocess per image at shape (1, 3, 640, 640)\n",
      "Results saved to \u001b[1mruns/detect/predict\u001b[0m\n",
      "\n",
      "image 1/1 /home/ubuntu/Desktop/DL_WorkSpace/WorkSpace/Input_Data_Container/CB_WS/GIS_WS/cropped_jpg/ortho_19_12.jpg: 640x640 1 cake, 8.5ms\n",
      "Speed: 1.5ms preprocess, 8.5ms inference, 1.5ms postprocess per image at shape (1, 3, 640, 640)\n",
      "Results saved to \u001b[1mruns/detect/predict\u001b[0m\n",
      "\n",
      "image 1/1 /home/ubuntu/Desktop/DL_WorkSpace/WorkSpace/Input_Data_Container/CB_WS/GIS_WS/cropped_jpg/ortho_15_6.jpg: 640x640 4 broccolis, 1 dining table, 8.3ms\n",
      "Speed: 1.9ms preprocess, 8.3ms inference, 1.3ms postprocess per image at shape (1, 3, 640, 640)\n",
      "Results saved to \u001b[1mruns/detect/predict\u001b[0m\n",
      "\n",
      "image 1/1 /home/ubuntu/Desktop/DL_WorkSpace/WorkSpace/Input_Data_Container/CB_WS/GIS_WS/cropped_jpg/ortho_16_17.jpg: 640x640 (no detections), 7.5ms\n",
      "Speed: 1.8ms preprocess, 7.5ms inference, 0.6ms postprocess per image at shape (1, 3, 640, 640)\n",
      "Results saved to \u001b[1mruns/detect/predict\u001b[0m\n"
     ]
    },
    {
     "name": "stderr",
     "output_type": "stream",
     "text": [
      " 85%|██████████████████████████████████▉      | 552/648 [00:17<00:03, 29.39it/s]"
     ]
    },
    {
     "name": "stdout",
     "output_type": "stream",
     "text": [
      "\n",
      "image 1/1 /home/ubuntu/Desktop/DL_WorkSpace/WorkSpace/Input_Data_Container/CB_WS/GIS_WS/cropped_jpg/ortho_6_16.jpg: 640x640 1 bowl, 1 broccoli, 1 cake, 7.3ms\n",
      "Speed: 1.9ms preprocess, 7.3ms inference, 1.4ms postprocess per image at shape (1, 3, 640, 640)\n",
      "Results saved to \u001b[1mruns/detect/predict\u001b[0m\n",
      "\n",
      "image 1/1 /home/ubuntu/Desktop/DL_WorkSpace/WorkSpace/Input_Data_Container/CB_WS/GIS_WS/cropped_jpg/ortho_10_11.jpg: 640x640 1 broccoli, 1 cake, 7.3ms\n",
      "Speed: 1.7ms preprocess, 7.3ms inference, 1.4ms postprocess per image at shape (1, 3, 640, 640)\n",
      "Results saved to \u001b[1mruns/detect/predict\u001b[0m\n",
      "\n",
      "image 1/1 /home/ubuntu/Desktop/DL_WorkSpace/WorkSpace/Input_Data_Container/CB_WS/GIS_WS/cropped_jpg/ortho_21_23.jpg: 640x640 1 broccoli, 7.2ms\n",
      "Speed: 1.7ms preprocess, 7.2ms inference, 1.4ms postprocess per image at shape (1, 3, 640, 640)\n",
      "Results saved to \u001b[1mruns/detect/predict\u001b[0m\n"
     ]
    },
    {
     "name": "stderr",
     "output_type": "stream",
     "text": [
      " 86%|███████████████████████████████████      | 555/648 [00:17<00:03, 29.09it/s]"
     ]
    },
    {
     "name": "stdout",
     "output_type": "stream",
     "text": [
      "\n",
      "image 1/1 /home/ubuntu/Desktop/DL_WorkSpace/WorkSpace/Input_Data_Container/CB_WS/GIS_WS/cropped_jpg/ortho_22_8.jpg: 640x640 1 person, 7.8ms\n",
      "Speed: 1.8ms preprocess, 7.8ms inference, 1.5ms postprocess per image at shape (1, 3, 640, 640)\n",
      "Results saved to \u001b[1mruns/detect/predict\u001b[0m\n",
      "\n",
      "image 1/1 /home/ubuntu/Desktop/DL_WorkSpace/WorkSpace/Input_Data_Container/CB_WS/GIS_WS/cropped_jpg/ortho_7_9.jpg: 640x640 (no detections), 8.2ms\n",
      "Speed: 1.9ms preprocess, 8.2ms inference, 0.8ms postprocess per image at shape (1, 3, 640, 640)\n",
      "Results saved to \u001b[1mruns/detect/predict\u001b[0m\n",
      "\n",
      "image 1/1 /home/ubuntu/Desktop/DL_WorkSpace/WorkSpace/Input_Data_Container/CB_WS/GIS_WS/cropped_jpg/ortho_13_1.jpg: 640x640 1 broccoli, 5.5ms\n",
      "Speed: 1.8ms preprocess, 5.5ms inference, 1.1ms postprocess per image at shape (1, 3, 640, 640)\n",
      "Results saved to \u001b[1mruns/detect/predict\u001b[0m\n"
     ]
    },
    {
     "name": "stderr",
     "output_type": "stream",
     "text": [
      " 86%|███████████████████████████████████▎     | 558/648 [00:17<00:03, 28.89it/s]"
     ]
    },
    {
     "name": "stdout",
     "output_type": "stream",
     "text": [
      "\n",
      "image 1/1 /home/ubuntu/Desktop/DL_WorkSpace/WorkSpace/Input_Data_Container/CB_WS/GIS_WS/cropped_jpg/ortho_23_21.jpg: 640x640 (no detections), 7.1ms\n",
      "Speed: 1.8ms preprocess, 7.1ms inference, 0.7ms postprocess per image at shape (1, 3, 640, 640)\n",
      "Results saved to \u001b[1mruns/detect/predict\u001b[0m\n",
      "\n",
      "image 1/1 /home/ubuntu/Desktop/DL_WorkSpace/WorkSpace/Input_Data_Container/CB_WS/GIS_WS/cropped_jpg/ortho_26_18.jpg: 640x640 (no detections), 7.6ms\n",
      "Speed: 1.8ms preprocess, 7.6ms inference, 0.7ms postprocess per image at shape (1, 3, 640, 640)\n",
      "Results saved to \u001b[1mruns/detect/predict\u001b[0m\n",
      "\n",
      "image 1/1 /home/ubuntu/Desktop/DL_WorkSpace/WorkSpace/Input_Data_Container/CB_WS/GIS_WS/cropped_jpg/ortho_21_6.jpg: 640x640 1 person, 1 broccoli, 1 cake, 1 dining table, 5.3ms\n",
      "Speed: 1.7ms preprocess, 5.3ms inference, 1.0ms postprocess per image at shape (1, 3, 640, 640)\n",
      "Results saved to \u001b[1mruns/detect/predict\u001b[0m\n",
      "\n",
      "image 1/1 /home/ubuntu/Desktop/DL_WorkSpace/WorkSpace/Input_Data_Container/CB_WS/GIS_WS/cropped_jpg/ortho_21_12.jpg: 640x640 1 cake, 5.6ms\n",
      "Speed: 1.5ms preprocess, 5.6ms inference, 1.1ms postprocess per image at shape (1, 3, 640, 640)\n",
      "Results saved to \u001b[1mruns/detect/predict\u001b[0m\n"
     ]
    },
    {
     "name": "stderr",
     "output_type": "stream",
     "text": [
      " 87%|███████████████████████████████████▌     | 562/648 [00:17<00:02, 30.93it/s]"
     ]
    },
    {
     "name": "stdout",
     "output_type": "stream",
     "text": [
      "\n",
      "image 1/1 /home/ubuntu/Desktop/DL_WorkSpace/WorkSpace/Input_Data_Container/CB_WS/GIS_WS/cropped_jpg/ortho_4_7.jpg: 640x640 1 cake, 5.4ms\n",
      "Speed: 1.5ms preprocess, 5.4ms inference, 1.0ms postprocess per image at shape (1, 3, 640, 640)\n",
      "Results saved to \u001b[1mruns/detect/predict\u001b[0m\n",
      "\n",
      "image 1/1 /home/ubuntu/Desktop/DL_WorkSpace/WorkSpace/Input_Data_Container/CB_WS/GIS_WS/cropped_jpg/ortho_4_12.jpg: 640x640 1 person, 1 fire hydrant, 7.2ms\n",
      "Speed: 1.7ms preprocess, 7.2ms inference, 1.3ms postprocess per image at shape (1, 3, 640, 640)\n",
      "Results saved to \u001b[1mruns/detect/predict\u001b[0m\n",
      "\n",
      "image 1/1 /home/ubuntu/Desktop/DL_WorkSpace/WorkSpace/Input_Data_Container/CB_WS/GIS_WS/cropped_jpg/ortho_13_22.jpg: 640x640 1 broccoli, 1 carrot, 1 cake, 7.0ms\n",
      "Speed: 1.7ms preprocess, 7.0ms inference, 1.0ms postprocess per image at shape (1, 3, 640, 640)\n",
      "Results saved to \u001b[1mruns/detect/predict\u001b[0m\n",
      "\n",
      "image 1/1 /home/ubuntu/Desktop/DL_WorkSpace/WorkSpace/Input_Data_Container/CB_WS/GIS_WS/cropped_jpg/ortho_2_16.jpg: 640x640 1 person, 5.5ms\n",
      "Speed: 1.5ms preprocess, 5.5ms inference, 1.1ms postprocess per image at shape (1, 3, 640, 640)\n",
      "Results saved to \u001b[1mruns/detect/predict\u001b[0m\n"
     ]
    },
    {
     "name": "stderr",
     "output_type": "stream",
     "text": [
      " 87%|███████████████████████████████████▊     | 566/648 [00:17<00:02, 32.49it/s]"
     ]
    },
    {
     "name": "stdout",
     "output_type": "stream",
     "text": [
      "\n",
      "image 1/1 /home/ubuntu/Desktop/DL_WorkSpace/WorkSpace/Input_Data_Container/CB_WS/GIS_WS/cropped_jpg/ortho_3_0.jpg: 640x640 1 carrot, 1 cake, 9.1ms\n",
      "Speed: 1.9ms preprocess, 9.1ms inference, 1.4ms postprocess per image at shape (1, 3, 640, 640)\n",
      "Results saved to \u001b[1mruns/detect/predict\u001b[0m\n",
      "\n",
      "image 1/1 /home/ubuntu/Desktop/DL_WorkSpace/WorkSpace/Input_Data_Container/CB_WS/GIS_WS/cropped_jpg/ortho_16_9.jpg: 640x640 (no detections), 8.0ms\n",
      "Speed: 1.5ms preprocess, 8.0ms inference, 0.7ms postprocess per image at shape (1, 3, 640, 640)\n",
      "Results saved to \u001b[1mruns/detect/predict\u001b[0m\n",
      "\n",
      "image 1/1 /home/ubuntu/Desktop/DL_WorkSpace/WorkSpace/Input_Data_Container/CB_WS/GIS_WS/cropped_jpg/ortho_16_1.jpg: 640x640 1 broccoli, 1 vase, 5.4ms\n",
      "Speed: 1.5ms preprocess, 5.4ms inference, 1.3ms postprocess per image at shape (1, 3, 640, 640)\n",
      "Results saved to \u001b[1mruns/detect/predict\u001b[0m\n",
      "\n",
      "image 1/1 /home/ubuntu/Desktop/DL_WorkSpace/WorkSpace/Input_Data_Container/CB_WS/GIS_WS/cropped_jpg/ortho_22_5.jpg: 640x640 1 person, 5.2ms\n",
      "Speed: 1.6ms preprocess, 5.2ms inference, 1.3ms postprocess per image at shape (1, 3, 640, 640)\n",
      "Results saved to \u001b[1mruns/detect/predict\u001b[0m\n"
     ]
    },
    {
     "name": "stderr",
     "output_type": "stream",
     "text": [
      " 88%|████████████████████████████████████     | 570/648 [00:17<00:02, 32.21it/s]"
     ]
    },
    {
     "name": "stdout",
     "output_type": "stream",
     "text": [
      "\n",
      "image 1/1 /home/ubuntu/Desktop/DL_WorkSpace/WorkSpace/Input_Data_Container/CB_WS/GIS_WS/cropped_jpg/ortho_17_15.jpg: 640x640 (no detections), 5.3ms\n",
      "Speed: 1.5ms preprocess, 5.3ms inference, 0.6ms postprocess per image at shape (1, 3, 640, 640)\n",
      "Results saved to \u001b[1mruns/detect/predict\u001b[0m\n",
      "\n",
      "image 1/1 /home/ubuntu/Desktop/DL_WorkSpace/WorkSpace/Input_Data_Container/CB_WS/GIS_WS/cropped_jpg/ortho_16_21.jpg: 640x640 1 person, 1 hot dog, 6.9ms\n",
      "Speed: 1.8ms preprocess, 6.9ms inference, 1.1ms postprocess per image at shape (1, 3, 640, 640)\n",
      "Results saved to \u001b[1mruns/detect/predict\u001b[0m\n",
      "\n",
      "image 1/1 /home/ubuntu/Desktop/DL_WorkSpace/WorkSpace/Input_Data_Container/CB_WS/GIS_WS/cropped_jpg/ortho_13_4.jpg: 640x640 1 cake, 7.2ms\n",
      "Speed: 1.7ms preprocess, 7.2ms inference, 1.0ms postprocess per image at shape (1, 3, 640, 640)\n",
      "Results saved to \u001b[1mruns/detect/predict\u001b[0m\n",
      "\n",
      "image 1/1 /home/ubuntu/Desktop/DL_WorkSpace/WorkSpace/Input_Data_Container/CB_WS/GIS_WS/cropped_jpg/ortho_19_6.jpg: 640x640 1 broccoli, 7.0ms\n",
      "Speed: 1.7ms preprocess, 7.0ms inference, 1.3ms postprocess per image at shape (1, 3, 640, 640)\n",
      "Results saved to \u001b[1mruns/detect/predict\u001b[0m\n"
     ]
    },
    {
     "name": "stderr",
     "output_type": "stream",
     "text": [
      " 89%|████████████████████████████████████▎    | 574/648 [00:17<00:02, 33.40it/s]"
     ]
    },
    {
     "name": "stdout",
     "output_type": "stream",
     "text": [
      "\n",
      "image 1/1 /home/ubuntu/Desktop/DL_WorkSpace/WorkSpace/Input_Data_Container/CB_WS/GIS_WS/cropped_jpg/ortho_11_1.jpg: 640x640 1 broccoli, 7.2ms\n",
      "Speed: 1.8ms preprocess, 7.2ms inference, 1.5ms postprocess per image at shape (1, 3, 640, 640)\n",
      "Results saved to \u001b[1mruns/detect/predict\u001b[0m\n",
      "\n",
      "image 1/1 /home/ubuntu/Desktop/DL_WorkSpace/WorkSpace/Input_Data_Container/CB_WS/GIS_WS/cropped_jpg/ortho_13_21.jpg: 640x640 1 broccoli, 1 cake, 8.1ms\n",
      "Speed: 1.9ms preprocess, 8.1ms inference, 1.4ms postprocess per image at shape (1, 3, 640, 640)\n",
      "Results saved to \u001b[1mruns/detect/predict\u001b[0m\n",
      "\n",
      "image 1/1 /home/ubuntu/Desktop/DL_WorkSpace/WorkSpace/Input_Data_Container/CB_WS/GIS_WS/cropped_jpg/ortho_22_16.jpg: 640x640 1 cake, 8.3ms\n",
      "Speed: 2.0ms preprocess, 8.3ms inference, 1.4ms postprocess per image at shape (1, 3, 640, 640)\n",
      "Results saved to \u001b[1mruns/detect/predict\u001b[0m\n",
      "\n",
      "image 1/1 /home/ubuntu/Desktop/DL_WorkSpace/WorkSpace/Input_Data_Container/CB_WS/GIS_WS/cropped_jpg/ortho_5_12.jpg: 640x640 (no detections), 7.7ms\n",
      "Speed: 1.7ms preprocess, 7.7ms inference, 0.6ms postprocess per image at shape (1, 3, 640, 640)\n",
      "Results saved to \u001b[1mruns/detect/predict\u001b[0m\n"
     ]
    },
    {
     "name": "stderr",
     "output_type": "stream",
     "text": [
      " 89%|████████████████████████████████████▌    | 578/648 [00:17<00:02, 32.04it/s]"
     ]
    },
    {
     "name": "stdout",
     "output_type": "stream",
     "text": [
      "\n",
      "image 1/1 /home/ubuntu/Desktop/DL_WorkSpace/WorkSpace/Input_Data_Container/CB_WS/GIS_WS/cropped_jpg/ortho_12_15.jpg: 640x640 (no detections), 6.9ms\n",
      "Speed: 1.9ms preprocess, 6.9ms inference, 0.7ms postprocess per image at shape (1, 3, 640, 640)\n",
      "Results saved to \u001b[1mruns/detect/predict\u001b[0m\n",
      "\n",
      "image 1/1 /home/ubuntu/Desktop/DL_WorkSpace/WorkSpace/Input_Data_Container/CB_WS/GIS_WS/cropped_jpg/ortho_3_14.jpg: 640x640 1 bowl, 1 cake, 6.9ms\n",
      "Speed: 1.8ms preprocess, 6.9ms inference, 1.4ms postprocess per image at shape (1, 3, 640, 640)\n",
      "Results saved to \u001b[1mruns/detect/predict\u001b[0m\n",
      "\n",
      "image 1/1 /home/ubuntu/Desktop/DL_WorkSpace/WorkSpace/Input_Data_Container/CB_WS/GIS_WS/cropped_jpg/ortho_20_10.jpg: 640x640 1 pizza, 1 cake, 7.5ms\n",
      "Speed: 1.8ms preprocess, 7.5ms inference, 1.5ms postprocess per image at shape (1, 3, 640, 640)\n",
      "Results saved to \u001b[1mruns/detect/predict\u001b[0m\n",
      "\n",
      "image 1/1 /home/ubuntu/Desktop/DL_WorkSpace/WorkSpace/Input_Data_Container/CB_WS/GIS_WS/cropped_jpg/ortho_17_8.jpg: 640x640 1 person, 2 broccolis, 5.8ms\n",
      "Speed: 1.5ms preprocess, 5.8ms inference, 1.0ms postprocess per image at shape (1, 3, 640, 640)\n",
      "Results saved to \u001b[1mruns/detect/predict\u001b[0m\n"
     ]
    },
    {
     "name": "stderr",
     "output_type": "stream",
     "text": [
      " 90%|████████████████████████████████████▊    | 582/648 [00:18<00:02, 31.28it/s]"
     ]
    },
    {
     "name": "stdout",
     "output_type": "stream",
     "text": [
      "\n",
      "image 1/1 /home/ubuntu/Desktop/DL_WorkSpace/WorkSpace/Input_Data_Container/CB_WS/GIS_WS/cropped_jpg/ortho_8_3.jpg: 640x640 1 person, 1 broccoli, 1 dining table, 7.2ms\n",
      "Speed: 1.8ms preprocess, 7.2ms inference, 1.5ms postprocess per image at shape (1, 3, 640, 640)\n",
      "Results saved to \u001b[1mruns/detect/predict\u001b[0m\n",
      "\n",
      "image 1/1 /home/ubuntu/Desktop/DL_WorkSpace/WorkSpace/Input_Data_Container/CB_WS/GIS_WS/cropped_jpg/ortho_22_12.jpg: 640x640 (no detections), 6.3ms\n",
      "Speed: 1.8ms preprocess, 6.3ms inference, 0.7ms postprocess per image at shape (1, 3, 640, 640)\n",
      "Results saved to \u001b[1mruns/detect/predict\u001b[0m\n",
      "\n",
      "image 1/1 /home/ubuntu/Desktop/DL_WorkSpace/WorkSpace/Input_Data_Container/CB_WS/GIS_WS/cropped_jpg/ortho_6_1.jpg: 640x640 1 person, 1 vase, 5.4ms\n",
      "Speed: 1.5ms preprocess, 5.4ms inference, 1.5ms postprocess per image at shape (1, 3, 640, 640)\n",
      "Results saved to \u001b[1mruns/detect/predict\u001b[0m\n",
      "\n",
      "image 1/1 /home/ubuntu/Desktop/DL_WorkSpace/WorkSpace/Input_Data_Container/CB_WS/GIS_WS/cropped_jpg/ortho_8_1.jpg: 640x640 1 bowl, 1 broccoli, 1 cake, 1 dining table, 7.0ms\n",
      "Speed: 1.8ms preprocess, 7.0ms inference, 1.4ms postprocess per image at shape (1, 3, 640, 640)\n",
      "Results saved to \u001b[1mruns/detect/predict\u001b[0m\n"
     ]
    },
    {
     "name": "stderr",
     "output_type": "stream",
     "text": [
      " 90%|█████████████████████████████████████    | 586/648 [00:18<00:01, 31.63it/s]"
     ]
    },
    {
     "name": "stdout",
     "output_type": "stream",
     "text": [
      "\n",
      "image 1/1 /home/ubuntu/Desktop/DL_WorkSpace/WorkSpace/Input_Data_Container/CB_WS/GIS_WS/cropped_jpg/ortho_21_8.jpg: 640x640 1 person, 1 apple, 1 cake, 7.3ms\n",
      "Speed: 1.9ms preprocess, 7.3ms inference, 1.4ms postprocess per image at shape (1, 3, 640, 640)\n",
      "Results saved to \u001b[1mruns/detect/predict\u001b[0m\n",
      "\n",
      "image 1/1 /home/ubuntu/Desktop/DL_WorkSpace/WorkSpace/Input_Data_Container/CB_WS/GIS_WS/cropped_jpg/ortho_18_11.jpg: 640x640 1 pizza, 1 cake, 6.8ms\n",
      "Speed: 1.8ms preprocess, 6.8ms inference, 1.4ms postprocess per image at shape (1, 3, 640, 640)\n",
      "Results saved to \u001b[1mruns/detect/predict\u001b[0m\n",
      "\n",
      "image 1/1 /home/ubuntu/Desktop/DL_WorkSpace/WorkSpace/Input_Data_Container/CB_WS/GIS_WS/cropped_jpg/ortho_18_18.jpg: 640x640 (no detections), 7.4ms\n",
      "Speed: 1.7ms preprocess, 7.4ms inference, 0.7ms postprocess per image at shape (1, 3, 640, 640)\n",
      "Results saved to \u001b[1mruns/detect/predict\u001b[0m\n",
      "\n",
      "image 1/1 /home/ubuntu/Desktop/DL_WorkSpace/WorkSpace/Input_Data_Container/CB_WS/GIS_WS/cropped_jpg/ortho_26_8.jpg: 640x640 (no detections), 6.0ms\n",
      "Speed: 1.8ms preprocess, 6.0ms inference, 0.6ms postprocess per image at shape (1, 3, 640, 640)\n",
      "Results saved to \u001b[1mruns/detect/predict\u001b[0m\n"
     ]
    },
    {
     "name": "stderr",
     "output_type": "stream",
     "text": [
      " 91%|█████████████████████████████████████▎   | 590/648 [00:18<00:01, 32.61it/s]"
     ]
    },
    {
     "name": "stdout",
     "output_type": "stream",
     "text": [
      "\n",
      "image 1/1 /home/ubuntu/Desktop/DL_WorkSpace/WorkSpace/Input_Data_Container/CB_WS/GIS_WS/cropped_jpg/ortho_11_19.jpg: 640x640 1 person, 7.4ms\n",
      "Speed: 1.8ms preprocess, 7.4ms inference, 1.4ms postprocess per image at shape (1, 3, 640, 640)\n",
      "Results saved to \u001b[1mruns/detect/predict\u001b[0m\n",
      "\n",
      "image 1/1 /home/ubuntu/Desktop/DL_WorkSpace/WorkSpace/Input_Data_Container/CB_WS/GIS_WS/cropped_jpg/ortho_13_6.jpg: 640x640 1 person, 7.1ms\n",
      "Speed: 1.6ms preprocess, 7.1ms inference, 1.1ms postprocess per image at shape (1, 3, 640, 640)\n",
      "Results saved to \u001b[1mruns/detect/predict\u001b[0m\n",
      "\n",
      "image 1/1 /home/ubuntu/Desktop/DL_WorkSpace/WorkSpace/Input_Data_Container/CB_WS/GIS_WS/cropped_jpg/ortho_18_14.jpg: 640x640 1 cake, 8.1ms\n",
      "Speed: 1.5ms preprocess, 8.1ms inference, 1.5ms postprocess per image at shape (1, 3, 640, 640)\n",
      "Results saved to \u001b[1mruns/detect/predict\u001b[0m\n",
      "\n",
      "image 1/1 /home/ubuntu/Desktop/DL_WorkSpace/WorkSpace/Input_Data_Container/CB_WS/GIS_WS/cropped_jpg/ortho_0_18.jpg: 640x640 2 broccolis, 6.8ms\n",
      "Speed: 1.7ms preprocess, 6.8ms inference, 1.3ms postprocess per image at shape (1, 3, 640, 640)\n",
      "Results saved to \u001b[1mruns/detect/predict\u001b[0m\n"
     ]
    },
    {
     "name": "stderr",
     "output_type": "stream",
     "text": [
      " 92%|█████████████████████████████████████▌   | 594/648 [00:18<00:01, 33.04it/s]"
     ]
    },
    {
     "name": "stdout",
     "output_type": "stream",
     "text": [
      "\n",
      "image 1/1 /home/ubuntu/Desktop/DL_WorkSpace/WorkSpace/Input_Data_Container/CB_WS/GIS_WS/cropped_jpg/ortho_1_0.jpg: 640x640 (no detections), 7.2ms\n",
      "Speed: 1.8ms preprocess, 7.2ms inference, 0.6ms postprocess per image at shape (1, 3, 640, 640)\n",
      "Results saved to \u001b[1mruns/detect/predict\u001b[0m\n",
      "\n",
      "image 1/1 /home/ubuntu/Desktop/DL_WorkSpace/WorkSpace/Input_Data_Container/CB_WS/GIS_WS/cropped_jpg/ortho_20_5.jpg: 640x640 (no detections), 6.9ms\n",
      "Speed: 1.8ms preprocess, 6.9ms inference, 0.7ms postprocess per image at shape (1, 3, 640, 640)\n",
      "Results saved to \u001b[1mruns/detect/predict\u001b[0m\n",
      "\n",
      "image 1/1 /home/ubuntu/Desktop/DL_WorkSpace/WorkSpace/Input_Data_Container/CB_WS/GIS_WS/cropped_jpg/ortho_26_22.jpg: 640x640 (no detections), 6.3ms\n",
      "Speed: 1.6ms preprocess, 6.3ms inference, 0.7ms postprocess per image at shape (1, 3, 640, 640)\n",
      "Results saved to \u001b[1mruns/detect/predict\u001b[0m\n",
      "\n",
      "image 1/1 /home/ubuntu/Desktop/DL_WorkSpace/WorkSpace/Input_Data_Container/CB_WS/GIS_WS/cropped_jpg/ortho_15_14.jpg: 640x640 1 bear, 5.2ms\n",
      "Speed: 1.5ms preprocess, 5.2ms inference, 1.0ms postprocess per image at shape (1, 3, 640, 640)\n",
      "Results saved to \u001b[1mruns/detect/predict\u001b[0m\n"
     ]
    },
    {
     "name": "stderr",
     "output_type": "stream",
     "text": [
      " 92%|█████████████████████████████████████▊   | 598/648 [00:18<00:01, 33.40it/s]"
     ]
    },
    {
     "name": "stdout",
     "output_type": "stream",
     "text": [
      "\n",
      "image 1/1 /home/ubuntu/Desktop/DL_WorkSpace/WorkSpace/Input_Data_Container/CB_WS/GIS_WS/cropped_jpg/ortho_18_2.jpg: 640x640 2 broccolis, 6.8ms\n",
      "Speed: 1.5ms preprocess, 6.8ms inference, 1.4ms postprocess per image at shape (1, 3, 640, 640)\n",
      "Results saved to \u001b[1mruns/detect/predict\u001b[0m\n",
      "\n",
      "image 1/1 /home/ubuntu/Desktop/DL_WorkSpace/WorkSpace/Input_Data_Container/CB_WS/GIS_WS/cropped_jpg/ortho_24_18.jpg: 640x640 (no detections), 7.1ms\n",
      "Speed: 1.9ms preprocess, 7.1ms inference, 0.8ms postprocess per image at shape (1, 3, 640, 640)\n",
      "Results saved to \u001b[1mruns/detect/predict\u001b[0m\n",
      "\n",
      "image 1/1 /home/ubuntu/Desktop/DL_WorkSpace/WorkSpace/Input_Data_Container/CB_WS/GIS_WS/cropped_jpg/ortho_13_14.jpg: 640x640 1 person, 6.9ms\n",
      "Speed: 1.8ms preprocess, 6.9ms inference, 1.5ms postprocess per image at shape (1, 3, 640, 640)\n",
      "Results saved to \u001b[1mruns/detect/predict\u001b[0m\n",
      "\n",
      "image 1/1 /home/ubuntu/Desktop/DL_WorkSpace/WorkSpace/Input_Data_Container/CB_WS/GIS_WS/cropped_jpg/ortho_4_8.jpg: 640x640 1 cake, 7.6ms\n",
      "Speed: 1.8ms preprocess, 7.6ms inference, 1.4ms postprocess per image at shape (1, 3, 640, 640)\n",
      "Results saved to \u001b[1mruns/detect/predict\u001b[0m\n"
     ]
    },
    {
     "name": "stderr",
     "output_type": "stream",
     "text": [
      " 93%|██████████████████████████████████████   | 602/648 [00:18<00:01, 32.50it/s]"
     ]
    },
    {
     "name": "stdout",
     "output_type": "stream",
     "text": [
      "\n",
      "image 1/1 /home/ubuntu/Desktop/DL_WorkSpace/WorkSpace/Input_Data_Container/CB_WS/GIS_WS/cropped_jpg/ortho_1_2.jpg: 640x640 (no detections), 7.2ms\n",
      "Speed: 1.6ms preprocess, 7.2ms inference, 0.6ms postprocess per image at shape (1, 3, 640, 640)\n",
      "Results saved to \u001b[1mruns/detect/predict\u001b[0m\n",
      "\n",
      "image 1/1 /home/ubuntu/Desktop/DL_WorkSpace/WorkSpace/Input_Data_Container/CB_WS/GIS_WS/cropped_jpg/ortho_19_22.jpg: 640x640 1 bowl, 1 donut, 1 cake, 9.5ms\n",
      "Speed: 1.8ms preprocess, 9.5ms inference, 1.4ms postprocess per image at shape (1, 3, 640, 640)\n",
      "Results saved to \u001b[1mruns/detect/predict\u001b[0m\n",
      "\n",
      "image 1/1 /home/ubuntu/Desktop/DL_WorkSpace/WorkSpace/Input_Data_Container/CB_WS/GIS_WS/cropped_jpg/ortho_6_8.jpg: 640x640 (no detections), 7.4ms\n",
      "Speed: 2.0ms preprocess, 7.4ms inference, 0.7ms postprocess per image at shape (1, 3, 640, 640)\n",
      "Results saved to \u001b[1mruns/detect/predict\u001b[0m\n",
      "\n",
      "image 1/1 /home/ubuntu/Desktop/DL_WorkSpace/WorkSpace/Input_Data_Container/CB_WS/GIS_WS/cropped_jpg/ortho_15_15.jpg: 640x640 1 cake, 5.3ms\n",
      "Speed: 1.5ms preprocess, 5.3ms inference, 1.1ms postprocess per image at shape (1, 3, 640, 640)\n",
      "Results saved to \u001b[1mruns/detect/predict\u001b[0m\n"
     ]
    },
    {
     "name": "stderr",
     "output_type": "stream",
     "text": [
      " 94%|██████████████████████████████████████▎  | 606/648 [00:18<00:01, 30.06it/s]"
     ]
    },
    {
     "name": "stdout",
     "output_type": "stream",
     "text": [
      "\n",
      "image 1/1 /home/ubuntu/Desktop/DL_WorkSpace/WorkSpace/Input_Data_Container/CB_WS/GIS_WS/cropped_jpg/ortho_25_5.jpg: 640x640 1 person, 1 vase, 5.3ms\n",
      "Speed: 1.6ms preprocess, 5.3ms inference, 1.0ms postprocess per image at shape (1, 3, 640, 640)\n",
      "Results saved to \u001b[1mruns/detect/predict\u001b[0m\n",
      "\n",
      "image 1/1 /home/ubuntu/Desktop/DL_WorkSpace/WorkSpace/Input_Data_Container/CB_WS/GIS_WS/cropped_jpg/ortho_5_23.jpg: 640x640 1 broccoli, 7.2ms\n",
      "Speed: 1.6ms preprocess, 7.2ms inference, 1.4ms postprocess per image at shape (1, 3, 640, 640)\n",
      "Results saved to \u001b[1mruns/detect/predict\u001b[0m\n",
      "\n",
      "image 1/1 /home/ubuntu/Desktop/DL_WorkSpace/WorkSpace/Input_Data_Container/CB_WS/GIS_WS/cropped_jpg/ortho_12_22.jpg: 640x640 1 cake, 10.0ms\n",
      "Speed: 2.2ms preprocess, 10.0ms inference, 1.7ms postprocess per image at shape (1, 3, 640, 640)\n",
      "Results saved to \u001b[1mruns/detect/predict\u001b[0m\n",
      "\n",
      "image 1/1 /home/ubuntu/Desktop/DL_WorkSpace/WorkSpace/Input_Data_Container/CB_WS/GIS_WS/cropped_jpg/ortho_16_22.jpg: 640x640 1 person, 6.8ms\n",
      "Speed: 1.8ms preprocess, 6.8ms inference, 1.3ms postprocess per image at shape (1, 3, 640, 640)\n",
      "Results saved to \u001b[1mruns/detect/predict\u001b[0m\n"
     ]
    },
    {
     "name": "stderr",
     "output_type": "stream",
     "text": [
      " 94%|██████████████████████████████████████▌  | 610/648 [00:18<00:01, 30.81it/s]"
     ]
    },
    {
     "name": "stdout",
     "output_type": "stream",
     "text": [
      "\n",
      "image 1/1 /home/ubuntu/Desktop/DL_WorkSpace/WorkSpace/Input_Data_Container/CB_WS/GIS_WS/cropped_jpg/ortho_21_20.jpg: 640x640 (no detections), 5.5ms\n",
      "Speed: 1.5ms preprocess, 5.5ms inference, 0.5ms postprocess per image at shape (1, 3, 640, 640)\n",
      "Results saved to \u001b[1mruns/detect/predict\u001b[0m\n",
      "\n",
      "image 1/1 /home/ubuntu/Desktop/DL_WorkSpace/WorkSpace/Input_Data_Container/CB_WS/GIS_WS/cropped_jpg/ortho_16_10.jpg: 640x640 1 apple, 2 broccolis, 1 carrot, 1 pizza, 1 cake, 5.1ms\n",
      "Speed: 1.5ms preprocess, 5.1ms inference, 1.1ms postprocess per image at shape (1, 3, 640, 640)\n",
      "Results saved to \u001b[1mruns/detect/predict\u001b[0m\n",
      "\n",
      "image 1/1 /home/ubuntu/Desktop/DL_WorkSpace/WorkSpace/Input_Data_Container/CB_WS/GIS_WS/cropped_jpg/ortho_9_21.jpg: 640x640 1 cake, 3 books, 5.2ms\n",
      "Speed: 1.5ms preprocess, 5.2ms inference, 1.2ms postprocess per image at shape (1, 3, 640, 640)\n",
      "Results saved to \u001b[1mruns/detect/predict\u001b[0m\n",
      "\n",
      "image 1/1 /home/ubuntu/Desktop/DL_WorkSpace/WorkSpace/Input_Data_Container/CB_WS/GIS_WS/cropped_jpg/ortho_17_17.jpg: 640x640 (no detections), 5.1ms\n",
      "Speed: 1.5ms preprocess, 5.1ms inference, 0.5ms postprocess per image at shape (1, 3, 640, 640)\n",
      "Results saved to \u001b[1mruns/detect/predict\u001b[0m\n"
     ]
    },
    {
     "name": "stderr",
     "output_type": "stream",
     "text": [
      " 95%|██████████████████████████████████████▊  | 614/648 [00:18<00:01, 32.96it/s]"
     ]
    },
    {
     "name": "stdout",
     "output_type": "stream",
     "text": [
      "\n",
      "image 1/1 /home/ubuntu/Desktop/DL_WorkSpace/WorkSpace/Input_Data_Container/CB_WS/GIS_WS/cropped_jpg/ortho_19_4.jpg: 640x640 1 cake, 1 vase, 7.9ms\n",
      "Speed: 1.9ms preprocess, 7.9ms inference, 1.4ms postprocess per image at shape (1, 3, 640, 640)\n",
      "Results saved to \u001b[1mruns/detect/predict\u001b[0m\n",
      "\n",
      "image 1/1 /home/ubuntu/Desktop/DL_WorkSpace/WorkSpace/Input_Data_Container/CB_WS/GIS_WS/cropped_jpg/ortho_0_7.jpg: 640x640 (no detections), 7.2ms\n",
      "Speed: 1.8ms preprocess, 7.2ms inference, 0.6ms postprocess per image at shape (1, 3, 640, 640)\n",
      "Results saved to \u001b[1mruns/detect/predict\u001b[0m\n",
      "\n",
      "image 1/1 /home/ubuntu/Desktop/DL_WorkSpace/WorkSpace/Input_Data_Container/CB_WS/GIS_WS/cropped_jpg/ortho_25_10.jpg: 640x640 (no detections), 7.2ms\n",
      "Speed: 1.7ms preprocess, 7.2ms inference, 0.7ms postprocess per image at shape (1, 3, 640, 640)\n",
      "Results saved to \u001b[1mruns/detect/predict\u001b[0m\n",
      "\n",
      "image 1/1 /home/ubuntu/Desktop/DL_WorkSpace/WorkSpace/Input_Data_Container/CB_WS/GIS_WS/cropped_jpg/ortho_24_4.jpg: 640x640 1 bowl, 1 orange, 1 cake, 9.4ms\n",
      "Speed: 1.9ms preprocess, 9.4ms inference, 1.6ms postprocess per image at shape (1, 3, 640, 640)\n",
      "Results saved to \u001b[1mruns/detect/predict\u001b[0m\n"
     ]
    },
    {
     "name": "stderr",
     "output_type": "stream",
     "text": [
      " 95%|███████████████████████████████████████  | 618/648 [00:19<00:00, 30.97it/s]"
     ]
    },
    {
     "name": "stdout",
     "output_type": "stream",
     "text": [
      "\n",
      "image 1/1 /home/ubuntu/Desktop/DL_WorkSpace/WorkSpace/Input_Data_Container/CB_WS/GIS_WS/cropped_jpg/ortho_1_6.jpg: 640x640 (no detections), 8.9ms\n",
      "Speed: 1.9ms preprocess, 8.9ms inference, 0.8ms postprocess per image at shape (1, 3, 640, 640)\n",
      "Results saved to \u001b[1mruns/detect/predict\u001b[0m\n",
      "\n",
      "image 1/1 /home/ubuntu/Desktop/DL_WorkSpace/WorkSpace/Input_Data_Container/CB_WS/GIS_WS/cropped_jpg/ortho_24_6.jpg: 640x640 3 broccolis, 1 pizza, 1 cake, 7.8ms\n",
      "Speed: 1.5ms preprocess, 7.8ms inference, 1.5ms postprocess per image at shape (1, 3, 640, 640)\n",
      "Results saved to \u001b[1mruns/detect/predict\u001b[0m\n",
      "\n",
      "image 1/1 /home/ubuntu/Desktop/DL_WorkSpace/WorkSpace/Input_Data_Container/CB_WS/GIS_WS/cropped_jpg/ortho_4_14.jpg: 640x640 2 broccolis, 10.2ms\n",
      "Speed: 1.9ms preprocess, 10.2ms inference, 1.6ms postprocess per image at shape (1, 3, 640, 640)\n",
      "Results saved to \u001b[1mruns/detect/predict\u001b[0m\n",
      "\n",
      "image 1/1 /home/ubuntu/Desktop/DL_WorkSpace/WorkSpace/Input_Data_Container/CB_WS/GIS_WS/cropped_jpg/ortho_10_10.jpg: 640x640 2 broccolis, 1 dining table, 9.2ms\n",
      "Speed: 1.8ms preprocess, 9.2ms inference, 1.6ms postprocess per image at shape (1, 3, 640, 640)\n",
      "Results saved to \u001b[1mruns/detect/predict\u001b[0m\n"
     ]
    },
    {
     "name": "stderr",
     "output_type": "stream",
     "text": [
      " 96%|███████████████████████████████████████▎ | 622/648 [00:19<00:00, 29.66it/s]"
     ]
    },
    {
     "name": "stdout",
     "output_type": "stream",
     "text": [
      "\n",
      "image 1/1 /home/ubuntu/Desktop/DL_WorkSpace/WorkSpace/Input_Data_Container/CB_WS/GIS_WS/cropped_jpg/ortho_20_22.jpg: 640x640 2 broccolis, 1 cake, 8.6ms\n",
      "Speed: 1.8ms preprocess, 8.6ms inference, 1.7ms postprocess per image at shape (1, 3, 640, 640)\n",
      "Results saved to \u001b[1mruns/detect/predict\u001b[0m\n",
      "\n",
      "image 1/1 /home/ubuntu/Desktop/DL_WorkSpace/WorkSpace/Input_Data_Container/CB_WS/GIS_WS/cropped_jpg/ortho_6_10.jpg: 640x640 1 cake, 16.5ms\n",
      "Speed: 13.8ms preprocess, 16.5ms inference, 1.4ms postprocess per image at shape (1, 3, 640, 640)\n",
      "Results saved to \u001b[1mruns/detect/predict\u001b[0m\n",
      "\n",
      "image 1/1 /home/ubuntu/Desktop/DL_WorkSpace/WorkSpace/Input_Data_Container/CB_WS/GIS_WS/cropped_jpg/ortho_18_17.jpg: 640x640 (no detections), 17.2ms\n",
      "Speed: 1.8ms preprocess, 17.2ms inference, 0.7ms postprocess per image at shape (1, 3, 640, 640)\n",
      "Results saved to \u001b[1mruns/detect/predict\u001b[0m\n",
      "\n",
      "image 1/1 /home/ubuntu/Desktop/DL_WorkSpace/WorkSpace/Input_Data_Container/CB_WS/GIS_WS/cropped_jpg/ortho_19_1.jpg: 640x640 1 tie, 6.9ms\n",
      "Speed: 4.4ms preprocess, 6.9ms inference, 1.4ms postprocess per image at shape (1, 3, 640, 640)\n",
      "Results saved to \u001b[1mruns/detect/predict\u001b[0m\n"
     ]
    },
    {
     "name": "stderr",
     "output_type": "stream",
     "text": [
      " 97%|███████████████████████████████████████▌ | 626/648 [00:19<00:00, 24.61it/s]"
     ]
    },
    {
     "name": "stdout",
     "output_type": "stream",
     "text": [
      "\n",
      "image 1/1 /home/ubuntu/Desktop/DL_WorkSpace/WorkSpace/Input_Data_Container/CB_WS/GIS_WS/cropped_jpg/ortho_16_5.jpg: 640x640 1 person, 7.5ms\n",
      "Speed: 2.0ms preprocess, 7.5ms inference, 1.3ms postprocess per image at shape (1, 3, 640, 640)\n",
      "Results saved to \u001b[1mruns/detect/predict\u001b[0m\n",
      "\n",
      "image 1/1 /home/ubuntu/Desktop/DL_WorkSpace/WorkSpace/Input_Data_Container/CB_WS/GIS_WS/cropped_jpg/ortho_13_3.jpg: 640x640 1 person, 1 cake, 1 vase, 7.3ms\n",
      "Speed: 1.8ms preprocess, 7.3ms inference, 1.4ms postprocess per image at shape (1, 3, 640, 640)\n",
      "Results saved to \u001b[1mruns/detect/predict\u001b[0m\n",
      "\n",
      "image 1/1 /home/ubuntu/Desktop/DL_WorkSpace/WorkSpace/Input_Data_Container/CB_WS/GIS_WS/cropped_jpg/ortho_20_8.jpg: 640x640 1 bowl, 1 orange, 1 donut, 1 cake, 7.4ms\n",
      "Speed: 1.8ms preprocess, 7.4ms inference, 1.0ms postprocess per image at shape (1, 3, 640, 640)\n",
      "Results saved to \u001b[1mruns/detect/predict\u001b[0m\n"
     ]
    },
    {
     "name": "stderr",
     "output_type": "stream",
     "text": [
      " 97%|███████████████████████████████████████▊ | 629/648 [00:19<00:00, 25.28it/s]"
     ]
    },
    {
     "name": "stdout",
     "output_type": "stream",
     "text": [
      "\n",
      "image 1/1 /home/ubuntu/Desktop/DL_WorkSpace/WorkSpace/Input_Data_Container/CB_WS/GIS_WS/cropped_jpg/ortho_13_11.jpg: 640x640 1 bowl, 1 broccoli, 6.0ms\n",
      "Speed: 1.7ms preprocess, 6.0ms inference, 1.1ms postprocess per image at shape (1, 3, 640, 640)\n",
      "Results saved to \u001b[1mruns/detect/predict\u001b[0m\n",
      "\n",
      "image 1/1 /home/ubuntu/Desktop/DL_WorkSpace/WorkSpace/Input_Data_Container/CB_WS/GIS_WS/cropped_jpg/ortho_6_3.jpg: 640x640 (no detections), 5.6ms\n",
      "Speed: 1.5ms preprocess, 5.6ms inference, 0.5ms postprocess per image at shape (1, 3, 640, 640)\n",
      "Results saved to \u001b[1mruns/detect/predict\u001b[0m\n",
      "\n",
      "image 1/1 /home/ubuntu/Desktop/DL_WorkSpace/WorkSpace/Input_Data_Container/CB_WS/GIS_WS/cropped_jpg/ortho_13_10.jpg: 640x640 1 orange, 1 broccoli, 5.2ms\n",
      "Speed: 1.6ms preprocess, 5.2ms inference, 1.2ms postprocess per image at shape (1, 3, 640, 640)\n",
      "Results saved to \u001b[1mruns/detect/predict\u001b[0m\n",
      "\n",
      "image 1/1 /home/ubuntu/Desktop/DL_WorkSpace/WorkSpace/Input_Data_Container/CB_WS/GIS_WS/cropped_jpg/ortho_23_4.jpg: 640x640 1 orange, 1 donut, 1 cake, 5.5ms\n",
      "Speed: 1.6ms preprocess, 5.5ms inference, 1.1ms postprocess per image at shape (1, 3, 640, 640)\n",
      "Results saved to \u001b[1mruns/detect/predict\u001b[0m\n"
     ]
    },
    {
     "name": "stderr",
     "output_type": "stream",
     "text": [
      " 98%|████████████████████████████████████████ | 633/648 [00:19<00:00, 28.01it/s]"
     ]
    },
    {
     "name": "stdout",
     "output_type": "stream",
     "text": [
      "\n",
      "image 1/1 /home/ubuntu/Desktop/DL_WorkSpace/WorkSpace/Input_Data_Container/CB_WS/GIS_WS/cropped_jpg/ortho_14_2.jpg: 640x640 1 person, 6.8ms\n",
      "Speed: 1.5ms preprocess, 6.8ms inference, 1.6ms postprocess per image at shape (1, 3, 640, 640)\n",
      "Results saved to \u001b[1mruns/detect/predict\u001b[0m\n",
      "\n",
      "image 1/1 /home/ubuntu/Desktop/DL_WorkSpace/WorkSpace/Input_Data_Container/CB_WS/GIS_WS/cropped_jpg/ortho_10_22.jpg: 640x640 3 broccolis, 1 carrot, 1 cake, 1 dining table, 6.1ms\n",
      "Speed: 1.9ms preprocess, 6.1ms inference, 1.1ms postprocess per image at shape (1, 3, 640, 640)\n",
      "Results saved to \u001b[1mruns/detect/predict\u001b[0m\n",
      "\n",
      "image 1/1 /home/ubuntu/Desktop/DL_WorkSpace/WorkSpace/Input_Data_Container/CB_WS/GIS_WS/cropped_jpg/ortho_14_7.jpg: 640x640 1 person, 3 broccolis, 1 cake, 1 potted plant, 5.1ms\n",
      "Speed: 1.6ms preprocess, 5.1ms inference, 1.0ms postprocess per image at shape (1, 3, 640, 640)\n",
      "Results saved to \u001b[1mruns/detect/predict\u001b[0m\n",
      "\n",
      "image 1/1 /home/ubuntu/Desktop/DL_WorkSpace/WorkSpace/Input_Data_Container/CB_WS/GIS_WS/cropped_jpg/ortho_12_3.jpg: 640x640 1 hot dog, 1 cake, 5.2ms\n",
      "Speed: 1.5ms preprocess, 5.2ms inference, 1.1ms postprocess per image at shape (1, 3, 640, 640)\n",
      "Results saved to \u001b[1mruns/detect/predict\u001b[0m\n"
     ]
    },
    {
     "name": "stderr",
     "output_type": "stream",
     "text": [
      " 98%|████████████████████████████████████████▎| 637/648 [00:19<00:00, 29.78it/s]"
     ]
    },
    {
     "name": "stdout",
     "output_type": "stream",
     "text": [
      "\n",
      "image 1/1 /home/ubuntu/Desktop/DL_WorkSpace/WorkSpace/Input_Data_Container/CB_WS/GIS_WS/cropped_jpg/ortho_10_20.jpg: 640x640 (no detections), 5.2ms\n",
      "Speed: 1.5ms preprocess, 5.2ms inference, 0.5ms postprocess per image at shape (1, 3, 640, 640)\n",
      "Results saved to \u001b[1mruns/detect/predict\u001b[0m\n",
      "\n",
      "image 1/1 /home/ubuntu/Desktop/DL_WorkSpace/WorkSpace/Input_Data_Container/CB_WS/GIS_WS/cropped_jpg/ortho_6_14.jpg: 640x640 1 bowl, 1 broccoli, 5.2ms\n",
      "Speed: 1.5ms preprocess, 5.2ms inference, 1.1ms postprocess per image at shape (1, 3, 640, 640)\n",
      "Results saved to \u001b[1mruns/detect/predict\u001b[0m\n",
      "\n",
      "image 1/1 /home/ubuntu/Desktop/DL_WorkSpace/WorkSpace/Input_Data_Container/CB_WS/GIS_WS/cropped_jpg/ortho_26_3.jpg: 640x640 (no detections), 5.4ms\n",
      "Speed: 1.5ms preprocess, 5.4ms inference, 0.7ms postprocess per image at shape (1, 3, 640, 640)\n",
      "Results saved to \u001b[1mruns/detect/predict\u001b[0m\n",
      "\n",
      "image 1/1 /home/ubuntu/Desktop/DL_WorkSpace/WorkSpace/Input_Data_Container/CB_WS/GIS_WS/cropped_jpg/ortho_9_18.jpg: 640x640 1 cake, 5.2ms\n",
      "Speed: 1.5ms preprocess, 5.2ms inference, 1.1ms postprocess per image at shape (1, 3, 640, 640)\n",
      "Results saved to \u001b[1mruns/detect/predict\u001b[0m\n",
      "\n",
      "image 1/1 /home/ubuntu/Desktop/DL_WorkSpace/WorkSpace/Input_Data_Container/CB_WS/GIS_WS/cropped_jpg/ortho_11_0.jpg: 640x640 (no detections), 8.0ms\n",
      "Speed: 2.2ms preprocess, 8.0ms inference, 0.8ms postprocess per image at shape (1, 3, 640, 640)\n",
      "Results saved to \u001b[1mruns/detect/predict\u001b[0m\n"
     ]
    },
    {
     "name": "stderr",
     "output_type": "stream",
     "text": [
      " 99%|████████████████████████████████████████▌| 642/648 [00:19<00:00, 31.72it/s]"
     ]
    },
    {
     "name": "stdout",
     "output_type": "stream",
     "text": [
      "\n",
      "image 1/1 /home/ubuntu/Desktop/DL_WorkSpace/WorkSpace/Input_Data_Container/CB_WS/GIS_WS/cropped_jpg/ortho_17_20.jpg: 640x640 (no detections), 8.3ms\n",
      "Speed: 10.3ms preprocess, 8.3ms inference, 0.7ms postprocess per image at shape (1, 3, 640, 640)\n",
      "Results saved to \u001b[1mruns/detect/predict\u001b[0m\n",
      "\n",
      "image 1/1 /home/ubuntu/Desktop/DL_WorkSpace/WorkSpace/Input_Data_Container/CB_WS/GIS_WS/cropped_jpg/ortho_24_3.jpg: 640x640 4 broccolis, 1 pizza, 25.8ms\n",
      "Speed: 1.9ms preprocess, 25.8ms inference, 1.4ms postprocess per image at shape (1, 3, 640, 640)\n",
      "Results saved to \u001b[1mruns/detect/predict\u001b[0m\n",
      "\n",
      "image 1/1 /home/ubuntu/Desktop/DL_WorkSpace/WorkSpace/Input_Data_Container/CB_WS/GIS_WS/cropped_jpg/ortho_2_22.jpg: 640x640 1 sports ball, 1 knife, 7.5ms\n",
      "Speed: 1.9ms preprocess, 7.5ms inference, 1.4ms postprocess per image at shape (1, 3, 640, 640)\n",
      "Results saved to \u001b[1mruns/detect/predict\u001b[0m\n",
      "\n",
      "image 1/1 /home/ubuntu/Desktop/DL_WorkSpace/WorkSpace/Input_Data_Container/CB_WS/GIS_WS/cropped_jpg/ortho_9_1.jpg: 640x640 1 broccoli, 7.5ms\n",
      "Speed: 1.7ms preprocess, 7.5ms inference, 1.4ms postprocess per image at shape (1, 3, 640, 640)\n",
      "Results saved to \u001b[1mruns/detect/predict\u001b[0m\n"
     ]
    },
    {
     "name": "stderr",
     "output_type": "stream",
     "text": [
      "100%|████████████████████████████████████████▊| 646/648 [00:20<00:00, 28.89it/s]"
     ]
    },
    {
     "name": "stdout",
     "output_type": "stream",
     "text": [
      "\n",
      "image 1/1 /home/ubuntu/Desktop/DL_WorkSpace/WorkSpace/Input_Data_Container/CB_WS/GIS_WS/cropped_jpg/ortho_23_15.jpg: 640x640 1 bowl, 1 broccoli, 1 cake, 7.3ms\n",
      "Speed: 1.8ms preprocess, 7.3ms inference, 1.4ms postprocess per image at shape (1, 3, 640, 640)\n",
      "Results saved to \u001b[1mruns/detect/predict\u001b[0m\n",
      "\n",
      "image 1/1 /home/ubuntu/Desktop/DL_WorkSpace/WorkSpace/Input_Data_Container/CB_WS/GIS_WS/cropped_jpg/ortho_6_18.jpg: 640x640 1 broccoli, 7.2ms\n",
      "Speed: 1.6ms preprocess, 7.2ms inference, 1.4ms postprocess per image at shape (1, 3, 640, 640)\n",
      "Results saved to \u001b[1mruns/detect/predict\u001b[0m\n"
     ]
    },
    {
     "name": "stderr",
     "output_type": "stream",
     "text": [
      "100%|█████████████████████████████████████████| 648/648 [00:20<00:00, 32.05it/s]\n"
     ]
    }
   ],
   "source": [
    "##Run the below code to predict all the images in the test dataset - Version 2\n",
    "\n",
    "from ultralytics import YOLO\n",
    "import cv2\n",
    "from tqdm import tqdm\n",
    "\n",
    "custom_model_direc = os.path.join(home_direc, 'yolo_models/yolov8n.pt')\n",
    "#custom_model_direc = os.path.join(home_direc, 'yolo_models/yolov8n-oiv7.pt')\n",
    "\n",
    "# Load a model\n",
    "model = YOLO(custom_model_direc) \n",
    "\n",
    "img_dir = os.path.join(home_direc, 'cropped_jpg')\n",
    "img_list = os.listdir(img_dir)\n",
    "\n",
    "for img in tqdm(img_list):\n",
    "    img_path = os.path.join(img_dir, img)\n",
    "    results = model.predict(img_path, save=True, show_labels=False, iou= 0.01, conf=0.05)"
   ]
  },
  {
   "cell_type": "code",
   "execution_count": 32,
   "id": "a1a6ef11-e269-42a1-845a-b58384258460",
   "metadata": {},
   "outputs": [],
   "source": [
    "#Run this code to predict all the images in the test dataset\n",
    "\n",
    "from ultralytics import YOLO\n",
    "import cv2\n",
    "from tqdm import tqdm\n",
    "\n",
    "custom_model_direc = os.path.join(home_direc, 'yolo_models/yolov8n.pt')\n",
    "#custom_model_direc = os.path.join(home_direc, 'yolo_models/yolov8n-oiv7.pt')\n",
    "#custom_model_direc = os.path.join(home_direc, 'yolo_models/yolov8n-seg.pt')\n",
    "\n",
    "test_images_direc = os.path.join(home_direc, 'cropped_jpg/ortho_5_24.jpg')\n",
    "# Load a model\n",
    "model = YOLO(custom_model_direc)  # load a custom model\n",
    "\n",
    "#model(os.path.join('/home/ubuntu/Desktop/DL_WorkSpace/WorkSpace/Input_Data_Container/CB_WS/GIS_WS/cropped_jpg/ortho_15_23.jpg'), save=True, conf=0.1)"
   ]
  },
  {
   "cell_type": "code",
   "execution_count": null,
   "id": "ad452dc1-3ab8-427c-b457-2d349b1fb6fb",
   "metadata": {},
   "outputs": [],
   "source": []
  },
  {
   "cell_type": "markdown",
   "id": "4dee8906-27fb-446c-b8c0-81115eaa6e53",
   "metadata": {},
   "source": [
    "### Generates  Binary Mask of the Predicted Masks"
   ]
  },
  {
   "cell_type": "code",
   "execution_count": null,
   "id": "2bf7635f-31dc-4712-b8b6-0b891518984a",
   "metadata": {},
   "outputs": [],
   "source": [
    "#Generates  Binary Mask of the Predicted Masks\n",
    "\n",
    "import cv2\n",
    "from ultralytics import YOLO\n",
    "import numpy as np\n",
    "import torch\n",
    "\n",
    "# Load a model\n",
    "custom_model_direc = os.path.join(home_direc, 'runs/segment/train/weights/best.pt')\n",
    "model = YOLO(custom_model_direc) \n",
    "\n",
    "# load image by OpenCV like numpy.array\n",
    "img_dir = os.path.join(home_direc, 'test/images/BuiltUp_TIFF_21_55_jpg.rf.ff5f7812b6ec39e8c9fa2e1c2ba05760.jpg')\n",
    "img = cv2.imread(img_dir)\n",
    "image_name = os.path.splitext(os.path.split(img_dir)[-1])[0]\n",
    "\n",
    "results = model.predict(img, save=True, save_txt=False, stream=True, imgsz=640, save_conf=True, show_labels=False, iou=0.5,conf=0.473)\n",
    "\n",
    "for result in results:\n",
    "    # get array results\n",
    "    masks = result.masks.data\n",
    "    boxes = result.boxes.data\n",
    "    # extract classes\n",
    "    clss = boxes[:, 5]\n",
    "    # get indices of results where class is 0 \n",
    "    building_indices = torch.where(clss == 0)\n",
    "    # use these indices to extract the relevant masks\n",
    "    building_masks = masks[building_indices]\n",
    "    # scale for visualizing results\n",
    "    building_mask = torch.any(building_masks, dim=0).int() * 255\n",
    "    # save to file\n",
    "    cv2.imwrite(str(model.predictor.save_dir / 'binary_mask.jpg'), building_mask.cpu().numpy())"
   ]
  },
  {
   "cell_type": "code",
   "execution_count": null,
   "id": "2f2bbc46-ca0d-4312-9d8b-b96601023321",
   "metadata": {},
   "outputs": [],
   "source": [
    "import os\n",
    "import random\n",
    "import matplotlib.pyplot as plt\n",
    "import matplotlib.image as mpimg\n",
    "from ultralytics import YOLO\n",
    "import cv2\n",
    "import numpy as np\n",
    "import pandas as pd\n",
    "from tqdm.auto import tqdm, trange\n",
    "from skimage import io\n",
    "\n",
    "# Path to the folder containing the images\n",
    "image_folder = os.path.join(home_direc, 'test/images')\n",
    "labels_mask_folder = os.path.join(home_direc, 'test_dataset_pairs/test_gt_mask')\n",
    "\n",
    "custom_model_direc = os.path.join(home_direc, 'runs/segment/train/weights/best.pt')\n",
    "#image_path = os.path.join(home_direc, 'test/images/BuiltUp_TIFF_21_55_jpg.rf.ff5f7812b6ec39e8c9fa2e1c2ba05760.jpg')\n",
    "\n",
    "# Load the model\n",
    "model = YOLO(custom_model_direc)\n",
    "\n",
    "image_files = os.listdir(image_folder)\n",
    "selected_images = random.sample(image_files, 1)\n",
    "img_name = selected_images[0].split('.')[0][:-4]\n",
    "image_name = img_name.split('_')[0]\n",
    "\n",
    "# List of prefixes for image categories\n",
    "categories = ['Rural', 'BuiltUp', 'SubUrban', 'Urban', 'Commercial']\n",
    "\n",
    "# Create a 2x3 subplot grid\n",
    "fig, axs = plt.subplots(nrows=5, ncols=3, figsize=(15, 15))\n",
    "#fig, axs = plt.subplots(nrows=5, ncols=3, layout='constrained')\n",
    "\n",
    "# Loop through each category and plot a random image from that category\n",
    "for idx, category in enumerate(categories):\n",
    "    # Find all images with the specified category prefix\n",
    "    category_images = [filename for filename in os.listdir(image_folder) if filename.startswith(category)]\n",
    "    \n",
    "    if category_images:\n",
    "        # Randomly select an image from the category\n",
    "        selected_image = random.choice(category_images)\n",
    "        image_path = os.path.join(image_folder, selected_image)\n",
    "        img_name = selected_image.split('.')[0][:-4]\n",
    "        #image_name = img_name.split('_')[0]\n",
    "        \n",
    "        # Predict on a single image\n",
    "        results = model.predict(image_path)\n",
    "        boxes = results[0].boxes.xyxy  # Bounding box coordinates\n",
    "        masks = results[0].masks.data.cpu().numpy()  # Segmentation masks (moved to CPU and converted to NumPy array)\n",
    "        \n",
    "        label_mask_path = os.path.join(labels_mask_folder, img_name + '.tif')\n",
    "        \n",
    "        image = cv2.imread(image_path)  # Read the original image\n",
    "        gt_mask_image = io.imread(label_mask_path)\n",
    "       \n",
    "        # Plot the original image\n",
    "        axs[idx,0].imshow(cv2.cvtColor(image, cv2.COLOR_BGR2RGB))\n",
    "        axs[idx,0].set_title(category + \" Image\", fontsize=12)\n",
    "        axs[idx,0].axis('off')\n",
    "\n",
    "        # Plot the label mask\n",
    "        axs[idx,1].imshow(gt_mask_image, cmap='gray')\n",
    "        axs[idx,1].set_title(\"Label Mask\", fontsize=12)\n",
    "        axs[idx,1].axis('off')\n",
    "\n",
    "        # Plot the predicted mask\n",
    "        predicted_mask = np.zeros_like(image[:, :, 0])\n",
    "        for mask in masks:\n",
    "            predicted_mask[np.where(mask)] = 255\n",
    "        axs[idx,2].imshow(predicted_mask, cmap='gray')\n",
    "        axs[idx,2].set_title(\"Predicted Mask\", fontsize=12)\n",
    "        axs[idx,2].axis('off')\n",
    "\n",
    "        #plt.savefig('test_results_ws/Commercial_2_Commercial.png')\n",
    "        #plt.tight_layout()\n",
    "        #plt.show()\n",
    "\n",
    "# Adjust layout and display the plot\n",
    "plt.tight_layout()\n",
    "plt.savefig('test_results_ws/All_Land_Use_Zones_2_All_Land_Use_Zones.png')\n",
    "plt.show()\n"
   ]
  }
 ],
 "metadata": {
  "kernelspec": {
   "display_name": "Python [conda env:ultralytics]",
   "language": "python",
   "name": "conda-env-ultralytics-py"
  },
  "language_info": {
   "codemirror_mode": {
    "name": "ipython",
    "version": 3
   },
   "file_extension": ".py",
   "mimetype": "text/x-python",
   "name": "python",
   "nbconvert_exporter": "python",
   "pygments_lexer": "ipython3",
   "version": "3.8.16"
  }
 },
 "nbformat": 4,
 "nbformat_minor": 5
}
