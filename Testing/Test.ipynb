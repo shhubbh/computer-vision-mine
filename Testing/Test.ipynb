{
 "cells": [
  {
   "cell_type": "markdown",
   "id": "26582c30-d270-4517-9890-f4bbe1e1b3eb",
   "metadata": {},
   "source": [
    "##  To get accuarcy metrics for test_dataset"
   ]
  },
  {
   "cell_type": "code",
   "execution_count": 12,
   "id": "98d218ef-082a-4486-8d18-e893bf78cd5a",
   "metadata": {},
   "outputs": [],
   "source": [
    "import os\n",
    "os.chdir('/home/ubuntu/Desktop/DL_WorkSpace/WorkSpace/Input_Data_Container/Bangkok_Province/All_Land_Use_Zones_WS/yolo8_segmentation_ws')"
   ]
  },
  {
   "cell_type": "code",
   "execution_count": 13,
   "id": "a08457e6-297e-42ff-9608-fc1d2594cf89",
   "metadata": {},
   "outputs": [
    {
     "name": "stdout",
     "output_type": "stream",
     "text": [
      "/home/ubuntu/Desktop/DL_WorkSpace/WorkSpace/Input_Data_Container/Bangkok_Province/All_Land_Use_Zones_WS/yolo8_segmentation_ws\n"
     ]
    }
   ],
   "source": [
    "home_direc = os.getcwd()\n",
    "print(home_direc)"
   ]
  },
  {
   "cell_type": "markdown",
   "id": "ce1c0815-e523-4f66-8ad3-406b030e200c",
   "metadata": {},
   "source": [
    "### While Running this code, make sure to first change the test_dataset in data.yaml and then run this code."
   ]
  },
  {
   "cell_type": "markdown",
   "id": "7eac8850-b777-41b9-9660-c27cb5034201",
   "metadata": {},
   "source": [
    "#### Run the below code for accuracy metrics of Test Dataset"
   ]
  },
  {
   "cell_type": "code",
   "execution_count": 20,
   "id": "fc90d687-b528-46cf-b2a0-a81a028f7cf7",
   "metadata": {},
   "outputs": [
    {
     "name": "stderr",
     "output_type": "stream",
     "text": [
      "Ultralytics YOLOv8.0.142 🚀 Python-3.8.16 torch-2.0.1+cu117 CUDA:0 (NVIDIA A10G, 22592MiB)\n",
      "YOLOv8x-seg summary (fused): 295 layers, 71721619 parameters, 0 gradients\n",
      "\u001b[34m\u001b[1mval: \u001b[0mScanning /home/ubuntu/Desktop/DL_WorkSpace/WorkSpace/Input_Data_Container/B\u001b[0m\n",
      "                 Class     Images  Instances      Box(P          R      mAP50  m\n",
      "                   all        779      42435      0.674      0.486       0.58      0.315      0.644      0.465      0.552      0.264\n",
      "Speed: 0.4ms preprocess, 24.4ms inference, 0.0ms loss, 1.0ms postprocess per image\n",
      "Results saved to \u001b[1mruns/segment/val\u001b[0m\n"
     ]
    }
   ],
   "source": [
    "from ultralytics import YOLO\n",
    "\n",
    "custom_model_direc = os.path.join(home_direc, 'runs/segment/train/weights/best.pt')\n",
    "\n",
    "test_ws_direc = os.path.join('/home/ubuntu/Desktop/DL_WorkSpace/WorkSpace/Input_Data_Container/Bangkok_Province/Commercial_WS/yolo8_segmentation_ws')\n",
    "test_dataset_direc = os.path.join(test_ws_direc, 'data.yaml')\n",
    "\n",
    "# Load a model\n",
    "model = YOLO(custom_model_direc)  # load a custom model\n",
    "\n",
    "# Validate the model\n",
    "metrics = model.val(data=test_dataset_direc, split='test', iou = 0.5, conf=0.289)  # no arguments needed, dataset and settings remembered\n",
    "# save_conf=True, show_labels=False, iou=0.5,  show_conf=True, conf=0.392"
   ]
  },
  {
   "cell_type": "markdown",
   "id": "27571f0b-0f5e-41f8-93fe-433947617ddb",
   "metadata": {},
   "source": [
    "#### Run the below code for accuracy metrics of Val Dataset"
   ]
  },
  {
   "cell_type": "code",
   "execution_count": 15,
   "id": "86355e97-dde3-47e0-8456-f8820176b12a",
   "metadata": {},
   "outputs": [
    {
     "name": "stderr",
     "output_type": "stream",
     "text": [
      "Ultralytics YOLOv8.0.142 🚀 Python-3.8.16 torch-2.0.1+cu117 CUDA:0 (NVIDIA A10G, 22592MiB)\n",
      "YOLOv8x-seg summary (fused): 295 layers, 71721619 parameters, 0 gradients\n",
      "\u001b[34m\u001b[1mval: \u001b[0mScanning /home/ubuntu/Desktop/DL_WorkSpace/WorkSpace/Input_Data_Container/B\u001b[0m\n",
      "                 Class     Images  Instances      Box(P          R      mAP50  m\n",
      "                   all       1271      53010      0.727       0.58      0.664      0.358      0.697      0.556      0.633      0.304\n",
      "Speed: 0.2ms preprocess, 24.4ms inference, 0.0ms loss, 1.1ms postprocess per image\n",
      "Results saved to \u001b[1mruns/segment/val\u001b[0m\n"
     ]
    }
   ],
   "source": [
    "from ultralytics import YOLO\n",
    "\n",
    "custom_model_direc = os.path.join(home_direc, 'runs/segment/train/weights/best.pt')\n",
    "\n",
    "test_ws_direc = os.path.join('/home/ubuntu/Desktop/DL_WorkSpace/WorkSpace/Input_Data_Container/Bangkok_Province/All_Land_Use_Zones_WS/yolo8_segmentation_ws')\n",
    "test_dataset_direc = os.path.join(test_ws_direc, 'data.yaml')\n",
    "\n",
    "# Load a model\n",
    "model = YOLO(custom_model_direc)  # load a custom model\n",
    "\n",
    "# Validate the model\n",
    "metrics = model.val(data=test_dataset_direc, split='val', iou = 0.5, conf=0.289)  # no arguments needed, dataset and settings remembered\n",
    "# save_conf=True, show_labels=False, iou=0.5,  show_conf=True, conf=0.392"
   ]
  },
  {
   "cell_type": "code",
   "execution_count": null,
   "id": "407931c2-c546-4849-953f-7cdd979bcff6",
   "metadata": {},
   "outputs": [],
   "source": []
  }
 ],
 "metadata": {
  "kernelspec": {
   "display_name": "Python [conda env:ultralytics]",
   "language": "python",
   "name": "conda-env-ultralytics-py"
  },
  "language_info": {
   "codemirror_mode": {
    "name": "ipython",
    "version": 3
   },
   "file_extension": ".py",
   "mimetype": "text/x-python",
   "name": "python",
   "nbconvert_exporter": "python",
   "pygments_lexer": "ipython3",
   "version": "3.8.16"
  }
 },
 "nbformat": 4,
 "nbformat_minor": 5
}
