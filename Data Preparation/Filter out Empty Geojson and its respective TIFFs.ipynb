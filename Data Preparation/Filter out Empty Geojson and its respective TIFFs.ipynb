{
 "cells": [
  {
   "cell_type": "code",
   "execution_count": 5,
   "id": "2d6efa16-2ddd-4caf-b530-979dbc589c7f",
   "metadata": {},
   "outputs": [],
   "source": [
    "import os\n",
    "import shutil\n",
    "\n",
    "def filter_empty_geojsons(tiff_dir, geojson_dir, output_tiff_dir, output_geojson_dir):\n",
    "    # Create output directories if they don't exist\n",
    "    os.makedirs(output_tiff_dir, exist_ok=True)\n",
    "    os.makedirs(output_geojson_dir, exist_ok=True)\n",
    "\n",
    "    # Get all files in the input directories\n",
    "    tiff_files = os.listdir(tiff_dir)\n",
    "    geojson_files = os.listdir(geojson_dir)\n",
    "\n",
    "    # Filter empty GeoJSONs\n",
    "    non_empty_geojsons = []\n",
    "    for geojson_file in geojson_files:\n",
    "        geojson_path = os.path.join(geojson_dir, geojson_file)\n",
    "        if os.path.getsize(geojson_path) > 0:\n",
    "            non_empty_geojsons.append(geojson_file)\n",
    "\n",
    "    # Save TIFFs and non-empty GeoJSONs with the same names to the output directories\n",
    "    for file in tiff_files:\n",
    "        if file.endswith('.tif'):\n",
    "            tiff_path = os.path.join(tiff_dir, file)\n",
    "            geojson_name = os.path.splitext(file)[0] + '.geojson'\n",
    "            if geojson_name in non_empty_geojsons:\n",
    "                # Copy TIFF to the output TIFF directory\n",
    "                shutil.copy(tiff_path, output_tiff_dir)\n",
    "                # Copy GeoJSON to the output GeoJSON directory\n",
    "                shutil.copy(os.path.join(geojson_dir, geojson_name), output_geojson_dir)"
   ]
  },
  {
   "cell_type": "code",
   "execution_count": 6,
   "id": "aefc2e0a-b5b1-466e-b0fb-ef774474f1de",
   "metadata": {},
   "outputs": [],
   "source": [
    "import os\n",
    "os.chdir('/home/ubuntu/Desktop/DL_WorkSpace/WorkSpace/Input_Data_Container/Bangkok_Province/Commercial_WS')"
   ]
  },
  {
   "cell_type": "code",
   "execution_count": 7,
   "id": "acbbf789-7ded-4a62-bb5e-e0b9f7cc7ef5",
   "metadata": {},
   "outputs": [
    {
     "name": "stdout",
     "output_type": "stream",
     "text": [
      "/home/ubuntu/Desktop/DL_WorkSpace/WorkSpace/Input_Data_Container/Bangkok_Province/Commercial_WS\n"
     ]
    }
   ],
   "source": [
    "home_direc = os.getcwd()\n",
    "print(home_direc)"
   ]
  },
  {
   "cell_type": "code",
   "execution_count": 8,
   "id": "a2d6374e-8f89-480e-9a9e-810c8abcc6aa",
   "metadata": {},
   "outputs": [],
   "source": [
    "# Example usage\n",
    "tiff_directory = os.path.join(home_direc,'scene_classification_ws/cropped_tiff_with_cn')\n",
    "geojson_directory = os.path.join(home_direc,'scene_classification_ws/cropped_geojson_with_buildings')\n",
    "output_tiff_directory = os.path.join(home_direc,'scene_classification_ws/tiff')\n",
    "output_geojson_directory = os.path.join(home_direc,'scene_classification_ws/geojson')\n",
    "\n",
    "filter_empty_geojsons(tiff_directory, geojson_directory, output_tiff_directory, output_geojson_directory)"
   ]
  },
  {
   "cell_type": "code",
   "execution_count": null,
   "id": "52082976-d88b-443c-8cde-283870bb322f",
   "metadata": {},
   "outputs": [],
   "source": [
    "# IGNORE\n",
    "# Example usage\n",
    "tiff_directory = '/path/to/input/tiffs'\n",
    "geojson_directory = '/path/to/input/geojsons'\n",
    "output_tiff_directory = '/path/to/output/tiffs'\n",
    "output_geojson_directory = '/path/to/output/geojsons'\n",
    "\n",
    "filter_empty_geojsons(tiff_directory, geojson_directory, output_tiff_directory, output_geojson_directory)"
   ]
  }
 ],
 "metadata": {
  "kernelspec": {
   "display_name": "Python [conda env:remote_sensing_v2]",
   "language": "python",
   "name": "conda-env-remote_sensing_v2-py"
  },
  "language_info": {
   "codemirror_mode": {
    "name": "ipython",
    "version": 3
   },
   "file_extension": ".py",
   "mimetype": "text/x-python",
   "name": "python",
   "nbconvert_exporter": "python",
   "pygments_lexer": "ipython3",
   "version": "3.8.15"
  }
 },
 "nbformat": 4,
 "nbformat_minor": 5
}
