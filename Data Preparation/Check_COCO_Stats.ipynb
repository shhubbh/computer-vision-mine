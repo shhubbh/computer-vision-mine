{
 "cells": [
  {
   "cell_type": "code",
   "execution_count": 4,
   "id": "56bee02d-262f-4359-8bba-6940ac2b40a4",
   "metadata": {},
   "outputs": [
    {
     "name": "stdout",
     "output_type": "stream",
     "text": [
      "/home/ubuntu/Desktop/DL_WorkSpace/WorkSpace/Input_Data_Container/Bangkok_Province/All_Land_Use_Zones_WS/coco_dataset_ws\n"
     ]
    }
   ],
   "source": [
    "import os\n",
    "os.chdir('/home/ubuntu/Desktop/DL_WorkSpace/WorkSpace/Input_Data_Container/Bangkok_Province/All_Land_Use_Zones_WS/coco_dataset_ws')\n",
    "home_direc = os.getcwd()\n",
    "print(home_direc)"
   ]
  },
  {
   "cell_type": "code",
   "execution_count": 5,
   "id": "ffe65a28-a5d0-43b8-b695-0303dc0a8260",
   "metadata": {},
   "outputs": [
    {
     "name": "stdout",
     "output_type": "stream",
     "text": [
      "indexing coco dataset annotations...\n"
     ]
    },
    {
     "name": "stderr",
     "output_type": "stream",
     "text": [
      "Loading coco annotations: 100%|████████████| 4442/4442 [00:14<00:00, 307.95it/s]\n"
     ]
    },
    {
     "data": {
      "text/plain": [
       "{'num_images': 4442,\n",
       " 'num_annotations': 179556,\n",
       " 'num_categories': 2,\n",
       " 'num_negative_images': 0,\n",
       " 'num_images_per_category': {'building': 4442},\n",
       " 'num_annotations_per_category': {'building': 179556},\n",
       " 'min_num_annotations_in_image': 1,\n",
       " 'max_num_annotations_in_image': 363,\n",
       " 'avg_num_annotations_in_image': 40.42233228275551,\n",
       " 'min_annotation_area': 0,\n",
       " 'max_annotation_area': 192204,\n",
       " 'avg_annotation_area': 1991.311206531667,\n",
       " 'min_annotation_area_per_category': {'building': 0},\n",
       " 'max_annotation_area_per_category': {'building': 192204}}"
      ]
     },
     "execution_count": 5,
     "metadata": {},
     "output_type": "execute_result"
    }
   ],
   "source": [
    "#Get dataset stats:\n",
    "from sahi.utils.coco import Coco\n",
    "\n",
    "# init Coco object\n",
    "coco = Coco.from_coco_dict_or_path(\"train/_annotations.coco.json\")\n",
    "\n",
    "# get dataset stats\n",
    "coco.stats"
   ]
  },
  {
   "cell_type": "code",
   "execution_count": 6,
   "id": "da385bde-7e71-4ae3-9e39-c6063f2f4779",
   "metadata": {},
   "outputs": [
    {
     "name": "stdout",
     "output_type": "stream",
     "text": [
      "indexing coco dataset annotations...\n"
     ]
    },
    {
     "name": "stderr",
     "output_type": "stream",
     "text": [
      "Loading coco annotations: 100%|██████████████| 644/644 [00:02<00:00, 297.94it/s]\n"
     ]
    },
    {
     "data": {
      "text/plain": [
       "{'num_images': 644,\n",
       " 'num_annotations': 24770,\n",
       " 'num_categories': 2,\n",
       " 'num_negative_images': 0,\n",
       " 'num_images_per_category': {'building': 644},\n",
       " 'num_annotations_per_category': {'building': 24770},\n",
       " 'min_num_annotations_in_image': 1,\n",
       " 'max_num_annotations_in_image': 240,\n",
       " 'avg_num_annotations_in_image': 38.462732919254655,\n",
       " 'min_annotation_area': 0,\n",
       " 'max_annotation_area': 204800,\n",
       " 'avg_annotation_area': 2084.667137666532,\n",
       " 'min_annotation_area_per_category': {'building': 0},\n",
       " 'max_annotation_area_per_category': {'building': 204800}}"
      ]
     },
     "execution_count": 6,
     "metadata": {},
     "output_type": "execute_result"
    }
   ],
   "source": [
    "#Get dataset stats:\n",
    "from sahi.utils.coco import Coco\n",
    "\n",
    "# init Coco object\n",
    "coco = Coco.from_coco_dict_or_path(\"test/_annotations.coco.json\")\n",
    "\n",
    "# get dataset stats\n",
    "coco.stats"
   ]
  },
  {
   "cell_type": "code",
   "execution_count": 7,
   "id": "6d101b7e-7cab-4268-a8a6-7f681129af49",
   "metadata": {},
   "outputs": [
    {
     "name": "stdout",
     "output_type": "stream",
     "text": [
      "indexing coco dataset annotations...\n"
     ]
    },
    {
     "name": "stderr",
     "output_type": "stream",
     "text": [
      "Loading coco annotations: 100%|████████████| 1271/1271 [00:04<00:00, 256.44it/s]\n"
     ]
    },
    {
     "data": {
      "text/plain": [
       "{'num_images': 1271,\n",
       " 'num_annotations': 53010,\n",
       " 'num_categories': 2,\n",
       " 'num_negative_images': 0,\n",
       " 'num_images_per_category': {'building': 1271},\n",
       " 'num_annotations_per_category': {'building': 53010},\n",
       " 'min_num_annotations_in_image': 1,\n",
       " 'max_num_annotations_in_image': 310,\n",
       " 'avg_num_annotations_in_image': 41.707317073170735,\n",
       " 'min_annotation_area': 0,\n",
       " 'max_annotation_area': 221941,\n",
       " 'avg_annotation_area': 1962.2974721750613,\n",
       " 'min_annotation_area_per_category': {'building': 0},\n",
       " 'max_annotation_area_per_category': {'building': 221941}}"
      ]
     },
     "execution_count": 7,
     "metadata": {},
     "output_type": "execute_result"
    }
   ],
   "source": [
    "#Get dataset stats:\n",
    "from sahi.utils.coco import Coco\n",
    "\n",
    "# init Coco object\n",
    "coco = Coco.from_coco_dict_or_path(\"valid/_annotations.coco.json\")\n",
    "\n",
    "# get dataset stats\n",
    "coco.stats"
   ]
  }
 ],
 "metadata": {
  "kernelspec": {
   "display_name": "Python [conda env:remote_sensing_v2]",
   "language": "python",
   "name": "conda-env-remote_sensing_v2-py"
  },
  "language_info": {
   "codemirror_mode": {
    "name": "ipython",
    "version": 3
   },
   "file_extension": ".py",
   "mimetype": "text/x-python",
   "name": "python",
   "nbconvert_exporter": "python",
   "pygments_lexer": "ipython3",
   "version": "3.8.15"
  }
 },
 "nbformat": 4,
 "nbformat_minor": 5
}
