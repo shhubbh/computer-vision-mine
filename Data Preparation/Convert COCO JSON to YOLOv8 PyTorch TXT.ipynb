{
 "cells": [
  {
   "cell_type": "code",
   "execution_count": 2,
   "id": "bd5ebcc5-c53e-4a77-bfbe-d581756f4022",
   "metadata": {},
   "outputs": [
    {
     "name": "stdout",
     "output_type": "stream",
     "text": [
      "You are already logged into Roboflow. To make a different login, run roboflow.login(force=True).\n"
     ]
    }
   ],
   "source": [
    "import roboflow\n",
    "roboflow.login()"
   ]
  },
  {
   "cell_type": "code",
   "execution_count": 1,
   "id": "5032c984-dfab-4e42-b68f-7deeec5fbe83",
   "metadata": {},
   "outputs": [
    {
     "name": "stdout",
     "output_type": "stream",
     "text": [
      "loading Roboflow workspace...\n"
     ]
    }
   ],
   "source": [
    "import roboflow\n",
    "\n",
    "rf = roboflow.Roboflow(api_key=\"Cx8rAEv7CPlrJmQ9Nzha\")\n",
    "\n",
    "# List all projects for your workspace\n",
    "workspace = rf.workspace()"
   ]
  },
  {
   "cell_type": "code",
   "execution_count": 2,
   "id": "07c56606-6465-40ff-9383-decd1d914fef",
   "metadata": {},
   "outputs": [
    {
     "name": "stdout",
     "output_type": "stream",
     "text": [
      "loading Roboflow workspace...\n",
      "loading Roboflow project...\n"
     ]
    },
    {
     "data": {
      "text/plain": [
       "[]"
      ]
     },
     "execution_count": 2,
     "metadata": {},
     "output_type": "execute_result"
    }
   ],
   "source": [
    "# get a project\n",
    "project = rf.workspace().project(\"commercial_ws_1024\")\n",
    "\n",
    "# List all versions of a specific project\n",
    "project.versions()"
   ]
  },
  {
   "cell_type": "code",
   "execution_count": null,
   "id": "de6cea51-efd6-447b-8ed0-415031ab4a9c",
   "metadata": {},
   "outputs": [],
   "source": []
  }
 ],
 "metadata": {
  "kernelspec": {
   "display_name": "Python [conda env:roboflow]",
   "language": "python",
   "name": "conda-env-roboflow-py"
  },
  "language_info": {
   "codemirror_mode": {
    "name": "ipython",
    "version": 3
   },
   "file_extension": ".py",
   "mimetype": "text/x-python",
   "name": "python",
   "nbconvert_exporter": "python",
   "pygments_lexer": "ipython3",
   "version": "3.8.16"
  }
 },
 "nbformat": 4,
 "nbformat_minor": 5
}
