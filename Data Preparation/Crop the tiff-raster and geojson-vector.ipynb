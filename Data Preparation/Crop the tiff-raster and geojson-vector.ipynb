{
 "cells": [
  {
   "cell_type": "markdown",
   "id": "ef1cfdf6-a44d-4e50-b672-b67fd5b400a3",
   "metadata": {},
   "source": [
    "# To generate cropped tiff and geojson from big Tiff and Geojson\n",
    "### Virtual Environment: remote_sensing_v2"
   ]
  },
  {
   "cell_type": "code",
   "execution_count": 1,
   "id": "d18ce809-9b89-473e-a50b-390e5013e03d",
   "metadata": {},
   "outputs": [],
   "source": [
    "import os\n",
    "os.chdir(r'C:\\Users\\shubh\\Documents\\Analytics\\Computer Vision\\CB_Analytics_WS\\GIS_WS\\GIS_Roads_WS')"
   ]
  },
  {
   "cell_type": "code",
   "execution_count": 2,
   "id": "07e17110-e39f-4806-a3c4-39c3cb54cf59",
   "metadata": {},
   "outputs": [
    {
     "name": "stdout",
     "output_type": "stream",
     "text": [
      "C:\\Users\\shubh\\Documents\\Analytics\\Computer Vision\\CB_Analytics_WS\\GIS_WS\\GIS_Roads_WS\n"
     ]
    }
   ],
   "source": [
    "home_direc = os.getcwd()\n",
    "print(home_direc)"
   ]
  },
  {
   "cell_type": "markdown",
   "id": "f58e1a85-a417-4922-8767-fabd7c070def",
   "metadata": {},
   "source": [
    "##### Dictionaries for Cropping the tiff and geojson\n",
    "### Check for the cropping size and overlap rate"
   ]
  },
  {
   "cell_type": "code",
   "execution_count": 3,
   "id": "076fb03d-fba9-46c8-bd38-13410987fb7d",
   "metadata": {},
   "outputs": [],
   "source": [
    "# crop and convert the geojson and tiff file to coco format dataset\n",
    "\n",
    "import os\n",
    "import rasterio\n",
    "from osgeo import gdal\n",
    "import numpy as np\n",
    "from tqdm.auto import notebook_tqdm, trange\n",
    "import geopandas as gpd\n",
    "from osgeo import ogr\n",
    "from shapely.geometry import Polygon\n",
    "import matplotlib.pyplot as plt\n",
    "import cv2\n",
    "\n",
    "# Save the raster image\n",
    "def writeTiff(im_data, save_path, new_transform, crs):\n",
    "    _, height, width = im_data.shape\n",
    "    with rasterio.open(save_path,\n",
    "                       'w',\n",
    "                       driver='GTiff',\n",
    "                       height=height,\n",
    "                       width=width,\n",
    "                       count=3,\n",
    "                       dtype=im_data.dtype,\n",
    "                       crs=crs,\n",
    "                       transform=new_transform\n",
    "                       ) as dst:\n",
    "        dst.write(im_data)\n",
    "    return\n",
    "\n",
    "# read the raster image\n",
    "def readTiff(TifPath):\n",
    "    dataset_img = rasterio.open(TifPath)\n",
    "    width = dataset_img.width\n",
    "    height = dataset_img.height\n",
    "    crs = dataset_img.crs\n",
    "    transform = dataset_img.transform # (xres, 0, xcord, 0, yres, ycord)\n",
    "    img_array = dataset_img.read([1, 2, 3]) # get the data\n",
    "    return img_array, width, height, crs, transform\n",
    "\n",
    "# Crop tiff image by sliding window method\n",
    "def crop_tif(img_path, home_direc, stride=640, overlap_rate=0.20):\n",
    "    # Side length of the overlapping area\n",
    "    step = int(stride * overlap_rate)\n",
    "    im_data, width, height, crs, transform = readTiff(img_path)\n",
    "    im_name, _ = os.path.splitext(os.path.split(img_path)[-1])\n",
    "    x_res = transform[0]\n",
    "    y_res = transform[4]\n",
    "    x_cord = transform[2]\n",
    "    y_cord = transform[5]\n",
    "    # Calculate the coordinates of the cropped image vertices for each row and column\n",
    "    w_step = [i for i in range(0, width - stride, stride - step)]\n",
    "    w_step.append(width - stride)\n",
    "    h_step = [i for i in range(0, height - stride, stride - step)]\n",
    "    h_step.append(height - stride)\n",
    "    \n",
    "    for i in trange(len(h_step)): # Crop row\n",
    "        for j in range(len(w_step)): # Crop column\n",
    "            cropped = im_data[:, h_step[i] : h_step[i] + stride, w_step[j] : w_step[j] + stride]\n",
    "            # Calculate coordinate\n",
    "            new_x_cord = x_cord + w_step[j] * x_res  \n",
    "            new_y_cord = y_cord + h_step[i] * y_res  \n",
    "            new_transform = (x_res, transform[1], new_x_cord, transform[3], y_res, new_y_cord)\n",
    "            # save the image\n",
    "            save_name = '{}_{}_{}.tif'.format(im_name, i, j) # Name of top left figure is 0_0.tif\n",
    "            writeTiff(cropped, os.path.join(home_direc, save_name), new_transform, crs)\n",
    "    print('Cropping TIFF finished!')\n",
    "\n",
    "\n",
    "# crop the geojson acoording to the extent of geotiff\n",
    "def crop_geojson(geojson_path, tif_dir, home_direc):\n",
    "    # read geojson\n",
    "    annot_df = gpd.read_file(geojson_path)\n",
    "    # get the list of tiff files\n",
    "    tif_list = [x for x in os.listdir(tif_dir) if x.endswith('tif')]\n",
    "    tif_list.sort()\n",
    "    for tif in notebook_tqdm(tif_list):\n",
    "        tif_path = os.path.join(tif_dir, tif)\n",
    "        # read tif and get the extent\n",
    "        img_dataset = rasterio.open(tif_path)\n",
    "        img_name = os.path.splitext(os.path.split(tif_path)[-1])[0]\n",
    "        left, bottom, right, top = img_dataset.bounds\n",
    "        # create mask in geopandas (minx, miny, maxx, maxy)\n",
    "        mask = gpd.GeoSeries(Polygon([(left, bottom), (left, top), (right, top), (right, bottom)]), crs = annot_df.crs)\n",
    "        mask_clip = gpd.clip(annot_df, mask)\n",
    "        # Save geojson if cropped data is not empty\n",
    "        if mask_clip.shape[0] != 0:\n",
    "            # save path\n",
    "            save_path = os.path.join(home_direc, img_name + '.geojson')\n",
    "            mask_clip.to_file(save_path, driver= 'GeoJSON')\n",
    "    print('Cropping GEOJSON finished!')\n",
    "\n",
    "# translate Gdal data to opencv format\n",
    "def GdalData2OpencvData(GdalImg_data):\n",
    "    OpencvImg_data = np.zeros((GdalImg_data.shape[1],GdalImg_data.shape[2],GdalImg_data.shape[0]),np.uint8)\n",
    "    for i in range(GdalImg_data.shape[0]):\n",
    "        OpencvImg_data[:,:,i] = GdalImg_data[GdalImg_data.shape[0]-i-1,:,:]\n",
    "    return OpencvImg_data"
   ]
  },
  {
   "cell_type": "markdown",
   "id": "32cf89fe-0e32-4e37-a139-7a669c9519e1",
   "metadata": {},
   "source": [
    "##### Cropping the TIFF image to small patches"
   ]
  },
  {
   "cell_type": "code",
   "execution_count": 4,
   "id": "cf6f26d6-3122-48a2-b1f7-415b7325bbfb",
   "metadata": {},
   "outputs": [
    {
     "data": {
      "application/vnd.jupyter.widget-view+json": {
       "model_id": "9386dd8ea52c49928b495c924b7531e3",
       "version_major": 2,
       "version_minor": 0
      },
      "text/plain": [
       "  0%|          | 0/23 [00:00<?, ?it/s]"
      ]
     },
     "metadata": {},
     "output_type": "display_data"
    },
    {
     "name": "stdout",
     "output_type": "stream",
     "text": [
      "Cropping TIFF finished!\n"
     ]
    }
   ],
   "source": [
    "# crop the tiff and geojson to patches\n",
    "\n",
    "#root_direc = 'scene_classification_ws'  # path of root diretory\n",
    "tif_path = os.path.join(home_direc, \"ORTHO 2.tif\") # path of tiff images\n",
    "save_crop_tiff_dir = os.path.join(home_direc, 'cropped_tiff')  # path to cropped geojson and tiff files\n",
    "os.makedirs(save_crop_tiff_dir, exist_ok=True)\n",
    "# crop the tif to size of 1024*1024, if you need\n",
    "crop_tif(tif_path, save_crop_tiff_dir)"
   ]
  },
  {
   "cell_type": "markdown",
   "id": "7c5638a9-fb97-4a95-9958-1baf894681ce",
   "metadata": {},
   "source": [
    "##### IGNORE: Cropping the GEOJSON file to small patches based on tiff patches\n",
    "##### Use this step we you require geojson pathes without buildings"
   ]
  },
  {
   "cell_type": "code",
   "execution_count": 5,
   "id": "0b436616-a5d6-4bd7-a448-f2c12a28554d",
   "metadata": {},
   "outputs": [
    {
     "data": {
      "application/vnd.jupyter.widget-view+json": {
       "model_id": "bd9ea4cb38fd4b438e5782fed302fef8",
       "version_major": 2,
       "version_minor": 0
      },
      "text/plain": [
       "  0%|          | 0/1344 [00:00<?, ?it/s]"
      ]
     },
     "metadata": {},
     "output_type": "display_data"
    },
    {
     "name": "stdout",
     "output_type": "stream",
     "text": [
      "Cropping GEOJSON finished!\n"
     ]
    }
   ],
   "source": [
    "geojson_path = os.path.join(home_direc, \"haul_roads2.geojson\")  # path of geojson files\n",
    "crop_tiff_dir = os.path.join(home_direc, 'cropped_tiff') \n",
    "save_crop_geojson_dir = os.path.join(home_direc, 'cropped_geojson')  # path to cropped geojson and tiff files\n",
    "os.makedirs(save_crop_geojson_dir, exist_ok=True)\n",
    "\n",
    "crop_geojson(geojson_path, crop_tiff_dir, save_crop_geojson_dir)"
   ]
  },
  {
   "cell_type": "code",
   "execution_count": null,
   "id": "19dff806-ddb6-48f9-abf3-880878ec93f3",
   "metadata": {},
   "outputs": [],
   "source": []
  }
 ],
 "metadata": {
  "kernelspec": {
   "display_name": "Python 3 (ipykernel)",
   "language": "python",
   "name": "python3"
  },
  "language_info": {
   "codemirror_mode": {
    "name": "ipython",
    "version": 3
   },
   "file_extension": ".py",
   "mimetype": "text/x-python",
   "name": "python",
   "nbconvert_exporter": "python",
   "pygments_lexer": "ipython3",
   "version": "3.12.4"
  }
 },
 "nbformat": 4,
 "nbformat_minor": 5
}
